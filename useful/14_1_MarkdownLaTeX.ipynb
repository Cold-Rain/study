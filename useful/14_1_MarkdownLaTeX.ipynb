{
  "nbformat": 4,
  "nbformat_minor": 0,
  "metadata": {
    "colab": {
      "provenance": [],
      "toc_visible": true
    },
    "kernelspec": {
      "name": "python3",
      "display_name": "Python 3"
    },
    "language_info": {
      "name": "python"
    }
  },
  "cells": [
    {
      "cell_type": "markdown",
      "source": [
        "## Markdown"
      ],
      "metadata": {
        "id": "eMF2v7bsgSSz"
      }
    },
    {
      "cell_type": "markdown",
      "source": [
        "### Заголовки"
      ],
      "metadata": {
        "id": "KOvvaAr7J-Bp"
      }
    },
    {
      "cell_type": "markdown",
      "source": [
        "\\ # Заголовок 1\n",
        "\n",
        "\\ ## Заголовок 2\n",
        "\n",
        "\\ ### Заголовок 3\n",
        "\n",
        "\\ #### Заголовок 4\n",
        "\n",
        "\\ ##### Заголовок 5\n",
        "\n",
        "\\ ###### Заголовок 6"
      ],
      "metadata": {
        "id": "_SnnUOlCgQOg"
      }
    },
    {
      "cell_type": "markdown",
      "source": [
        "### Абзацы"
      ],
      "metadata": {
        "id": "Q5_xsNE9KByB"
      }
    },
    {
      "cell_type": "markdown",
      "source": [
        "Абзац 1\n",
        "\n",
        "Абзац 2"
      ],
      "metadata": {
        "id": "KiFey5fHP_mR"
      }
    },
    {
      "cell_type": "markdown",
      "source": [
        "---"
      ],
      "metadata": {
        "id": "427opOTTQwZ2"
      }
    },
    {
      "cell_type": "markdown",
      "source": [
        "### Выделение текста"
      ],
      "metadata": {
        "id": "vp_jNM1RKH7i"
      }
    },
    {
      "cell_type": "markdown",
      "source": [
        "**Полужирный стиль**\n",
        "\n",
        "*Курсив*\n",
        "\n",
        "~~Перечеркнутый стиль~~"
      ],
      "metadata": {
        "id": "2fxEWVi1QzcX"
      }
    },
    {
      "cell_type": "markdown",
      "source": [
        "### Форматирование кода и выделенные абзацы"
      ],
      "metadata": {
        "id": "kqNXyzlXKM3z"
      }
    },
    {
      "cell_type": "markdown",
      "source": [
        "Отформатируем код `print('Hello world!')` внутри строки и отдельным абзацем\n",
        "```\n",
        "print('Hello world!')\n",
        "```"
      ],
      "metadata": {
        "id": "MU6rVFm9Q8Pd"
      }
    },
    {
      "cell_type": "markdown",
      "source": [
        "> Markdown позволяет форматировать текст без использования тэгов.\n",
        ">\n",
        "> Он был создан в 2004 году Джоном Грубером и Аароном Шварцем."
      ],
      "metadata": {
        "id": "SWYUgBS5RxKw"
      }
    },
    {
      "cell_type": "markdown",
      "source": [
        "### Списки"
      ],
      "metadata": {
        "id": "Du0vlBXgKTAO"
      }
    },
    {
      "cell_type": "markdown",
      "source": [
        "**Упорядоченный список**\n",
        "1. Пункт 1\n",
        "1. Пункт 2 (нумерация ведется автоматически)\n",
        "\n",
        "**Неупорядоченный список**\n",
        "* Пункт 1.1\n",
        "  * Пункт 2.1\n",
        "  * Пункт 2.2\n",
        "    * Пункт 3.1\n",
        "    * Пункт 3.2\n",
        "  \n",
        "* Пункт 1.2"
      ],
      "metadata": {
        "id": "FUEYJq5KSA5q"
      }
    },
    {
      "cell_type": "markdown",
      "source": [
        "### Ссылки и изображения"
      ],
      "metadata": {
        "id": "L2w4VhUaKYiF"
      }
    },
    {
      "cell_type": "markdown",
      "source": [
        "[сайт проекта Jupyter](https://jupyter.org/)"
      ],
      "metadata": {
        "id": "fxoTHNXTSxSV"
      }
    },
    {
      "cell_type": "markdown",
      "source": [
        "![логотипы Jupyter и Python](https://www.dmitrymakarov.ru/wp-content/uploads/2022/05/jupyter-python-logo.jpeg)"
      ],
      "metadata": {
        "id": "nEQ8f61jTtN0"
      }
    },
    {
      "cell_type": "markdown",
      "source": [
        "### Таблицы"
      ],
      "metadata": {
        "id": "J41RRoqJKbSv"
      }
    },
    {
      "cell_type": "markdown",
      "source": [
        "| id | item     | price |\n",
        "|--- |----------| ------|\n",
        "| 01 | pen      | 200   |\n",
        "| 02 | pencil   | 150   |\n",
        "| 03 | notebook | 300   |"
      ],
      "metadata": {
        "id": "ZS9ObV6nWo6G"
      }
    },
    {
      "cell_type": "markdown",
      "source": [
        "## Latex"
      ],
      "metadata": {
        "id": "_xmXHcOwXRP-"
      }
    },
    {
      "cell_type": "markdown",
      "source": [
        "Формула в пределах одной строки $ y = x^2 $\n",
        "\n",
        "Формула отдельным абзацем\n",
        "\n",
        "$$ y = x^2 $$"
      ],
      "metadata": {
        "id": "tXbnlKWmXkMl"
      }
    },
    {
      "cell_type": "markdown",
      "source": [
        "В формулу можно добавить пробел или перенести текст на новую строку\n",
        "\n",
        "$$ \\hat{y} = \\theta_0 + \\theta_1 x_1 + \\theta_2 x_2 + \\ \\ ... \\ \\ + \\\\ \\theta_n x_n $$"
      ],
      "metadata": {
        "id": "tjf54vsrXyCW"
      }
    },
    {
      "cell_type": "markdown",
      "source": [
        "### Форматирование текста"
      ],
      "metadata": {
        "id": "8Ybef-nVat3P"
      }
    },
    {
      "cell_type": "markdown",
      "source": [
        "$ \\text{just text} $\n",
        "\n",
        "$ \\textbf{bold} $\n",
        "\n",
        "$ \\textit{italic} $\n",
        "\n",
        "$ \\underline{undeline} $\n",
        "\n"
      ],
      "metadata": {
        "id": "dymat5GqaxBj"
      }
    },
    {
      "cell_type": "markdown",
      "source": [
        "### Надстрочные и подстрочные знаки"
      ],
      "metadata": {
        "id": "ODKz7ifUaUvH"
      }
    },
    {
      "cell_type": "markdown",
      "source": [
        "hat $ \\hat{x} $\n",
        "\n",
        "bar $ \\bar{x} $\n",
        "\n",
        "vector $ \\vec{x} $\n",
        "\n",
        "tilde $ \\tilde{x} $\n",
        "\n",
        "superscript $ e^{ax + b} $\n",
        "\n",
        "subscript $ A_{i, j} $\n",
        "\n",
        "degree $ 90^{\\circ} $"
      ],
      "metadata": {
        "id": "XzCNAtwjaYkQ"
      }
    },
    {
      "cell_type": "markdown",
      "source": [
        "### Скобки"
      ],
      "metadata": {
        "id": "Qrt4u2tTM_k4"
      }
    },
    {
      "cell_type": "markdown",
      "source": [
        "$$\n",
        "(a+b) \\\\\n",
        "[a+b] \\\\\n",
        "\\{a+b\\} \\\\\n",
        "\\langle x+y \\rangle \\\\\n",
        "|x+y| \\\\\n",
        "\\|x+y\\|\n",
        "$$"
      ],
      "metadata": {
        "id": "5k8RpNHIivbP"
      }
    },
    {
      "cell_type": "markdown",
      "source": [
        "$$\n",
        "\\left( \\frac{1}{2}\\right) \\qquad (\\frac{1}{2})\n",
        "$$"
      ],
      "metadata": {
        "id": "xk6OfVNkkAsZ"
      }
    },
    {
      "cell_type": "markdown",
      "source": [
        "$$\n",
        "\\big( \\Big( \\bigg( \\Bigg( \\\\\n",
        "\\big] \\Big] \\bigg] \\Bigg] \\\\\n",
        "\\big\\{ \\Big\\{ \\bigg\\{ \\Bigg\\{\n",
        "$$"
      ],
      "metadata": {
        "id": "CCc_uJ50jTOv"
      }
    },
    {
      "cell_type": "markdown",
      "source": [
        "### Дробь и квадратный корень"
      ],
      "metadata": {
        "id": "NvsdUbdLb71w"
      }
    },
    {
      "cell_type": "markdown",
      "source": [
        "fraction $$ \\frac{1}{1+e^{-z}} $$\n",
        "\n",
        "square root $ \\sqrt{\\sigma^2} $"
      ],
      "metadata": {
        "id": "ibr8d3Vpb_g5"
      }
    },
    {
      "cell_type": "markdown",
      "source": [
        "### Греческие буквы"
      ],
      "metadata": {
        "id": "OGVmUEyFc33p"
      }
    },
    {
      "cell_type": "markdown",
      "source": [
        "|Uppercase  | LaTeX     |Lowercase     | LaTeX       | RU       |\n",
        "|---------  |-------    |---------     |-------      |--------  |\n",
        "|---------  |-------    |$\\alpha$      |\\\\alpha      | альфа    |\n",
        "|---------  |-------    |$\\beta$       |\\\\beta       | бета     |\n",
        "|$\\Gamma$   |\\\\Gamma    |$\\gamma$      |\\\\gamma      | гамма    |\n",
        "|$\\Delta$   |\\\\Delta    |$\\delta$      |\\\\delta      | дельта   |\n",
        "|---------  |-------    |$\\epsilon$    |\\\\epsilon    | эпсилон  |\n",
        "|---------  |-------    |$\\varepsilon$ |\\\\varepsilon | -------  |\n",
        "|---------  |-------    |$\\zeta$       |\\\\zeta       | дзета    |\n",
        "|---------  |-------    |$\\eta$        |\\\\eta        | эта      |\n",
        "|$\\Theta$   |\\\\Theta    |$\\theta$      |\\\\theta      | тета     |\n",
        "|---------  |-------    |$\\vartheta$   |\\\\vartheta   | -------  |\n",
        "|---------  |-------    |$\\iota$       |\\\\iota       | йота     |\n",
        "|---------  |-------    |$\\kappa$      |\\\\kappa      | каппа    |\n",
        "|$\\Lambda$  |\\\\Lambda   |$\\lambda$     |\\\\lambda     | лямбда   |\n",
        "|---------  |-------    |$\\mu$         |\\\\mu         | мю       |\n",
        "|---------  |-------    |$\\nu$         |\\\\nu         | ню       |\n",
        "|$\\Xi$      |\\\\Xi       |$\\xi$         |\\\\xi         | кси      |\n",
        "|---------  |-------    |$\\omicron$    |\\\\omicron    | омикрон  |\n",
        "|$\\Pi$      |\\\\Pi       |$\\pi$         |\\\\pi         | пи       |\n",
        "|---------  |-------    |$\\varpi$      |\\\\varpi      | -------  |\n",
        "|---------  |-------    |$\\rho$        |\\\\rho        | ро       |\n",
        "|---------  |-------    |$\\varrho$     |\\\\varrho     | -------  |\n",
        "|$\\Sigma$   |\\\\Sigma    |$\\sigma$      |\\\\sigma      | сигма    |\n",
        "|---------  |-------    |$\\varsigma$   |\\\\varsigma   | -------  |\n",
        "|---------  |-------    |$\\tau$        |\\\\tau        | тау      |\n",
        "|$\\Upsilon$ |\\\\Upsilon  |$\\upsilon$    |\\\\upsilon    | ипсилон  |\n",
        "|$\\Phi$     |\\\\Phi      |$\\phi$        |\\\\phi        | фи       |\n",
        "|---------  |-------    |$\\varphi$     |\\\\varphi     | -------  |\n",
        "|---------  |-------    |$\\chi$        |\\\\chi        | хи       |\n",
        "|$\\Psi$     |\\\\Psi      |$\\psi$        |\\\\psi        | пси      |\n",
        "|$\\Omega$   |\\\\Omega    |$\\omega$      |\\\\omega      | омега    |"
      ],
      "metadata": {
        "id": "3kfBWBPJc_CC"
      }
    },
    {
      "cell_type": "markdown",
      "source": [
        "### Латинские обозначения"
      ],
      "metadata": {
        "id": "nZwUBx3IA72U"
      }
    },
    {
      "cell_type": "markdown",
      "source": [
        "$$\n",
        "\\sin(-\\alpha) = -\\sin(\\alpha) \\\\\n",
        "\\cos(\\theta)=\\sin \\left( \\frac{\\pi}{2}-\\theta \\right) \\\\\n",
        "\\tan(x) = \\frac{\\sin(x)}{\\cos(x)} \\\\\n",
        "\\log_b(1) = 0 \\\\\n",
        "$$"
      ],
      "metadata": {
        "id": "3ury3sM2BCQy"
      }
    },
    {
      "cell_type": "markdown",
      "source": [
        "### Логические символы и символы множества"
      ],
      "metadata": {
        "id": "nF0SutHqEAR_"
      }
    },
    {
      "cell_type": "markdown",
      "source": [
        "| LaTeX                  |  symbol                   |\n",
        "| ---------------------- | ------------------------- |\n",
        "|\\Rightarrow             | $ \\Rightarrow $           |\n",
        "|\\rightarrow             | $ \\rightarrow $           |\n",
        "|\\longleftrightarrow     | $ \\Leftrightarrow $       |\n",
        "|\\cap                    | $ \\cap $                  |\n",
        "|\\cup                    | $ \\cup $                  |\n",
        "|\\subset                 | $ \\subset $               |\n",
        "|\\in                     | $ \\in $                   |\n",
        "|\\notin                  | $ \\notin $                |\n",
        "|\\varnothing             | $ \\varnothing $           |\n",
        "|\\neg                    | $ \\neg $                  |\n",
        "|\\forall                 | $ \\forall $               |\n",
        "|\\exists                 | $ \\exists $               |\n",
        "|\\mathbb{N}              | $ \\mathbb{N} $            |\n",
        "|\\mathbb{Z}              | $ \\mathbb{Z} $            |\n",
        "|\\mathbb{Q}              | $ \\mathbb{Q} $            |\n",
        "|\\mathbb{R}              | $ \\mathbb{R} $            |\n",
        "|\\mathbb{C}              | $ \\mathbb{C} $            |"
      ],
      "metadata": {
        "id": "TAF4XT2KEDfa"
      }
    },
    {
      "cell_type": "markdown",
      "source": [
        "### Другие символы"
      ],
      "metadata": {
        "id": "2uCUjCfUccip"
      }
    },
    {
      "cell_type": "markdown",
      "source": [
        "| LaTeX                  |  symbol                   |\n",
        "| ---------------------- | ------------------------- |\n",
        "| <                      | $ < $                     |\n",
        "| \\leq                   | $ \\leq $                  |\n",
        "| >                      | $ \\geq $                  |\n",
        "| \\neq                   | $ \\neq $                  |\n",
        "| \\approx                | $ \\approx $               |\n",
        "| \\angle                 | $ \\angle $                |\n",
        "| \\parallel              | $ \\parallel $             |\n",
        "| \\pm                    | $ \\pm $                   |\n",
        "| \\mp                    | $ \\mp $                   |\n",
        "| \\cdot                  | $ \\cdot $                 |\n",
        "| \\times                 | $ \\times $                |\n",
        "| \\div                   | $ \\div $                  |"
      ],
      "metadata": {
        "id": "7viQ5fW-cgLu"
      }
    },
    {
      "cell_type": "markdown",
      "source": [
        "### Кусочная функция и система уравнений"
      ],
      "metadata": {
        "id": "IinUfLS6HHBd"
      }
    },
    {
      "cell_type": "markdown",
      "source": [
        "$$\n",
        "sgn(x) = \\left\\{\n",
        "    \\begin{array}\\\\\n",
        "        1 & \\mbox{if } \\ x \\in \\mathbf{N}^* \\\\\n",
        "        0 & \\mbox{if } \\ x = 0 \\\\\n",
        "        -1 & \\mbox{else.}\n",
        "    \\end{array}\n",
        "\\right.\n",
        "$$"
      ],
      "metadata": {
        "id": "sub2ye94LzNa"
      }
    },
    {
      "cell_type": "markdown",
      "source": [
        "$$\n",
        "\\left\\{\n",
        "    \\begin{matrix}\n",
        "    4x  + 3y = 20 \\\\\n",
        "    -5x + 9y = 26\n",
        "    \\end{matrix}\n",
        "\\right.\n",
        "$$"
      ],
      "metadata": {
        "id": "NvgG2adRL5kq"
      }
    },
    {
      "cell_type": "markdown",
      "source": [
        "### Горизонтальная фигурная скобка"
      ],
      "metadata": {
        "id": "Dy1sEuJQM1H4"
      }
    },
    {
      "cell_type": "markdown",
      "source": [
        "$$\n",
        "\\overbrace{\n",
        "  \\underbrace{a}_{real} +\n",
        "  \\underbrace{b}_{imaginary} i}\n",
        "  ^{\\textit{complex number}}\n",
        "$$"
      ],
      "metadata": {
        "id": "XqOcLTBOM44P"
      }
    },
    {
      "cell_type": "markdown",
      "source": [
        "### Пределы, производная, интеграл"
      ],
      "metadata": {
        "id": "gnXTn1DxAjKL"
      }
    },
    {
      "cell_type": "markdown",
      "source": [
        "Пределы:\n",
        "\n",
        "$$ \\lim_{x \\to +\\infty} f(x) $$\n",
        "\n",
        "$$ \\lim_{x \\to -\\infty} f(x) $$\n",
        "\n",
        "$$ \\lim_{x \\to с} f(x) $$\n",
        "\n",
        "Производная (нотация Лагранжа):\n",
        "\n",
        "$$ f'(x) $$\n",
        "\n",
        "Частная производная (нотация Лейбница):\n",
        "\n",
        "$$ \\frac{\\partial f}{\\partial x} $$\n",
        "\n",
        "Градиент:\n",
        "\n",
        "$$\n",
        "\\nabla f(x_1, x_2) =\n",
        "\\begin{bmatrix}\n",
        "\\frac{\\partial f}{\\partial x_1} \\\\ \\frac{\\partial f}{\\partial x_2}\n",
        "\\end{bmatrix}\n",
        "$$\n",
        "\n",
        "Интеграл:\n",
        "\n",
        "$$\\int_{a}^b f(x)dx$$\n"
      ],
      "metadata": {
        "id": "jCQZyG2QAltE"
      }
    },
    {
      "cell_type": "markdown",
      "source": [
        "### Сумма и произведение"
      ],
      "metadata": {
        "id": "4XcYJ8o3EUmK"
      }
    },
    {
      "cell_type": "markdown",
      "source": [
        "Сумма:\n",
        "\n",
        "$$ \\sum\\limits_{i=1}^n a_{i} $$\n",
        "\n",
        "$$\\sum_{i=1}^n a_{i} $$\n",
        "\n",
        "Произведение:\n",
        "\n",
        "$$\\prod_{j=1}^m a_{j}$$"
      ],
      "metadata": {
        "id": "xIn04bwnEW_2"
      }
    },
    {
      "cell_type": "markdown",
      "source": [
        "### Матрицы"
      ],
      "metadata": {
        "id": "cT8TWZ5rNMQ-"
      }
    },
    {
      "cell_type": "markdown",
      "source": [
        "Без скобок (plain):\n",
        "\n",
        "$$\n",
        "\\begin{matrix}\n",
        "1 & 2 & 3\\\\\n",
        "a & b & c\n",
        "\\end{matrix}\n",
        "$$\n",
        "\n",
        "Круглые скобки (parentheses, round brackets):\n",
        "\n",
        "$$\n",
        "\\begin{pmatrix}\n",
        "1 & 2 & 3\\\\\n",
        "a & b & c\n",
        "\\end{pmatrix}\n",
        "$$\n",
        "\n",
        "Квадратные скобки (square brackets):\n",
        "\n",
        "$$\n",
        "\\begin{bmatrix}\n",
        "1 & 2 & 3\\\\\n",
        "a & b & c\n",
        "\\end{bmatrix}\n",
        "$$\n",
        "\n",
        "Фигурные скобки (curly brackets, braces):\n",
        "\n",
        "$$\n",
        "\\begin{Bmatrix}\n",
        "1 & 2 & 3\\\\\n",
        "a & b & c\n",
        "\\end{Bmatrix}\n",
        "$$\n",
        "\n",
        "Прямые скобки (pipes):\n",
        "\n",
        "$$\n",
        "\\begin{vmatrix}\n",
        "1 & 2 & 3\\\\\n",
        "a & b & c\n",
        "\\end{vmatrix}\n",
        "$$\n",
        "\n",
        "Двойные прямые скобки (double pipes):\n",
        "\n",
        "$$\n",
        "\\begin{Vmatrix}\n",
        "1 & 2 & 3\\\\\n",
        "a & b & c\n",
        "\\end{Vmatrix}\n",
        "$$"
      ],
      "metadata": {
        "id": "eosUaCM2NOYQ"
      }
    },
    {
      "cell_type": "markdown",
      "source": [
        "## Дополнительные материалы"
      ],
      "metadata": {
        "id": "bNhekVg3hjUv"
      }
    },
    {
      "cell_type": "code",
      "source": [
        "# введем магическую команду, которая позволит программировать на R\n",
        "%load_ext rpy2.ipython"
      ],
      "metadata": {
        "id": "mYqs8DAKg5sJ"
      },
      "execution_count": null,
      "outputs": []
    },
    {
      "cell_type": "code",
      "source": [
        "# команда %%R позволит Colab распознать ячейку как код на R\n",
        "%%R\n",
        "\n",
        "# кстати, числовой вектор можно создать просто с помощью двоеточия\n",
        "x <- 1:10\n",
        "x"
      ],
      "metadata": {
        "id": "TPD3YdZiLx7p",
        "colab": {
          "base_uri": "https://localhost:8080/"
        },
        "outputId": "de691bb3-33d6-4408-8f49-24e20331056e"
      },
      "execution_count": null,
      "outputs": [
        {
          "output_type": "stream",
          "name": "stdout",
          "text": [
            " [1]  1  2  3  4  5  6  7  8  9 10\n"
          ]
        }
      ]
    },
    {
      "cell_type": "code",
      "source": [
        "# при этом ничто не мешает нам продолжать писать код на Питоне\n",
        "\n",
        "import numpy as np\n",
        "np.mean([1, 2, 3])"
      ],
      "metadata": {
        "colab": {
          "base_uri": "https://localhost:8080/"
        },
        "id": "Id_SMMf8hC0Y",
        "outputId": "86652de2-e041-49d0-d72e-b8e904164c00"
      },
      "execution_count": null,
      "outputs": [
        {
          "output_type": "execute_result",
          "data": {
            "text/plain": [
              "2.0"
            ]
          },
          "metadata": {},
          "execution_count": 3
        }
      ]
    },
    {
      "cell_type": "code",
      "source": [],
      "metadata": {
        "id": "B853y-4PhNzo"
      },
      "execution_count": null,
      "outputs": []
    }
  ]
}