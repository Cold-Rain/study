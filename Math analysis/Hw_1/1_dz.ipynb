{
 "cells": [
  {
   "cell_type": "markdown",
   "id": "7c45a8af",
   "metadata": {
    "toc": true
   },
   "source": [
    "<h1>Table of Contents<span class=\"tocSkip\"></span></h1>\n",
    "<div class=\"toc\"><ul class=\"toc-item\"></ul></div>"
   ]
  },
  {
   "cell_type": "markdown",
   "id": "0dee24c0-e9bf-427b-9b04-43e4c8220228",
   "metadata": {
    "id": "0dee24c0-e9bf-427b-9b04-43e4c8220228"
   },
   "source": [
    "# Домашнее задание"
   ]
  },
  {
   "cell_type": "markdown",
   "id": "feafcfd9-2d32-4682-bcd0-07a0c9bbd32c",
   "metadata": {
    "id": "feafcfd9-2d32-4682-bcd0-07a0c9bbd32c"
   },
   "source": [
    "Математический анализ\n",
    "69 баллов"
   ]
  },
  {
   "cell_type": "code",
   "execution_count": 1,
   "id": "27b98542",
   "metadata": {},
   "outputs": [],
   "source": [
    "import pandas as pd\n",
    "import numpy as np\n",
    "import sympy as sp\n",
    "import statsmodels.api as sm\n",
    "import matplotlib.pyplot as plt\n",
    "from scipy.optimize import minimize\n",
    "from scipy.optimize import least_squares\n",
    "from sklearn.preprocessing import StandardScaler\n",
    "from sklearn.model_selection import train_test_split\n",
    "from sklearn.linear_model import LinearRegression\n",
    "from sklearn.metrics import mean_absolute_percentage_error, r2_score"
   ]
  },
  {
   "cell_type": "markdown",
   "id": "b2345ed9-1018-4084-9636-7e7b92bd6c64",
   "metadata": {
    "id": "b2345ed9-1018-4084-9636-7e7b92bd6c64"
   },
   "source": [
    "**Задача 1** (14 баллов)\n",
    "\n",
    "Найдите экстремумы функции:"
   ]
  },
  {
   "cell_type": "markdown",
   "id": "e25e75bf-9d1e-4511-8846-8bfe99ae17f8",
   "metadata": {
    "id": "e25e75bf-9d1e-4511-8846-8bfe99ae17f8"
   },
   "source": [
    "$$\n",
    "f(x, y, z)=2 x^3+2 x y+2 x z+y^2+z^2+2 y-8 .\n",
    "$$"
   ]
  },
  {
   "cell_type": "markdown",
   "id": "2f10610e",
   "metadata": {
    "id": "ce92b07d-f19e-4f72-ab80-d04d0bae9984"
   },
   "source": [
    "Распишите подробное решение."
   ]
  },
  {
   "cell_type": "markdown",
   "id": "ebbfa579",
   "metadata": {},
   "source": [
    "1. Найдем частные производные функции и приравняем их к нулю<br>\n",
    "1: df/dx = 6x² + 2y + 2z = 0<br>\n",
    "2: df/dy = 2x + 2y + 2 = 0<br>\n",
    "3: df/dz = 2x + 2z = 0<br>\n",
    "<br>\n",
    "2. Решаем полученную систему уравнений <br>\n",
    "z = -x (получаем из 3-го)<br>\n",
    "y = -x - 1 (получаем из 2-го<br>\n",
    "6x² - 4x - 2 = 0 (получаем из 1-го)<br>\n",
    "<br>\n",
    "3. Находим корни квадратного уравнения 6x² - 4x - 2 = 0<br>\n",
    "(решаем через нахождение дискриминанта)<br>\n",
    "x₁ = 1, x₂ = -1/3<br>\n",
    "<br>\n",
    "4. Находим точку эксремума для x1 = 1 <br>\n",
    "Подставляем в уравнения в пункте 2, получаем стационарную точку 1<br>\n",
    "x1,y1,z1 (1; -2; -1)<br>\n",
    "<br>\n",
    "5. Находим точку эксремума для x2 = -1/3<br>\n",
    "Подставляем в уравнения в пункте 2, получаем стационарную точку 2<br>\n",
    "x2, y2, z2 (-1/3, -2/3, 1/3)<br>\n",
    "<br>\n",
    "6. Находим вторые производные:<br>\n",
    "d2f/dx² = 12x<br>\n",
    "d2f/dy² = 2<br>\n",
    "d2f/dz² = 2<br>\n",
    "d2f/dxdy = 2<br>\n",
    "d2f/dxdz = 2<br>\n",
    "d2f/dydz = 0<br>\n",
    "<br>\n",
    "7. Строим матрицу Гессе<br>\n",
    "(12x 2 2)<br>\n",
    "(2 2 2)<br>\n",
    "(2 2 0)<br>\n",
    "<br>\n",
    "8. Cчитаем определитель матрицы Гессе <br>\n",
    "12x*2*0+2*2*2+2*2*2-2*2*2-2*2*12x-0*2*2=0+8+8-8-48=8-48x<br>\n",
    "<br>\n",
    "9. Считаем определитель матрицы Гессе для стационарных точек (1; -2; -1) и (-1/3, -2/3, 1/3)<br>\n",
    "det(H1) = -40<br>\n",
    "det(H2) = 24<br>\n",
    "<br>\n",
    "10. Определение характера стационарных точек в соответствии с детерминантом<br><br>\n",
    "x1,y1,z1 (1; -2; -1)<br>\n",
    "определитель = -40<br>\n",
    "отрицательный => в этой точке у функции седловая точка<br>\n",
    "\n",
    "    x2, y2, z2 (-1/3, -2/3, 1/3)<br>\n",
    "определитель = 24<br>\n",
    "Определитель положительный, и так как d2fdx2=12x в этой точке равно 12⋅(−13)=−412⋅(−31​)=−4, что отрицательно, это указывает на локальный максимум.<br>\n",
    "\n",
    "\n",
    "\n",
    " \n"
   ]
  },
  {
   "cell_type": "markdown",
   "id": "b38584b7-0da5-4858-9422-ff5bc2b3854f",
   "metadata": {
    "id": "b38584b7-0da5-4858-9422-ff5bc2b3854f"
   },
   "source": [
    "**Задача 2** (25 баллов)\n",
    "\n",
    "Найдите условные экстремумы функции:"
   ]
  },
  {
   "cell_type": "markdown",
   "id": "b36ed820-965b-484d-baab-b2cafebe7479",
   "metadata": {
    "id": "b36ed820-965b-484d-baab-b2cafebe7479"
   },
   "source": [
    "$$\n",
    "f(x, y)=4 x+8 y, y^2-2 x y+5=0\n",
    "$$"
   ]
  },
  {
   "cell_type": "markdown",
   "id": "2ce1c6f1-d126-4368-a63e-2bbbefffd542",
   "metadata": {
    "id": "2ce1c6f1-d126-4368-a63e-2bbbefffd542"
   },
   "source": [
    "Вычислите результат самостоятельно (вручную) и с помощью Python. Сравните результаты."
   ]
  },
  {
   "cell_type": "markdown",
   "id": "504b13a6",
   "metadata": {
    "id": "818929f6-c478-49ad-997e-536d3c4f7f33"
   },
   "source": [
    "Решаем самостоятельно:\n",
    "\n",
    "1. Составим функцию множителей Лагранжа<br>\n",
    "L(x, y, lamda) = 4x+8y+lambda*(y²-2xy+5)\n",
    "<br>\n",
    "<br>\n",
    "2. Находим частные производные <br>\n",
    "dL/dx = 4-2*lambda*y<br>\n",
    "dL/dy = 8+2*lambda*y-2*x*lambda<br>\n",
    "dL/dlambda = 𝑦²-2*x*y+5<br>\n",
    "<br>\n",
    "\n",
    "3. Приравниваем производные к 0 и составляем систему уравнений<br>\n",
    "4-2*lambda*y = 0<br>\n",
    "8+2*lambda*y-2*x*lambda = 0<br>\n",
    "𝑦²-2*x*y+5=0\n",
    "<br>\n",
    "\n",
    "4. Решаем систему уравнений<br>\n",
    "1)\n",
    "4-2*lambda*y = 0 \n",
    "lambda = 2/y<br>\n",
    "2)\n",
    "8+2*lambda*y-2*x*lambda = 0\n",
    "8+2*2/y*y-2*x*2/y = 0\n",
    "x = 3/y<br>\n",
    "3)\n",
    "𝑦²-2*x*y+5 = 0\n",
    "y1=1, y2=-1  => x1=3, x2=-3 \n",
    "<br><br>\n",
    "Вывод: Условными экстремумами функции являются точки\n",
    "(1;3),(-1;-3)"
   ]
  },
  {
   "cell_type": "code",
   "execution_count": 2,
   "id": "4e46823c",
   "metadata": {},
   "outputs": [
    {
     "name": "stdout",
     "output_type": "stream",
     "text": [
      "Точки экстремума: (-3;-1), (3;1)\n"
     ]
    }
   ],
   "source": [
    "# Определяем переменные и множитель Лагранжа\n",
    "x, y, l = sp.symbols('x y l')\n",
    "\n",
    "# Задаем целевую функцию\n",
    "target_function = 4 * x + 8 * y\n",
    "\n",
    "# Задаем функцию-ограничение\n",
    "constraint = y**2 - 2 * x * y + 5\n",
    "\n",
    "# Составляем функцию Лагранжа\n",
    "lagrange_function = target_function + l * constraint\n",
    "\n",
    "# Вычисляем частные производные функции Лагранжа\n",
    "partial_dx = sp.diff(lagrange_function, x)\n",
    "partial_dy = sp.diff(lagrange_function, y)\n",
    "partial_dl = sp.diff(lagrange_function, l)\n",
    "\n",
    "# Решаем систему уравнений, приравнивая производные к нулю\n",
    "solutions = sp.solve([partial_dx, partial_dy, partial_dl], [x, y, l])\n",
    "\n",
    "# Выводим точки условного экстремума\n",
    "print(f'Точки экстремума: ({solutions[0][0]};{solutions[0][1]}), ({solutions[1][0]};{solutions[1][1]})')"
   ]
  },
  {
   "cell_type": "markdown",
   "id": "a95c4ab4",
   "metadata": {},
   "source": [
    "Вывод: точки совпадают в обоих решениях"
   ]
  },
  {
   "cell_type": "markdown",
   "id": "818083c3-7318-4669-bb15-5a8a48ef543d",
   "metadata": {
    "id": "818083c3-7318-4669-bb15-5a8a48ef543d"
   },
   "source": [
    "**Задача 3** (30 баллов)\n",
    "\n",
    "Вам предложены данные с информацией о успеваемости студентов:\n",
    "\n",
    "Независимые переменные:\n",
    "* Hours Studied: Общее количество часов, потраченных на учебу каждым студентом.\n",
    "* Previous Scores: Баллы, полученные студентами на предыдущих экзаменах.\n",
    "* Sleep Hours: Среднее количество часов сна студента в сутки.\n",
    "* Sample Question Papers Practiced: Количество пробных экзаменационных работ, с которыми студент занимался.\n",
    "  \n",
    "Целевая переменная:\n",
    "* Performance Index: Показатель общей успеваемости каждого студента. Индекс успеваемости отражает академическую успеваемость студента и округляется до ближайшего целого числа. Индекс варьируется от 10 до 100, при этом более высокие значения свидетельствуют о более высокой успеваемости."
   ]
  },
  {
   "cell_type": "markdown",
   "id": "f65c2300-43b2-4c43-b762-1e20d29ae889",
   "metadata": {
    "id": "f65c2300-43b2-4c43-b762-1e20d29ae889"
   },
   "source": [
    "**Решите задачу линейной регрессии, реализовав градиентный спуск самостоятельно, не используя готовое решение из какой-либо библиотеки.**"
   ]
  },
  {
   "cell_type": "markdown",
   "id": "7763c7e0",
   "metadata": {},
   "source": [
    "Скачаем и изучим данные"
   ]
  },
  {
   "cell_type": "code",
   "execution_count": 3,
   "id": "3900c065-fb9b-45bf-bc1f-a9c9d0ab5c20",
   "metadata": {
    "id": "3900c065-fb9b-45bf-bc1f-a9c9d0ab5c20",
    "scrolled": false
   },
   "outputs": [
    {
     "name": "stdout",
     "output_type": "stream",
     "text": [
      "<class 'pandas.core.frame.DataFrame'>\n",
      "RangeIndex: 10000 entries, 0 to 9999\n",
      "Data columns (total 6 columns):\n",
      " #   Column                            Non-Null Count  Dtype  \n",
      "---  ------                            --------------  -----  \n",
      " 0   Hours Studied                     10000 non-null  int64  \n",
      " 1   Previous Scores                   10000 non-null  int64  \n",
      " 2   Extracurricular Activities        10000 non-null  object \n",
      " 3   Sleep Hours                       10000 non-null  int64  \n",
      " 4   Sample Question Papers Practiced  10000 non-null  int64  \n",
      " 5   Performance Index                 10000 non-null  float64\n",
      "dtypes: float64(1), int64(4), object(1)\n",
      "memory usage: 468.9+ KB\n",
      "None\n"
     ]
    }
   ],
   "source": [
    "# посмотрим общую инфу о датасете\n",
    "df = pd.read_csv(r\"C:\\Users\\Igor\\Desktop\\study\\матан\\Student_Performance.txt\")\n",
    "print(df.info())"
   ]
  },
  {
   "cell_type": "code",
   "execution_count": 4,
   "id": "095abe6a",
   "metadata": {
    "scrolled": false
   },
   "outputs": [
    {
     "data": {
      "text/html": [
       "<div>\n",
       "<style scoped>\n",
       "    .dataframe tbody tr th:only-of-type {\n",
       "        vertical-align: middle;\n",
       "    }\n",
       "\n",
       "    .dataframe tbody tr th {\n",
       "        vertical-align: top;\n",
       "    }\n",
       "\n",
       "    .dataframe thead th {\n",
       "        text-align: right;\n",
       "    }\n",
       "</style>\n",
       "<table border=\"1\" class=\"dataframe\">\n",
       "  <thead>\n",
       "    <tr style=\"text-align: right;\">\n",
       "      <th></th>\n",
       "      <th>Hours Studied</th>\n",
       "      <th>Previous Scores</th>\n",
       "      <th>Extracurricular Activities</th>\n",
       "      <th>Sleep Hours</th>\n",
       "      <th>Sample Question Papers Practiced</th>\n",
       "      <th>Performance Index</th>\n",
       "    </tr>\n",
       "  </thead>\n",
       "  <tbody>\n",
       "    <tr>\n",
       "      <th>0</th>\n",
       "      <td>7</td>\n",
       "      <td>99</td>\n",
       "      <td>Yes</td>\n",
       "      <td>9</td>\n",
       "      <td>1</td>\n",
       "      <td>91.0</td>\n",
       "    </tr>\n",
       "    <tr>\n",
       "      <th>1</th>\n",
       "      <td>4</td>\n",
       "      <td>82</td>\n",
       "      <td>No</td>\n",
       "      <td>4</td>\n",
       "      <td>2</td>\n",
       "      <td>65.0</td>\n",
       "    </tr>\n",
       "    <tr>\n",
       "      <th>2</th>\n",
       "      <td>8</td>\n",
       "      <td>51</td>\n",
       "      <td>Yes</td>\n",
       "      <td>7</td>\n",
       "      <td>2</td>\n",
       "      <td>45.0</td>\n",
       "    </tr>\n",
       "    <tr>\n",
       "      <th>3</th>\n",
       "      <td>5</td>\n",
       "      <td>52</td>\n",
       "      <td>Yes</td>\n",
       "      <td>5</td>\n",
       "      <td>2</td>\n",
       "      <td>36.0</td>\n",
       "    </tr>\n",
       "    <tr>\n",
       "      <th>4</th>\n",
       "      <td>7</td>\n",
       "      <td>75</td>\n",
       "      <td>No</td>\n",
       "      <td>8</td>\n",
       "      <td>5</td>\n",
       "      <td>66.0</td>\n",
       "    </tr>\n",
       "  </tbody>\n",
       "</table>\n",
       "</div>"
      ],
      "text/plain": [
       "   Hours Studied  Previous Scores Extracurricular Activities  Sleep Hours  \\\n",
       "0              7               99                        Yes            9   \n",
       "1              4               82                         No            4   \n",
       "2              8               51                        Yes            7   \n",
       "3              5               52                        Yes            5   \n",
       "4              7               75                         No            8   \n",
       "\n",
       "   Sample Question Papers Practiced  Performance Index  \n",
       "0                                 1               91.0  \n",
       "1                                 2               65.0  \n",
       "2                                 2               45.0  \n",
       "3                                 2               36.0  \n",
       "4                                 5               66.0  "
      ]
     },
     "execution_count": 4,
     "metadata": {},
     "output_type": "execute_result"
    }
   ],
   "source": [
    "# посмотрим первые записи\n",
    "df.head()"
   ]
  },
  {
   "cell_type": "markdown",
   "id": "8b955acb",
   "metadata": {},
   "source": [
    "Extracurricular Activities с булевым значением нам не понадобится, можно его не использовать"
   ]
  },
  {
   "cell_type": "code",
   "execution_count": 5,
   "id": "af8d7c25",
   "metadata": {
    "scrolled": false
   },
   "outputs": [
    {
     "data": {
      "text/html": [
       "<div>\n",
       "<style scoped>\n",
       "    .dataframe tbody tr th:only-of-type {\n",
       "        vertical-align: middle;\n",
       "    }\n",
       "\n",
       "    .dataframe tbody tr th {\n",
       "        vertical-align: top;\n",
       "    }\n",
       "\n",
       "    .dataframe thead th {\n",
       "        text-align: right;\n",
       "    }\n",
       "</style>\n",
       "<table border=\"1\" class=\"dataframe\">\n",
       "  <thead>\n",
       "    <tr style=\"text-align: right;\">\n",
       "      <th></th>\n",
       "      <th>count</th>\n",
       "      <th>mean</th>\n",
       "      <th>std</th>\n",
       "      <th>min</th>\n",
       "      <th>25%</th>\n",
       "      <th>50%</th>\n",
       "      <th>75%</th>\n",
       "      <th>max</th>\n",
       "    </tr>\n",
       "  </thead>\n",
       "  <tbody>\n",
       "    <tr>\n",
       "      <th>Hours Studied</th>\n",
       "      <td>10000.0</td>\n",
       "      <td>4.9929</td>\n",
       "      <td>2.589309</td>\n",
       "      <td>1.0</td>\n",
       "      <td>3.0</td>\n",
       "      <td>5.0</td>\n",
       "      <td>7.0</td>\n",
       "      <td>9.0</td>\n",
       "    </tr>\n",
       "    <tr>\n",
       "      <th>Previous Scores</th>\n",
       "      <td>10000.0</td>\n",
       "      <td>69.4457</td>\n",
       "      <td>17.343152</td>\n",
       "      <td>40.0</td>\n",
       "      <td>54.0</td>\n",
       "      <td>69.0</td>\n",
       "      <td>85.0</td>\n",
       "      <td>99.0</td>\n",
       "    </tr>\n",
       "    <tr>\n",
       "      <th>Sleep Hours</th>\n",
       "      <td>10000.0</td>\n",
       "      <td>6.5306</td>\n",
       "      <td>1.695863</td>\n",
       "      <td>4.0</td>\n",
       "      <td>5.0</td>\n",
       "      <td>7.0</td>\n",
       "      <td>8.0</td>\n",
       "      <td>9.0</td>\n",
       "    </tr>\n",
       "    <tr>\n",
       "      <th>Sample Question Papers Practiced</th>\n",
       "      <td>10000.0</td>\n",
       "      <td>4.5833</td>\n",
       "      <td>2.867348</td>\n",
       "      <td>0.0</td>\n",
       "      <td>2.0</td>\n",
       "      <td>5.0</td>\n",
       "      <td>7.0</td>\n",
       "      <td>9.0</td>\n",
       "    </tr>\n",
       "    <tr>\n",
       "      <th>Performance Index</th>\n",
       "      <td>10000.0</td>\n",
       "      <td>55.2248</td>\n",
       "      <td>19.212558</td>\n",
       "      <td>10.0</td>\n",
       "      <td>40.0</td>\n",
       "      <td>55.0</td>\n",
       "      <td>71.0</td>\n",
       "      <td>100.0</td>\n",
       "    </tr>\n",
       "  </tbody>\n",
       "</table>\n",
       "</div>"
      ],
      "text/plain": [
       "                                    count     mean        std   min   25%  \\\n",
       "Hours Studied                     10000.0   4.9929   2.589309   1.0   3.0   \n",
       "Previous Scores                   10000.0  69.4457  17.343152  40.0  54.0   \n",
       "Sleep Hours                       10000.0   6.5306   1.695863   4.0   5.0   \n",
       "Sample Question Papers Practiced  10000.0   4.5833   2.867348   0.0   2.0   \n",
       "Performance Index                 10000.0  55.2248  19.212558  10.0  40.0   \n",
       "\n",
       "                                   50%   75%    max  \n",
       "Hours Studied                      5.0   7.0    9.0  \n",
       "Previous Scores                   69.0  85.0   99.0  \n",
       "Sleep Hours                        7.0   8.0    9.0  \n",
       "Sample Question Papers Practiced   5.0   7.0    9.0  \n",
       "Performance Index                 55.0  71.0  100.0  "
      ]
     },
     "execution_count": 5,
     "metadata": {},
     "output_type": "execute_result"
    }
   ],
   "source": [
    "df.describe().T"
   ]
  },
  {
   "cell_type": "code",
   "execution_count": 6,
   "id": "77e2ff99",
   "metadata": {
    "scrolled": false
   },
   "outputs": [
    {
     "data": {
      "text/html": [
       "<div>\n",
       "<style scoped>\n",
       "    .dataframe tbody tr th:only-of-type {\n",
       "        vertical-align: middle;\n",
       "    }\n",
       "\n",
       "    .dataframe tbody tr th {\n",
       "        vertical-align: top;\n",
       "    }\n",
       "\n",
       "    .dataframe thead th {\n",
       "        text-align: right;\n",
       "    }\n",
       "</style>\n",
       "<table border=\"1\" class=\"dataframe\">\n",
       "  <thead>\n",
       "    <tr style=\"text-align: right;\">\n",
       "      <th></th>\n",
       "      <th>Hours Studied</th>\n",
       "      <th>Previous Scores</th>\n",
       "      <th>Sleep Hours</th>\n",
       "      <th>Sample Question Papers Practiced</th>\n",
       "      <th>Performance Index</th>\n",
       "    </tr>\n",
       "  </thead>\n",
       "  <tbody>\n",
       "    <tr>\n",
       "      <th>Hours Studied</th>\n",
       "      <td>1.000000</td>\n",
       "      <td>-0.012390</td>\n",
       "      <td>0.001245</td>\n",
       "      <td>0.017463</td>\n",
       "      <td>0.373730</td>\n",
       "    </tr>\n",
       "    <tr>\n",
       "      <th>Previous Scores</th>\n",
       "      <td>-0.012390</td>\n",
       "      <td>1.000000</td>\n",
       "      <td>0.005944</td>\n",
       "      <td>0.007888</td>\n",
       "      <td>0.915189</td>\n",
       "    </tr>\n",
       "    <tr>\n",
       "      <th>Sleep Hours</th>\n",
       "      <td>0.001245</td>\n",
       "      <td>0.005944</td>\n",
       "      <td>1.000000</td>\n",
       "      <td>0.003990</td>\n",
       "      <td>0.048106</td>\n",
       "    </tr>\n",
       "    <tr>\n",
       "      <th>Sample Question Papers Practiced</th>\n",
       "      <td>0.017463</td>\n",
       "      <td>0.007888</td>\n",
       "      <td>0.003990</td>\n",
       "      <td>1.000000</td>\n",
       "      <td>0.043268</td>\n",
       "    </tr>\n",
       "    <tr>\n",
       "      <th>Performance Index</th>\n",
       "      <td>0.373730</td>\n",
       "      <td>0.915189</td>\n",
       "      <td>0.048106</td>\n",
       "      <td>0.043268</td>\n",
       "      <td>1.000000</td>\n",
       "    </tr>\n",
       "  </tbody>\n",
       "</table>\n",
       "</div>"
      ],
      "text/plain": [
       "                                  Hours Studied  Previous Scores  Sleep Hours  \\\n",
       "Hours Studied                          1.000000        -0.012390     0.001245   \n",
       "Previous Scores                       -0.012390         1.000000     0.005944   \n",
       "Sleep Hours                            0.001245         0.005944     1.000000   \n",
       "Sample Question Papers Practiced       0.017463         0.007888     0.003990   \n",
       "Performance Index                      0.373730         0.915189     0.048106   \n",
       "\n",
       "                                  Sample Question Papers Practiced  \\\n",
       "Hours Studied                                             0.017463   \n",
       "Previous Scores                                           0.007888   \n",
       "Sleep Hours                                               0.003990   \n",
       "Sample Question Papers Practiced                          1.000000   \n",
       "Performance Index                                         0.043268   \n",
       "\n",
       "                                  Performance Index  \n",
       "Hours Studied                              0.373730  \n",
       "Previous Scores                            0.915189  \n",
       "Sleep Hours                                0.048106  \n",
       "Sample Question Papers Practiced           0.043268  \n",
       "Performance Index                          1.000000  "
      ]
     },
     "execution_count": 6,
     "metadata": {},
     "output_type": "execute_result"
    }
   ],
   "source": [
    "# посмотрим матрицу корелляции\n",
    "df.corr()"
   ]
  },
  {
   "cell_type": "markdown",
   "id": "7fe97548",
   "metadata": {},
   "source": [
    "Данные очищенные, булевый признак использовать не будем. Есть сильная корелляция между Performance Index (целевой признак) и Previous Scores (1 из признаков). Сильной линейной зависимости между оставшимися признаками нет, можно приступить к созданию  градиентного спуска самостоятельно. "
   ]
  },
  {
   "cell_type": "code",
   "execution_count": 7,
   "id": "737c3b61",
   "metadata": {},
   "outputs": [],
   "source": [
    "# Разделим данные на признаки и таргет \n",
    "X = df[['Hours Studied', 'Previous Scores', 'Sleep Hours', 'Sample Question Papers Practiced']]\n",
    "y = df[['Performance Index']]"
   ]
  },
  {
   "cell_type": "code",
   "execution_count": 8,
   "id": "3b45f230",
   "metadata": {},
   "outputs": [],
   "source": [
    "#преобразуем данные в массивы numpy для построения модели линейной регрессии\n",
    "X = X.values\n",
    "y = y.values\n",
    "\n",
    "# Проведем стандартизацию\n",
    "scaler = StandardScaler()\n",
    "X = scaler.fit_transform(X)\n",
    "\n",
    "# Добавим свободный член\n",
    "X = np.append(np.ones((len(X), 1)), X, axis=1)"
   ]
  },
  {
   "cell_type": "code",
   "execution_count": 9,
   "id": "a188cd77",
   "metadata": {
    "scrolled": true
   },
   "outputs": [
    {
     "name": "stdout",
     "output_type": "stream",
     "text": [
      "Iteration 0: Loss = 1714.017500\n",
      "Iteration 100: Loss = 230.726352\n",
      "Iteration 200: Loss = 32.700466\n",
      "Iteration 300: Loss = 6.225091\n",
      "Iteration 400: Loss = 2.680238\n",
      "Iteration 500: Loss = 2.204902\n",
      "Iteration 600: Loss = 2.141067\n",
      "Iteration 700: Loss = 2.132481\n",
      "Iteration 800: Loss = 2.131325\n",
      "Iteration 900: Loss = 2.131169\n",
      "Среднеквадратичное отклонение (MSE): 2.091015\n",
      "Коэффициенты модели:\n",
      "[55.23830455  7.38615123 17.63701614  0.80279009  0.5501177 ]\n",
      "Коэффициенты модели sklearn\n",
      "[55.24069363  7.3866529  17.6377233   0.80264289  0.54971847]\n",
      "Среднеквадратичное отклонение модели sk_learn (MSE sklearn): 2.091127\n"
     ]
    }
   ],
   "source": [
    "# Гиперпараметры\n",
    "learning_rate = 0.01\n",
    "num_iterations = 1000\n",
    "\n",
    "# Инициализация коэффициентов\n",
    "def initialize_coefficients(n_features):\n",
    "    return np.zeros((n_features, 1))\n",
    "\n",
    "# Функция потерь (MSE)\n",
    "def compute_loss(y, y_pred):\n",
    "    return (1/(2*len(y))) * np.sum((y - y_pred)**2)\n",
    "\n",
    "# Градиентный спуск\n",
    "def gradient_descent(X, y, learning_rate, num_iterations):\n",
    "    n_samples, n_features = X.shape\n",
    "    beta = initialize_coefficients(n_features)\n",
    "    loss_history = []\n",
    "    \n",
    "    for iteration in range(num_iterations):\n",
    "        # Прогноз\n",
    "        y_pred = np.dot(X, beta)\n",
    "        # Градиент\n",
    "        gradient = -(1/n_samples) * np.dot(X.T, (y - y_pred))\n",
    "        # Обновление коэффициентов\n",
    "        beta -= learning_rate * gradient\n",
    "        # Вычисление потерь\n",
    "        current_loss = compute_loss(y, y_pred)\n",
    "        loss_history.append(current_loss)\n",
    "        \n",
    "        # Вывод потерь каждые 100 итераций\n",
    "        if iteration % 100 == 0:\n",
    "            print(f'Iteration {iteration}: Loss = {current_loss:.6f}')\n",
    "    \n",
    "    return beta, loss_history\n",
    "\n",
    "# Разделение данных на обучающую и тестовую выборки\n",
    "X_train, X_test, y_train, y_test = train_test_split(X, y, test_size=0.2, random_state=42)\n",
    "\n",
    "# Обучение модели\n",
    "beta, loss_history = gradient_descent(X_train, y_train, learning_rate, num_iterations)\n",
    "\n",
    "# Предсказание на тестовых данных\n",
    "y_pred = np.dot(X_test, beta)\n",
    "\n",
    "# Оценка точности модели\n",
    "mse = compute_loss(y_test, y_pred)\n",
    "print(f'Среднеквадратичное отклонение (MSE): {mse:.6f}')\n",
    "\n",
    "# Сравнение с sklearn\n",
    "sk_model = LinearRegression()\n",
    "sk_model.fit(X_train[:,1:], y_train)  # без столбца единиц\n",
    "sk_pred = sk_model.predict(X_test[:,1:])\n",
    "\n",
    "# Коэффициенты сравнения\n",
    "print('Коэффициенты модели:')\n",
    "print(beta.flatten())\n",
    "print('Коэффициенты модели sklearn')\n",
    "print(np.append(sk_model.intercept_, sk_model.coef_))\n",
    "\n",
    "# Сравнение MSE\n",
    "sk_mse = compute_loss(y_test, sk_pred)\n",
    "print(f'Среднеквадратичное отклонение модели sk_learn (MSE sklearn): {sk_mse:.6f}')"
   ]
  },
  {
   "cell_type": "markdown",
   "id": "eef9ca68",
   "metadata": {},
   "source": [
    "Вывод: коэффициенты модели идентичные, посчитаем MAPE и коэф. детерминации"
   ]
  },
  {
   "cell_type": "code",
   "execution_count": 10,
   "id": "74b005fd",
   "metadata": {},
   "outputs": [
    {
     "name": "stdout",
     "output_type": "stream",
     "text": [
      "MAPE нашей модели: 3.54%\n",
      "MAPE модели sklearn: 3.54%\n"
     ]
    }
   ],
   "source": [
    "mape_our_model = mean_absolute_percentage_error(y_test, y_pred) * 100\n",
    "print(f'MAPE нашей модели: {mape_our_model:.2f}%')\n",
    "\n",
    "mape_sk_learn = mean_absolute_percentage_error(y_test, sk_pred) * 100\n",
    "print(f'MAPE модели sklearn: {mape_our_model:.2f}%')"
   ]
  },
  {
   "cell_type": "code",
   "execution_count": 11,
   "id": "458b6ea4",
   "metadata": {},
   "outputs": [
    {
     "name": "stdout",
     "output_type": "stream",
     "text": [
      "R2 нашей модели: 98.87%\n",
      "R2 модели sklearn: 98.87%\n"
     ]
    }
   ],
   "source": [
    "r2_our_model = r2_score(y_test, y_pred) * 100\n",
    "print(f'R2 нашей модели: {r2_our_model:.2f}%')\n",
    "\n",
    "r2_sk_learn = r2_score(y_test, sk_pred) * 100\n",
    "print(f'R2 модели sklearn: {r2_sk_learn:.2f}%')"
   ]
  },
  {
   "cell_type": "markdown",
   "id": "e12e5ee6",
   "metadata": {},
   "source": [
    "Коэффициент детерминации нашей модели, как и модели sk_learn очень высокий. Модель объясняет 98.87% значений целевой величины."
   ]
  },
  {
   "cell_type": "markdown",
   "id": "8c472de8",
   "metadata": {},
   "source": [
    "Ради интереса воспользуемся библиотекой sm сделаем модель линейной регрессии с ее помощью и посмотрим красивый отчет"
   ]
  },
  {
   "cell_type": "code",
   "execution_count": 12,
   "id": "68736487",
   "metadata": {
    "scrolled": false
   },
   "outputs": [
    {
     "name": "stdout",
     "output_type": "stream",
     "text": [
      "                            OLS Regression Results                            \n",
      "==============================================================================\n",
      "Dep. Variable:                      y   R-squared:                       0.988\n",
      "Model:                            OLS   Adj. R-squared:                  0.988\n",
      "Method:                 Least Squares   F-statistic:                 1.709e+05\n",
      "Date:                Sat, 21 Dec 2024   Prob (F-statistic):               0.00\n",
      "Time:                        00:22:53   Log-Likelihood:                -17151.\n",
      "No. Observations:                8000   AIC:                         3.431e+04\n",
      "Df Residuals:                    7995   BIC:                         3.435e+04\n",
      "Df Model:                           4                                         \n",
      "Covariance Type:            nonrobust                                         \n",
      "==============================================================================\n",
      "                 coef    std err          t      P>|t|      [0.025      0.975]\n",
      "------------------------------------------------------------------------------\n",
      "const         55.2407      0.023   2392.215      0.000      55.195      55.286\n",
      "x1             7.3867      0.023    320.538      0.000       7.341       7.432\n",
      "x2            17.6377      0.023    763.815      0.000      17.592      17.683\n",
      "x3             0.8026      0.023     34.815      0.000       0.757       0.848\n",
      "x4             0.5497      0.023     23.753      0.000       0.504       0.595\n",
      "==============================================================================\n",
      "Omnibus:                        2.037   Durbin-Watson:                   2.044\n",
      "Prob(Omnibus):                  0.361   Jarque-Bera (JB):                2.049\n",
      "Skew:                           0.013   Prob(JB):                        0.359\n",
      "Kurtosis:                       3.074   Cond. No.                         1.02\n",
      "==============================================================================\n",
      "\n",
      "Notes:\n",
      "[1] Standard Errors assume that the covariance matrix of the errors is correctly specified.\n"
     ]
    }
   ],
   "source": [
    "# Добавление константы (столбец единиц) для свободного члена\n",
    "X_train_sm = sm.add_constant(X_train[:, 1:])  # Убираем столбец единиц, так как sm.add_constant добавит его\n",
    "\n",
    "# Создание модели OLS\n",
    "model_sm = sm.OLS(y_train, X_train_sm)\n",
    "\n",
    "# Обучение модели\n",
    "results_sm = model_sm.fit()\n",
    "\n",
    "# Вывод красивого отчета\n",
    "print(results_sm.summary())"
   ]
  },
  {
   "cell_type": "markdown",
   "id": "57b13dc6",
   "metadata": {},
   "source": [
    "Тут все тоже очень красиво, коэффициенты примерно такиеже"
   ]
  }
 ],
 "metadata": {
  "colab": {
   "provenance": []
  },
  "kernelspec": {
   "display_name": "Python 3 (ipykernel)",
   "language": "python",
   "name": "python3"
  },
  "language_info": {
   "codemirror_mode": {
    "name": "ipython",
    "version": 3
   },
   "file_extension": ".py",
   "mimetype": "text/x-python",
   "name": "python",
   "nbconvert_exporter": "python",
   "pygments_lexer": "ipython3",
   "version": "3.9.13"
  },
  "toc": {
   "base_numbering": 1,
   "nav_menu": {},
   "number_sections": true,
   "sideBar": true,
   "skip_h1_title": true,
   "title_cell": "Table of Contents",
   "title_sidebar": "Contents",
   "toc_cell": true,
   "toc_position": {},
   "toc_section_display": true,
   "toc_window_display": false
  }
 },
 "nbformat": 4,
 "nbformat_minor": 5
}
