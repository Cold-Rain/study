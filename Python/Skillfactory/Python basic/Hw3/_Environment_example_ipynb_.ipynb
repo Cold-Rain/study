{
  "cells": [
    {
      "cell_type": "code",
      "execution_count": 36,
      "metadata": {
        "id": "MXXTuy_o0sjk"
      },
      "outputs": [],
      "source": [
        "!pip install -q -U kaggle_environments"
      ]
    },
    {
      "cell_type": "code",
      "execution_count": 37,
      "metadata": {
        "id": "yz23vWHD0wcj"
      },
      "outputs": [],
      "source": [
        "import numpy as np\n",
        "import pandas as pd\n",
        "import random\n",
        "\n",
        "import matplotlib.pyplot as plt\n",
        "import seaborn as sns\n",
        "\n",
        "from kaggle_environments import make, evaluate"
      ]
    },
    {
      "cell_type": "markdown",
      "metadata": {
        "id": "0kuo6IOxiRub"
      },
      "source": [
        "Опишем поведение агента, всегда играющего \"камень\" - это значение 0\n"
      ]
    },
    {
      "cell_type": "code",
      "execution_count": 38,
      "metadata": {
        "colab": {
          "base_uri": "https://localhost:8080/"
        },
        "id": "bqTqV7B92rJ6",
        "outputId": "54ade3a0-6ebb-4eca-fec5-8c6f653b0580"
      },
      "outputs": [
        {
          "output_type": "stream",
          "name": "stdout",
          "text": [
            "Overwriting rock_agent.py\n"
          ]
        }
      ],
      "source": [
        "%%writefile rock_agent.py\n",
        "\n",
        "#Example of the simple agent\n",
        "#0 - rock\n",
        "#1 - paper\n",
        "#2 - scissors\n",
        "def your_agent(observation, configuration):\n",
        "    return 0"
      ]
    },
    {
      "cell_type": "markdown",
      "metadata": {
        "id": "et1J5hUGigeh"
      },
      "source": [
        "Попробуем теперь использовать информацию о прошлых действиях противника. Опишем\n",
        "агента, который производит то же самое действие, что и оппонент на прошлом ходу"
      ]
    },
    {
      "cell_type": "code",
      "execution_count": 39,
      "metadata": {
        "colab": {
          "base_uri": "https://localhost:8080/"
        },
        "id": "7l6Ttw6qi0jk",
        "outputId": "e5d9e372-c4bd-4391-a07f-4a7ca09ef214"
      },
      "outputs": [
        {
          "output_type": "stream",
          "name": "stdout",
          "text": [
            "Overwriting copy_opponent.py\n"
          ]
        }
      ],
      "source": [
        "%%writefile copy_opponent.py\n",
        "\n",
        "#Example\n",
        "def copy_opponent(observation, configuration):\n",
        "    #in case we have information about opponent last move\n",
        "    if observation.step > 0:\n",
        "        return observation.lastOpponentAction\n",
        "    #initial step\n",
        "    else:\n",
        "        return random.randrange(0, 3)"
      ]
    },
    {
      "cell_type": "code",
      "execution_count": 39,
      "metadata": {
        "id": "_jDh4q3USCTd"
      },
      "outputs": [],
      "source": []
    },
    {
      "cell_type": "markdown",
      "metadata": {
        "id": "ExgIpXUVjbjN"
      },
      "source": [
        "Воспользуемся функцией evaluate из библиотеки kaggle_environments с помощью которой запустим наших агентов и проведем эксперимент на заданном количестве игр"
      ]
    },
    {
      "cell_type": "code",
      "execution_count": 40,
      "metadata": {
        "colab": {
          "base_uri": "https://localhost:8080/"
        },
        "id": "wv6Ip6M004xa",
        "outputId": "44defd55-be61-4cce-fc5c-8f782fc1bd1e"
      },
      "outputs": [
        {
          "output_type": "execute_result",
          "data": {
            "text/plain": [
              "[[1, None]]"
            ]
          },
          "metadata": {},
          "execution_count": 40
        }
      ],
      "source": [
        "evaluate(\n",
        "    \"rps\", #environment to use - no need to change\n",
        "    [\"rock_agent.py\", \"copy_opponent.py\"], #agents to evaluate\n",
        "    configuration={\"episodeSteps\": 100} #number of episodes\n",
        ")"
      ]
    },
    {
      "cell_type": "code",
      "execution_count": 41,
      "metadata": {
        "colab": {
          "base_uri": "https://localhost:8080/"
        },
        "id": "FC6_QWe9k3rr",
        "outputId": "90035eac-9a54-4e3a-8618-ac22a7b113eb"
      },
      "outputs": [
        {
          "output_type": "execute_result",
          "data": {
            "text/plain": [
              "[[-99.0, 99.0]]"
            ]
          },
          "metadata": {},
          "execution_count": 41
        }
      ],
      "source": [
        "evaluate(\n",
        "    \"rps\", #environment to use - no need to change\n",
        "    [\"rock_agent.py\", \"paper\"], #agents to evaluate\n",
        "    configuration={\"episodeSteps\": 100} #number of episodes\n",
        ")"
      ]
    },
    {
      "cell_type": "markdown",
      "metadata": {
        "id": "Q2tPerI_SVsA"
      },
      "source": [
        "Добавляем разных агентов"
      ]
    },
    {
      "cell_type": "code",
      "source": [
        "import random\n",
        "\n",
        "def rock_agent(observation, configuration):\n",
        "    \"\"\"\n",
        "    Агент, который всегда выбирает камень.\n",
        "\n",
        "    :param observation: Информация о текущем состоянии игры.\n",
        "    :param configuration: Конфигурация игры.\n",
        "    :return: 0 (камень)\n",
        "    \"\"\"\n",
        "    return 0\n",
        "\n",
        "def paper_agent(observation, configuration):\n",
        "    \"\"\"\n",
        "    Агент, который всегда выбирает бумагу.\n",
        "\n",
        "    :param observation: Информация о текущем состоянии игры.\n",
        "    :param configuration: Конфигурация игры.\n",
        "    :return: 1 (бумага)\n",
        "    \"\"\"\n",
        "    return 1\n",
        "\n",
        "def scissors_agent(observation, configuration):\n",
        "    \"\"\"\n",
        "    Агент, который всегда выбирает ножницы.\n",
        "\n",
        "    :param observation: Информация о текущем состоянии игры.\n",
        "    :param configuration: Конфигурация игры.\n",
        "    :return: 2 (ножницы)\n",
        "    \"\"\"\n",
        "    return 2\n",
        "\n",
        "def random_agent(observation, configuration):\n",
        "    \"\"\"\n",
        "    Агент, который выбирает случайный ход (камень, бумага или ножницы).\n",
        "\n",
        "    :param observation: Информация о текущем состоянии игры.\n",
        "    :param configuration: Конфигурация игры.\n",
        "    :return: Случайный ход (0, 1 или 2)\n",
        "    \"\"\"\n",
        "    return random.choice([0, 1, 2])\n",
        "\n",
        "def copy_opponent_agent(observation, configuration):\n",
        "    \"\"\"\n",
        "    Агент, который копирует последний ход противника.\n",
        "\n",
        "    :param observation: Информация о текущем состоянии игры.\n",
        "    :param configuration: Конфигурация игры.\n",
        "    :return: Последний ход противника или случайный ход, если история пуста.\n",
        "    \"\"\"\n",
        "    if observation.get('step', 0) > 0:\n",
        "        return observation.get('lastOpponentAction', random.choice([0, 1, 2]))\n",
        "    else:\n",
        "        return random.choice([0, 1, 2])\n",
        "\n",
        "def beat_last_agent(observation, configuration):\n",
        "    \"\"\"\n",
        "    Агент, который выбирает ход, который бьет последний ход противника.\n",
        "\n",
        "    :param observation: Информация о текущем состоянии игры.\n",
        "    :param configuration: Конфигурация игры.\n",
        "    :return: Ход, который бьет последний ход противника, или случайный ход, если история пуста.\n",
        "    \"\"\"\n",
        "    if observation.get('step', 0) > 0:\n",
        "        return (observation.get('lastOpponentAction', 0) + 1) % 3\n",
        "    else:\n",
        "        return random.choice([0, 1, 2])\n",
        "\n",
        "def cycle_agent(observation, configuration):\n",
        "    \"\"\"\n",
        "    Агент, который циклически выбирает ходы (камень, бумага, ножницы).\n",
        "\n",
        "    :param observation: Информация о текущем состоянии игры.\n",
        "    :param configuration: Конфигурация игры.\n",
        "    :return: Следующий ход в цикле (камень, бумага, ножницы).\n",
        "    \"\"\"\n",
        "    if observation.get('step', 0) == 0:\n",
        "        return 0\n",
        "    else:\n",
        "        return (observation.get('lastOpponentAction', 0) + 1) % 3\n",
        "\n",
        "def counter_cycle_agent(observation, configuration):\n",
        "    \"\"\"\n",
        "    Агент, который выбирает ход, который бьет циклический ход противника.\n",
        "\n",
        "    :param observation: Информация о текущем состоянии игры.\n",
        "    :param configuration: Конфигурация игры.\n",
        "    :return: Ход, который бьет следующий ход в цикле противника.\n",
        "    \"\"\"\n",
        "    if observation.get('step', 0) == 0:\n",
        "        return 0\n",
        "    else:\n",
        "        return (observation.get('lastOpponentAction', 0) + 2) % 3\n",
        "\n",
        "def frequency_agent(observation, configuration):\n",
        "    \"\"\"\n",
        "    Агент, который выбирает наиболее часто используемый противником ход.\n",
        "\n",
        "    :param observation: Информация о текущем состоянии игры.\n",
        "    :param configuration: Конфигурация игры.\n",
        "    :return: Наиболее часто используемый противником ход или случайный ход, если история пуста.\n",
        "    \"\"\"\n",
        "    if observation.get('step', 0) > 0:\n",
        "        counts = [0, 0, 0]\n",
        "        for action in observation.get('history', []):\n",
        "            counts[action] += 1\n",
        "        return counts.index(max(counts))\n",
        "    else:\n",
        "        return random.choice([0, 1, 2])\n",
        "\n",
        "def beat_frequency_agent(observation, configuration):\n",
        "    \"\"\"\n",
        "    Агент, который выбирает ход, который бьет наиболее часто используемый противником ход.\n",
        "\n",
        "    :param observation: Информация о текущем состоянии игры.\n",
        "    :param configuration: Конфигурация игры.\n",
        "    :return: Ход, который бьет наиболее часто используемый противником ход, или случайный ход, если история пуста.\n",
        "    \"\"\"\n",
        "    if observation.get('step', 0) > 0:\n",
        "        counts = [0, 0, 0]\n",
        "        for action in observation.get('history', []):\n",
        "            counts[action] += 1\n",
        "        return (counts.index(max(counts)) + 1) % 3\n",
        "    else:\n",
        "        return random.choice([0, 1, 2])\n",
        "\n",
        "def mixed_strategy_agent_rock(observation, configuration):\n",
        "    \"\"\"\n",
        "    Агент, который использует смешанную стратегию для выбора хода.\n",
        "\n",
        "    :param observation: Информация о текущем состоянии игры.\n",
        "    :param configuration: Конфигурация игры.\n",
        "    :return: Ход с определенным смещением.\n",
        "    \"\"\"\n",
        "    # Смешанная стратегия с преимуществом для камня (0)\n",
        "    mixed_choices = [0, 0, 0, 1, 1, 2]\n",
        "    return random.choice(mixed_choices)\n",
        "\n",
        "def mixed_strategy_agent_paper(observation, configuration):\n",
        "    \"\"\"\n",
        "    Агент, который использует смешанную стратегию для выбора хода.\n",
        "\n",
        "    :param observation: Информация о текущем состоянии игры.\n",
        "    :param configuration: Конфигурация игры.\n",
        "    :return: Ход с определенным смещением.\n",
        "    \"\"\"\n",
        "    # Смешанная стратегия с преимуществом для камня (0)\n",
        "    mixed_choices = [0, 0, 1, 1, 1, 2]\n",
        "    return random.choice(mixed_choices)\n",
        "\n",
        "def mixed_strategy_agent_scissors(observation, configuration):\n",
        "    \"\"\"\n",
        "    Агент, который использует смешанную стратегию для выбора хода.\n",
        "\n",
        "    :param observation: Информация о текущем состоянии игры.\n",
        "    :param configuration: Конфигурация игры.\n",
        "    :return: Ход с определенным смещением.\n",
        "    \"\"\"\n",
        "    # Смешанная стратегия с преимуществом для камня (0)\n",
        "    mixed_choices = [0, 0, 1, 1, 2, 2]\n",
        "    return random.choice(mixed_choices)\n",
        "\n",
        "def adaptive_agent(observation, configuration):\n",
        "    \"\"\"\n",
        "    Адаптивный агент, который пытается предсказать следующий ход противника.\n",
        "\n",
        "    :param observation: Информация о текущем состоянии игры.\n",
        "    :param configuration: Конфигурация игры.\n",
        "    :return: Ход, который бьет предсказанный ход противника, или случайный ход, если история недостаточно длинная.\n",
        "    \"\"\"\n",
        "    if observation.get('step', 0) > 1:\n",
        "        if observation.get('lastOpponentAction', 0) == observation.get('history', [0, 0])[-2]:\n",
        "            return (observation.get('lastOpponentAction', 0) + 1) % 3\n",
        "        else:\n",
        "            return 0\n",
        "    else:\n",
        "        return 0\n"
      ],
      "metadata": {
        "id": "_y611Q8rWUtB"
      },
      "execution_count": 42,
      "outputs": []
    },
    {
      "cell_type": "code",
      "source": [
        "# Список агентов\n",
        "agents = [\n",
        "    rock_agent,\n",
        "    paper_agent,\n",
        "    scissors_agent,\n",
        "    random_agent,\n",
        "    copy_opponent_agent,\n",
        "    beat_last_agent,\n",
        "    cycle_agent,\n",
        "    counter_cycle_agent,\n",
        "    frequency_agent,\n",
        "    beat_frequency_agent,\n",
        "    mixed_strategy_agent_paper,\n",
        "    mixed_strategy_agent_rock,\n",
        "    mixed_strategy_agent_scissors,\n",
        "    adaptive_agent\n",
        "]\n",
        "\n",
        "def check_agents(agents):\n",
        "    \"\"\"\n",
        "    Проверяет, что все агенты возвращают допустимые ходы (0, 1 или 2).\n",
        "\n",
        "    :param agents: Список агентов для проверки.\n",
        "    \"\"\"\n",
        "    errors_found = False\n",
        "    for agent in agents:\n",
        "        try:\n",
        "            result = agent({'step': 0, 'lastOpponentAction': None, 'history': []}, {})\n",
        "            if result not in [0, 1, 2]:\n",
        "                print(f\"Agent {agent.__name__} returned invalid move: {result}\")\n",
        "                errors_found = True\n",
        "        except Exception as e:\n",
        "            print(f\"Agent {agent.__name__} raised an exception: {e}\")\n",
        "            errors_found = True\n",
        "\n",
        "    # Если ошибок не обнаружено, выводим сообщение\n",
        "    if not errors_found:\n",
        "        print(\"Ошибок не обнаружено\")\n",
        "\n",
        "# Проверка всех агентов\n",
        "check_agents(agents)"
      ],
      "metadata": {
        "colab": {
          "base_uri": "https://localhost:8080/"
        },
        "id": "8aY9hM0WWX7i",
        "outputId": "7b05a7ec-05ae-498d-c38b-fede1a7cbc89"
      },
      "execution_count": 43,
      "outputs": [
        {
          "output_type": "stream",
          "name": "stdout",
          "text": [
            "Ошибок не обнаружено\n"
          ]
        }
      ]
    },
    {
      "cell_type": "code",
      "source": [
        "from kaggle_environments import make, evaluate\n",
        "from collections import defaultdict\n",
        "\n",
        "# Запуск турнира\n",
        "results = []\n",
        "for i in range(len(agents)):\n",
        "    for j in range(i + 1, len(agents)):\n",
        "        agent1 = agents[i]\n",
        "        agent2 = agents[j]\n",
        "        match_result = evaluate(\n",
        "            \"rps\",  # environment to use\n",
        "            [agent1, agent2],  # agents to evaluate\n",
        "            configuration={\"episodeSteps\": 100}  # number of episodes\n",
        "        )\n",
        "        results.append((agent1.__name__, agent2.__name__, match_result))\n",
        "\n",
        "# Вывод результатов\n",
        "for result in results:\n",
        "    print(f\"Agent 1: {result[0]}, Agent 2: {result[1]}, Result: {result[2]}\")\n",
        "\n",
        "# Подсчет результатов\n",
        "agent_scores = defaultdict(lambda: {\"wins\": 0, \"losses\": 0, \"draws\": 0})\n",
        "\n",
        "for result in results:\n",
        "    agent1_name = result[0]\n",
        "    agent2_name = result[1]\n",
        "    match_result = result[2][0]\n",
        "\n",
        "    # Проверка на корректность результатов\n",
        "    if match_result[0] is None or match_result[1] is None:\n",
        "        print(f\"Error in match between {agent1_name} and {agent2_name}: One of the agents returned None.\")\n",
        "        continue\n",
        "\n",
        "    if match_result[0] > match_result[1]:\n",
        "        agent_scores[agent1_name][\"wins\"] += 1\n",
        "        agent_scores[agent2_name][\"losses\"] += 1\n",
        "    elif match_result[0] < match_result[1]:\n",
        "        agent_scores[agent1_name][\"losses\"] += 1\n",
        "        agent_scores[agent2_name][\"wins\"] += 1\n",
        "    else:\n",
        "        agent_scores[agent1_name][\"draws\"] += 1\n",
        "        agent_scores[agent2_name][\"draws\"] += 1\n",
        "\n",
        "# Вывод результатов\n",
        "for agent, scores in agent_scores.items():\n",
        "    print(f\"Agent: {agent}, Wins: {scores['wins']}, Losses: {scores['losses']}, Draws: {scores['draws']}\")"
      ],
      "metadata": {
        "colab": {
          "base_uri": "https://localhost:8080/"
        },
        "id": "40yWpCILWZEZ",
        "outputId": "7b2e7ac2-21fe-4798-b2b8-644bdbe011a0"
      },
      "execution_count": 44,
      "outputs": [
        {
          "output_type": "stream",
          "name": "stdout",
          "text": [
            "Agent 1: rock_agent, Agent 2: paper_agent, Result: [[-99.0, 99.0]]\n",
            "Agent 1: rock_agent, Agent 2: scissors_agent, Result: [[99.0, -99.0]]\n",
            "Agent 1: rock_agent, Agent 2: random_agent, Result: [[0, 0]]\n",
            "Agent 1: rock_agent, Agent 2: copy_opponent_agent, Result: [[0, 0]]\n",
            "Agent 1: rock_agent, Agent 2: beat_last_agent, Result: [[-99.0, 99.0]]\n",
            "Agent 1: rock_agent, Agent 2: cycle_agent, Result: [[-98.0, 98.0]]\n",
            "Agent 1: rock_agent, Agent 2: counter_cycle_agent, Result: [[98.0, -98.0]]\n",
            "Agent 1: rock_agent, Agent 2: frequency_agent, Result: [[0, 0]]\n",
            "Agent 1: rock_agent, Agent 2: beat_frequency_agent, Result: [[-97.0, 97.0]]\n",
            "Agent 1: rock_agent, Agent 2: mixed_strategy_agent_paper, Result: [[-44.0, 44.0]]\n",
            "Agent 1: rock_agent, Agent 2: mixed_strategy_agent_rock, Result: [[0, 0]]\n",
            "Agent 1: rock_agent, Agent 2: mixed_strategy_agent_scissors, Result: [[0, 0]]\n",
            "Agent 1: rock_agent, Agent 2: adaptive_agent, Result: [[-97.0, 97.0]]\n",
            "Agent 1: paper_agent, Agent 2: scissors_agent, Result: [[-99.0, 99.0]]\n",
            "Agent 1: paper_agent, Agent 2: random_agent, Result: [[0, 0]]\n",
            "Agent 1: paper_agent, Agent 2: copy_opponent_agent, Result: [[0, 0]]\n",
            "Agent 1: paper_agent, Agent 2: beat_last_agent, Result: [[-98.0, 98.0]]\n",
            "Agent 1: paper_agent, Agent 2: cycle_agent, Result: [[-97.0, 97.0]]\n",
            "Agent 1: paper_agent, Agent 2: counter_cycle_agent, Result: [[99.0, -99.0]]\n",
            "Agent 1: paper_agent, Agent 2: frequency_agent, Result: [[99.0, -99.0]]\n",
            "Agent 1: paper_agent, Agent 2: beat_frequency_agent, Result: [[0, 0]]\n",
            "Agent 1: paper_agent, Agent 2: mixed_strategy_agent_paper, Result: [[0, 0]]\n",
            "Agent 1: paper_agent, Agent 2: mixed_strategy_agent_rock, Result: [[43.0, -43.0]]\n",
            "Agent 1: paper_agent, Agent 2: mixed_strategy_agent_scissors, Result: [[0, 0]]\n",
            "Agent 1: paper_agent, Agent 2: adaptive_agent, Result: [[99.0, -99.0]]\n",
            "Agent 1: scissors_agent, Agent 2: random_agent, Result: [[0, 0]]\n",
            "Agent 1: scissors_agent, Agent 2: copy_opponent_agent, Result: [[0, 0]]\n",
            "Agent 1: scissors_agent, Agent 2: beat_last_agent, Result: [[-97.0, 97.0]]\n",
            "Agent 1: scissors_agent, Agent 2: cycle_agent, Result: [[-99.0, 99.0]]\n",
            "Agent 1: scissors_agent, Agent 2: counter_cycle_agent, Result: [[97.0, -97.0]]\n",
            "Agent 1: scissors_agent, Agent 2: frequency_agent, Result: [[-98.0, 98.0]]\n",
            "Agent 1: scissors_agent, Agent 2: beat_frequency_agent, Result: [[99.0, -99.0]]\n",
            "Agent 1: scissors_agent, Agent 2: mixed_strategy_agent_paper, Result: [[22.0, -22.0]]\n",
            "Agent 1: scissors_agent, Agent 2: mixed_strategy_agent_rock, Result: [[-22.0, 22.0]]\n",
            "Agent 1: scissors_agent, Agent 2: mixed_strategy_agent_scissors, Result: [[0, 0]]\n",
            "Agent 1: scissors_agent, Agent 2: adaptive_agent, Result: [[-99.0, 99.0]]\n",
            "Agent 1: random_agent, Agent 2: copy_opponent_agent, Result: [[0, 0]]\n",
            "Agent 1: random_agent, Agent 2: beat_last_agent, Result: [[0, 0]]\n",
            "Agent 1: random_agent, Agent 2: cycle_agent, Result: [[0, 0]]\n",
            "Agent 1: random_agent, Agent 2: counter_cycle_agent, Result: [[-22.0, 22.0]]\n",
            "Agent 1: random_agent, Agent 2: frequency_agent, Result: [[0, 0]]\n",
            "Agent 1: random_agent, Agent 2: beat_frequency_agent, Result: [[0, 0]]\n",
            "Agent 1: random_agent, Agent 2: mixed_strategy_agent_paper, Result: [[20.0, -20.0]]\n",
            "Agent 1: random_agent, Agent 2: mixed_strategy_agent_rock, Result: [[0, 0]]\n",
            "Agent 1: random_agent, Agent 2: mixed_strategy_agent_scissors, Result: [[0, 0]]\n",
            "Agent 1: random_agent, Agent 2: adaptive_agent, Result: [[0, 0]]\n",
            "Agent 1: copy_opponent_agent, Agent 2: beat_last_agent, Result: [[-49.0, 49.0]]\n",
            "Agent 1: copy_opponent_agent, Agent 2: cycle_agent, Result: [[99.0, -99.0]]\n",
            "Agent 1: copy_opponent_agent, Agent 2: counter_cycle_agent, Result: [[50.0, -50.0]]\n",
            "Agent 1: copy_opponent_agent, Agent 2: frequency_agent, Result: [[0, 0]]\n",
            "Agent 1: copy_opponent_agent, Agent 2: beat_frequency_agent, Result: [[0, 0]]\n",
            "Agent 1: copy_opponent_agent, Agent 2: mixed_strategy_agent_paper, Result: [[0, 0]]\n",
            "Agent 1: copy_opponent_agent, Agent 2: mixed_strategy_agent_rock, Result: [[0, 0]]\n",
            "Agent 1: copy_opponent_agent, Agent 2: mixed_strategy_agent_scissors, Result: [[0, 0]]\n",
            "Agent 1: copy_opponent_agent, Agent 2: adaptive_agent, Result: [[0, 0]]\n",
            "Agent 1: beat_last_agent, Agent 2: cycle_agent, Result: [[0, 0]]\n",
            "Agent 1: beat_last_agent, Agent 2: counter_cycle_agent, Result: [[99.0, -99.0]]\n",
            "Agent 1: beat_last_agent, Agent 2: frequency_agent, Result: [[97.0, -97.0]]\n",
            "Agent 1: beat_last_agent, Agent 2: beat_frequency_agent, Result: [[98.0, -98.0]]\n",
            "Agent 1: beat_last_agent, Agent 2: mixed_strategy_agent_paper, Result: [[0, 0]]\n",
            "Agent 1: beat_last_agent, Agent 2: mixed_strategy_agent_rock, Result: [[0, 0]]\n",
            "Agent 1: beat_last_agent, Agent 2: mixed_strategy_agent_scissors, Result: [[0, 0]]\n",
            "Agent 1: beat_last_agent, Agent 2: adaptive_agent, Result: [[97.0, -97.0]]\n",
            "Agent 1: cycle_agent, Agent 2: counter_cycle_agent, Result: [[-49.0, 49.0]]\n",
            "Agent 1: cycle_agent, Agent 2: frequency_agent, Result: [[95.0, -95.0]]\n",
            "Agent 1: cycle_agent, Agent 2: beat_frequency_agent, Result: [[97.0, -97.0]]\n",
            "Agent 1: cycle_agent, Agent 2: mixed_strategy_agent_paper, Result: [[0, 0]]\n",
            "Agent 1: cycle_agent, Agent 2: mixed_strategy_agent_rock, Result: [[0, 0]]\n",
            "Agent 1: cycle_agent, Agent 2: mixed_strategy_agent_scissors, Result: [[0, 0]]\n",
            "Agent 1: cycle_agent, Agent 2: adaptive_agent, Result: [[98.0, -98.0]]\n",
            "Agent 1: counter_cycle_agent, Agent 2: frequency_agent, Result: [[-98.0, 98.0]]\n",
            "Agent 1: counter_cycle_agent, Agent 2: beat_frequency_agent, Result: [[-96.0, 96.0]]\n",
            "Agent 1: counter_cycle_agent, Agent 2: mixed_strategy_agent_paper, Result: [[0, 0]]\n",
            "Agent 1: counter_cycle_agent, Agent 2: mixed_strategy_agent_rock, Result: [[0, 0]]\n",
            "Agent 1: counter_cycle_agent, Agent 2: mixed_strategy_agent_scissors, Result: [[0, 0]]\n",
            "Agent 1: counter_cycle_agent, Agent 2: adaptive_agent, Result: [[-98.0, 98.0]]\n",
            "Agent 1: frequency_agent, Agent 2: beat_frequency_agent, Result: [[-98.0, 98.0]]\n",
            "Agent 1: frequency_agent, Agent 2: mixed_strategy_agent_paper, Result: [[-36.0, 36.0]]\n",
            "Agent 1: frequency_agent, Agent 2: mixed_strategy_agent_rock, Result: [[0, 0]]\n",
            "Agent 1: frequency_agent, Agent 2: mixed_strategy_agent_scissors, Result: [[0, 0]]\n",
            "Agent 1: frequency_agent, Agent 2: adaptive_agent, Result: [[-96.0, 96.0]]\n",
            "Agent 1: beat_frequency_agent, Agent 2: mixed_strategy_agent_paper, Result: [[0, 0]]\n",
            "Agent 1: beat_frequency_agent, Agent 2: mixed_strategy_agent_rock, Result: [[25.0, -25.0]]\n",
            "Agent 1: beat_frequency_agent, Agent 2: mixed_strategy_agent_scissors, Result: [[0, 0]]\n",
            "Agent 1: beat_frequency_agent, Agent 2: adaptive_agent, Result: [[97.0, -97.0]]\n",
            "Agent 1: mixed_strategy_agent_paper, Agent 2: mixed_strategy_agent_rock, Result: [[0, 0]]\n",
            "Agent 1: mixed_strategy_agent_paper, Agent 2: mixed_strategy_agent_scissors, Result: [[0, 0]]\n",
            "Agent 1: mixed_strategy_agent_paper, Agent 2: adaptive_agent, Result: [[31.0, -31.0]]\n",
            "Agent 1: mixed_strategy_agent_rock, Agent 2: mixed_strategy_agent_scissors, Result: [[0, 0]]\n",
            "Agent 1: mixed_strategy_agent_rock, Agent 2: adaptive_agent, Result: [[-28.0, 28.0]]\n",
            "Agent 1: mixed_strategy_agent_scissors, Agent 2: adaptive_agent, Result: [[0, 0]]\n",
            "Agent: rock_agent, Wins: 2, Losses: 6, Draws: 5\n",
            "Agent: paper_agent, Wins: 5, Losses: 3, Draws: 5\n",
            "Agent: scissors_agent, Wins: 4, Losses: 6, Draws: 3\n",
            "Agent: random_agent, Wins: 1, Losses: 1, Draws: 11\n",
            "Agent: copy_opponent_agent, Wins: 2, Losses: 1, Draws: 10\n",
            "Agent: beat_last_agent, Wins: 8, Losses: 0, Draws: 5\n",
            "Agent: cycle_agent, Wins: 6, Losses: 2, Draws: 5\n",
            "Agent: counter_cycle_agent, Wins: 2, Losses: 8, Draws: 3\n",
            "Agent: frequency_agent, Wins: 2, Losses: 6, Draws: 5\n",
            "Agent: beat_frequency_agent, Wins: 5, Losses: 3, Draws: 5\n",
            "Agent: mixed_strategy_agent_paper, Wins: 3, Losses: 2, Draws: 8\n",
            "Agent: mixed_strategy_agent_rock, Wins: 1, Losses: 3, Draws: 9\n",
            "Agent: mixed_strategy_agent_scissors, Wins: 0, Losses: 0, Draws: 13\n",
            "Agent: adaptive_agent, Wins: 5, Losses: 5, Draws: 3\n"
          ]
        }
      ]
    }
  ],
  "metadata": {
    "colab": {
      "provenance": []
    },
    "kernelspec": {
      "display_name": "Python 3",
      "name": "python3"
    },
    "language_info": {
      "name": "python"
    }
  },
  "nbformat": 4,
  "nbformat_minor": 0
}