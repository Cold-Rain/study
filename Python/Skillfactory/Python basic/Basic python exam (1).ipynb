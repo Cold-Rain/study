{
 "cells": [
  {
   "cell_type": "markdown",
   "id": "5afd0409",
   "metadata": {
    "toc": true
   },
   "source": [
    "<h1>Table of Contents<span class=\"tocSkip\"></span></h1>\n",
    "<div class=\"toc\"><ul class=\"toc-item\"><li><span><a href=\"#Задание-(4-балла)\" data-toc-modified-id=\"Задание-(4-балла)-1\"><span class=\"toc-item-num\">1&nbsp;&nbsp;</span>Задание (4 балла)</a></span></li><li><span><a href=\"#Задание-(2-балла)\" data-toc-modified-id=\"Задание-(2-балла)-2\"><span class=\"toc-item-num\">2&nbsp;&nbsp;</span>Задание (2 балла)</a></span></li><li><span><a href=\"#Задание-(4-балла)\" data-toc-modified-id=\"Задание-(4-балла)-3\"><span class=\"toc-item-num\">3&nbsp;&nbsp;</span>Задание (4 балла)</a></span></li><li><span><a href=\"#Задание-(4-балла)\" data-toc-modified-id=\"Задание-(4-балла)-4\"><span class=\"toc-item-num\">4&nbsp;&nbsp;</span>Задание (4 балла)</a></span></li><li><span><a href=\"#Задание-(6-баллов)\" data-toc-modified-id=\"Задание-(6-баллов)-5\"><span class=\"toc-item-num\">5&nbsp;&nbsp;</span>Задание (6 баллов)</a></span></li><li><span><a href=\"#Задание-(2-балла)\" data-toc-modified-id=\"Задание-(2-балла)-6\"><span class=\"toc-item-num\">6&nbsp;&nbsp;</span>Задание (2 балла)</a></span></li><li><span><a href=\"#Задание-7-(9-баллов)\" data-toc-modified-id=\"Задание-7-(9-баллов)-7\"><span class=\"toc-item-num\">7&nbsp;&nbsp;</span>Задание 7 (9 баллов)</a></span></li></ul></div>"
   ]
  },
  {
   "cell_type": "markdown",
   "id": "cf8abb5a",
   "metadata": {},
   "source": [
    "## Задание (4 балла)\n",
    "Обратный порядок слов в блоках текста\n",
    "Дан текстовый файл, каждое предложение которого занимает одну строку. Напишите программу, которая разделяет текст на блоки — каждый блок состоит из нескольких предложений. Затем переворачивает порядок слов только внутри каждого предложения, не меняя порядок самих предложений в блоке.\n",
    "\n",
    "Файл содержит:\n",
    "\n",
    "Привет как дела\n",
    "На улице идет дождь\n",
    "Я люблю программирование\n",
    "Критерии оценки:\n",
    "\n",
    "Текст разделен на блоки корректно — 2 балла.\n",
    "Корректно перевернуты блоки — 2 балла.\n",
    "\n",
    "Напишите программу, которая разделяет текст на блоки — каждый блок состоит из нескольких предложений. Затем переворачивает порядок слов только внутри каждого предложения, не меняя порядок самих предложений в блоке."
   ]
  },
  {
   "cell_type": "code",
   "execution_count": 2,
   "id": "82a2809f",
   "metadata": {},
   "outputs": [],
   "source": [
    "#Сперва создадим файл с нужным содержимым и пропишем к нему путь на компьютере\n",
    "file_path = \"C:\\\\Users\\\\Igor\\\\Desktop\\\\study\\\\базовый питон\\\\file.txt\""
   ]
  },
  {
   "cell_type": "code",
   "execution_count": 20,
   "id": "36c15b2b",
   "metadata": {
    "scrolled": true
   },
   "outputs": [
    {
     "name": "stdout",
     "output_type": "stream",
     "text": [
      "Привет как дела\n",
      "На улице идет дождь\n",
      "Я люблю программирование\n"
     ]
    }
   ],
   "source": [
    "#прочитаем содержимое файла и удостоверимся, что все работает\n",
    "with open(file_path, 'r', encoding='utf-8') as file:\n",
    "    content = file.read()\n",
    "    print(content)"
   ]
  },
  {
   "cell_type": "markdown",
   "id": "829e6706",
   "metadata": {},
   "source": [
    "\n",
    "Зададим 2 функции: одну для \"разворачивания\" предложений, а вторую для разделения текста на блоки\n",
    "Все это сложим в одну функцию под названием process_text"
   ]
  },
  {
   "cell_type": "code",
   "execution_count": 4,
   "id": "9bfd68fa",
   "metadata": {},
   "outputs": [],
   "source": [
    "def process_text(unprocessed_text):\n",
    "    \"\"\"\n",
    "    Обрабатывает текст, разделяя его на блоки и инвертируя слова в каждом предложении.\n",
    "    \"\"\"\n",
    "    def split_text_in_chunks(unsplit_text):\n",
    "        \"\"\"\n",
    "        Разделяет текст на блоки предложений.\n",
    "        \"\"\"\n",
    "        sentences = unsplit_text.strip().split('\\n')  # Разделяем текст на предложения\n",
    "        chunks = []  # Список для хранения блоков\n",
    "        index = 0\n",
    "        chunk_size = 1  # Начинаем с блока из 1 предложения\n",
    "        while index < len(sentences):\n",
    "            # Берем chunk_size предложений для текущего блока\n",
    "            chunk = sentences[index:index + chunk_size]\n",
    "            chunks.append(chunk)  # Добавляем блок в список\n",
    "            index += chunk_size  # Переходим к следующему блоку\n",
    "            chunk_size += 1  # Увеличиваем размер следующего блока\n",
    "        return chunks\n",
    "\n",
    "    def reverse_words_in_sentence(normal_sentence):\n",
    "        \"\"\"\n",
    "        Переворачивает порядок слов в предложении.\n",
    "        \"\"\"\n",
    "        return ' '.join(normal_sentence.split()[::-1])\n",
    "\n",
    "    # Разделяем текст на блоки\n",
    "    chunks = split_text_in_chunks(unprocessed_text)\n",
    "\n",
    "    # Переворачиваем слова в каждом предложении каждого блока\n",
    "    processed_chunks = []\n",
    "    for chunk in chunks:\n",
    "        reversed_chunk = [reverse_words_in_sentence(sentence) for sentence in chunk]\n",
    "        processed_chunks.append(reversed_chunk)\n",
    "\n",
    "    # Собираем обработанные блоки в текст\n",
    "    processed_text = '\\n'.join([' '.join(chunk) for chunk in processed_chunks])\n",
    "    return processed_text"
   ]
  },
  {
   "cell_type": "code",
   "execution_count": 21,
   "id": "f6d9fc40",
   "metadata": {},
   "outputs": [
    {
     "name": "stdout",
     "output_type": "stream",
     "text": [
      "Обработанный текст:\n",
      "дела как Привет\n",
      "дождь идет улице На программирование люблю Я\n"
     ]
    }
   ],
   "source": [
    "# Читаем файл\n",
    "try:\n",
    "    with open(file_path, 'r', encoding='utf-8') as file:\n",
    "        content = file.read()  # Читаем весь текст файла\n",
    "except FileNotFoundError:\n",
    "    print(f\"Файл '{file_path}' не найден.\")\n",
    "    exit()\n",
    "\n",
    "# Обрабатываем текст\n",
    "processed_text = process_text(content)\n",
    "\n",
    "# Выводим результат\n",
    "print(\"Обработанный текст:\")\n",
    "print(processed_text)"
   ]
  },
  {
   "cell_type": "markdown",
   "id": "ab3c383c",
   "metadata": {},
   "source": [
    "## Задание (2 балла)\n",
    "Напишите функцию, которая принимает строку и сжимает её определённым образом. Строки содержат произвольные символы, включая пробелы и спецсимволы, и требуют точного учета длины при кодировании. Сжатие строки происходит сериями одинаковых символов в формате символ + количество, но только если длина сжатой строки не превышает исходную.\n",
    "\n",
    "Примеры:\n",
    "\n",
    "вход: aaabbc → вывод: a3b2c,\n",
    "вход: abcd → вывод: abcd (так как сжатая равна).\n",
    "Критерии оценки:\n",
    "\n",
    "Корректно очищен текст — 1 балл.\n",
    "Выполняется условие — 1 балл."
   ]
  },
  {
   "cell_type": "markdown",
   "id": "7e7e773f",
   "metadata": {},
   "source": [
    "Для решения задачи создадим счетчик, а в ответе просто его выложим в строку"
   ]
  },
  {
   "cell_type": "code",
   "execution_count": 6,
   "id": "1ad77a6c",
   "metadata": {},
   "outputs": [],
   "source": [
    "from collections import Counter\n",
    "\n",
    "\n",
    "def compress_string_with_counter(text):\n",
    "    \"\"\"\n",
    "    Сжимает строку с использованием Counter.\n",
    "    Возвращает сжатую строку в формате \"символ + количество\" для всех символов.\n",
    "    \"\"\"\n",
    "    if not text:\n",
    "        return text  # Если строка пустая, возвращаем её\n",
    "    #сделаем Counter для подсчета символов\n",
    "    counter = Counter(text)\n",
    "    #создадим сжатую строку\n",
    "    compressed_text = \"\".join(f\"{char}{count}\" for char, count in counter.items())\n",
    "    \n",
    "    return compressed_text\n"
   ]
  },
  {
   "cell_type": "code",
   "execution_count": 7,
   "id": "bcdce4f3",
   "metadata": {},
   "outputs": [
    {
     "name": "stdout",
     "output_type": "stream",
     "text": [
      "a3b2c1\n"
     ]
    }
   ],
   "source": [
    "#пример текста\n",
    "text = \"aaabbc\"\n",
    "\n",
    "words_counter = Counter(text)\n",
    "\n",
    "new_text = compress_string_with_counter(words_counter)\n",
    "print(new_text)"
   ]
  },
  {
   "cell_type": "markdown",
   "id": "f4fa897f",
   "metadata": {},
   "source": [
    "Но поскольку по заданию непонятно, нужен ли счетчик или стандартное сжатие, то вот альтернативное решение на регулярках"
   ]
  },
  {
   "cell_type": "code",
   "execution_count": 8,
   "id": "2c21cc21",
   "metadata": {},
   "outputs": [
    {
     "name": "stdout",
     "output_type": "stream",
     "text": [
      "a3b2c4a1d2a3A3\n"
     ]
    }
   ],
   "source": [
    "import re\n",
    "# Используем регулярное выражение для поиска последовательностей одинаковых символов\n",
    "pattern = re.compile(r'(.)\\1*')\n",
    "\n",
    "def compress_string(s):\n",
    "    # Заменяем каждую последовательность на символ + количество повторений\n",
    "    compressed = pattern.sub(lambda match: f\"{match.group(1)}{len(match.group(0))}\", s)\n",
    "    \n",
    "    return compressed\n",
    "\n",
    "# Пример использования\n",
    "input_string = \"aaabbccccaddaaaAAA\"\n",
    "result = compress_string(input_string)\n",
    "print(result)  # Вывод: \"a3b2c4d2\""
   ]
  },
  {
   "cell_type": "markdown",
   "id": "06704590",
   "metadata": {},
   "source": [
    "## Задание (4 балла)\n",
    "Хаотичные скобки\n",
    "Реализуйте функцию, которая проверяет, правильно ли расставлены скобки в строке (включая круглые, квадратные и фигурные скобки).\n",
    "\n",
    "Критерии оценки:\n",
    "\n",
    "Функция выполняет условие — 4 балла."
   ]
  },
  {
   "cell_type": "markdown",
   "id": "89bd165d",
   "metadata": {},
   "source": [
    "На самом деле, будь это дотнет, то, поскольку он поддерживает balancing groups, можно было бы обойтись 3 регулярными выражениями c разными скобками, например, круглыми \n",
    "^(?!.*((^[^()]*(((?'Open'\\()[^()]*)+((?'Close-Open'\\))[^()]*)+)*(?(Open)(?!))$))).*$\n",
    "пример использования:\n",
    "https://regex101.com/r/rmcV7s/1\n",
    "\n",
    "На питоне, предполагаю, что надо использовать стек, но сделаем хитрее - 3 счетчика числа скобок - если что-то уходит в минус (первая скобка закрывающая), то тормозим, в конце проверяем, чтобы число скобок было отбалансировано (равно 0)"
   ]
  },
  {
   "cell_type": "markdown",
   "id": "40b47c29",
   "metadata": {},
   "source": [
    "Это бы очень круто работало, если бы версия питона была 3.10 и больше, где появились mach-case"
   ]
  },
  {
   "cell_type": "code",
   "execution_count": 9,
   "id": "9feceb82",
   "metadata": {
    "scrolled": true
   },
   "outputs": [
    {
     "name": "stdout",
     "output_type": "stream",
     "text": [
      "Python 3.9.13\n"
     ]
    }
   ],
   "source": [
    "!python --version"
   ]
  },
  {
   "cell_type": "markdown",
   "id": "4691e35d",
   "metadata": {},
   "source": [
    "Поскольку я работаю в дедовской версии, то сделаем на ифах, а не на switch match"
   ]
  },
  {
   "cell_type": "code",
   "execution_count": 10,
   "id": "9d5e48c8",
   "metadata": {},
   "outputs": [],
   "source": [
    "def check_if_brackets_balanced(text):\n",
    "    \"\"\"\n",
    "    Проверяет, сбалансированы ли скобки в тексте.\n",
    "    Поддерживаются круглые (), квадратные [] и фигурные {} скобки.\n",
    "    Возвращает True, если скобки сбалансированы, и False в противном случае.\n",
    "    \"\"\"\n",
    "    round_brackets_num = 0\n",
    "    figure_brackets_num = 0\n",
    "    square_brackets_num = 0\n",
    "\n",
    "    for char in text:\n",
    "        if char == '[':\n",
    "            square_brackets_num += 1\n",
    "        elif char == ']':\n",
    "            square_brackets_num -= 1\n",
    "        elif char == '{':\n",
    "            figure_brackets_num += 1\n",
    "        elif char == '}':\n",
    "            figure_brackets_num -= 1\n",
    "        elif char == '(':\n",
    "            round_brackets_num += 1\n",
    "        elif char == ')':\n",
    "            round_brackets_num -= 1\n",
    "\n",
    "        # Если количество закрывающих скобок превышает количество открывающих, возвращаем False\n",
    "        if round_brackets_num < 0 or figure_brackets_num < 0 or square_brackets_num < 0:\n",
    "            return False\n",
    "\n",
    "    # Если все счетчики равны нулю, скобки сбалансированы\n",
    "    return round_brackets_num == 0 and figure_brackets_num == 0 and square_brackets_num == 0"
   ]
  },
  {
   "cell_type": "code",
   "execution_count": 11,
   "id": "d0830f77",
   "metadata": {},
   "outputs": [
    {
     "name": "stdout",
     "output_type": "stream",
     "text": [
      "True\n",
      "True\n",
      "False\n",
      "False\n",
      "False\n"
     ]
    }
   ],
   "source": [
    "# Примеры использования\n",
    "print(check_if_brackets_balanced(\"(){}[]\"))  # True\n",
    "print(check_if_brackets_balanced(\"({[]})\"))  # True\n",
    "print(check_if_brackets_balanced(\"({[])\"))  # False\n",
    "print(check_if_brackets_balanced(\"([]}\"))   # False\n",
    "print(check_if_brackets_balanced(\"((){}[]\"))   # False"
   ]
  },
  {
   "cell_type": "markdown",
   "id": "52e8f299",
   "metadata": {},
   "source": [
    "## Задание (4 балла)\n",
    "Генератор случайных паролей\n",
    "Напишите функцию, которая генерирует пароль заданной длины. В реализации надо учитывать, что:\n",
    "\n",
    "Пароль должен содержать буквы, цифры и специальные символы.\n",
    "Длина пароля задается пользователем.\n",
    "Критерии оценки:\n",
    "\n",
    "Функция выполняет все заявленные условия — 4 балла."
   ]
  },
  {
   "cell_type": "code",
   "execution_count": 12,
   "id": "fefff657",
   "metadata": {},
   "outputs": [],
   "source": [
    "import re\n",
    "\n",
    "#сделаем паттерн, который проверяет, соответствует ли пароль требованиям\n",
    "pattern = re.compile(r\"^(?=.*[a-z])(?=.*[A-Z])(?=.*\\d)(?=.*[!@#$%^&*()_+\\-=\\[\\]{};':\\\",.<>?]).*$\")\n",
    "\n",
    "def is_pass_good(password):\n",
    "    return bool(pattern.match(password))"
   ]
  },
  {
   "cell_type": "code",
   "execution_count": 13,
   "id": "63d8eb37",
   "metadata": {
    "scrolled": true
   },
   "outputs": [
    {
     "name": "stdout",
     "output_type": "stream",
     "text": [
      "Введите длину пароля: 8\n",
      "Сгенерированный пароль: K*%)7CWg\n"
     ]
    }
   ],
   "source": [
    "import string\n",
    "import random\n",
    "\n",
    "def generate_password(length):\n",
    "    \"\"\"\n",
    "    Генерирует случайный пароль заданной длины.\n",
    "    Пароль содержит буквы (в верхнем и нижнем регистре), цифры и специальные символы.\n",
    "    Генерирует пароль до тех пор, пока он не будет соответствовать требованиям.\n",
    "    \"\"\"\n",
    "    # Определяем наборы символов\n",
    "    lowercase_letters = string.ascii_lowercase  # буквы в нижнем регистре\n",
    "    uppercase_letters = string.ascii_uppercase  # буквы в верхнем регистре\n",
    "    digits = string.digits  # цифры\n",
    "    special_characters = \"!@#$%^&*()_+-=[]{}|;:,.<>?\"  # специальные символы\n",
    "\n",
    "    # Объединяем все наборы символов\n",
    "    all_characters = lowercase_letters + uppercase_letters + digits + special_characters\n",
    "\n",
    "    while True:\n",
    "        # Генерируем пароль, выбирая случайные символы из общего набора\n",
    "        password = ''.join(random.choice(all_characters) for _ in range(length))\n",
    "\n",
    "        # Проверяем, соответствует ли пароль требованиям\n",
    "        if is_pass_good(password):\n",
    "            return password\n",
    "\n",
    "# Пример использования\n",
    "password_length = int(input(\"Введите длину пароля: \"))\n",
    "generated_password = generate_password(password_length)\n",
    "print(\"Сгенерированный пароль:\", generated_password)"
   ]
  },
  {
   "cell_type": "markdown",
   "id": "62e19498",
   "metadata": {},
   "source": [
    "## Задание (6 баллов)\n",
    "Эмуляция работы электронной очереди\n",
    "Напишите класс для симуляции работы электронной очереди, например, в банке.\n",
    "\n",
    "Критерии оценки:\n",
    "\n",
    "Система должна поддерживать добавление клиентов с указанием их приоритета (например, VIP, обычный) — 1 балл.\n",
    "Выбор клиента для следующей обработки должен учитывать приоритет — 1 балл.\n",
    "Реализуйте отчет для администрации с информацией, сколько времени заняло обслуживание клиентов — 4 балла."
   ]
  },
  {
   "cell_type": "code",
   "execution_count": 14,
   "id": "9308c9ee",
   "metadata": {},
   "outputs": [],
   "source": [
    "from collections import deque\n",
    "from datetime import datetime\n",
    "import time  # модуль для работы с задержками\n",
    "\n",
    "\n",
    "# Создадим класс клиента с атрибутами: приоритет, имя и время начала обслуживания\n",
    "class Client:  \n",
    "    def __init__(self, name, priority='Обычный'):\n",
    "        self.priority = priority\n",
    "        self.name = name\n",
    "        self.start_time = datetime.now()\n",
    "        self.processing_time = None\n",
    "\n",
    "    def set_processing_time(self):\n",
    "        \"\"\"\n",
    "        Вычисляет время обработки клиента.\n",
    "        \"\"\"\n",
    "        if self.processing_time is None:\n",
    "            self.processing_time = (datetime.now() - self.start_time).total_seconds()\n",
    "\n",
    "\n",
    "# Создадим класс очереди\n",
    "class Queue:\n",
    "    def __init__(self):\n",
    "        self.clients = deque()  # Очередь клиентов\n",
    "        self.processed_clients = []  # Список обработанных клиентов\n",
    "    \n",
    "    # Функция добавления клиента в очередь\n",
    "    def add_client(self, client):\n",
    "        self.clients.append(client)\n",
    "        print(f\"Клиент {client.name} добавлен в очередь с приоритетом {client.priority}.\")\n",
    "\n",
    "    def process_client(self):\n",
    "        \"\"\"\n",
    "        Обрабатывает следующего клиента с учетом приоритета.\n",
    "        \"\"\"\n",
    "        if not self.clients:\n",
    "            print(\"Очередь пуста.\")\n",
    "            return\n",
    "        \n",
    "        # Добавим задержку, чтобы видеть процесс\n",
    "        time.sleep(1)\n",
    "        \n",
    "        # Сначала ищем VIP-клиентов\n",
    "        for client in self.clients:\n",
    "            if client.priority == \"VIP\":\n",
    "                self.clients.remove(client)\n",
    "                client.set_processing_time()  # Вычисляем время обработки\n",
    "                self.processed_clients.append(client)\n",
    "                print(f\"Клиент {client.name} ({client.priority}) обслужен. Время обслуживания: {client.processing_time:.2f} секунд.\")\n",
    "                return\n",
    "        \n",
    "        # Если VIP-клиентов нет, обрабатываем первого в очереди\n",
    "        client = self.clients.popleft()\n",
    "        client.set_processing_time()  # Вычисляем время обработки\n",
    "        self.processed_clients.append(client)\n",
    "        print(f\"Клиент {client.name} ({client.priority}) обслужен. Время обслуживания: {client.processing_time:.2f} секунд.\")\n",
    "\n",
    "    def process_all_clients(self):\n",
    "        \"\"\"\n",
    "        Обрабатывает всех клиентов в очереди.\n",
    "        \"\"\"\n",
    "        while self.clients:\n",
    "            self.process_client()\n",
    "\n",
    "    def generate_report(self):\n",
    "        \"\"\"\n",
    "        Генерирует отчет о времени обслуживания клиентов.\n",
    "        \"\"\"\n",
    "        if not self.processed_clients:\n",
    "            print(\"Нет обработанных клиентов.\")\n",
    "            return\n",
    "\n",
    "        print(\"\\nОтчет для администрации:\")\n",
    "        for client in self.processed_clients:\n",
    "            print(f\"Клиент {client.name} ({client.priority}): {client.processing_time:.2f} секунд.\")\n",
    "\n",
    "        total_time = self.processed_clients[-1].processing_time\n",
    "        print(f\"\\nОбщее время обслуживания всех клиентов: {total_time:.2f} секунд.\")\n",
    "\n",
    "\n"
   ]
  },
  {
   "cell_type": "code",
   "execution_count": 15,
   "id": "97ba619d",
   "metadata": {},
   "outputs": [
    {
     "name": "stdout",
     "output_type": "stream",
     "text": [
      "Клиент Человек-паук добавлен в очередь с приоритетом обычный.\n",
      "Клиент Мощнар первый (Мощный) добавлен в очередь с приоритетом VIP.\n",
      "Клиент Питер Паркер добавлен в очередь с приоритетом обычный.\n",
      "Клиент Мощнар второй (Пассионарный) добавлен в очередь с приоритетом VIP.\n",
      "\n",
      "Клиент Мощнар первый (Мощный) (VIP) обслужен. Время обслуживания: 1.01 секунд.\n",
      "Клиент Мощнар второй (Пассионарный) (VIP) обслужен. Время обслуживания: 2.01 секунд.\n",
      "Клиент Человек-паук (обычный) обслужен. Время обслуживания: 3.02 секунд.\n",
      "Клиент Питер Паркер (обычный) обслужен. Время обслуживания: 4.03 секунд.\n",
      "\n",
      "Отчет для администрации:\n",
      "Клиент Мощнар первый (Мощный) (VIP): 1.01 секунд.\n",
      "Клиент Мощнар второй (Пассионарный) (VIP): 2.01 секунд.\n",
      "Клиент Человек-паук (обычный): 3.02 секунд.\n",
      "Клиент Питер Паркер (обычный): 4.03 секунд.\n",
      "\n",
      "Общее время обслуживания всех клиентов: 4.03 секунд.\n"
     ]
    }
   ],
   "source": [
    "# Пример использования\n",
    "queue = Queue()\n",
    "\n",
    "queue.add_client(Client(\"Человек-паук\", \"обычный\"))\n",
    "queue.add_client(Client(\"Мощнар первый (Мощный)\", \"VIP\"))\n",
    "queue.add_client(Client(\"Питер Паркер\", \"обычный\"))\n",
    "queue.add_client(Client(\"Мощнар второй (Пассионарный)\", \"VIP\"))\n",
    "\n",
    "print()\n",
    "# Обрабатываем всех клиентов\n",
    "queue.process_all_clients()\n",
    "\n",
    "# Генерируем отчет\n",
    "queue.generate_report()"
   ]
  },
  {
   "cell_type": "markdown",
   "id": "b1b0b3cb",
   "metadata": {},
   "source": [
    "## Задание (2 балла)\n",
    "Проверка на «почти палиндром»\n",
    "Напишите программу, которая проверяет, является ли строка палиндромом или «почти палиндромом». «Почти палиндром» означает, что можно удалить одну букву, чтобы строка стала палиндромом.\n",
    "\n",
    "Критерии оценки:\n",
    "\n",
    "Функция выполняет все заявленные условия — 2 балла."
   ]
  },
  {
   "cell_type": "code",
   "execution_count": 16,
   "id": "e94f5749",
   "metadata": {},
   "outputs": [],
   "source": [
    "def is_palyndrome(text):\n",
    "    \"\"\"\n",
    "    Проверяет, является ли строка палиндромом или \"почти палиндромом\".\n",
    "    Возвращает:\n",
    "      - \"палиндром\", если строка является палиндромом,\n",
    "      - \"почти палиндром\", если строка может стать палиндромом после удаления одного символа,\n",
    "      - \"не палиндром\", если строка не является ни палиндромом, ни \"почти палиндромом\".\n",
    "    \"\"\"\n",
    "    def is_palindrome(s):\n",
    "        \"\"\"\n",
    "        Вспомогательная функция для проверки, является ли строка палиндромом.\n",
    "        \"\"\"\n",
    "        return s == s[::-1]\n",
    "\n",
    "    # Если строка уже палиндром\n",
    "    if is_palindrome(text):\n",
    "        return \"палиндром\"\n",
    "\n",
    "    left = 0\n",
    "    right = len(text) - 1\n",
    "\n",
    "    while left < right:\n",
    "        if text[left] != text[right]:\n",
    "            # Попробуем удалить символ слева или справа\n",
    "            if is_palindrome(text[left + 1:right + 1]) or is_palindrome(text[left:right]):\n",
    "                return \"почти палиндром\"\n",
    "            else:\n",
    "                return \"не палиндром\"\n",
    "        left += 1\n",
    "        right -= 1\n",
    "\n",
    "    return \"палиндром\"  # Если все символы совпадают, строка палиндром"
   ]
  },
  {
   "cell_type": "code",
   "execution_count": 17,
   "id": "7dec0ecb",
   "metadata": {},
   "outputs": [
    {
     "name": "stdout",
     "output_type": "stream",
     "text": [
      "палиндром\n",
      "палиндром\n",
      "почти палиндром\n",
      "не палиндром\n",
      "не палиндром\n",
      "почти палиндром\n"
     ]
    }
   ],
   "source": [
    "# Примеры использования\n",
    "print(is_palyndrome(\"racecar\"))  # палиндром\n",
    "print(is_palyndrome(\"abccba\"))   # палиндром\n",
    "print(is_palyndrome(\"raceacar\")) # почти палиндром\n",
    "print(is_palyndrome(\"abccbx\"))   # не палиндром\n",
    "print(is_palyndrome(\"abc\"))      # не палиндром\n",
    "print(is_palyndrome(\"ab\"))       # почти палиндром"
   ]
  },
  {
   "cell_type": "markdown",
   "id": "12d91fb7",
   "metadata": {},
   "source": [
    "## Задание 7 (9 баллов)\n",
    "Задача Шредингера\n",
    "Разработайте программу, которая «стирает» фрагменты текста в файле. Например:\n",
    "\n",
    "Пользователь указывает файл и процент текста, который нужно удалить (например, 30%).\n",
    "Программа случайно выбирает слова или части абзацев и заменяет их на пробел или ..., сохраняя общий объем документа.\n",
    "Вход:\n",
    "«Сегодня солнечный день, и я собираюсь гулять в парке с моими друзьями.»\n",
    "\n",
    "Вывод (удалено ~30%):\n",
    "«Сегодня ... день, и я собираюсь гулять ... моими друзьями.»"
   ]
  },
  {
   "cell_type": "code",
   "execution_count": 18,
   "id": "cf42cca7",
   "metadata": {},
   "outputs": [
    {
     "name": "stdout",
     "output_type": "stream",
     "text": [
      "Введите процент: 0\n",
      "Текст успешно изменён:\n",
      "Привет как дела На улице идет дождь Я люблю программирование\n"
     ]
    }
   ],
   "source": [
    "import random\n",
    "\n",
    "def erase_words(file_path, percent):\n",
    "    \"\"\"\n",
    "    Стирает указанный процент слов в файле, заменяя удалённые слова на '...'.\n",
    "    :param file_path: Путь к файлу.\n",
    "    :param percent: Процент слов для удаления (от 0 до 100).\n",
    "    \"\"\"\n",
    "    # Читаем файл\n",
    "    with open(file_path, 'r', encoding='utf-8') as file:\n",
    "        text = file.read()\n",
    "\n",
    "    # Делим текст на слова с учетом знаков препинания\n",
    "    words = text.split()\n",
    "    total_words = len(words)\n",
    "\n",
    "    # Проверяем корректность процента\n",
    "    if not (0 <= percent <= 100):\n",
    "        raise ValueError(\"Процент должен быть от 0 до 100.\")\n",
    "\n",
    "    # Вычисляем количество слов для удаления\n",
    "    words_to_erase = int(total_words * percent / 100)\n",
    "\n",
    "    # Случайно выбираем слова для удаления\n",
    "    erase_indices = random.sample(range(total_words), words_to_erase)\n",
    "\n",
    "    # Заменяем выбранные слова на '...'\n",
    "    for index in erase_indices:\n",
    "        words[index] = '...'\n",
    "\n",
    "    # Собираем текст обратно в строку\n",
    "    new_text = ' '.join(words)\n",
    "\n",
    "    # Записываем изменённый текст обратно в файл\n",
    "    with open(file_path, 'w', encoding='utf-8') as file:\n",
    "        file.write(new_text)\n",
    "\n",
    "    print(\"Текст успешно изменён:\")\n",
    "    print(new_text)\n",
    "\n",
    "# Пример использования\n",
    "percent_to_erase = int(input(\"Введите процент: \"))  # Указываем процент слов для удаления\n",
    "\n",
    "erase_words(file_path, percent_to_erase)"
   ]
  }
 ],
 "metadata": {
  "kernelspec": {
   "display_name": "Python 3 (ipykernel)",
   "language": "python",
   "name": "python3"
  },
  "language_info": {
   "codemirror_mode": {
    "name": "ipython",
    "version": 3
   },
   "file_extension": ".py",
   "mimetype": "text/x-python",
   "name": "python",
   "nbconvert_exporter": "python",
   "pygments_lexer": "ipython3",
   "version": "3.9.13"
  },
  "toc": {
   "base_numbering": 1,
   "nav_menu": {},
   "number_sections": true,
   "sideBar": true,
   "skip_h1_title": true,
   "title_cell": "Table of Contents",
   "title_sidebar": "Contents",
   "toc_cell": true,
   "toc_position": {},
   "toc_section_display": true,
   "toc_window_display": false
  }
 },
 "nbformat": 4,
 "nbformat_minor": 5
}
