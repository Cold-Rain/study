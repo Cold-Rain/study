{
 "cells": [
  {
   "cell_type": "markdown",
   "id": "d3aba792",
   "metadata": {
    "toc": true
   },
   "source": [
    "<h1>Table of Contents<span class=\"tocSkip\"></span></h1>\n",
    "<div class=\"toc\"><ul class=\"toc-item\"><li><span><a href=\"#Описание-представленных-данных\" data-toc-modified-id=\"Описание-представленных-данных-1\"><span class=\"toc-item-num\">1&nbsp;&nbsp;</span>Описание представленных данных</a></span><ul class=\"toc-item\"><li><span><a href=\"#train.csv\" data-toc-modified-id=\"train.csv-1.1\"><span class=\"toc-item-num\">1.1&nbsp;&nbsp;</span>train.csv</a></span></li><li><span><a href=\"#questions.csv\" data-toc-modified-id=\"questions.csv-1.2\"><span class=\"toc-item-num\">1.2&nbsp;&nbsp;</span>questions.csv</a></span></li><li><span><a href=\"#lectures.csv\" data-toc-modified-id=\"lectures.csv-1.3\"><span class=\"toc-item-num\">1.3&nbsp;&nbsp;</span>lectures.csv</a></span></li></ul></li><li><span><a href=\"#Разберем-данные-таблиц\" data-toc-modified-id=\"Разберем-данные-таблиц-2\"><span class=\"toc-item-num\">2&nbsp;&nbsp;</span>Разберем данные таблиц</a></span></li><li><span><a href=\"#Общие-выводы\" data-toc-modified-id=\"Общие-выводы-3\"><span class=\"toc-item-num\">3&nbsp;&nbsp;</span>Общие выводы</a></span></li></ul></div>"
   ]
  },
  {
   "cell_type": "markdown",
   "id": "3538ce9a",
   "metadata": {
    "id": "3538ce9a"
   },
   "source": [
    "## Описание представленных данных"
   ]
  },
  {
   "cell_type": "markdown",
   "id": "b6a200b4",
   "metadata": {
    "id": "b6a200b4"
   },
   "source": [
    "**Ссылка для скачивания данных:**<br>\n",
    "https://drive.google.com/drive/folders/1k0k3d-WO9kYqp0q9QG1WcmLn6mWWs0Zd"
   ]
  },
  {
   "cell_type": "markdown",
   "id": "25d63858",
   "metadata": {
    "id": "25d63858"
   },
   "source": [
    "**Файлы с данными:**\n",
    "<li>train.csv</li>\n",
    "<li>questions.csv</li>\n",
    "<li>lectures.csv</li>"
   ]
  },
  {
   "cell_type": "markdown",
   "id": "p2tr3V_86efI",
   "metadata": {
    "id": "p2tr3V_86efI"
   },
   "source": [
    "Подключим Google Drive к колаб ноутбуку"
   ]
  },
  {
   "cell_type": "markdown",
   "id": "ayoSa9YzBY2W",
   "metadata": {
    "id": "ayoSa9YzBY2W"
   },
   "source": [
    "**Загрузка библиотек**"
   ]
  },
  {
   "cell_type": "markdown",
   "id": "b6iduTvaSdFM",
   "metadata": {
    "id": "b6iduTvaSdFM"
   },
   "source": [
    "Для начала отключим предупреждения"
   ]
  },
  {
   "cell_type": "code",
   "execution_count": 13,
   "id": "7yQLmu3_SbAU",
   "metadata": {
    "id": "7yQLmu3_SbAU"
   },
   "outputs": [],
   "source": [
    "import warnings\n",
    "\n",
    "# Отключение всех предупреждений\n",
    "warnings.filterwarnings(\"ignore\")"
   ]
  },
  {
   "cell_type": "code",
   "execution_count": 14,
   "id": "ch6YPi087ozt",
   "metadata": {
    "colab": {
     "base_uri": "https://localhost:8080/"
    },
    "id": "ch6YPi087ozt",
    "outputId": "4a0d69c5-c03d-4211-f62c-9488a3cd8d23",
    "scrolled": true
   },
   "outputs": [
    {
     "name": "stdout",
     "output_type": "stream",
     "text": [
      "Requirement already satisfied: polars in c:\\users\\igor\\anaconda3\\lib\\site-packages (1.9.0)\n"
     ]
    },
    {
     "name": "stderr",
     "output_type": "stream",
     "text": [
      "\n",
      "[notice] A new release of pip is available: 24.0 -> 24.2\n",
      "[notice] To update, run: python.exe -m pip install --upgrade pip\n"
     ]
    }
   ],
   "source": [
    "!pip install polars\n",
    "import polars as pl"
   ]
  },
  {
   "cell_type": "code",
   "execution_count": 15,
   "id": "27c4549c",
   "metadata": {
    "scrolled": true
   },
   "outputs": [
    {
     "name": "stdout",
     "output_type": "stream",
     "text": [
      "Requirement already satisfied: altair in c:\\users\\igor\\anaconda3\\lib\\site-packages (5.4.1)\n",
      "Requirement already satisfied: jinja2 in c:\\users\\igor\\anaconda3\\lib\\site-packages (from altair) (3.1.2)\n",
      "Requirement already satisfied: jsonschema>=3.0 in c:\\users\\igor\\anaconda3\\lib\\site-packages (from altair) (4.16.0)\n",
      "Requirement already satisfied: narwhals>=1.5.2 in c:\\users\\igor\\anaconda3\\lib\\site-packages (from altair) (1.9.2)\n",
      "Requirement already satisfied: packaging in c:\\users\\igor\\anaconda3\\lib\\site-packages (from altair) (23.1)\n",
      "Requirement already satisfied: typing-extensions>=4.10.0 in c:\\users\\igor\\anaconda3\\lib\\site-packages (from altair) (4.10.0)\n",
      "Requirement already satisfied: attrs>=17.4.0 in c:\\users\\igor\\anaconda3\\lib\\site-packages (from jsonschema>=3.0->altair) (21.4.0)\n",
      "Requirement already satisfied: pyrsistent!=0.17.0,!=0.17.1,!=0.17.2,>=0.14.0 in c:\\users\\igor\\anaconda3\\lib\\site-packages (from jsonschema>=3.0->altair) (0.18.0)\n",
      "Requirement already satisfied: MarkupSafe>=2.0 in c:\\users\\igor\\anaconda3\\lib\\site-packages (from jinja2->altair) (2.0.1)\n"
     ]
    },
    {
     "name": "stderr",
     "output_type": "stream",
     "text": [
      "\n",
      "[notice] A new release of pip is available: 24.0 -> 24.2\n",
      "[notice] To update, run: python.exe -m pip install --upgrade pip\n"
     ]
    }
   ],
   "source": [
    "!pip install altair"
   ]
  },
  {
   "cell_type": "code",
   "execution_count": 16,
   "id": "TV9CbtTA9Z57",
   "metadata": {
    "id": "TV9CbtTA9Z57"
   },
   "outputs": [],
   "source": [
    "# Путь к файлу в корневой директории\n",
    "file_path_train = r'C:/Users/Igor/Downloads/train.csv'\n",
    "file_path_questions = r'C:/Users/Igor/Downloads/questions.csv'\n",
    "file_path_lectures = r'C:/Users/Igor/Downloads/lectures.csv'\n",
    "\n",
    "# Чтение CSV файла\n",
    "train_df = pl.read_csv(file_path_train)\n",
    "questions_df = pl.read_csv(file_path_questions)\n",
    "lectures_df = pl.read_csv(file_path_lectures)"
   ]
  },
  {
   "cell_type": "markdown",
   "id": "4d5cbbeb",
   "metadata": {
    "id": "4d5cbbeb"
   },
   "source": [
    "### train.csv"
   ]
  },
  {
   "cell_type": "code",
   "execution_count": 17,
   "id": "-aglpMhb9uAk",
   "metadata": {
    "colab": {
     "base_uri": "https://localhost:8080/"
    },
    "id": "-aglpMhb9uAk",
    "outputId": "732a2477-3645-4bb2-8a48-673a5bed5459"
   },
   "outputs": [
    {
     "name": "stdout",
     "output_type": "stream",
     "text": [
      "Размер DataFrame до приведения типов: 6987.14 МБ\n"
     ]
    }
   ],
   "source": [
    "# Узнаем размер DataFrame\n",
    "size_before = train_df.estimated_size()\n",
    "size_before_mb = size_before / (1024 * 1024)\n",
    "print(f\"Размер DataFrame до приведения типов: {size_before_mb:.2f} МБ\")"
   ]
  },
  {
   "cell_type": "markdown",
   "id": "ohSEGNFryu4R",
   "metadata": {
    "id": "ohSEGNFryu4R"
   },
   "source": [
    "**Посмотрим названия колонок**"
   ]
  },
  {
   "cell_type": "code",
   "execution_count": 18,
   "id": "lRlJx2cowz7q",
   "metadata": {
    "colab": {
     "base_uri": "https://localhost:8080/"
    },
    "id": "lRlJx2cowz7q",
    "outputId": "637648ac-daa9-448c-ada8-b96b0d55a4bc"
   },
   "outputs": [
    {
     "name": "stdout",
     "output_type": "stream",
     "text": [
      "Schema([('row_id', Int64), ('timestamp', Int64), ('user_id', Int64), ('content_id', Int64), ('content_type_id', Int64), ('task_container_id', Int64), ('user_answer', Int64), ('answered_correctly', Int64), ('prior_question_elapsed_time', Float64), ('prior_question_had_explanation', Boolean)])\n"
     ]
    }
   ],
   "source": [
    "schema_info = train_df.schema\n",
    "print(schema_info)"
   ]
  },
  {
   "cell_type": "markdown",
   "id": "KYlWjDIgy3rJ",
   "metadata": {
    "id": "KYlWjDIgy3rJ"
   },
   "source": [
    "Во всех колонках, кроме 'prior_question_had_explanation' использованы 64-битные типы данных, посмотрим, что за данные, и можно ли от них отойти, чтобы сэкономить пространство"
   ]
  },
  {
   "cell_type": "code",
   "execution_count": 19,
   "id": "OqO98Qc818wA",
   "metadata": {
    "colab": {
     "base_uri": "https://localhost:8080/"
    },
    "id": "OqO98Qc818wA",
    "outputId": "cb821511-47be-4fdd-8803-adf34b753ab2"
   },
   "outputs": [
    {
     "name": "stdout",
     "output_type": "stream",
     "text": [
      "shape: (10, 10)\n",
      "┌───────────┬───────────┬────────────┬────────────┬───┬─────────────┬────────────────┬────────────────┬────────────────┐\n",
      "│ row_id    ┆ timestamp ┆ user_id    ┆ content_id ┆ … ┆ user_answer ┆ answered_corre ┆ prior_question ┆ prior_question │\n",
      "│ ---       ┆ ---       ┆ ---        ┆ ---        ┆   ┆ ---         ┆ ctly           ┆ _elapsed_time  ┆ _had_explanati │\n",
      "│ i64       ┆ i64       ┆ i64        ┆ i64        ┆   ┆ i64         ┆ ---            ┆ ---            ┆ on             │\n",
      "│           ┆           ┆            ┆            ┆   ┆             ┆ i64            ┆ f64            ┆ ---            │\n",
      "│           ┆           ┆            ┆            ┆   ┆             ┆                ┆                ┆ bool           │\n",
      "╞═══════════╪═══════════╪════════════╪════════════╪═══╪═════════════╪════════════════╪════════════════╪════════════════╡\n",
      "│ 101230322 ┆ 428415725 ┆ 2147482888 ┆ 5005       ┆ … ┆ 1           ┆ 0              ┆ 30000.0        ┆ true           │\n",
      "│ 101230323 ┆ 428449609 ┆ 2147482888 ┆ 8711       ┆ … ┆ 2           ┆ 0              ┆ 9000.0         ┆ true           │\n",
      "│ 101230324 ┆ 428466169 ┆ 2147482888 ┆ 5591       ┆ … ┆ 3           ┆ 1              ┆ 26000.0        ┆ true           │\n",
      "│ 101230325 ┆ 428517313 ┆ 2147482888 ┆ 6128       ┆ … ┆ 1           ┆ 1              ┆ 11000.0        ┆ true           │\n",
      "│ 101230326 ┆ 428542872 ┆ 2147482888 ┆ 6202       ┆ … ┆ 2           ┆ 1              ┆ 44000.0        ┆ true           │\n",
      "│ 101230327 ┆ 428564420 ┆ 2147482888 ┆ 3586       ┆ … ┆ 0           ┆ 1              ┆ 18000.0        ┆ true           │\n",
      "│ 101230328 ┆ 428585000 ┆ 2147482888 ┆ 6341       ┆ … ┆ 3           ┆ 1              ┆ 14000.0        ┆ true           │\n",
      "│ 101230329 ┆ 428613475 ┆ 2147482888 ┆ 4212       ┆ … ┆ 3           ┆ 1              ┆ 14000.0        ┆ true           │\n",
      "│ 101230330 ┆ 428649406 ┆ 2147482888 ┆ 6343       ┆ … ┆ 1           ┆ 0              ┆ 22000.0        ┆ true           │\n",
      "│ 101230331 ┆ 428692118 ┆ 2147482888 ┆ 7995       ┆ … ┆ 3           ┆ 1              ┆ 29000.0        ┆ true           │\n",
      "└───────────┴───────────┴────────────┴────────────┴───┴─────────────┴────────────────┴────────────────┴────────────────┘\n"
     ]
    }
   ],
   "source": [
    "# Вывод последних 10 строк train\n",
    "print(train_df.tail(10))"
   ]
  },
  {
   "cell_type": "markdown",
   "id": "hqvn_qvl2QuK",
   "metadata": {
    "id": "hqvn_qvl2QuK"
   },
   "source": [
    "Видно, что row id может уместиться в int32, убедимся, что макс значения в  графах row_id, content_id, user_answer и prior_question_elapsed_time моместятся в уменьшенные версии типов данных и сразу же преобразуем"
   ]
  },
  {
   "cell_type": "code",
   "execution_count": 20,
   "id": "vKWmDbRr8zKu",
   "metadata": {
    "colab": {
     "base_uri": "https://localhost:8080/"
    },
    "id": "vKWmDbRr8zKu",
    "outputId": "aaf037c3-3f39-4ffc-c583-9512c79ed5c2"
   },
   "outputs": [
    {
     "name": "stdout",
     "output_type": "stream",
     "text": [
      "\n",
      "Информация о типах данных после приведения:\n",
      "Schema([('row_id', Int32), ('timestamp', Int64), ('user_id', Int64), ('content_id', Int16), ('content_type_id', Int64), ('task_container_id', Int64), ('user_answer', Int8), ('answered_correctly', Int64), ('prior_question_elapsed_time', Float32), ('prior_question_had_explanation', Boolean)])\n"
     ]
    }
   ],
   "source": [
    "# Определение типов данных для каждого столбца\n",
    "def determine_type(min_value, max_value):\n",
    "    if min_value >= -128 and max_value <= 127:\n",
    "        return pl.Int8\n",
    "    elif min_value >= -32768 and max_value <= 32767:\n",
    "        return pl.Int16\n",
    "    elif min_value >= -2147483648 and max_value <= 2147483647:\n",
    "        return pl.Int32\n",
    "    else:\n",
    "        return pl.Int64\n",
    "\n",
    "# Преобразование типов данных\n",
    "train_df = train_df.with_columns([\n",
    "    pl.col('row_id').cast(determine_type(train_df['row_id'].min(), train_df['row_id'].max())),\n",
    "    pl.col('content_id').cast(determine_type(train_df['content_id'].min(), train_df['content_id'].max())),\n",
    "    pl.col('user_answer').cast(determine_type(train_df['user_answer'].min(), train_df['user_answer'].max())),\n",
    "    pl.col('prior_question_elapsed_time').cast(pl.Float32)  # Преобразование в Float32 для экономии памяти\n",
    "])\n",
    "\n",
    "# Вывод информации о типах данных\n",
    "print(\"\\nИнформация о типах данных после приведения:\")\n",
    "print(train_df.schema)"
   ]
  },
  {
   "cell_type": "markdown",
   "id": "1MymVDDK1Mqj",
   "metadata": {
    "id": "1MymVDDK1Mqj"
   },
   "source": [
    "Из-за особенностей отображения мы не видим значения в колонках 'content_type_id' 'task_container_id', выведем их отдельно"
   ]
  },
  {
   "cell_type": "code",
   "execution_count": 21,
   "id": "3ItjNHVd1buk",
   "metadata": {
    "colab": {
     "base_uri": "https://localhost:8080/"
    },
    "id": "3ItjNHVd1buk",
    "outputId": "1265e548-e827-4886-8b63-330f9504a649"
   },
   "outputs": [
    {
     "name": "stdout",
     "output_type": "stream",
     "text": [
      "shape: (10, 2)\n",
      "┌─────────────────┬───────────────────┐\n",
      "│ content_type_id ┆ task_container_id │\n",
      "│ ---             ┆ ---               │\n",
      "│ i64             ┆ i64               │\n",
      "╞═════════════════╪═══════════════════╡\n",
      "│ 0               ┆ 1                 │\n",
      "│ 0               ┆ 2                 │\n",
      "│ 0               ┆ 0                 │\n",
      "│ 0               ┆ 3                 │\n",
      "│ 0               ┆ 4                 │\n",
      "│ 0               ┆ 5                 │\n",
      "│ 0               ┆ 6                 │\n",
      "│ 0               ┆ 7                 │\n",
      "│ 0               ┆ 8                 │\n",
      "│ 0               ┆ 9                 │\n",
      "└─────────────────┴───────────────────┘\n"
     ]
    }
   ],
   "source": [
    "# Выбор столбцов 'content_type_id' и 'task_container_id'\n",
    "selected_columns = train_df.select([\n",
    "    pl.col('content_type_id'),\n",
    "    pl.col('task_container_id')\n",
    "])\n",
    "\n",
    "# Вывод первых нескольких строк выбранных столбцов\n",
    "print(selected_columns.head(10))\n"
   ]
  },
  {
   "cell_type": "code",
   "execution_count": 22,
   "id": "t8ruKP9824d5",
   "metadata": {
    "colab": {
     "base_uri": "https://localhost:8080/"
    },
    "id": "t8ruKP9824d5",
    "outputId": "db56a7c2-6633-4910-b0be-ab768db9a0d1"
   },
   "outputs": [
    {
     "name": "stdout",
     "output_type": "stream",
     "text": [
      "shape: (10, 2)\n",
      "┌─────────────────┬───────────────────┐\n",
      "│ content_type_id ┆ task_container_id │\n",
      "│ ---             ┆ ---               │\n",
      "│ i64             ┆ i64               │\n",
      "╞═════════════════╪═══════════════════╡\n",
      "│ 0               ┆ 17                │\n",
      "│ 0               ┆ 18                │\n",
      "│ 0               ┆ 19                │\n",
      "│ 0               ┆ 20                │\n",
      "│ 0               ┆ 21                │\n",
      "│ 0               ┆ 22                │\n",
      "│ 0               ┆ 23                │\n",
      "│ 0               ┆ 24                │\n",
      "│ 0               ┆ 25                │\n",
      "│ 0               ┆ 26                │\n",
      "└─────────────────┴───────────────────┘\n"
     ]
    }
   ],
   "source": [
    "# Вывод последних нескольких строк выбранных столбцов\n",
    "print(selected_columns.tail(10))"
   ]
  },
  {
   "cell_type": "code",
   "execution_count": 23,
   "id": "k0SKOtXD28Az",
   "metadata": {
    "colab": {
     "base_uri": "https://localhost:8080/"
    },
    "id": "k0SKOtXD28Az",
    "outputId": "2af77dbc-1e13-4884-df89-421469eac9c2"
   },
   "outputs": [
    {
     "name": "stdout",
     "output_type": "stream",
     "text": [
      "Уникальные значения в столбце 'content_type_id':\n",
      "shape: (2,)\n",
      "Series: 'content_type_id' [i64]\n",
      "[\n",
      "\t0\n",
      "\t1\n",
      "]\n",
      "\n",
      "Уникальные значения в столбце 'task_container_id':\n",
      "shape: (10_000,)\n",
      "Series: 'task_container_id' [i64]\n",
      "[\n",
      "\t0\n",
      "\t1\n",
      "\t2\n",
      "\t3\n",
      "\t4\n",
      "\t…\n",
      "\t9995\n",
      "\t9996\n",
      "\t9997\n",
      "\t9998\n",
      "\t9999\n",
      "]\n"
     ]
    }
   ],
   "source": [
    "# Вывод уникальных значений для столбца 'content_type_id'\n",
    "unique_content_type_id = train_df['content_type_id'].unique()\n",
    "print(\"Уникальные значения в столбце 'content_type_id':\")\n",
    "print(unique_content_type_id)\n",
    "\n",
    "# Вывод уникальных значений для столбца 'task_container_id'\n",
    "unique_task_container_id = train_df['task_container_id'].unique()\n",
    "print(\"\\nУникальные значения в столбце 'task_container_id':\")\n",
    "print(unique_task_container_id)\n"
   ]
  },
  {
   "cell_type": "markdown",
   "id": "V4T2bdeh33xQ",
   "metadata": {
    "id": "V4T2bdeh33xQ"
   },
   "source": [
    "**Видим, что уникальных значений в столбце content_type_id 2 - это 0 и 1, а в столбце task_container_id 1000 можно их прееобразовать в другой тип данных для экономии**\n"
   ]
  },
  {
   "cell_type": "code",
   "execution_count": 24,
   "id": "yzzxBvgV4I9Y",
   "metadata": {
    "id": "yzzxBvgV4I9Y"
   },
   "outputs": [],
   "source": [
    "train_df = train_df.with_columns([\n",
    "    pl.col('content_type_id').cast(pl.Boolean),  # Преобразование в Boolean\n",
    "    pl.col('task_container_id').cast(pl.Int16)    # Преобразование в Int16\n",
    "])"
   ]
  },
  {
   "cell_type": "markdown",
   "id": "y2ikPxl78Ar_",
   "metadata": {
    "id": "y2ikPxl78Ar_"
   },
   "source": [
    "Теперь выведем все типы в таблице"
   ]
  },
  {
   "cell_type": "code",
   "execution_count": 25,
   "id": "9YiGHevX4G0f",
   "metadata": {
    "colab": {
     "base_uri": "https://localhost:8080/"
    },
    "id": "9YiGHevX4G0f",
    "outputId": "69200bd6-3af0-430b-a436-18d0392049bf"
   },
   "outputs": [
    {
     "name": "stdout",
     "output_type": "stream",
     "text": [
      "Schema([('row_id', Int32), ('timestamp', Int64), ('user_id', Int64), ('content_id', Int16), ('content_type_id', Boolean), ('task_container_id', Int16), ('user_answer', Int8), ('answered_correctly', Int64), ('prior_question_elapsed_time', Float32), ('prior_question_had_explanation', Boolean)])\n"
     ]
    }
   ],
   "source": [
    "schema_info = train_df.schema\n",
    "print(schema_info)"
   ]
  },
  {
   "cell_type": "markdown",
   "id": "pn-xRnazwhxH",
   "metadata": {
    "id": "pn-xRnazwhxH"
   },
   "source": [
    "Посмотрим, сколько теперь файл занимает памяти"
   ]
  },
  {
   "cell_type": "code",
   "execution_count": 26,
   "id": "B2mxWDwlwXZt",
   "metadata": {
    "colab": {
     "base_uri": "https://localhost:8080/"
    },
    "id": "B2mxWDwlwXZt",
    "outputId": "9664eee1-bc60-45c7-829c-773d7663d86a"
   },
   "outputs": [
    {
     "name": "stdout",
     "output_type": "stream",
     "text": [
      "Размер DataFrame до приведения типов: 3620.28 МБ\n"
     ]
    }
   ],
   "source": [
    "# Узнаем размер DataFrame\n",
    "size_after = train_df.estimated_size()\n",
    "size_after_mb = size_after / (1024 * 1024)\n",
    "print(f\"Размер DataFrame до приведения типов: {size_after_mb:.2f} МБ\")"
   ]
  },
  {
   "cell_type": "markdown",
   "id": "61147f10",
   "metadata": {
    "id": "hquteWLpwDjf"
   },
   "source": [
    "Ура! Размер датафрейма сократился в 2 раза, теперь можно с ним что-то делать."
   ]
  },
  {
   "cell_type": "code",
   "execution_count": 27,
   "id": "ttRVO5NuNkg-",
   "metadata": {
    "id": "ttRVO5NuNkg-",
    "scrolled": false
   },
   "outputs": [
    {
     "data": {
      "text/html": [
       "<div><style>\n",
       ".dataframe > thead > tr,\n",
       ".dataframe > tbody > tr {\n",
       "  text-align: right;\n",
       "  white-space: pre-wrap;\n",
       "}\n",
       "</style>\n",
       "<small>shape: (9, 11)</small><table border=\"1\" class=\"dataframe\"><thead><tr><th>statistic</th><th>row_id</th><th>timestamp</th><th>user_id</th><th>content_id</th><th>content_type_id</th><th>task_container_id</th><th>user_answer</th><th>answered_correctly</th><th>prior_question_elapsed_time</th><th>prior_question_had_explanation</th></tr><tr><td>str</td><td>f64</td><td>f64</td><td>f64</td><td>f64</td><td>f64</td><td>f64</td><td>f64</td><td>f64</td><td>f64</td><td>f64</td></tr></thead><tbody><tr><td>&quot;count&quot;</td><td>1.01230332e8</td><td>1.01230332e8</td><td>1.01230332e8</td><td>1.01230332e8</td><td>1.01230332e8</td><td>1.01230332e8</td><td>1.01230332e8</td><td>1.01230332e8</td><td>9.8878794e7</td><td>1.00837826e8</td></tr><tr><td>&quot;null_count&quot;</td><td>0.0</td><td>0.0</td><td>0.0</td><td>0.0</td><td>0.0</td><td>0.0</td><td>0.0</td><td>0.0</td><td>2.351538e6</td><td>392506.0</td></tr><tr><td>&quot;mean&quot;</td><td>5.0615e7</td><td>7.7036e9</td><td>1.0767e9</td><td>5219.604757</td><td>0.019352</td><td>904.062366</td><td>1.376123</td><td>0.625164</td><td>25423.810547</td><td>0.889404</td></tr><tr><td>&quot;std&quot;</td><td>2.9223e7</td><td>1.1593e10</td><td>6.1972e8</td><td>3866.35894</td><td>null</td><td>1358.302181</td><td>1.192896</td><td>0.522531</td><td>19948.146484</td><td>null</td></tr><tr><td>&quot;min&quot;</td><td>0.0</td><td>0.0</td><td>115.0</td><td>0.0</td><td>0.0</td><td>0.0</td><td>-1.0</td><td>-1.0</td><td>0.0</td><td>0.0</td></tr><tr><td>&quot;25%&quot;</td><td>2.5307583e7</td><td>5.24343582e8</td><td>5.40811564e8</td><td>2063.0</td><td>null</td><td>104.0</td><td>0.0</td><td>0.0</td><td>16000.0</td><td>null</td></tr><tr><td>&quot;50%&quot;</td><td>5.0615166e7</td><td>2.6742e9</td><td>1.0718e9</td><td>5026.0</td><td>null</td><td>382.0</td><td>1.0</td><td>1.0</td><td>21000.0</td><td>null</td></tr><tr><td>&quot;75%&quot;</td><td>7.5922748e7</td><td>9.9246e9</td><td>1.6157e9</td><td>7425.0</td><td>null</td><td>1094.0</td><td>3.0</td><td>1.0</td><td>29666.0</td><td>null</td></tr><tr><td>&quot;max&quot;</td><td>1.01230331e8</td><td>8.7426e10</td><td>2.1475e9</td><td>32736.0</td><td>1.0</td><td>9999.0</td><td>3.0</td><td>1.0</td><td>300000.0</td><td>1.0</td></tr></tbody></table></div>"
      ],
      "text/plain": [
       "shape: (9, 11)\n",
       "┌────────────┬──────────────┬──────────────┬──────────────┬───┬──────────────┬─────────────┬─────────────┬─────────────┐\n",
       "│ statistic  ┆ row_id       ┆ timestamp    ┆ user_id      ┆ … ┆ user_answer  ┆ answered_co ┆ prior_quest ┆ prior_quest │\n",
       "│ ---        ┆ ---          ┆ ---          ┆ ---          ┆   ┆ ---          ┆ rrectly     ┆ ion_elapsed ┆ ion_had_exp │\n",
       "│ str        ┆ f64          ┆ f64          ┆ f64          ┆   ┆ f64          ┆ ---         ┆ _time       ┆ lanation    │\n",
       "│            ┆              ┆              ┆              ┆   ┆              ┆ f64         ┆ ---         ┆ ---         │\n",
       "│            ┆              ┆              ┆              ┆   ┆              ┆             ┆ f64         ┆ f64         │\n",
       "╞════════════╪══════════════╪══════════════╪══════════════╪═══╪══════════════╪═════════════╪═════════════╪═════════════╡\n",
       "│ count      ┆ 1.01230332e8 ┆ 1.01230332e8 ┆ 1.01230332e8 ┆ … ┆ 1.01230332e8 ┆ 1.01230332e ┆ 9.8878794e7 ┆ 1.00837826e │\n",
       "│            ┆              ┆              ┆              ┆   ┆              ┆ 8           ┆             ┆ 8           │\n",
       "│ null_count ┆ 0.0          ┆ 0.0          ┆ 0.0          ┆ … ┆ 0.0          ┆ 0.0         ┆ 2.351538e6  ┆ 392506.0    │\n",
       "│ mean       ┆ 5.0615e7     ┆ 7.7036e9     ┆ 1.0767e9     ┆ … ┆ 1.376123     ┆ 0.625164    ┆ 25423.81054 ┆ 0.889404    │\n",
       "│            ┆              ┆              ┆              ┆   ┆              ┆             ┆ 7           ┆             │\n",
       "│ std        ┆ 2.9223e7     ┆ 1.1593e10    ┆ 6.1972e8     ┆ … ┆ 1.192896     ┆ 0.522531    ┆ 19948.14648 ┆ null        │\n",
       "│            ┆              ┆              ┆              ┆   ┆              ┆             ┆ 4           ┆             │\n",
       "│ min        ┆ 0.0          ┆ 0.0          ┆ 115.0        ┆ … ┆ -1.0         ┆ -1.0        ┆ 0.0         ┆ 0.0         │\n",
       "│ 25%        ┆ 2.5307583e7  ┆ 5.24343582e8 ┆ 5.40811564e8 ┆ … ┆ 0.0          ┆ 0.0         ┆ 16000.0     ┆ null        │\n",
       "│ 50%        ┆ 5.0615166e7  ┆ 2.6742e9     ┆ 1.0718e9     ┆ … ┆ 1.0          ┆ 1.0         ┆ 21000.0     ┆ null        │\n",
       "│ 75%        ┆ 7.5922748e7  ┆ 9.9246e9     ┆ 1.6157e9     ┆ … ┆ 3.0          ┆ 1.0         ┆ 29666.0     ┆ null        │\n",
       "│ max        ┆ 1.01230331e8 ┆ 8.7426e10    ┆ 2.1475e9     ┆ … ┆ 3.0          ┆ 1.0         ┆ 300000.0    ┆ 1.0         │\n",
       "└────────────┴──────────────┴──────────────┴──────────────┴───┴──────────────┴─────────────┴─────────────┴─────────────┘"
      ]
     },
     "execution_count": 27,
     "metadata": {},
     "output_type": "execute_result"
    }
   ],
   "source": [
    "#посмотрим\n",
    "train_df.describe()"
   ]
  },
  {
   "cell_type": "markdown",
   "id": "bcf94dc6",
   "metadata": {},
   "source": [
    "И сделаем перевод названий колонок"
   ]
  },
  {
   "cell_type": "markdown",
   "id": "e2b3dad1",
   "metadata": {},
   "source": [
    "**row_id**: (int64) Идентификатор строки.<br>\n",
    "**timestamp**: (int64) Время в миллисекундах между этим взаимодействием пользователя и первым событием завершения от этого пользователя.<br>\n",
    "**user_id**: (int32) Идентификатор пользователя.<br>\n",
    "**content_id**: (int16) Идентификатор взаимодействия пользователя.<br>\n",
    "**content_type_id**: (int8) 0, если событие было вопросом, заданным пользователю, 1, если событие было просмотром лекции пользователем.<br>\n",
    "**task_container_id**: (int16) Идентификатор пакета заданий или лекций. Например, пользователь может увидеть три вопроса подряд, прежде чем увидеть объяснения к ним. Все три вопроса будут иметь один и тот же task_container_id.<br>\n",
    "**user_answer**: (int8) Ответ пользователя на вопрос, если таковой имеется. Читайте -1 как null для лекций.<br>\n",
    "**answered_correctly**: (int8) Если пользователь ответил правильно. Читайте -1 как null для лекций.<br>\n",
    "**prior_question_elapsed_time**: (float32) Среднее время в миллисекундах, которое пользователь потратил на ответы на каждый вопрос в предыдущем пакете вопросов, игнорируя любые лекции между ними. Имеет значение null для первого пакета вопросов или лекции пользователя. Обратите внимание, что время — это среднее время, которое пользователь потратил на решение каждого вопроса в предыдущем пакете.<br>\n",
    "**prior_question_had_explanation**: (bool) Было ли пользователю показано объяснение и правильные ответы после ответа на предыдущий пакет вопросов, игнорируя любые лекции между ними. Значение совместно используется в рамках одного пакета вопросов и имеет значение null для первого пакета вопросов или лекции пользователя. Обычно первые несколько вопросов, которые видит пользователь, являются частью диагностического теста на адаптацию, где он не получает никакой обратной связи."
   ]
  },
  {
   "cell_type": "markdown",
   "id": "e2876cdf",
   "metadata": {
    "id": "e2876cdf"
   },
   "source": [
    "### questions.csv\n"
   ]
  },
  {
   "cell_type": "code",
   "execution_count": 28,
   "id": "3S10RclDNVOY",
   "metadata": {
    "id": "3S10RclDNVOY",
    "scrolled": true
   },
   "outputs": [
    {
     "data": {
      "text/html": [
       "<div><style>\n",
       ".dataframe > thead > tr,\n",
       ".dataframe > tbody > tr {\n",
       "  text-align: right;\n",
       "  white-space: pre-wrap;\n",
       "}\n",
       "</style>\n",
       "<small>shape: (9, 6)</small><table border=\"1\" class=\"dataframe\"><thead><tr><th>statistic</th><th>question_id</th><th>bundle_id</th><th>correct_answer</th><th>part</th><th>tags</th></tr><tr><td>str</td><td>f64</td><td>f64</td><td>f64</td><td>f64</td><td>str</td></tr></thead><tbody><tr><td>&quot;count&quot;</td><td>13523.0</td><td>13523.0</td><td>13523.0</td><td>13523.0</td><td>&quot;13522&quot;</td></tr><tr><td>&quot;null_count&quot;</td><td>0.0</td><td>0.0</td><td>0.0</td><td>0.0</td><td>&quot;1&quot;</td></tr><tr><td>&quot;mean&quot;</td><td>6761.0</td><td>6760.510907</td><td>1.455298</td><td>4.264956</td><td>null</td></tr><tr><td>&quot;std&quot;</td><td>3903.89818</td><td>3903.857783</td><td>1.149707</td><td>1.652553</td><td>null</td></tr><tr><td>&quot;min&quot;</td><td>0.0</td><td>0.0</td><td>0.0</td><td>1.0</td><td>&quot;1&quot;</td></tr><tr><td>&quot;25%&quot;</td><td>3381.0</td><td>3381.0</td><td>0.0</td><td>3.0</td><td>null</td></tr><tr><td>&quot;50%&quot;</td><td>6761.0</td><td>6761.0</td><td>1.0</td><td>5.0</td><td>null</td></tr><tr><td>&quot;75%&quot;</td><td>10142.0</td><td>10140.0</td><td>3.0</td><td>5.0</td><td>null</td></tr><tr><td>&quot;max&quot;</td><td>13522.0</td><td>13522.0</td><td>3.0</td><td>7.0</td><td>&quot;98 97 77 135 162&quot;</td></tr></tbody></table></div>"
      ],
      "text/plain": [
       "shape: (9, 6)\n",
       "┌────────────┬─────────────┬─────────────┬────────────────┬──────────┬──────────────────┐\n",
       "│ statistic  ┆ question_id ┆ bundle_id   ┆ correct_answer ┆ part     ┆ tags             │\n",
       "│ ---        ┆ ---         ┆ ---         ┆ ---            ┆ ---      ┆ ---              │\n",
       "│ str        ┆ f64         ┆ f64         ┆ f64            ┆ f64      ┆ str              │\n",
       "╞════════════╪═════════════╪═════════════╪════════════════╪══════════╪══════════════════╡\n",
       "│ count      ┆ 13523.0     ┆ 13523.0     ┆ 13523.0        ┆ 13523.0  ┆ 13522            │\n",
       "│ null_count ┆ 0.0         ┆ 0.0         ┆ 0.0            ┆ 0.0      ┆ 1                │\n",
       "│ mean       ┆ 6761.0      ┆ 6760.510907 ┆ 1.455298       ┆ 4.264956 ┆ null             │\n",
       "│ std        ┆ 3903.89818  ┆ 3903.857783 ┆ 1.149707       ┆ 1.652553 ┆ null             │\n",
       "│ min        ┆ 0.0         ┆ 0.0         ┆ 0.0            ┆ 1.0      ┆ 1                │\n",
       "│ 25%        ┆ 3381.0      ┆ 3381.0      ┆ 0.0            ┆ 3.0      ┆ null             │\n",
       "│ 50%        ┆ 6761.0      ┆ 6761.0      ┆ 1.0            ┆ 5.0      ┆ null             │\n",
       "│ 75%        ┆ 10142.0     ┆ 10140.0     ┆ 3.0            ┆ 5.0      ┆ null             │\n",
       "│ max        ┆ 13522.0     ┆ 13522.0     ┆ 3.0            ┆ 7.0      ┆ 98 97 77 135 162 │\n",
       "└────────────┴─────────────┴─────────────┴────────────────┴──────────┴──────────────────┘"
      ]
     },
     "execution_count": 28,
     "metadata": {},
     "output_type": "execute_result"
    }
   ],
   "source": [
    "#посмотрим\n",
    "questions_df.describe()"
   ]
  },
  {
   "cell_type": "markdown",
   "id": "s1iSzK-tL7ML",
   "metadata": {
    "id": "s1iSzK-tL7ML"
   },
   "source": [
    "***Переведем названия колонок***"
   ]
  },
  {
   "cell_type": "markdown",
   "id": "3419e11f",
   "metadata": {
    "id": "3419e11f"
   },
   "source": [
    "**question_id**: внешний ключ для столбца content_id в train/test, когда тип контента — вопрос (0).<br>\n",
    "**bundle_id**: код, определяющий, какие вопросы показываются вместе.<br>\n",
    "**correct_answer**: правильный ответ на вопрос. Может быть сравнен со столбцом user_answer в train, чтобы проверить, был ли пользователь прав.<br>\n",
    "**part**: соответствующий раздел теста TOEIC.<br>\n",
    "**tags**: один или несколько детальных кодов тегов для вопроса. Значение тегов не будет предоставлено, но эти коды достаточны для кластеризации вопросов."
   ]
  },
  {
   "cell_type": "code",
   "execution_count": 29,
   "id": "MfmqNGYKBGZo",
   "metadata": {
    "id": "MfmqNGYKBGZo"
   },
   "outputs": [
    {
     "name": "stdout",
     "output_type": "stream",
     "text": [
      "shape: (5, 5)\n",
      "┌─────────────┬───────────┬────────────────┬──────┬────────────────┐\n",
      "│ question_id ┆ bundle_id ┆ correct_answer ┆ part ┆ tags           │\n",
      "│ ---         ┆ ---       ┆ ---            ┆ ---  ┆ ---            │\n",
      "│ i64         ┆ i64       ┆ i64            ┆ i64  ┆ str            │\n",
      "╞═════════════╪═══════════╪════════════════╪══════╪════════════════╡\n",
      "│ 0           ┆ 0         ┆ 0              ┆ 1    ┆ 51 131 162 38  │\n",
      "│ 1           ┆ 1         ┆ 1              ┆ 1    ┆ 131 36 81      │\n",
      "│ 2           ┆ 2         ┆ 0              ┆ 1    ┆ 131 101 162 92 │\n",
      "│ 3           ┆ 3         ┆ 0              ┆ 1    ┆ 131 149 162 29 │\n",
      "│ 4           ┆ 4         ┆ 3              ┆ 1    ┆ 131 5 162 38   │\n",
      "└─────────────┴───────────┴────────────────┴──────┴────────────────┘\n"
     ]
    }
   ],
   "source": [
    "# Вывод первых нескольких строк questions\n",
    "print(questions_df.head())"
   ]
  },
  {
   "cell_type": "markdown",
   "id": "05307093",
   "metadata": {
    "id": "05307093"
   },
   "source": [
    "### lectures.csv\n",
    "метаданные для лекций, просмотренных пользователями в процессе обучения.\n"
   ]
  },
  {
   "cell_type": "code",
   "execution_count": 30,
   "id": "egdinErkNphf",
   "metadata": {
    "id": "egdinErkNphf"
   },
   "outputs": [
    {
     "data": {
      "text/html": [
       "<div><style>\n",
       ".dataframe > thead > tr,\n",
       ".dataframe > tbody > tr {\n",
       "  text-align: right;\n",
       "  white-space: pre-wrap;\n",
       "}\n",
       "</style>\n",
       "<small>shape: (9, 5)</small><table border=\"1\" class=\"dataframe\"><thead><tr><th>statistic</th><th>lecture_id</th><th>tag</th><th>part</th><th>type_of</th></tr><tr><td>str</td><td>f64</td><td>f64</td><td>f64</td><td>str</td></tr></thead><tbody><tr><td>&quot;count&quot;</td><td>418.0</td><td>418.0</td><td>418.0</td><td>&quot;418&quot;</td></tr><tr><td>&quot;null_count&quot;</td><td>0.0</td><td>0.0</td><td>0.0</td><td>&quot;0&quot;</td></tr><tr><td>&quot;mean&quot;</td><td>16983.401914</td><td>94.480861</td><td>4.267943</td><td>null</td></tr><tr><td>&quot;std&quot;</td><td>9426.16466</td><td>53.586487</td><td>1.872424</td><td>null</td></tr><tr><td>&quot;min&quot;</td><td>89.0</td><td>0.0</td><td>1.0</td><td>&quot;concept&quot;</td></tr><tr><td>&quot;25%&quot;</td><td>8977.0</td><td>50.0</td><td>2.0</td><td>null</td></tr><tr><td>&quot;50%&quot;</td><td>17199.0</td><td>95.0</td><td>5.0</td><td>null</td></tr><tr><td>&quot;75%&quot;</td><td>24908.0</td><td>140.0</td><td>6.0</td><td>null</td></tr><tr><td>&quot;max&quot;</td><td>32736.0</td><td>187.0</td><td>7.0</td><td>&quot;starter&quot;</td></tr></tbody></table></div>"
      ],
      "text/plain": [
       "shape: (9, 5)\n",
       "┌────────────┬──────────────┬───────────┬──────────┬─────────┐\n",
       "│ statistic  ┆ lecture_id   ┆ tag       ┆ part     ┆ type_of │\n",
       "│ ---        ┆ ---          ┆ ---       ┆ ---      ┆ ---     │\n",
       "│ str        ┆ f64          ┆ f64       ┆ f64      ┆ str     │\n",
       "╞════════════╪══════════════╪═══════════╪══════════╪═════════╡\n",
       "│ count      ┆ 418.0        ┆ 418.0     ┆ 418.0    ┆ 418     │\n",
       "│ null_count ┆ 0.0          ┆ 0.0       ┆ 0.0      ┆ 0       │\n",
       "│ mean       ┆ 16983.401914 ┆ 94.480861 ┆ 4.267943 ┆ null    │\n",
       "│ std        ┆ 9426.16466   ┆ 53.586487 ┆ 1.872424 ┆ null    │\n",
       "│ min        ┆ 89.0         ┆ 0.0       ┆ 1.0      ┆ concept │\n",
       "│ 25%        ┆ 8977.0       ┆ 50.0      ┆ 2.0      ┆ null    │\n",
       "│ 50%        ┆ 17199.0      ┆ 95.0      ┆ 5.0      ┆ null    │\n",
       "│ 75%        ┆ 24908.0      ┆ 140.0     ┆ 6.0      ┆ null    │\n",
       "│ max        ┆ 32736.0      ┆ 187.0     ┆ 7.0      ┆ starter │\n",
       "└────────────┴──────────────┴───────────┴──────────┴─────────┘"
      ]
     },
     "execution_count": 30,
     "metadata": {},
     "output_type": "execute_result"
    }
   ],
   "source": [
    "#посмотрим общую информацию о данных в датафрейме\n",
    "lectures_df.describe()"
   ]
  },
  {
   "cell_type": "code",
   "execution_count": 31,
   "id": "3oi1_1v7BLhl",
   "metadata": {
    "id": "3oi1_1v7BLhl"
   },
   "outputs": [
    {
     "name": "stdout",
     "output_type": "stream",
     "text": [
      "shape: (5, 4)\n",
      "┌────────────┬─────┬──────┬──────────────────┐\n",
      "│ lecture_id ┆ tag ┆ part ┆ type_of          │\n",
      "│ ---        ┆ --- ┆ ---  ┆ ---              │\n",
      "│ i64        ┆ i64 ┆ i64  ┆ str              │\n",
      "╞════════════╪═════╪══════╪══════════════════╡\n",
      "│ 89         ┆ 159 ┆ 5    ┆ concept          │\n",
      "│ 100        ┆ 70  ┆ 1    ┆ concept          │\n",
      "│ 185        ┆ 45  ┆ 6    ┆ concept          │\n",
      "│ 192        ┆ 79  ┆ 5    ┆ solving question │\n",
      "│ 317        ┆ 156 ┆ 5    ┆ solving question │\n",
      "└────────────┴─────┴──────┴──────────────────┘\n"
     ]
    }
   ],
   "source": [
    "# Вывод первых нескольких строк questions\n",
    "print(lectures_df.head())"
   ]
  },
  {
   "cell_type": "markdown",
   "id": "ae1bbc42",
   "metadata": {
    "id": "ae1bbc42"
   },
   "source": [
    "**lecture_id**: внешний ключ для столбца content_id в train/test, когда тип контента — лекция (1).<br>\n",
    "**part**: код верхнего уровня для категории лекции.<br>\n",
    "**tag**: один код тега для лекции. Значение тегов не будет предоставлено, но эти коды достаточны для кластеризации лекций.<br>\n",
    "**type_of**: краткое описание основной цели лекции."
   ]
  },
  {
   "cell_type": "markdown",
   "id": "VqhQow8u9S2j",
   "metadata": {
    "id": "VqhQow8u9S2j"
   },
   "source": [
    "**Преобразованием данных в файлах questions.csv и lectures.csv мы заниматься не будем, т.к. они и так нормально считываются**"
   ]
  },
  {
   "cell_type": "markdown",
   "id": "3408adb4",
   "metadata": {},
   "source": [
    "## Разберем данные таблиц"
   ]
  },
  {
   "cell_type": "code",
   "execution_count": 32,
   "id": "d62798d2",
   "metadata": {
    "id": "d62798d2"
   },
   "outputs": [
    {
     "name": "stdout",
     "output_type": "stream",
     "text": [
      "\n",
      "Количество уникальных пользователей: 393656\n"
     ]
    }
   ],
   "source": [
    "unique_users_count = train_df['user_id'].n_unique()\n",
    "print(f\"\\nКоличество уникальных пользователей: {unique_users_count}\")"
   ]
  },
  {
   "cell_type": "markdown",
   "id": "56961bbd",
   "metadata": {
    "id": "56961bbd"
   },
   "source": [
    "**Количество вопросов и лекций**"
   ]
  },
  {
   "cell_type": "code",
   "execution_count": 33,
   "id": "e15fbafb",
   "metadata": {
    "id": "e15fbafb"
   },
   "outputs": [
    {
     "name": "stdout",
     "output_type": "stream",
     "text": [
      "Количество вопросов: 13523\n",
      "Количество лекций: 418\n"
     ]
    }
   ],
   "source": [
    "questions_count = questions_df.shape[0]\n",
    "lectures_count = lectures_df.shape[0]\n",
    "print(f\"Количество вопросов: {questions_count}\")\n",
    "print(f\"Количество лекций: {lectures_count}\")"
   ]
  },
  {
   "cell_type": "markdown",
   "id": "aaada41a",
   "metadata": {
    "id": "aaada41a"
   },
   "source": [
    "**Распределение ответов пользователей**"
   ]
  },
  {
   "cell_type": "code",
   "execution_count": 34,
   "id": "bb06f46e",
   "metadata": {
    "id": "bb06f46e"
   },
   "outputs": [
    {
     "name": "stdout",
     "output_type": "stream",
     "text": [
      "\n",
      "Распределение ответов пользователей:\n",
      "shape: (5, 2)\n",
      "┌─────────────┬──────────┐\n",
      "│ user_answer ┆ count    │\n",
      "│ ---         ┆ ---      │\n",
      "│ i8          ┆ u32      │\n",
      "╞═════════════╪══════════╡\n",
      "│ 1           ┆ 26990007 │\n",
      "│ 3           ┆ 26084784 │\n",
      "│ 2           ┆ 18010020 │\n",
      "│ 0           ┆ 28186489 │\n",
      "│ -1          ┆ 1959032  │\n",
      "└─────────────┴──────────┘\n"
     ]
    }
   ],
   "source": [
    "user_answers_distribution = train_df['user_answer'].value_counts()\n",
    "print(\"\\nРаспределение ответов пользователей:\")\n",
    "print(user_answers_distribution)"
   ]
  },
  {
   "cell_type": "markdown",
   "id": "c0723d32",
   "metadata": {
    "id": "c0723d32"
   },
   "source": [
    "**Распределение правильных ответов**"
   ]
  },
  {
   "cell_type": "code",
   "execution_count": 35,
   "id": "b62804db",
   "metadata": {
    "id": "b62804db"
   },
   "outputs": [
    {
     "name": "stdout",
     "output_type": "stream",
     "text": [
      "\n",
      "Распределение правильных ответов:\n",
      "shape: (3, 2)\n",
      "┌────────────────────┬──────────┐\n",
      "│ answered_correctly ┆ count    │\n",
      "│ ---                ┆ ---      │\n",
      "│ i64                ┆ u32      │\n",
      "╞════════════════════╪══════════╡\n",
      "│ 0                  ┆ 34026673 │\n",
      "│ 1                  ┆ 65244627 │\n",
      "│ -1                 ┆ 1959032  │\n",
      "└────────────────────┴──────────┘\n"
     ]
    }
   ],
   "source": [
    "correct_answers_distribution = train_df['answered_correctly'].value_counts()\n",
    "print(\"\\nРаспределение правильных ответов:\")\n",
    "print(correct_answers_distribution)"
   ]
  },
  {
   "cell_type": "markdown",
   "id": "7039dcef",
   "metadata": {
    "id": "7039dcef"
   },
   "source": [
    "**Распределение типов контента**"
   ]
  },
  {
   "cell_type": "code",
   "execution_count": 36,
   "id": "4afc3f4b",
   "metadata": {
    "id": "4afc3f4b"
   },
   "outputs": [
    {
     "name": "stdout",
     "output_type": "stream",
     "text": [
      "\n",
      "Распределение типов контента:\n",
      "shape: (2, 2)\n",
      "┌─────────────────┬──────────┐\n",
      "│ content_type_id ┆ count    │\n",
      "│ ---             ┆ ---      │\n",
      "│ bool            ┆ u32      │\n",
      "╞═════════════════╪══════════╡\n",
      "│ true            ┆ 1959032  │\n",
      "│ false           ┆ 99271300 │\n",
      "└─────────────────┴──────────┘\n"
     ]
    }
   ],
   "source": [
    "content_type_distribution = train_df['content_type_id'].value_counts()\n",
    "print(\"\\nРаспределение типов контента:\")\n",
    "print(content_type_distribution)"
   ]
  },
  {
   "cell_type": "markdown",
   "id": "19d953cc",
   "metadata": {},
   "source": [
    "False означает, что пользователю был задан вопрос. True означает, что пользователь смотрел лекцию."
   ]
  },
  {
   "cell_type": "markdown",
   "id": "6d667f2e",
   "metadata": {},
   "source": [
    "Посчитаем количество уникальных идентификаторов content_id"
   ]
  },
  {
   "cell_type": "code",
   "execution_count": 37,
   "id": "c9a7d308",
   "metadata": {},
   "outputs": [
    {
     "name": "stdout",
     "output_type": "stream",
     "text": [
      "Всего 13782 уникальных идентификаторов, из которых 13523 - вопросы.\n"
     ]
    }
   ],
   "source": [
    "# Подсчет уникальных идентификаторов content_id\n",
    "total_unique_content_ids = train_df['content_id'].unique().shape[0]\n",
    "\n",
    "# Фильтрация по content_type_id == False и подсчет уникальных content_id\n",
    "questions_unique_content_ids = train_df.filter(pl.col('content_type_id') == False)['content_id'].unique().shape[0]\n",
    "\n",
    "# Вывод результата\n",
    "print(f'Всего {total_unique_content_ids} уникальных идентификаторов, из которых {questions_unique_content_ids} - вопросы.')"
   ]
  },
  {
   "cell_type": "markdown",
   "id": "99e0fca7",
   "metadata": {},
   "source": [
    "Импортируем библиотеки для отображения информации"
   ]
  },
  {
   "cell_type": "code",
   "execution_count": 38,
   "id": "96dbc566",
   "metadata": {},
   "outputs": [],
   "source": [
    "import polars as pl\n",
    "import matplotlib.pyplot as plt\n",
    "from matplotlib.ticker import FuncFormatter\n",
    "import altair as alt"
   ]
  },
  {
   "cell_type": "code",
   "execution_count": 39,
   "id": "0f6e0204",
   "metadata": {
    "scrolled": true
   },
   "outputs": [
    {
     "data": {
      "text/html": [
       "\n",
       "<style>\n",
       "  #altair-viz-c094b173121a4e4da1a83b1175f7ef4c.vega-embed {\n",
       "    width: 100%;\n",
       "    display: flex;\n",
       "  }\n",
       "\n",
       "  #altair-viz-c094b173121a4e4da1a83b1175f7ef4c.vega-embed details,\n",
       "  #altair-viz-c094b173121a4e4da1a83b1175f7ef4c.vega-embed details summary {\n",
       "    position: relative;\n",
       "  }\n",
       "</style>\n",
       "<div id=\"altair-viz-c094b173121a4e4da1a83b1175f7ef4c\"></div>\n",
       "<script type=\"text/javascript\">\n",
       "  var VEGA_DEBUG = (typeof VEGA_DEBUG == \"undefined\") ? {} : VEGA_DEBUG;\n",
       "  (function(spec, embedOpt){\n",
       "    let outputDiv = document.currentScript.previousElementSibling;\n",
       "    if (outputDiv.id !== \"altair-viz-c094b173121a4e4da1a83b1175f7ef4c\") {\n",
       "      outputDiv = document.getElementById(\"altair-viz-c094b173121a4e4da1a83b1175f7ef4c\");\n",
       "    }\n",
       "    const paths = {\n",
       "      \"vega\": \"https://cdn.jsdelivr.net/npm/vega@5?noext\",\n",
       "      \"vega-lib\": \"https://cdn.jsdelivr.net/npm/vega-lib?noext\",\n",
       "      \"vega-lite\": \"https://cdn.jsdelivr.net/npm/vega-lite@5.20.1?noext\",\n",
       "      \"vega-embed\": \"https://cdn.jsdelivr.net/npm/vega-embed@6?noext\",\n",
       "    };\n",
       "\n",
       "    function maybeLoadScript(lib, version) {\n",
       "      var key = `${lib.replace(\"-\", \"\")}_version`;\n",
       "      return (VEGA_DEBUG[key] == version) ?\n",
       "        Promise.resolve(paths[lib]) :\n",
       "        new Promise(function(resolve, reject) {\n",
       "          var s = document.createElement('script');\n",
       "          document.getElementsByTagName(\"head\")[0].appendChild(s);\n",
       "          s.async = true;\n",
       "          s.onload = () => {\n",
       "            VEGA_DEBUG[key] = version;\n",
       "            return resolve(paths[lib]);\n",
       "          };\n",
       "          s.onerror = () => reject(`Error loading script: ${paths[lib]}`);\n",
       "          s.src = paths[lib];\n",
       "        });\n",
       "    }\n",
       "\n",
       "    function showError(err) {\n",
       "      outputDiv.innerHTML = `<div class=\"error\" style=\"color:red;\">${err}</div>`;\n",
       "      throw err;\n",
       "    }\n",
       "\n",
       "    function displayChart(vegaEmbed) {\n",
       "      vegaEmbed(outputDiv, spec, embedOpt)\n",
       "        .catch(err => showError(`Javascript Error: ${err.message}<br>This usually means there's a typo in your chart specification. See the javascript console for the full traceback.`));\n",
       "    }\n",
       "\n",
       "    if(typeof define === \"function\" && define.amd) {\n",
       "      requirejs.config({paths});\n",
       "      require([\"vega-embed\"], displayChart, err => showError(`Error loading script: ${err.message}`));\n",
       "    } else {\n",
       "      maybeLoadScript(\"vega\", \"5\")\n",
       "        .then(() => maybeLoadScript(\"vega-lite\", \"5.20.1\"))\n",
       "        .then(() => maybeLoadScript(\"vega-embed\", \"6\"))\n",
       "        .catch(showError)\n",
       "        .then(() => displayChart(vegaEmbed));\n",
       "    }\n",
       "  })({\"config\": {\"view\": {\"continuousWidth\": 300, \"continuousHeight\": 300, \"strokeWidth\": 0}, \"axis\": {\"labelFontSize\": 12, \"titleFontSize\": 14}, \"title\": {\"fontSize\": 16}}, \"data\": {\"name\": \"data-fd5973def813efc6077ffce52ab9c053\"}, \"mark\": {\"type\": \"bar\"}, \"encoding\": {\"x\": {\"field\": \"content_id\", \"sort\": \"-y\", \"title\": \"Content ID\", \"type\": \"nominal\"}, \"y\": {\"field\": \"count\", \"title\": \"Count\", \"type\": \"quantitative\"}}, \"title\": \"30 \\u0441\\u0430\\u043c\\u044b\\u0445 \\u043f\\u043e\\u043f\\u0443\\u043b\\u044f\\u0440\\u043d\\u044b\\u0445 content_id\", \"$schema\": \"https://vega.github.io/schema/vega-lite/v5.20.1.json\", \"datasets\": {\"data-fd5973def813efc6077ffce52ab9c053\": [{\"content_id\": 10007, \"count\": 1}, {\"content_id\": 1486, \"count\": 1}, {\"content_id\": 21169, \"count\": 1}, {\"content_id\": 14429, \"count\": 1}, {\"content_id\": 1484, \"count\": 1}, {\"content_id\": 10005, \"count\": 1}, {\"content_id\": 10008, \"count\": 1}, {\"content_id\": 1485, \"count\": 1}, {\"content_id\": 10006, \"count\": 1}, {\"content_id\": 5823, \"count\": 1}, {\"content_id\": 10033, \"count\": 1}, {\"content_id\": 18903, \"count\": 2}, {\"content_id\": 28569, \"count\": 2}, {\"content_id\": 3557, \"count\": 3}, {\"content_id\": 22326, \"count\": 3}, {\"content_id\": 23239, \"count\": 4}, {\"content_id\": 32604, \"count\": 4}, {\"content_id\": 20852, \"count\": 5}, {\"content_id\": 3572, \"count\": 5}, {\"content_id\": 25876, \"count\": 8}, {\"content_id\": 23144, \"count\": 9}, {\"content_id\": 22353, \"count\": 9}, {\"content_id\": 7548, \"count\": 11}, {\"content_id\": 7549, \"count\": 11}, {\"content_id\": 7546, \"count\": 11}, {\"content_id\": 7547, \"count\": 11}, {\"content_id\": 7550, \"count\": 12}, {\"content_id\": 7566, \"count\": 14}, {\"content_id\": 7567, \"count\": 14}, {\"content_id\": 7568, \"count\": 15}]}}, {\"mode\": \"vega-lite\"});\n",
       "</script>"
      ],
      "text/plain": [
       "alt.Chart(...)"
      ]
     },
     "metadata": {},
     "output_type": "display_data"
    }
   ],
   "source": [
    "# Подсчет частоты content_id\n",
    "cids = train_df.group_by('content_id').agg(pl.count().alias('count')).sort('count').head(30)\n",
    "\n",
    "# Построение графика с использованием altair\n",
    "chart = alt.Chart(cids).mark_bar().encode(\n",
    "    x=alt.X('content_id:N', sort='-y', title='Content ID'),\n",
    "    y=alt.Y('count:Q', title='Count')\n",
    ").properties(\n",
    "    title=\"30 самых популярных content_id\"\n",
    ")\n",
    "\n",
    "chart.configure_axis(\n",
    "    labelAngle=90\n",
    ").configure_title(\n",
    "    fontSize=16\n",
    ").configure_axis(\n",
    "    labelFontSize=12,\n",
    "    titleFontSize=14\n",
    ").configure_view(\n",
    "    strokeWidth=0\n",
    ").display()"
   ]
  },
  {
   "cell_type": "code",
   "execution_count": 40,
   "id": "e03e5d3c",
   "metadata": {
    "scrolled": true
   },
   "outputs": [
    {
     "name": "stdout",
     "output_type": "stream",
     "text": [
      "Всего 10000 уникальных пакетов вопросов или лекций.\n"
     ]
    }
   ],
   "source": [
    "task_container_id_unique = train_df['task_container_id'].unique()\n",
    "print(f'Всего {len(task_container_id_unique)} уникальных пакетов вопросов или лекций.')"
   ]
  },
  {
   "cell_type": "code",
   "execution_count": 41,
   "id": "52cf2c66",
   "metadata": {
    "scrolled": false
   },
   "outputs": [
    {
     "data": {
      "text/html": [
       "<div><style>\n",
       ".dataframe > thead > tr,\n",
       ".dataframe > tbody > tr {\n",
       "  text-align: right;\n",
       "  white-space: pre-wrap;\n",
       "}\n",
       "</style>\n",
       "<small>shape: (5, 2)</small><table border=\"1\" class=\"dataframe\"><thead><tr><th>user_answer</th><th>count</th></tr><tr><td>i8</td><td>u32</td></tr></thead><tbody><tr><td>1</td><td>26990007</td></tr><tr><td>-1</td><td>1959032</td></tr><tr><td>0</td><td>28186489</td></tr><tr><td>2</td><td>18010020</td></tr><tr><td>3</td><td>26084784</td></tr></tbody></table></div>"
      ],
      "text/plain": [
       "shape: (5, 2)\n",
       "┌─────────────┬──────────┐\n",
       "│ user_answer ┆ count    │\n",
       "│ ---         ┆ ---      │\n",
       "│ i8          ┆ u32      │\n",
       "╞═════════════╪══════════╡\n",
       "│ 1           ┆ 26990007 │\n",
       "│ -1          ┆ 1959032  │\n",
       "│ 0           ┆ 28186489 │\n",
       "│ 2           ┆ 18010020 │\n",
       "│ 3           ┆ 26084784 │\n",
       "└─────────────┴──────────┘"
      ]
     },
     "execution_count": 41,
     "metadata": {},
     "output_type": "execute_result"
    }
   ],
   "source": [
    "train_df['user_answer'].value_counts()"
   ]
  },
  {
   "cell_type": "markdown",
   "id": "4dbad148",
   "metadata": {},
   "source": [
    "prior_question_had_explanation содержит 100,837,826 записей и 392,506 пропущенных значений.\n",
    "Среднее значение prior_question_had_explanation составляет около 0.889404, что указывает на то, что в 88.9% случаев учащиеся знакомились с объяснением.\n",
    "\n",
    "prior_question_elapsed_time содержит 98,878,794 записей (2,351,538 пропущенных значений). Среднее значение prior_question_elapsed_time составляет около 25423.810547 миллисекунд. Что означает, что в среднем пользователь тратил 25 секунд на вопрос, если "
   ]
  },
  {
   "cell_type": "markdown",
   "id": "1ceab65f",
   "metadata": {},
   "source": [
    "**Рассчитаем зависимость между prior_question_had_explanation и answered_correctly**\n"
   ]
  },
  {
   "cell_type": "code",
   "execution_count": 42,
   "id": "b6da0619",
   "metadata": {
    "scrolled": false
   },
   "outputs": [
    {
     "name": "stdout",
     "output_type": "stream",
     "text": [
      "shape: (7, 3)\n",
      "┌────────────────────┬────────────────────────────────┬──────────┐\n",
      "│ answered_correctly ┆ prior_question_had_explanation ┆ count    │\n",
      "│ ---                ┆ ---                            ┆ ---      │\n",
      "│ i64                ┆ bool                           ┆ u32      │\n",
      "╞════════════════════╪════════════════════════════════╪══════════╡\n",
      "│ 1                  ┆ false                          ┆ 4602399  │\n",
      "│ 1                  ┆ null                           ┆ 266940   │\n",
      "│ 1                  ┆ true                           ┆ 60375288 │\n",
      "│ 0                  ┆ null                           ┆ 125566   │\n",
      "│ 0                  ┆ false                          ┆ 4590835  │\n",
      "│ 0                  ┆ true                           ┆ 29310272 │\n",
      "│ -1                 ┆ false                          ┆ 1959032  │\n",
      "└────────────────────┴────────────────────────────────┴──────────┘\n"
     ]
    }
   ],
   "source": [
    "# Сгруппируем данные по answered_correctly и prior_question_had_explanation\n",
    "result = train_df.group_by(['answered_correctly', 'prior_question_had_explanation']).agg(\n",
    "    pl.count().alias('count')\n",
    ")\n",
    "\n",
    "# Вывести результат\n",
    "print(result)"
   ]
  },
  {
   "cell_type": "code",
   "execution_count": 43,
   "id": "0b3c5c08",
   "metadata": {
    "scrolled": true
   },
   "outputs": [
    {
     "data": {
      "text/html": [
       "\n",
       "<style>\n",
       "  #altair-viz-df872f2a62764ea6a690010dc6516a3f.vega-embed {\n",
       "    width: 100%;\n",
       "    display: flex;\n",
       "  }\n",
       "\n",
       "  #altair-viz-df872f2a62764ea6a690010dc6516a3f.vega-embed details,\n",
       "  #altair-viz-df872f2a62764ea6a690010dc6516a3f.vega-embed details summary {\n",
       "    position: relative;\n",
       "  }\n",
       "</style>\n",
       "<div id=\"altair-viz-df872f2a62764ea6a690010dc6516a3f\"></div>\n",
       "<script type=\"text/javascript\">\n",
       "  var VEGA_DEBUG = (typeof VEGA_DEBUG == \"undefined\") ? {} : VEGA_DEBUG;\n",
       "  (function(spec, embedOpt){\n",
       "    let outputDiv = document.currentScript.previousElementSibling;\n",
       "    if (outputDiv.id !== \"altair-viz-df872f2a62764ea6a690010dc6516a3f\") {\n",
       "      outputDiv = document.getElementById(\"altair-viz-df872f2a62764ea6a690010dc6516a3f\");\n",
       "    }\n",
       "    const paths = {\n",
       "      \"vega\": \"https://cdn.jsdelivr.net/npm/vega@5?noext\",\n",
       "      \"vega-lib\": \"https://cdn.jsdelivr.net/npm/vega-lib?noext\",\n",
       "      \"vega-lite\": \"https://cdn.jsdelivr.net/npm/vega-lite@5.20.1?noext\",\n",
       "      \"vega-embed\": \"https://cdn.jsdelivr.net/npm/vega-embed@6?noext\",\n",
       "    };\n",
       "\n",
       "    function maybeLoadScript(lib, version) {\n",
       "      var key = `${lib.replace(\"-\", \"\")}_version`;\n",
       "      return (VEGA_DEBUG[key] == version) ?\n",
       "        Promise.resolve(paths[lib]) :\n",
       "        new Promise(function(resolve, reject) {\n",
       "          var s = document.createElement('script');\n",
       "          document.getElementsByTagName(\"head\")[0].appendChild(s);\n",
       "          s.async = true;\n",
       "          s.onload = () => {\n",
       "            VEGA_DEBUG[key] = version;\n",
       "            return resolve(paths[lib]);\n",
       "          };\n",
       "          s.onerror = () => reject(`Error loading script: ${paths[lib]}`);\n",
       "          s.src = paths[lib];\n",
       "        });\n",
       "    }\n",
       "\n",
       "    function showError(err) {\n",
       "      outputDiv.innerHTML = `<div class=\"error\" style=\"color:red;\">${err}</div>`;\n",
       "      throw err;\n",
       "    }\n",
       "\n",
       "    function displayChart(vegaEmbed) {\n",
       "      vegaEmbed(outputDiv, spec, embedOpt)\n",
       "        .catch(err => showError(`Javascript Error: ${err.message}<br>This usually means there's a typo in your chart specification. See the javascript console for the full traceback.`));\n",
       "    }\n",
       "\n",
       "    if(typeof define === \"function\" && define.amd) {\n",
       "      requirejs.config({paths});\n",
       "      require([\"vega-embed\"], displayChart, err => showError(`Error loading script: ${err.message}`));\n",
       "    } else {\n",
       "      maybeLoadScript(\"vega\", \"5\")\n",
       "        .then(() => maybeLoadScript(\"vega-lite\", \"5.20.1\"))\n",
       "        .then(() => maybeLoadScript(\"vega-embed\", \"6\"))\n",
       "        .catch(showError)\n",
       "        .then(() => displayChart(vegaEmbed));\n",
       "    }\n",
       "  })({\"config\": {\"view\": {\"continuousWidth\": 300, \"continuousHeight\": 300, \"strokeWidth\": 0}, \"axis\": {\"labelFontSize\": 12, \"titleFontSize\": 14}, \"title\": {\"fontSize\": 16}}, \"data\": {\"name\": \"data-a9bd16a8139fb11b8f8b9e582a6cce94\"}, \"mark\": {\"type\": \"bar\"}, \"encoding\": {\"color\": {\"field\": \"prior_question_had_explanation\", \"title\": \"Had Explanation\", \"type\": \"nominal\"}, \"x\": {\"field\": \"answered_correctly\", \"title\": \"Answered Correctly\", \"type\": \"nominal\"}, \"y\": {\"field\": \"count\", \"title\": \"Count\", \"type\": \"quantitative\"}}, \"title\": \"Frequency of Explanations After Correct/Incorrect Answers\", \"$schema\": \"https://vega.github.io/schema/vega-lite/v5.20.1.json\", \"datasets\": {\"data-a9bd16a8139fb11b8f8b9e582a6cce94\": [{\"answered_correctly\": 1, \"prior_question_had_explanation\": false, \"count\": 4602399}, {\"answered_correctly\": 1, \"prior_question_had_explanation\": null, \"count\": 266940}, {\"answered_correctly\": 1, \"prior_question_had_explanation\": true, \"count\": 60375288}, {\"answered_correctly\": 0, \"prior_question_had_explanation\": null, \"count\": 125566}, {\"answered_correctly\": 0, \"prior_question_had_explanation\": false, \"count\": 4590835}, {\"answered_correctly\": 0, \"prior_question_had_explanation\": true, \"count\": 29310272}, {\"answered_correctly\": -1, \"prior_question_had_explanation\": false, \"count\": 1959032}]}}, {\"mode\": \"vega-lite\"});\n",
       "</script>"
      ],
      "text/plain": [
       "alt.Chart(...)"
      ]
     },
     "metadata": {},
     "output_type": "display_data"
    }
   ],
   "source": [
    "# Построение графика с использованием altair\n",
    "chart = alt.Chart(result).mark_bar().encode(\n",
    "    x=alt.X('answered_correctly:N', title='Answered Correctly'),\n",
    "    y=alt.Y('count:Q', title='Count'),\n",
    "    color=alt.Color('prior_question_had_explanation:N', title='Had Explanation')\n",
    ").properties(\n",
    "    title=\"Frequency of Explanations After Correct/Incorrect Answers\"\n",
    ")\n",
    "\n",
    "chart.configure_axis(\n",
    "    labelAngle=0\n",
    ").configure_title(\n",
    "    fontSize=16\n",
    ").configure_axis(\n",
    "    labelFontSize=12,\n",
    "    titleFontSize=14\n",
    ").configure_view(\n",
    "    strokeWidth=0\n",
    ").display()"
   ]
  },
  {
   "cell_type": "markdown",
   "id": "dbba19bb",
   "metadata": {},
   "source": [
    "**Вывод 1**:\n",
    "\n",
    "Анализ данных показывает, что наличие разъяснения на предыдущий вопрос значительно влияет на правильность ответа на следующий вопрос. (60,375,288 раз против 4,602,399 раз без разъяснения). Учащиеся чаще отвечают правильно, когда они получали разъяснения, и чаще ошибаются, когда разъяснения не было."
   ]
  },
  {
   "cell_type": "markdown",
   "id": "339414d2",
   "metadata": {},
   "source": [
    "Посмотрим зависимость правильности ответов от общего времени"
   ]
  },
  {
   "cell_type": "code",
   "execution_count": 44,
   "id": "e97376d4",
   "metadata": {
    "scrolled": false
   },
   "outputs": [
    {
     "data": {
      "text/html": [
       "\n",
       "<style>\n",
       "  #altair-viz-756462063fb64074886fe14dcce7c4ec.vega-embed {\n",
       "    width: 100%;\n",
       "    display: flex;\n",
       "  }\n",
       "\n",
       "  #altair-viz-756462063fb64074886fe14dcce7c4ec.vega-embed details,\n",
       "  #altair-viz-756462063fb64074886fe14dcce7c4ec.vega-embed details summary {\n",
       "    position: relative;\n",
       "  }\n",
       "</style>\n",
       "<div id=\"altair-viz-756462063fb64074886fe14dcce7c4ec\"></div>\n",
       "<script type=\"text/javascript\">\n",
       "  var VEGA_DEBUG = (typeof VEGA_DEBUG == \"undefined\") ? {} : VEGA_DEBUG;\n",
       "  (function(spec, embedOpt){\n",
       "    let outputDiv = document.currentScript.previousElementSibling;\n",
       "    if (outputDiv.id !== \"altair-viz-756462063fb64074886fe14dcce7c4ec\") {\n",
       "      outputDiv = document.getElementById(\"altair-viz-756462063fb64074886fe14dcce7c4ec\");\n",
       "    }\n",
       "    const paths = {\n",
       "      \"vega\": \"https://cdn.jsdelivr.net/npm/vega@5?noext\",\n",
       "      \"vega-lib\": \"https://cdn.jsdelivr.net/npm/vega-lib?noext\",\n",
       "      \"vega-lite\": \"https://cdn.jsdelivr.net/npm/vega-lite@5.20.1?noext\",\n",
       "      \"vega-embed\": \"https://cdn.jsdelivr.net/npm/vega-embed@6?noext\",\n",
       "    };\n",
       "\n",
       "    function maybeLoadScript(lib, version) {\n",
       "      var key = `${lib.replace(\"-\", \"\")}_version`;\n",
       "      return (VEGA_DEBUG[key] == version) ?\n",
       "        Promise.resolve(paths[lib]) :\n",
       "        new Promise(function(resolve, reject) {\n",
       "          var s = document.createElement('script');\n",
       "          document.getElementsByTagName(\"head\")[0].appendChild(s);\n",
       "          s.async = true;\n",
       "          s.onload = () => {\n",
       "            VEGA_DEBUG[key] = version;\n",
       "            return resolve(paths[lib]);\n",
       "          };\n",
       "          s.onerror = () => reject(`Error loading script: ${paths[lib]}`);\n",
       "          s.src = paths[lib];\n",
       "        });\n",
       "    }\n",
       "\n",
       "    function showError(err) {\n",
       "      outputDiv.innerHTML = `<div class=\"error\" style=\"color:red;\">${err}</div>`;\n",
       "      throw err;\n",
       "    }\n",
       "\n",
       "    function displayChart(vegaEmbed) {\n",
       "      vegaEmbed(outputDiv, spec, embedOpt)\n",
       "        .catch(err => showError(`Javascript Error: ${err.message}<br>This usually means there's a typo in your chart specification. See the javascript console for the full traceback.`));\n",
       "    }\n",
       "\n",
       "    if(typeof define === \"function\" && define.amd) {\n",
       "      requirejs.config({paths});\n",
       "      require([\"vega-embed\"], displayChart, err => showError(`Error loading script: ${err.message}`));\n",
       "    } else {\n",
       "      maybeLoadScript(\"vega\", \"5\")\n",
       "        .then(() => maybeLoadScript(\"vega-lite\", \"5.20.1\"))\n",
       "        .then(() => maybeLoadScript(\"vega-embed\", \"6\"))\n",
       "        .catch(showError)\n",
       "        .then(() => displayChart(vegaEmbed));\n",
       "    }\n",
       "  })({\"config\": {\"view\": {\"continuousWidth\": 300, \"continuousHeight\": 300, \"strokeWidth\": 0}, \"axis\": {\"labelFontSize\": 12, \"titleFontSize\": 14}, \"title\": {\"fontSize\": 16}}, \"data\": {\"name\": \"data-d29c28e59b2f749298fe02c76253fbc4\"}, \"mark\": {\"type\": \"line\"}, \"encoding\": {\"x\": {\"field\": \"time\", \"title\": \"Time\", \"type\": \"quantitative\"}, \"y\": {\"field\": \"mean\", \"title\": \"Mean Answered Correctly\", \"type\": \"quantitative\"}}, \"title\": \"Mean Answered Correctly by Time\", \"$schema\": \"https://vega.github.io/schema/vega-lite/v5.20.1.json\", \"datasets\": {\"data-d29c28e59b2f749298fe02c76253fbc4\": [{\"time\": 1, \"mean\": 0.6250624148607103}, {\"time\": 2, \"mean\": 0.625157646708752}, {\"time\": 3, \"mean\": 0.6269586324930936}, {\"time\": 4, \"mean\": 0.6276226957410297}, {\"time\": 5, \"mean\": 0.6297280666492342}, {\"time\": 6, \"mean\": 0.6320897665128564}, {\"time\": 7, \"mean\": 0.6349265133143773}, {\"time\": 8, \"mean\": 0.6375458647417155}, {\"time\": 9, \"mean\": 0.6378937303479598}, {\"time\": 10, \"mean\": 0.6386218793573529}, {\"time\": 11, \"mean\": 0.6363023616037354}, {\"time\": 12, \"mean\": 0.6395024944607997}, {\"time\": 13, \"mean\": 0.6409721517117882}, {\"time\": 14, \"mean\": 0.641310190459381}, {\"time\": 15, \"mean\": 0.6413843143552138}, {\"time\": 16, \"mean\": 0.6435086035295321}, {\"time\": 17, \"mean\": 0.6436410836806453}, {\"time\": 18, \"mean\": 0.6429206595464908}, {\"time\": 19, \"mean\": 0.6431401345674375}, {\"time\": 20, \"mean\": 0.63821153500154}, {\"time\": 21, \"mean\": 0.6394584130667182}, {\"time\": 22, \"mean\": 0.641042408476665}, {\"time\": 23, \"mean\": 0.6411975650134153}, {\"time\": 24, \"mean\": 0.6424680633287624}, {\"time\": 25, \"mean\": 0.6415703747767467}, {\"time\": 26, \"mean\": 0.6425460147893048}, {\"time\": 27, \"mean\": 0.6447018595179534}, {\"time\": 28, \"mean\": 0.6446501411986194}, {\"time\": 29, \"mean\": 0.643572279505402}, {\"time\": 30, \"mean\": 0.6414880092815443}, {\"time\": 31, \"mean\": 0.6372835245925754}, {\"time\": 32, \"mean\": 0.639854184153137}, {\"time\": 33, \"mean\": 0.6377181082471816}, {\"time\": 34, \"mean\": 0.6406499722920498}, {\"time\": 35, \"mean\": 0.6443084990168233}, {\"time\": 36, \"mean\": 0.6445286971093422}, {\"time\": 37, \"mean\": 0.646203031007858}, {\"time\": 38, \"mean\": 0.6439329064173086}, {\"time\": 39, \"mean\": 0.6441177019560997}, {\"time\": 40, \"mean\": 0.6413039162795694}, {\"time\": 41, \"mean\": 0.6416185779410256}, {\"time\": 42, \"mean\": 0.641775222617768}, {\"time\": 43, \"mean\": 0.6441502125534428}, {\"time\": 44, \"mean\": 0.6440715395315308}, {\"time\": 45, \"mean\": 0.6419130954976147}, {\"time\": 46, \"mean\": 0.6452655692518086}, {\"time\": 47, \"mean\": 0.6439338648872597}, {\"time\": 48, \"mean\": 0.6491745765890953}, {\"time\": 49, \"mean\": 0.6467585192232173}, {\"time\": 50, \"mean\": 0.6474821326785636}, {\"time\": 51, \"mean\": 0.6469251255254012}, {\"time\": 52, \"mean\": 0.6420292859431243}, {\"time\": 53, \"mean\": 0.6477769517925817}, {\"time\": 54, \"mean\": 0.650018370533664}, {\"time\": 55, \"mean\": 0.6485641591191309}, {\"time\": 56, \"mean\": 0.6492274558675846}, {\"time\": 57, \"mean\": 0.6497208395956318}, {\"time\": 58, \"mean\": 0.6472380436286491}, {\"time\": 59, \"mean\": 0.6450726248793658}, {\"time\": 60, \"mean\": 0.64668701517035}, {\"time\": 61, \"mean\": 0.6454788756454789}, {\"time\": 62, \"mean\": 0.6444134690775383}, {\"time\": 63, \"mean\": 0.6436089656216871}, {\"time\": 64, \"mean\": 0.6470848444327384}, {\"time\": 65, \"mean\": 0.6458646237588831}, {\"time\": 66, \"mean\": 0.648034128193512}, {\"time\": 67, \"mean\": 0.6460419574760777}, {\"time\": 68, \"mean\": 0.6450778018652835}, {\"time\": 69, \"mean\": 0.6473872345362133}, {\"time\": 70, \"mean\": 0.6430910160455505}, {\"time\": 71, \"mean\": 0.650186391986543}, {\"time\": 72, \"mean\": 0.6538805744637164}, {\"time\": 73, \"mean\": 0.6540663638302239}, {\"time\": 74, \"mean\": 0.6557379230803354}, {\"time\": 75, \"mean\": 0.6541083029374312}, {\"time\": 76, \"mean\": 0.6502655562970209}, {\"time\": 77, \"mean\": 0.6558100611443303}, {\"time\": 78, \"mean\": 0.6545139539239558}, {\"time\": 79, \"mean\": 0.6520166395369867}, {\"time\": 80, \"mean\": 0.6543147964250249}, {\"time\": 81, \"mean\": 0.6475539919365193}, {\"time\": 82, \"mean\": 0.6428057277770313}, {\"time\": 83, \"mean\": 0.6489608538566077}, {\"time\": 84, \"mean\": 0.645895987866804}, {\"time\": 85, \"mean\": 0.646861887578917}, {\"time\": 86, \"mean\": 0.6476546735969381}, {\"time\": 87, \"mean\": 0.6479057818318275}, {\"time\": 88, \"mean\": 0.6422941334926157}, {\"time\": 89, \"mean\": 0.6456026249487314}, {\"time\": 90, \"mean\": 0.6424980819395427}, {\"time\": 91, \"mean\": 0.6490712160395985}]}}, {\"mode\": \"vega-lite\"});\n",
       "</script>"
      ],
      "text/plain": [
       "alt.Chart(...)"
      ]
     },
     "metadata": {},
     "output_type": "display_data"
    }
   ],
   "source": [
    "result = train_df.filter(\n",
    "    # отрезаем выбросы выше 90-го перцентиля\n",
    "    (pl.col('timestamp') < pl.col('timestamp').quantile(0.9)) &\n",
    "    # отрезаем выбросы ниже относительно малого значения\n",
    "    (pl.col('timestamp') > 300000000)\n",
    ").group_by(\n",
    "    # группируем данные по времени, сгладив результаты\n",
    "    (pl.col('timestamp') // 250000000).alias('time'),\n",
    ").agg(\n",
    "    # для аггрегации возьмем среднее количество правильных ответов\n",
    "    pl.col('answered_correctly').mean().alias('mean'),\n",
    ").sort('time')\n",
    "\n",
    "# Построение линейного графика с использованием altair\n",
    "chart = alt.Chart(result).mark_line().encode(\n",
    "    x=alt.X('time:Q', title='Time'),\n",
    "    y=alt.Y('mean:Q', title='Mean Answered Correctly')\n",
    ").properties(\n",
    "    title=\"Mean Answered Correctly by Time\"\n",
    ")\n",
    "\n",
    "chart.configure_axis(\n",
    "    labelAngle=0\n",
    ").configure_title(\n",
    "    fontSize=16\n",
    ").configure_axis(\n",
    "    labelFontSize=12,\n",
    "    titleFontSize=14\n",
    ").configure_view(\n",
    "    strokeWidth=0\n",
    ").display()"
   ]
  },
  {
   "cell_type": "code",
   "execution_count": 45,
   "id": "bbcf4468",
   "metadata": {},
   "outputs": [
    {
     "name": "stdout",
     "output_type": "stream",
     "text": [
      "Коэффициент корреляции Пирсона: 0.025452223850250012\n"
     ]
    }
   ],
   "source": [
    "# Фильтрация данных\n",
    "filtered_df = train_df.filter(\n",
    "    pl.col('timestamp').is_not_null() &\n",
    "    pl.col('answered_correctly').is_not_null()\n",
    ")\n",
    "\n",
    "# Расчет корреляции\n",
    "correlation = filtered_df.select(\n",
    "    pl.corr('timestamp', 'answered_correctly')\n",
    ").to_series().item()\n",
    "\n",
    "# Вывод результата\n",
    "print(f\"Коэффициент корреляции Пирсона: {correlation}\")"
   ]
  },
  {
   "cell_type": "markdown",
   "id": "7e59e103",
   "metadata": {},
   "source": [
    "Как видим, корелляция времени и правильных ответов слабая"
   ]
  },
  {
   "cell_type": "markdown",
   "id": "9241581d",
   "metadata": {},
   "source": [
    "Для большей информативности посмотрим, как зависит среднее количество правильных ответов от полного времени обучения."
   ]
  },
  {
   "cell_type": "code",
   "execution_count": 46,
   "id": "69191456",
   "metadata": {},
   "outputs": [
    {
     "name": "stdout",
     "output_type": "stream",
     "text": [
      "shape: (88, 2)\n",
      "┌────────────┬─────────────────────────┐\n",
      "│ time_group ┆ mean_answered_correctly │\n",
      "│ ---        ┆ ---                     │\n",
      "│ i64        ┆ f64                     │\n",
      "╞════════════╪═════════════════════════╡\n",
      "│ 0          ┆ 0.499037                │\n",
      "│ 1          ┆ 0.572325                │\n",
      "│ 2          ┆ 0.576242                │\n",
      "│ 3          ┆ 0.577843                │\n",
      "│ 4          ┆ 0.579758                │\n",
      "│ …          ┆ …                       │\n",
      "│ 83         ┆ 0.634343                │\n",
      "│ 84         ┆ 0.669204                │\n",
      "│ 85         ┆ 0.651755                │\n",
      "│ 86         ┆ 0.624567                │\n",
      "│ 87         ┆ 0.705971                │\n",
      "└────────────┴─────────────────────────┘\n"
     ]
    }
   ],
   "source": [
    "result = train_df.group_by(\n",
    "    pl.col('user_id')\n",
    ").agg(\n",
    "    # количество строк\n",
    "    pl.col('row_id').count().alias('row_count'),\n",
    "    # максимальное значение времени\n",
    "    pl.col('timestamp').max().alias('time'),\n",
    "    # среднее количество правильных ответов\n",
    "    pl.col('answered_correctly').mean().alias('answered_correctly_mean')\n",
    ").filter(\n",
    "    # уберем из выборки результаты с малым количеством строк\n",
    "    pl.col('row_count') > pl.col('row_count').quantile(0.1)\n",
    ").group_by(\n",
    "    # группируем по сглаженному времени\n",
    "    (pl.col('time') // 1000000000).alias('time_group')\n",
    ").agg(\n",
    "    # аггрегируем среднее по правильным ответам\n",
    "    pl.col('answered_correctly_mean').mean().alias('mean_answered_correctly')\n",
    ").sort('time_group')\n",
    "\n",
    "print(result)"
   ]
  },
  {
   "cell_type": "code",
   "execution_count": 47,
   "id": "129d2968",
   "metadata": {
    "scrolled": true
   },
   "outputs": [
    {
     "data": {
      "text/html": [
       "\n",
       "<style>\n",
       "  #altair-viz-0cc5447b989b444395e9ca2fff44a47d.vega-embed {\n",
       "    width: 100%;\n",
       "    display: flex;\n",
       "  }\n",
       "\n",
       "  #altair-viz-0cc5447b989b444395e9ca2fff44a47d.vega-embed details,\n",
       "  #altair-viz-0cc5447b989b444395e9ca2fff44a47d.vega-embed details summary {\n",
       "    position: relative;\n",
       "  }\n",
       "</style>\n",
       "<div id=\"altair-viz-0cc5447b989b444395e9ca2fff44a47d\"></div>\n",
       "<script type=\"text/javascript\">\n",
       "  var VEGA_DEBUG = (typeof VEGA_DEBUG == \"undefined\") ? {} : VEGA_DEBUG;\n",
       "  (function(spec, embedOpt){\n",
       "    let outputDiv = document.currentScript.previousElementSibling;\n",
       "    if (outputDiv.id !== \"altair-viz-0cc5447b989b444395e9ca2fff44a47d\") {\n",
       "      outputDiv = document.getElementById(\"altair-viz-0cc5447b989b444395e9ca2fff44a47d\");\n",
       "    }\n",
       "    const paths = {\n",
       "      \"vega\": \"https://cdn.jsdelivr.net/npm/vega@5?noext\",\n",
       "      \"vega-lib\": \"https://cdn.jsdelivr.net/npm/vega-lib?noext\",\n",
       "      \"vega-lite\": \"https://cdn.jsdelivr.net/npm/vega-lite@5.20.1?noext\",\n",
       "      \"vega-embed\": \"https://cdn.jsdelivr.net/npm/vega-embed@6?noext\",\n",
       "    };\n",
       "\n",
       "    function maybeLoadScript(lib, version) {\n",
       "      var key = `${lib.replace(\"-\", \"\")}_version`;\n",
       "      return (VEGA_DEBUG[key] == version) ?\n",
       "        Promise.resolve(paths[lib]) :\n",
       "        new Promise(function(resolve, reject) {\n",
       "          var s = document.createElement('script');\n",
       "          document.getElementsByTagName(\"head\")[0].appendChild(s);\n",
       "          s.async = true;\n",
       "          s.onload = () => {\n",
       "            VEGA_DEBUG[key] = version;\n",
       "            return resolve(paths[lib]);\n",
       "          };\n",
       "          s.onerror = () => reject(`Error loading script: ${paths[lib]}`);\n",
       "          s.src = paths[lib];\n",
       "        });\n",
       "    }\n",
       "\n",
       "    function showError(err) {\n",
       "      outputDiv.innerHTML = `<div class=\"error\" style=\"color:red;\">${err}</div>`;\n",
       "      throw err;\n",
       "    }\n",
       "\n",
       "    function displayChart(vegaEmbed) {\n",
       "      vegaEmbed(outputDiv, spec, embedOpt)\n",
       "        .catch(err => showError(`Javascript Error: ${err.message}<br>This usually means there's a typo in your chart specification. See the javascript console for the full traceback.`));\n",
       "    }\n",
       "\n",
       "    if(typeof define === \"function\" && define.amd) {\n",
       "      requirejs.config({paths});\n",
       "      require([\"vega-embed\"], displayChart, err => showError(`Error loading script: ${err.message}`));\n",
       "    } else {\n",
       "      maybeLoadScript(\"vega\", \"5\")\n",
       "        .then(() => maybeLoadScript(\"vega-lite\", \"5.20.1\"))\n",
       "        .then(() => maybeLoadScript(\"vega-embed\", \"6\"))\n",
       "        .catch(showError)\n",
       "        .then(() => displayChart(vegaEmbed));\n",
       "    }\n",
       "  })({\"config\": {\"view\": {\"continuousWidth\": 300, \"continuousHeight\": 300, \"strokeWidth\": 0}, \"axis\": {\"labelFontSize\": 12, \"titleFontSize\": 14}, \"title\": {\"fontSize\": 16}}, \"data\": {\"name\": \"data-4ca550967cb846701adbf8134ecbd8b1\"}, \"mark\": {\"type\": \"line\"}, \"encoding\": {\"x\": {\"field\": \"time_group\", \"title\": \"Time Group\", \"type\": \"quantitative\"}, \"y\": {\"field\": \"mean_answered_correctly\", \"title\": \"Mean Answered Correctly\", \"type\": \"quantitative\"}}, \"title\": \"Mean Answered Correctly by Time Group\", \"$schema\": \"https://vega.github.io/schema/vega-lite/v5.20.1.json\", \"datasets\": {\"data-4ca550967cb846701adbf8134ecbd8b1\": [{\"time_group\": 0, \"mean_answered_correctly\": 0.4990366465030647}, {\"time_group\": 1, \"mean_answered_correctly\": 0.5723249275561091}, {\"time_group\": 2, \"mean_answered_correctly\": 0.5762419932564797}, {\"time_group\": 3, \"mean_answered_correctly\": 0.5778431977168691}, {\"time_group\": 4, \"mean_answered_correctly\": 0.5797579276404479}, {\"time_group\": 5, \"mean_answered_correctly\": 0.5796620452757448}, {\"time_group\": 6, \"mean_answered_correctly\": 0.5778398545179061}, {\"time_group\": 7, \"mean_answered_correctly\": 0.5777077398265997}, {\"time_group\": 8, \"mean_answered_correctly\": 0.5734391353746152}, {\"time_group\": 9, \"mean_answered_correctly\": 0.5780651552364705}, {\"time_group\": 10, \"mean_answered_correctly\": 0.5774876070127607}, {\"time_group\": 11, \"mean_answered_correctly\": 0.5777003922539373}, {\"time_group\": 12, \"mean_answered_correctly\": 0.5735060622971844}, {\"time_group\": 13, \"mean_answered_correctly\": 0.5779044542165669}, {\"time_group\": 14, \"mean_answered_correctly\": 0.5808089431083563}, {\"time_group\": 15, \"mean_answered_correctly\": 0.5817817557560406}, {\"time_group\": 16, \"mean_answered_correctly\": 0.5791025494685195}, {\"time_group\": 17, \"mean_answered_correctly\": 0.5796728087126402}, {\"time_group\": 18, \"mean_answered_correctly\": 0.5817583493896028}, {\"time_group\": 19, \"mean_answered_correctly\": 0.5859718447522074}, {\"time_group\": 20, \"mean_answered_correctly\": 0.587558951673346}, {\"time_group\": 21, \"mean_answered_correctly\": 0.5841177376288562}, {\"time_group\": 22, \"mean_answered_correctly\": 0.5867872703892931}, {\"time_group\": 23, \"mean_answered_correctly\": 0.5911068995298205}, {\"time_group\": 24, \"mean_answered_correctly\": 0.5814703454045821}, {\"time_group\": 25, \"mean_answered_correctly\": 0.5848930590261523}, {\"time_group\": 26, \"mean_answered_correctly\": 0.5874103073393088}, {\"time_group\": 27, \"mean_answered_correctly\": 0.5867009177439291}, {\"time_group\": 28, \"mean_answered_correctly\": 0.584639751322521}, {\"time_group\": 29, \"mean_answered_correctly\": 0.5916283461903031}, {\"time_group\": 30, \"mean_answered_correctly\": 0.5922245621650665}, {\"time_group\": 31, \"mean_answered_correctly\": 0.5911072226969947}, {\"time_group\": 32, \"mean_answered_correctly\": 0.5921959141869322}, {\"time_group\": 33, \"mean_answered_correctly\": 0.5906008729739907}, {\"time_group\": 34, \"mean_answered_correctly\": 0.5938029169252087}, {\"time_group\": 35, \"mean_answered_correctly\": 0.6008224367379611}, {\"time_group\": 36, \"mean_answered_correctly\": 0.5901464702147329}, {\"time_group\": 37, \"mean_answered_correctly\": 0.604550133761809}, {\"time_group\": 38, \"mean_answered_correctly\": 0.5917661306645166}, {\"time_group\": 39, \"mean_answered_correctly\": 0.5966675495208054}, {\"time_group\": 40, \"mean_answered_correctly\": 0.5975716671496184}, {\"time_group\": 41, \"mean_answered_correctly\": 0.5944161094468298}, {\"time_group\": 42, \"mean_answered_correctly\": 0.6007649212786468}, {\"time_group\": 43, \"mean_answered_correctly\": 0.6003648024309385}, {\"time_group\": 44, \"mean_answered_correctly\": 0.6068440341709388}, {\"time_group\": 45, \"mean_answered_correctly\": 0.6004923394280708}, {\"time_group\": 46, \"mean_answered_correctly\": 0.6069159922184696}, {\"time_group\": 47, \"mean_answered_correctly\": 0.6108587301052257}, {\"time_group\": 48, \"mean_answered_correctly\": 0.5985777961011487}, {\"time_group\": 49, \"mean_answered_correctly\": 0.6117970121546875}, {\"time_group\": 50, \"mean_answered_correctly\": 0.603070698534528}, {\"time_group\": 51, \"mean_answered_correctly\": 0.5969746140066069}, {\"time_group\": 52, \"mean_answered_correctly\": 0.6095423942954543}, {\"time_group\": 53, \"mean_answered_correctly\": 0.6173001507519355}, {\"time_group\": 54, \"mean_answered_correctly\": 0.6148368550731557}, {\"time_group\": 55, \"mean_answered_correctly\": 0.6116060937414284}, {\"time_group\": 56, \"mean_answered_correctly\": 0.6138967484359348}, {\"time_group\": 57, \"mean_answered_correctly\": 0.6186858985073924}, {\"time_group\": 58, \"mean_answered_correctly\": 0.6189186387729635}, {\"time_group\": 59, \"mean_answered_correctly\": 0.6124973609319644}, {\"time_group\": 60, \"mean_answered_correctly\": 0.608882880351564}, {\"time_group\": 61, \"mean_answered_correctly\": 0.6106301791947656}, {\"time_group\": 62, \"mean_answered_correctly\": 0.615582150856434}, {\"time_group\": 63, \"mean_answered_correctly\": 0.6252318795522706}, {\"time_group\": 64, \"mean_answered_correctly\": 0.6186517178340732}, {\"time_group\": 65, \"mean_answered_correctly\": 0.6206377200697358}, {\"time_group\": 66, \"mean_answered_correctly\": 0.6021490890474627}, {\"time_group\": 67, \"mean_answered_correctly\": 0.6234456443958523}, {\"time_group\": 68, \"mean_answered_correctly\": 0.6316476877600015}, {\"time_group\": 69, \"mean_answered_correctly\": 0.6320609941244597}, {\"time_group\": 70, \"mean_answered_correctly\": 0.6494498677487045}, {\"time_group\": 71, \"mean_answered_correctly\": 0.6274534576199283}, {\"time_group\": 72, \"mean_answered_correctly\": 0.6121593032065022}, {\"time_group\": 73, \"mean_answered_correctly\": 0.6339875161243309}, {\"time_group\": 74, \"mean_answered_correctly\": 0.6350947896880018}, {\"time_group\": 75, \"mean_answered_correctly\": 0.6342618971014573}, {\"time_group\": 76, \"mean_answered_correctly\": 0.6175736455371649}, {\"time_group\": 77, \"mean_answered_correctly\": 0.6291989497366515}, {\"time_group\": 78, \"mean_answered_correctly\": 0.6624029491682537}, {\"time_group\": 79, \"mean_answered_correctly\": 0.6224887871108541}, {\"time_group\": 80, \"mean_answered_correctly\": 0.6419564517134093}, {\"time_group\": 81, \"mean_answered_correctly\": 0.6124368108418834}, {\"time_group\": 82, \"mean_answered_correctly\": 0.6884861167470185}, {\"time_group\": 83, \"mean_answered_correctly\": 0.6343427178311447}, {\"time_group\": 84, \"mean_answered_correctly\": 0.6692035623071663}, {\"time_group\": 85, \"mean_answered_correctly\": 0.651755158820642}, {\"time_group\": 86, \"mean_answered_correctly\": 0.6245673145046966}, {\"time_group\": 87, \"mean_answered_correctly\": 0.7059713520945212}]}}, {\"mode\": \"vega-lite\"});\n",
       "</script>"
      ],
      "text/plain": [
       "alt.Chart(...)"
      ]
     },
     "metadata": {},
     "output_type": "display_data"
    }
   ],
   "source": [
    "# Построение графика с использованием altair\n",
    "chart = alt.Chart(result).mark_line().encode(\n",
    "    x=alt.X('time_group:Q', title='Time Group'),\n",
    "    y=alt.Y('mean_answered_correctly:Q', title='Mean Answered Correctly')\n",
    ").properties(\n",
    "    title=\"Mean Answered Correctly by Time Group\"\n",
    ")\n",
    "\n",
    "chart.configure_axis(\n",
    "    labelAngle=0\n",
    ").configure_title(\n",
    "    fontSize=16\n",
    ").configure_axis(\n",
    "    labelFontSize=12,\n",
    "    titleFontSize=14\n",
    ").configure_view(\n",
    "    strokeWidth=0\n",
    ").display()"
   ]
  },
  {
   "cell_type": "markdown",
   "id": "e6a063b5",
   "metadata": {},
   "source": [
    "**Вывод 2:**\n",
    "Среднее количество правильных ответов (mean_answered_correctly) постепенно увеличивается с течением времени. Т.е. чем дольше пользователи, тем чаще дают правильные ответы."
   ]
  },
  {
   "cell_type": "markdown",
   "id": "9d1e26bd",
   "metadata": {},
   "source": [
    "Попробуем найти зависимость правильных ответов от затраченного на вопрос времени в пределах 95% доверительного интервала"
   ]
  },
  {
   "cell_type": "code",
   "execution_count": 48,
   "id": "b9abddc6",
   "metadata": {
    "scrolled": true
   },
   "outputs": [
    {
     "data": {
      "text/html": [
       "\n",
       "<style>\n",
       "  #altair-viz-5079bb85b7a947f8abea8243be832a4c.vega-embed {\n",
       "    width: 100%;\n",
       "    display: flex;\n",
       "  }\n",
       "\n",
       "  #altair-viz-5079bb85b7a947f8abea8243be832a4c.vega-embed details,\n",
       "  #altair-viz-5079bb85b7a947f8abea8243be832a4c.vega-embed details summary {\n",
       "    position: relative;\n",
       "  }\n",
       "</style>\n",
       "<div id=\"altair-viz-5079bb85b7a947f8abea8243be832a4c\"></div>\n",
       "<script type=\"text/javascript\">\n",
       "  var VEGA_DEBUG = (typeof VEGA_DEBUG == \"undefined\") ? {} : VEGA_DEBUG;\n",
       "  (function(spec, embedOpt){\n",
       "    let outputDiv = document.currentScript.previousElementSibling;\n",
       "    if (outputDiv.id !== \"altair-viz-5079bb85b7a947f8abea8243be832a4c\") {\n",
       "      outputDiv = document.getElementById(\"altair-viz-5079bb85b7a947f8abea8243be832a4c\");\n",
       "    }\n",
       "    const paths = {\n",
       "      \"vega\": \"https://cdn.jsdelivr.net/npm/vega@5?noext\",\n",
       "      \"vega-lib\": \"https://cdn.jsdelivr.net/npm/vega-lib?noext\",\n",
       "      \"vega-lite\": \"https://cdn.jsdelivr.net/npm/vega-lite@5.20.1?noext\",\n",
       "      \"vega-embed\": \"https://cdn.jsdelivr.net/npm/vega-embed@6?noext\",\n",
       "    };\n",
       "\n",
       "    function maybeLoadScript(lib, version) {\n",
       "      var key = `${lib.replace(\"-\", \"\")}_version`;\n",
       "      return (VEGA_DEBUG[key] == version) ?\n",
       "        Promise.resolve(paths[lib]) :\n",
       "        new Promise(function(resolve, reject) {\n",
       "          var s = document.createElement('script');\n",
       "          document.getElementsByTagName(\"head\")[0].appendChild(s);\n",
       "          s.async = true;\n",
       "          s.onload = () => {\n",
       "            VEGA_DEBUG[key] = version;\n",
       "            return resolve(paths[lib]);\n",
       "          };\n",
       "          s.onerror = () => reject(`Error loading script: ${paths[lib]}`);\n",
       "          s.src = paths[lib];\n",
       "        });\n",
       "    }\n",
       "\n",
       "    function showError(err) {\n",
       "      outputDiv.innerHTML = `<div class=\"error\" style=\"color:red;\">${err}</div>`;\n",
       "      throw err;\n",
       "    }\n",
       "\n",
       "    function displayChart(vegaEmbed) {\n",
       "      vegaEmbed(outputDiv, spec, embedOpt)\n",
       "        .catch(err => showError(`Javascript Error: ${err.message}<br>This usually means there's a typo in your chart specification. See the javascript console for the full traceback.`));\n",
       "    }\n",
       "\n",
       "    if(typeof define === \"function\" && define.amd) {\n",
       "      requirejs.config({paths});\n",
       "      require([\"vega-embed\"], displayChart, err => showError(`Error loading script: ${err.message}`));\n",
       "    } else {\n",
       "      maybeLoadScript(\"vega\", \"5\")\n",
       "        .then(() => maybeLoadScript(\"vega-lite\", \"5.20.1\"))\n",
       "        .then(() => maybeLoadScript(\"vega-embed\", \"6\"))\n",
       "        .catch(showError)\n",
       "        .then(() => displayChart(vegaEmbed));\n",
       "    }\n",
       "  })({\"config\": {\"view\": {\"continuousWidth\": 300, \"continuousHeight\": 300}}, \"data\": {\"name\": \"data-e868b36e7bdadcdf29f7bcac35b820fd\"}, \"mark\": {\"type\": \"line\"}, \"encoding\": {\"x\": {\"field\": \"time\", \"type\": \"quantitative\"}, \"y\": {\"field\": \"answered_correctly_mean\", \"type\": \"quantitative\"}}, \"title\": \"Mean Answered Correctly by Time\", \"$schema\": \"https://vega.github.io/schema/vega-lite/v5.20.1.json\", \"datasets\": {\"data-e868b36e7bdadcdf29f7bcac35b820fd\": [{\"time\": 6.0, \"answered_correctly_mean\": 0.6900597031581297}, {\"time\": 7.0, \"answered_correctly_mean\": 0.7332350563958832}, {\"time\": 8.0, \"answered_correctly_mean\": 0.7355031723544431}, {\"time\": 9.0, \"answered_correctly_mean\": 0.7317595201364328}, {\"time\": 10.0, \"answered_correctly_mean\": 0.7205083903283006}, {\"time\": 11.0, \"answered_correctly_mean\": 0.7126252732366268}, {\"time\": 12.0, \"answered_correctly_mean\": 0.7097413160552595}, {\"time\": 13.0, \"answered_correctly_mean\": 0.7092206312112317}, {\"time\": 14.0, \"answered_correctly_mean\": 0.7234890917358947}, {\"time\": 15.0, \"answered_correctly_mean\": 0.7310903579508234}, {\"time\": 16.0, \"answered_correctly_mean\": 0.7211129758610914}, {\"time\": 17.0, \"answered_correctly_mean\": 0.7002500266616108}, {\"time\": 18.0, \"answered_correctly_mean\": 0.6784178524265714}, {\"time\": 19.0, \"answered_correctly_mean\": 0.666671955148836}, {\"time\": 20.0, \"answered_correctly_mean\": 0.668415288173054}, {\"time\": 21.0, \"answered_correctly_mean\": 0.670005929932411}, {\"time\": 22.0, \"answered_correctly_mean\": 0.6643900982291546}, {\"time\": 23.0, \"answered_correctly_mean\": 0.6536554924275778}, {\"time\": 24.0, \"answered_correctly_mean\": 0.6454048678638251}, {\"time\": 25.0, \"answered_correctly_mean\": 0.6375123403262417}, {\"time\": 26.0, \"answered_correctly_mean\": 0.6303429239095003}, {\"time\": 27.0, \"answered_correctly_mean\": 0.6236374870951187}, {\"time\": 28.0, \"answered_correctly_mean\": 0.6174138034203377}, {\"time\": 29.0, \"answered_correctly_mean\": 0.6125045575394343}, {\"time\": 30.0, \"answered_correctly_mean\": 0.6070710914590921}, {\"time\": 31.0, \"answered_correctly_mean\": 0.6029990558743652}, {\"time\": 32.0, \"answered_correctly_mean\": 0.6001437851293213}, {\"time\": 33.0, \"answered_correctly_mean\": 0.5975543016155214}, {\"time\": 34.0, \"answered_correctly_mean\": 0.594461256150068}, {\"time\": 35.0, \"answered_correctly_mean\": 0.5915823787332706}, {\"time\": 36.0, \"answered_correctly_mean\": 0.5891413907990081}, {\"time\": 37.0, \"answered_correctly_mean\": 0.5885652169139042}, {\"time\": 38.0, \"answered_correctly_mean\": 0.5857273902596836}, {\"time\": 39.0, \"answered_correctly_mean\": 0.5852957367423084}, {\"time\": 40.0, \"answered_correctly_mean\": 0.5841603214295749}, {\"time\": 41.0, \"answered_correctly_mean\": 0.5827524330900243}, {\"time\": 42.0, \"answered_correctly_mean\": 0.5827161377658605}, {\"time\": 43.0, \"answered_correctly_mean\": 0.5822423029170096}, {\"time\": 44.0, \"answered_correctly_mean\": 0.5855293090974185}, {\"time\": 45.0, \"answered_correctly_mean\": 0.5845540923023067}, {\"time\": 46.0, \"answered_correctly_mean\": 0.5828122703150664}, {\"time\": 47.0, \"answered_correctly_mean\": 0.5837305133551782}, {\"time\": 48.0, \"answered_correctly_mean\": 0.5853099030470914}, {\"time\": 49.0, \"answered_correctly_mean\": 0.5844052452022322}, {\"time\": 50.0, \"answered_correctly_mean\": 0.583128115477666}, {\"time\": 51.0, \"answered_correctly_mean\": 0.5839592875903012}, {\"time\": 52.0, \"answered_correctly_mean\": 0.587703303471786}, {\"time\": 53.0, \"answered_correctly_mean\": 0.5868302401852654}, {\"time\": 54.0, \"answered_correctly_mean\": 0.5884744231565476}, {\"time\": 55.0, \"answered_correctly_mean\": 0.5895592225783257}, {\"time\": 56.0, \"answered_correctly_mean\": 0.5902763436665825}, {\"time\": 57.0, \"answered_correctly_mean\": 0.5908414087445356}]}}, {\"mode\": \"vega-lite\"});\n",
       "</script>"
      ],
      "text/plain": [
       "alt.Chart(...)"
      ]
     },
     "metadata": {},
     "output_type": "display_data"
    }
   ],
   "source": [
    "# Фильтрация данных\n",
    "filtered_df = train_df.filter(\n",
    "    (pl.col('prior_question_elapsed_time') < pl.col('prior_question_elapsed_time').quantile(0.95)) &\n",
    "    (pl.col('prior_question_elapsed_time') > pl.col('prior_question_elapsed_time').quantile(0.05))\n",
    ")\n",
    "\n",
    "# Выбор и срез данных\n",
    "selected_df = filtered_df.select(\n",
    "    pl.col('prior_question_elapsed_time').slice(1, None),\n",
    "    pl.col('answered_correctly').slice(0, pl.col('answered_correctly').count() - 1)\n",
    ")\n",
    "\n",
    "# Группировка и агрегация данных\n",
    "result = selected_df.group_by(\n",
    "    (pl.col('prior_question_elapsed_time') // 1000).alias('time')\n",
    ").agg(\n",
    "    pl.col('answered_correctly').mean().alias('answered_correctly_mean')\n",
    ").sort('time')\n",
    "\n",
    "# Построение графика с использованием altair\n",
    "chart = alt.Chart(result).mark_line().encode(\n",
    "    x='time:Q',\n",
    "    y='answered_correctly_mean:Q'\n",
    ").properties(\n",
    "    title='Mean Answered Correctly by Time'\n",
    ")\n",
    "\n",
    "# Отображение графика\n",
    "chart.show()"
   ]
  },
  {
   "cell_type": "markdown",
   "id": "0614482a",
   "metadata": {},
   "source": [
    "**Вывод 3**: Из графика сдедует, что процент правильных ответов выше в первые 20 секунд. Дальше этот показатель постепенно снижается."
   ]
  },
  {
   "cell_type": "markdown",
   "id": "e6df6c4f",
   "metadata": {},
   "source": [
    "**Изучим зависимость полученной оценки от числа посещенных занятий**"
   ]
  },
  {
   "cell_type": "code",
   "execution_count": 64,
   "id": "a73a58c6",
   "metadata": {
    "scrolled": true
   },
   "outputs": [
    {
     "name": "stdout",
     "output_type": "stream",
     "text": [
      "shape: (293, 2)\n",
      "┌──────────┬────────────────┐\n",
      "│ lectures ┆ mean_correct_% │\n",
      "│ ---      ┆ ---            │\n",
      "│ u32      ┆ f64            │\n",
      "╞══════════╪════════════════╡\n",
      "│ 0        ┆ 50.367738      │\n",
      "│ 1        ┆ 56.934262      │\n",
      "│ 2        ┆ 59.332606      │\n",
      "│ 3        ┆ 60.931632      │\n",
      "│ 4        ┆ 61.652804      │\n",
      "│ …        ┆ …              │\n",
      "│ 385      ┆ 78.851472      │\n",
      "│ 386      ┆ 76.006502      │\n",
      "│ 389      ┆ 71.222831      │\n",
      "│ 395      ┆ 73.315879      │\n",
      "│ 397      ┆ 72.360047      │\n",
      "└──────────┴────────────────┘\n"
     ]
    }
   ],
   "source": [
    "# Группируем данные по пользователям\n",
    "result = (train_df.group_by('user_id')\n",
    "    # Посчитаем необходимые аггрегаты\n",
    "    .agg(\n",
    "        # Количество строк\n",
    "        pl.col('row_id').count().alias('rows'),\n",
    "        # Количество лекций\n",
    "        (pl.col('content_type_id') == 1).sum().alias('lectures'),\n",
    "        # Количество вопросов\n",
    "        (pl.col('content_type_id') == 0).sum().alias('questions'),\n",
    "        # Количество правильных ответов\n",
    "        (pl.col('answered_correctly') == 1).sum().alias('correct'),\n",
    "    ).select(\n",
    "        # Количество лекций\n",
    "        pl.col('lectures'),\n",
    "        # Считаем процент правильных ответов\n",
    "        (pl.col('correct') / pl.col('questions') * 100).alias('correct_%')\n",
    "    ).group_by(\n",
    "        # Группируем по количеству лекций\n",
    "        pl.col('lectures')\n",
    "    ).agg(\n",
    "        # Аггрегируем среднее по правильным ответам\n",
    "        pl.col('correct_%').mean().alias('mean_correct_%')\n",
    "    ).sort('lectures')\n",
    "    .drop_nulls()  # Удаляем строки с пропущенными значениями\n",
    ")\n",
    "\n",
    "# Выводим результат\n",
    "print(result)"
   ]
  },
  {
   "cell_type": "code",
   "execution_count": 65,
   "id": "8e9c5e99",
   "metadata": {
    "scrolled": true
   },
   "outputs": [
    {
     "data": {
      "text/html": [
       "\n",
       "<style>\n",
       "  #altair-viz-0a399908a70c491a8b285d83e5fd83f6.vega-embed {\n",
       "    width: 100%;\n",
       "    display: flex;\n",
       "  }\n",
       "\n",
       "  #altair-viz-0a399908a70c491a8b285d83e5fd83f6.vega-embed details,\n",
       "  #altair-viz-0a399908a70c491a8b285d83e5fd83f6.vega-embed details summary {\n",
       "    position: relative;\n",
       "  }\n",
       "</style>\n",
       "<div id=\"altair-viz-0a399908a70c491a8b285d83e5fd83f6\"></div>\n",
       "<script type=\"text/javascript\">\n",
       "  var VEGA_DEBUG = (typeof VEGA_DEBUG == \"undefined\") ? {} : VEGA_DEBUG;\n",
       "  (function(spec, embedOpt){\n",
       "    let outputDiv = document.currentScript.previousElementSibling;\n",
       "    if (outputDiv.id !== \"altair-viz-0a399908a70c491a8b285d83e5fd83f6\") {\n",
       "      outputDiv = document.getElementById(\"altair-viz-0a399908a70c491a8b285d83e5fd83f6\");\n",
       "    }\n",
       "    const paths = {\n",
       "      \"vega\": \"https://cdn.jsdelivr.net/npm/vega@5?noext\",\n",
       "      \"vega-lib\": \"https://cdn.jsdelivr.net/npm/vega-lib?noext\",\n",
       "      \"vega-lite\": \"https://cdn.jsdelivr.net/npm/vega-lite@5.20.1?noext\",\n",
       "      \"vega-embed\": \"https://cdn.jsdelivr.net/npm/vega-embed@6?noext\",\n",
       "    };\n",
       "\n",
       "    function maybeLoadScript(lib, version) {\n",
       "      var key = `${lib.replace(\"-\", \"\")}_version`;\n",
       "      return (VEGA_DEBUG[key] == version) ?\n",
       "        Promise.resolve(paths[lib]) :\n",
       "        new Promise(function(resolve, reject) {\n",
       "          var s = document.createElement('script');\n",
       "          document.getElementsByTagName(\"head\")[0].appendChild(s);\n",
       "          s.async = true;\n",
       "          s.onload = () => {\n",
       "            VEGA_DEBUG[key] = version;\n",
       "            return resolve(paths[lib]);\n",
       "          };\n",
       "          s.onerror = () => reject(`Error loading script: ${paths[lib]}`);\n",
       "          s.src = paths[lib];\n",
       "        });\n",
       "    }\n",
       "\n",
       "    function showError(err) {\n",
       "      outputDiv.innerHTML = `<div class=\"error\" style=\"color:red;\">${err}</div>`;\n",
       "      throw err;\n",
       "    }\n",
       "\n",
       "    function displayChart(vegaEmbed) {\n",
       "      vegaEmbed(outputDiv, spec, embedOpt)\n",
       "        .catch(err => showError(`Javascript Error: ${err.message}<br>This usually means there's a typo in your chart specification. See the javascript console for the full traceback.`));\n",
       "    }\n",
       "\n",
       "    if(typeof define === \"function\" && define.amd) {\n",
       "      requirejs.config({paths});\n",
       "      require([\"vega-embed\"], displayChart, err => showError(`Error loading script: ${err.message}`));\n",
       "    } else {\n",
       "      maybeLoadScript(\"vega\", \"5\")\n",
       "        .then(() => maybeLoadScript(\"vega-lite\", \"5.20.1\"))\n",
       "        .then(() => maybeLoadScript(\"vega-embed\", \"6\"))\n",
       "        .catch(showError)\n",
       "        .then(() => displayChart(vegaEmbed));\n",
       "    }\n",
       "  })({\"config\": {\"view\": {\"continuousWidth\": 300, \"continuousHeight\": 300}}, \"data\": {\"name\": \"data-2340924e1a1ece9c3699e2ad4715a6a1\"}, \"mark\": {\"type\": \"line\"}, \"encoding\": {\"x\": {\"field\": \"lectures\", \"title\": \"Number of Lectures\", \"type\": \"quantitative\"}, \"y\": {\"field\": \"mean_correct_%\", \"title\": \"Mean Correct Answers (%)\", \"type\": \"quantitative\"}}, \"title\": \"Mean Correct Answers by Number of Lectures\", \"$schema\": \"https://vega.github.io/schema/vega-lite/v5.20.1.json\", \"datasets\": {\"data-2340924e1a1ece9c3699e2ad4715a6a1\": [{\"lectures\": 0, \"mean_correct_%\": 50.367737739103475}, {\"lectures\": 1, \"mean_correct_%\": 56.93426200821521}, {\"lectures\": 2, \"mean_correct_%\": 59.33260557139527}, {\"lectures\": 3, \"mean_correct_%\": 60.93163241508607}, {\"lectures\": 4, \"mean_correct_%\": 61.65280368894504}, {\"lectures\": 5, \"mean_correct_%\": 62.30430012316368}, {\"lectures\": 6, \"mean_correct_%\": 62.613945279266666}, {\"lectures\": 7, \"mean_correct_%\": 63.36473257573162}, {\"lectures\": 8, \"mean_correct_%\": 63.383272004777076}, {\"lectures\": 9, \"mean_correct_%\": 63.579801535158445}, {\"lectures\": 10, \"mean_correct_%\": 63.91891624274823}, {\"lectures\": 11, \"mean_correct_%\": 63.72541543739405}, {\"lectures\": 12, \"mean_correct_%\": 63.945959156613064}, {\"lectures\": 13, \"mean_correct_%\": 64.08587630233279}, {\"lectures\": 14, \"mean_correct_%\": 64.07360208664865}, {\"lectures\": 15, \"mean_correct_%\": 64.42295538342673}, {\"lectures\": 16, \"mean_correct_%\": 64.11694876772667}, {\"lectures\": 17, \"mean_correct_%\": 64.24030849222163}, {\"lectures\": 18, \"mean_correct_%\": 64.29491695136437}, {\"lectures\": 19, \"mean_correct_%\": 64.00562333005065}, {\"lectures\": 20, \"mean_correct_%\": 64.5282762940482}, {\"lectures\": 21, \"mean_correct_%\": 64.02180914065389}, {\"lectures\": 22, \"mean_correct_%\": 64.769092405501}, {\"lectures\": 23, \"mean_correct_%\": 64.68705832330944}, {\"lectures\": 24, \"mean_correct_%\": 64.35453092535755}, {\"lectures\": 25, \"mean_correct_%\": 64.95717247919059}, {\"lectures\": 26, \"mean_correct_%\": 64.51681736240859}, {\"lectures\": 27, \"mean_correct_%\": 64.74671103861809}, {\"lectures\": 28, \"mean_correct_%\": 65.1485079117944}, {\"lectures\": 29, \"mean_correct_%\": 64.72638311075958}, {\"lectures\": 30, \"mean_correct_%\": 65.35858954937676}, {\"lectures\": 31, \"mean_correct_%\": 64.84255924046356}, {\"lectures\": 32, \"mean_correct_%\": 65.2266633371316}, {\"lectures\": 33, \"mean_correct_%\": 64.86669938933608}, {\"lectures\": 34, \"mean_correct_%\": 65.0933173217765}, {\"lectures\": 35, \"mean_correct_%\": 65.47350463754482}, {\"lectures\": 36, \"mean_correct_%\": 65.3619881582307}, {\"lectures\": 37, \"mean_correct_%\": 64.84747804891282}, {\"lectures\": 38, \"mean_correct_%\": 65.76167528817044}, {\"lectures\": 39, \"mean_correct_%\": 66.0980894013062}, {\"lectures\": 40, \"mean_correct_%\": 65.79577729222983}, {\"lectures\": 41, \"mean_correct_%\": 65.5499173737442}, {\"lectures\": 42, \"mean_correct_%\": 65.48092361349099}, {\"lectures\": 43, \"mean_correct_%\": 66.17353132059299}, {\"lectures\": 44, \"mean_correct_%\": 65.75822813559647}, {\"lectures\": 45, \"mean_correct_%\": 64.34876239380871}, {\"lectures\": 46, \"mean_correct_%\": 65.6679566229044}, {\"lectures\": 47, \"mean_correct_%\": 65.64194917290503}, {\"lectures\": 48, \"mean_correct_%\": 66.33405701893295}, {\"lectures\": 49, \"mean_correct_%\": 65.91446285699217}, {\"lectures\": 50, \"mean_correct_%\": 66.22718436763272}, {\"lectures\": 51, \"mean_correct_%\": 65.84027548730155}, {\"lectures\": 52, \"mean_correct_%\": 65.82487843747062}, {\"lectures\": 53, \"mean_correct_%\": 64.57997625402503}, {\"lectures\": 54, \"mean_correct_%\": 67.47125848432836}, {\"lectures\": 55, \"mean_correct_%\": 65.91666710865387}, {\"lectures\": 56, \"mean_correct_%\": 66.46823796916935}, {\"lectures\": 57, \"mean_correct_%\": 66.43249047878156}, {\"lectures\": 58, \"mean_correct_%\": 66.154358049005}, {\"lectures\": 59, \"mean_correct_%\": 66.48019389129507}, {\"lectures\": 60, \"mean_correct_%\": 67.54004577387573}, {\"lectures\": 61, \"mean_correct_%\": 66.70846610552043}, {\"lectures\": 62, \"mean_correct_%\": 66.04595397341897}, {\"lectures\": 63, \"mean_correct_%\": 65.7900881283652}, {\"lectures\": 64, \"mean_correct_%\": 65.35618186300945}, {\"lectures\": 65, \"mean_correct_%\": 66.96860333366376}, {\"lectures\": 66, \"mean_correct_%\": 65.78665706011104}, {\"lectures\": 67, \"mean_correct_%\": 67.39990786166673}, {\"lectures\": 68, \"mean_correct_%\": 66.74920730752532}, {\"lectures\": 69, \"mean_correct_%\": 65.7118894734909}, {\"lectures\": 70, \"mean_correct_%\": 66.8649311997067}, {\"lectures\": 71, \"mean_correct_%\": 66.1233917735069}, {\"lectures\": 72, \"mean_correct_%\": 67.29205331571086}, {\"lectures\": 73, \"mean_correct_%\": 66.15895891930664}, {\"lectures\": 74, \"mean_correct_%\": 66.20498056028842}, {\"lectures\": 75, \"mean_correct_%\": 65.47550168750834}, {\"lectures\": 76, \"mean_correct_%\": 67.56080642611968}, {\"lectures\": 77, \"mean_correct_%\": 66.06633312193675}, {\"lectures\": 78, \"mean_correct_%\": 66.35029422867224}, {\"lectures\": 79, \"mean_correct_%\": 65.91145196346459}, {\"lectures\": 80, \"mean_correct_%\": 66.437365508203}, {\"lectures\": 81, \"mean_correct_%\": 65.58557177664376}, {\"lectures\": 82, \"mean_correct_%\": 67.23329249650845}, {\"lectures\": 83, \"mean_correct_%\": 65.31849105601901}, {\"lectures\": 84, \"mean_correct_%\": 66.89121297625276}, {\"lectures\": 85, \"mean_correct_%\": 66.28224318187213}, {\"lectures\": 86, \"mean_correct_%\": 65.26295771449169}, {\"lectures\": 87, \"mean_correct_%\": 66.6380112952092}, {\"lectures\": 88, \"mean_correct_%\": 67.30210767368017}, {\"lectures\": 89, \"mean_correct_%\": 66.93010760040006}, {\"lectures\": 90, \"mean_correct_%\": 66.88131059115537}, {\"lectures\": 91, \"mean_correct_%\": 65.43870402954929}, {\"lectures\": 92, \"mean_correct_%\": 68.55964463437165}, {\"lectures\": 93, \"mean_correct_%\": 65.9460557470434}, {\"lectures\": 94, \"mean_correct_%\": 66.57863336716899}, {\"lectures\": 95, \"mean_correct_%\": 67.01227146487585}, {\"lectures\": 96, \"mean_correct_%\": 64.33312604351227}, {\"lectures\": 97, \"mean_correct_%\": 65.92414108700949}, {\"lectures\": 98, \"mean_correct_%\": 68.44708202026962}, {\"lectures\": 99, \"mean_correct_%\": 64.88451156723806}, {\"lectures\": 100, \"mean_correct_%\": 66.06843569393989}, {\"lectures\": 101, \"mean_correct_%\": 65.3960854533305}, {\"lectures\": 102, \"mean_correct_%\": 64.56881434237842}, {\"lectures\": 103, \"mean_correct_%\": 67.24040918819387}, {\"lectures\": 104, \"mean_correct_%\": 66.10338553752773}, {\"lectures\": 105, \"mean_correct_%\": 68.54827176159152}, {\"lectures\": 106, \"mean_correct_%\": 66.66634569354267}, {\"lectures\": 107, \"mean_correct_%\": 67.86932137504348}, {\"lectures\": 108, \"mean_correct_%\": 66.27047649637232}, {\"lectures\": 109, \"mean_correct_%\": 65.54973387525087}, {\"lectures\": 110, \"mean_correct_%\": 65.61124508647096}, {\"lectures\": 111, \"mean_correct_%\": 67.72393815938139}, {\"lectures\": 112, \"mean_correct_%\": 68.07276167540681}, {\"lectures\": 113, \"mean_correct_%\": 65.91134071655534}, {\"lectures\": 114, \"mean_correct_%\": 65.53473317512082}, {\"lectures\": 115, \"mean_correct_%\": 68.23975579456557}, {\"lectures\": 116, \"mean_correct_%\": 63.59594883003202}, {\"lectures\": 117, \"mean_correct_%\": 69.22231142625934}, {\"lectures\": 118, \"mean_correct_%\": 64.67862317207303}, {\"lectures\": 119, \"mean_correct_%\": 66.28076896153868}, {\"lectures\": 120, \"mean_correct_%\": 65.57132020817973}, {\"lectures\": 121, \"mean_correct_%\": 67.65641080347254}, {\"lectures\": 122, \"mean_correct_%\": 63.61054530839388}, {\"lectures\": 123, \"mean_correct_%\": 67.27117925213402}, {\"lectures\": 124, \"mean_correct_%\": 68.28318706452627}, {\"lectures\": 125, \"mean_correct_%\": 65.13973851013671}, {\"lectures\": 126, \"mean_correct_%\": 66.79133133297448}, {\"lectures\": 127, \"mean_correct_%\": 68.73454422578911}, {\"lectures\": 128, \"mean_correct_%\": 67.68899823905895}, {\"lectures\": 129, \"mean_correct_%\": 68.03522572994127}, {\"lectures\": 130, \"mean_correct_%\": 68.82414540182137}, {\"lectures\": 131, \"mean_correct_%\": 67.7038861614046}, {\"lectures\": 132, \"mean_correct_%\": 66.15258980326539}, {\"lectures\": 133, \"mean_correct_%\": 65.83986719364054}, {\"lectures\": 134, \"mean_correct_%\": 69.29798927560472}, {\"lectures\": 135, \"mean_correct_%\": 67.3461015457285}, {\"lectures\": 136, \"mean_correct_%\": 66.86362519854717}, {\"lectures\": 137, \"mean_correct_%\": 64.74594128743996}, {\"lectures\": 138, \"mean_correct_%\": 68.93907659649376}, {\"lectures\": 139, \"mean_correct_%\": 67.64459141663873}, {\"lectures\": 140, \"mean_correct_%\": 65.83909594477909}, {\"lectures\": 141, \"mean_correct_%\": 64.83936226159622}, {\"lectures\": 142, \"mean_correct_%\": 64.68358449604554}, {\"lectures\": 143, \"mean_correct_%\": 66.66187557422704}, {\"lectures\": 144, \"mean_correct_%\": 66.61682400895653}, {\"lectures\": 145, \"mean_correct_%\": 68.03149439070374}, {\"lectures\": 146, \"mean_correct_%\": 67.81385142296338}, {\"lectures\": 147, \"mean_correct_%\": 67.93366906273542}, {\"lectures\": 148, \"mean_correct_%\": 65.37978328544335}, {\"lectures\": 149, \"mean_correct_%\": 65.86524550463295}, {\"lectures\": 150, \"mean_correct_%\": 62.693557648209705}, {\"lectures\": 151, \"mean_correct_%\": 65.42136067990032}, {\"lectures\": 152, \"mean_correct_%\": 62.67146711884111}, {\"lectures\": 153, \"mean_correct_%\": 67.77902701721253}, {\"lectures\": 154, \"mean_correct_%\": 61.20768751308722}, {\"lectures\": 155, \"mean_correct_%\": 64.17503876523017}, {\"lectures\": 156, \"mean_correct_%\": 68.00171468024546}, {\"lectures\": 157, \"mean_correct_%\": 62.38341596660293}, {\"lectures\": 158, \"mean_correct_%\": 64.70800038037866}, {\"lectures\": 159, \"mean_correct_%\": 67.77947749035107}, {\"lectures\": 160, \"mean_correct_%\": 62.84402659981004}, {\"lectures\": 161, \"mean_correct_%\": 64.29640807934662}, {\"lectures\": 162, \"mean_correct_%\": 67.10619824809203}, {\"lectures\": 163, \"mean_correct_%\": 63.034678717920244}, {\"lectures\": 164, \"mean_correct_%\": 63.414959422264516}, {\"lectures\": 165, \"mean_correct_%\": 60.25216337041053}, {\"lectures\": 166, \"mean_correct_%\": 65.28635818589834}, {\"lectures\": 167, \"mean_correct_%\": 70.31988952169425}, {\"lectures\": 168, \"mean_correct_%\": 69.69768242735206}, {\"lectures\": 169, \"mean_correct_%\": 64.46298179502564}, {\"lectures\": 170, \"mean_correct_%\": 65.07968003774705}, {\"lectures\": 171, \"mean_correct_%\": 66.8061684569222}, {\"lectures\": 172, \"mean_correct_%\": 55.0451570463541}, {\"lectures\": 173, \"mean_correct_%\": 64.55806680009306}, {\"lectures\": 174, \"mean_correct_%\": 70.35882281686943}, {\"lectures\": 175, \"mean_correct_%\": 68.39694943239076}, {\"lectures\": 176, \"mean_correct_%\": 63.80894485702139}, {\"lectures\": 177, \"mean_correct_%\": 66.12542332863084}, {\"lectures\": 178, \"mean_correct_%\": 68.4055066157821}, {\"lectures\": 179, \"mean_correct_%\": 66.73487280998071}, {\"lectures\": 180, \"mean_correct_%\": 69.30790118337683}, {\"lectures\": 181, \"mean_correct_%\": 68.20245557396646}, {\"lectures\": 182, \"mean_correct_%\": 66.887172222891}, {\"lectures\": 183, \"mean_correct_%\": 61.815434893704804}, {\"lectures\": 184, \"mean_correct_%\": 61.81186311576584}, {\"lectures\": 185, \"mean_correct_%\": 67.19510589192296}, {\"lectures\": 186, \"mean_correct_%\": 64.5012236443665}, {\"lectures\": 187, \"mean_correct_%\": 59.79355188028639}, {\"lectures\": 188, \"mean_correct_%\": 63.66581693841044}, {\"lectures\": 189, \"mean_correct_%\": 63.57923044138579}, {\"lectures\": 190, \"mean_correct_%\": 55.31207255197571}, {\"lectures\": 191, \"mean_correct_%\": 62.753553855123656}, {\"lectures\": 192, \"mean_correct_%\": 58.506357939696976}, {\"lectures\": 193, \"mean_correct_%\": 72.08116554650121}, {\"lectures\": 194, \"mean_correct_%\": 63.79015218691581}, {\"lectures\": 195, \"mean_correct_%\": 62.13547511284933}, {\"lectures\": 196, \"mean_correct_%\": 64.27341858665802}, {\"lectures\": 197, \"mean_correct_%\": 72.1332506799826}, {\"lectures\": 198, \"mean_correct_%\": 66.98393157520677}, {\"lectures\": 199, \"mean_correct_%\": 61.89061463965697}, {\"lectures\": 200, \"mean_correct_%\": 64.43842025580624}, {\"lectures\": 201, \"mean_correct_%\": 69.49682596950716}, {\"lectures\": 202, \"mean_correct_%\": 65.78195460065245}, {\"lectures\": 203, \"mean_correct_%\": 55.52516061220789}, {\"lectures\": 204, \"mean_correct_%\": 66.461960148639}, {\"lectures\": 205, \"mean_correct_%\": 69.42043853536042}, {\"lectures\": 206, \"mean_correct_%\": 61.18535025648717}, {\"lectures\": 207, \"mean_correct_%\": 66.24158568979884}, {\"lectures\": 208, \"mean_correct_%\": 70.09241326778604}, {\"lectures\": 209, \"mean_correct_%\": 58.23477609677727}, {\"lectures\": 210, \"mean_correct_%\": 59.66876956057688}, {\"lectures\": 211, \"mean_correct_%\": 59.24382645231199}, {\"lectures\": 212, \"mean_correct_%\": 58.81798236202314}, {\"lectures\": 213, \"mean_correct_%\": 67.89639602579992}, {\"lectures\": 215, \"mean_correct_%\": 71.5500994593582}, {\"lectures\": 216, \"mean_correct_%\": 61.6064169941292}, {\"lectures\": 217, \"mean_correct_%\": 73.47793443129862}, {\"lectures\": 218, \"mean_correct_%\": 72.23831583443328}, {\"lectures\": 219, \"mean_correct_%\": 57.32552009348631}, {\"lectures\": 220, \"mean_correct_%\": 62.00031274760568}, {\"lectures\": 221, \"mean_correct_%\": 61.58558246374811}, {\"lectures\": 222, \"mean_correct_%\": 64.23417758216752}, {\"lectures\": 223, \"mean_correct_%\": 64.38079339231822}, {\"lectures\": 224, \"mean_correct_%\": 69.20199305896185}, {\"lectures\": 225, \"mean_correct_%\": 62.03527712631611}, {\"lectures\": 226, \"mean_correct_%\": 65.71179385946375}, {\"lectures\": 227, \"mean_correct_%\": 67.53360709902704}, {\"lectures\": 228, \"mean_correct_%\": 67.59401536696103}, {\"lectures\": 229, \"mean_correct_%\": 66.62277814351548}, {\"lectures\": 230, \"mean_correct_%\": 73.16415531633258}, {\"lectures\": 231, \"mean_correct_%\": 65.65417804551886}, {\"lectures\": 233, \"mean_correct_%\": 54.33475924830659}, {\"lectures\": 234, \"mean_correct_%\": 69.09183431774355}, {\"lectures\": 235, \"mean_correct_%\": 81.82997193093257}, {\"lectures\": 236, \"mean_correct_%\": 63.928485732094735}, {\"lectures\": 237, \"mean_correct_%\": 67.7637190787603}, {\"lectures\": 238, \"mean_correct_%\": 64.40940499781249}, {\"lectures\": 239, \"mean_correct_%\": 56.95998644481059}, {\"lectures\": 240, \"mean_correct_%\": 70.06607338099178}, {\"lectures\": 241, \"mean_correct_%\": 62.33484802263486}, {\"lectures\": 242, \"mean_correct_%\": 49.616794401866045}, {\"lectures\": 244, \"mean_correct_%\": 68.09400517825135}, {\"lectures\": 245, \"mean_correct_%\": 68.00022710402884}, {\"lectures\": 246, \"mean_correct_%\": 74.20726991492653}, {\"lectures\": 247, \"mean_correct_%\": 57.00765631646107}, {\"lectures\": 248, \"mean_correct_%\": 64.2010905077107}, {\"lectures\": 249, \"mean_correct_%\": 64.27359307172588}, {\"lectures\": 250, \"mean_correct_%\": 55.157339379266716}, {\"lectures\": 251, \"mean_correct_%\": 67.67546479396451}, {\"lectures\": 253, \"mean_correct_%\": 63.14849526045414}, {\"lectures\": 255, \"mean_correct_%\": 62.05280688596046}, {\"lectures\": 257, \"mean_correct_%\": 59.06857849861182}, {\"lectures\": 259, \"mean_correct_%\": 75.1006497311641}, {\"lectures\": 260, \"mean_correct_%\": 82.58952431854624}, {\"lectures\": 263, \"mean_correct_%\": 60.294570321731406}, {\"lectures\": 265, \"mean_correct_%\": 55.88140392561685}, {\"lectures\": 266, \"mean_correct_%\": 65.84689572031344}, {\"lectures\": 267, \"mean_correct_%\": 66.2245228081527}, {\"lectures\": 268, \"mean_correct_%\": 70.53103964098727}, {\"lectures\": 269, \"mean_correct_%\": 79.85171184614256}, {\"lectures\": 271, \"mean_correct_%\": 66.40048606891763}, {\"lectures\": 274, \"mean_correct_%\": 58.143340673421726}, {\"lectures\": 276, \"mean_correct_%\": 66.71107319097436}, {\"lectures\": 277, \"mean_correct_%\": 74.09424065342904}, {\"lectures\": 279, \"mean_correct_%\": 69.05428473881871}, {\"lectures\": 280, \"mean_correct_%\": 55.36082474226804}, {\"lectures\": 283, \"mean_correct_%\": 69.01482127288578}, {\"lectures\": 285, \"mean_correct_%\": 57.39062499999999}, {\"lectures\": 287, \"mean_correct_%\": 69.66678739587107}, {\"lectures\": 290, \"mean_correct_%\": 77.4602107150863}, {\"lectures\": 292, \"mean_correct_%\": 68.194611982308}, {\"lectures\": 295, \"mean_correct_%\": 69.9539731961554}, {\"lectures\": 301, \"mean_correct_%\": 59.04482716501771}, {\"lectures\": 303, \"mean_correct_%\": 74.224606285675}, {\"lectures\": 305, \"mean_correct_%\": 87.42341729067394}, {\"lectures\": 306, \"mean_correct_%\": 70.41420118343196}, {\"lectures\": 308, \"mean_correct_%\": 72.11085240502017}, {\"lectures\": 309, \"mean_correct_%\": 75.88356252409716}, {\"lectures\": 314, \"mean_correct_%\": 57.11839530332681}, {\"lectures\": 318, \"mean_correct_%\": 79.15078933043004}, {\"lectures\": 319, \"mean_correct_%\": 54.327074373229834}, {\"lectures\": 321, \"mean_correct_%\": 68.96363139185124}, {\"lectures\": 328, \"mean_correct_%\": 84.09841479524438}, {\"lectures\": 331, \"mean_correct_%\": 61.55124653739612}, {\"lectures\": 363, \"mean_correct_%\": 44.313835245825175}, {\"lectures\": 368, \"mean_correct_%\": 57.39533183009324}, {\"lectures\": 377, \"mean_correct_%\": 83.36975678533662}, {\"lectures\": 379, \"mean_correct_%\": 66.64333216660833}, {\"lectures\": 385, \"mean_correct_%\": 78.85147226289246}, {\"lectures\": 386, \"mean_correct_%\": 76.00650176836018}, {\"lectures\": 389, \"mean_correct_%\": 71.22283088884961}, {\"lectures\": 395, \"mean_correct_%\": 73.3158788564959}, {\"lectures\": 397, \"mean_correct_%\": 72.3600467593194}]}}, {\"mode\": \"vega-lite\"});\n",
       "</script>"
      ],
      "text/plain": [
       "alt.Chart(...)"
      ]
     },
     "metadata": {},
     "output_type": "display_data"
    }
   ],
   "source": [
    "# Для наглядности построим график\n",
    "chart = alt.Chart(result).mark_line().encode(\n",
    "    x=alt.X('lectures:Q', title='Number of Lectures'),\n",
    "    y=alt.Y('mean_correct_%:Q', title='Mean Correct Answers (%)')\n",
    ").properties(\n",
    "    title='Mean Correct Answers by Number of Lectures'\n",
    ")\n",
    "\n",
    "# Отображение графика\n",
    "chart.show()"
   ]
  },
  {
   "cell_type": "markdown",
   "id": "dbcb5475",
   "metadata": {},
   "source": [
    "Видно, что процент средних ответов растет, по после 320 лекций большой разброс в данных (это может быть связано с тем, что после этого количества лекций у вас становится меньше данных, и средние значения становятся менее стабильными). Применим сглаживание с помощью логарифмической функции."
   ]
  },
  {
   "cell_type": "code",
   "execution_count": 71,
   "id": "b9606f21",
   "metadata": {},
   "outputs": [
    {
     "data": {
      "text/html": [
       "\n",
       "<style>\n",
       "  #altair-viz-4c44da1efdc64da2ba113726e5fe4d83.vega-embed {\n",
       "    width: 100%;\n",
       "    display: flex;\n",
       "  }\n",
       "\n",
       "  #altair-viz-4c44da1efdc64da2ba113726e5fe4d83.vega-embed details,\n",
       "  #altair-viz-4c44da1efdc64da2ba113726e5fe4d83.vega-embed details summary {\n",
       "    position: relative;\n",
       "  }\n",
       "</style>\n",
       "<div id=\"altair-viz-4c44da1efdc64da2ba113726e5fe4d83\"></div>\n",
       "<script type=\"text/javascript\">\n",
       "  var VEGA_DEBUG = (typeof VEGA_DEBUG == \"undefined\") ? {} : VEGA_DEBUG;\n",
       "  (function(spec, embedOpt){\n",
       "    let outputDiv = document.currentScript.previousElementSibling;\n",
       "    if (outputDiv.id !== \"altair-viz-4c44da1efdc64da2ba113726e5fe4d83\") {\n",
       "      outputDiv = document.getElementById(\"altair-viz-4c44da1efdc64da2ba113726e5fe4d83\");\n",
       "    }\n",
       "    const paths = {\n",
       "      \"vega\": \"https://cdn.jsdelivr.net/npm/vega@5?noext\",\n",
       "      \"vega-lib\": \"https://cdn.jsdelivr.net/npm/vega-lib?noext\",\n",
       "      \"vega-lite\": \"https://cdn.jsdelivr.net/npm/vega-lite@5.20.1?noext\",\n",
       "      \"vega-embed\": \"https://cdn.jsdelivr.net/npm/vega-embed@6?noext\",\n",
       "    };\n",
       "\n",
       "    function maybeLoadScript(lib, version) {\n",
       "      var key = `${lib.replace(\"-\", \"\")}_version`;\n",
       "      return (VEGA_DEBUG[key] == version) ?\n",
       "        Promise.resolve(paths[lib]) :\n",
       "        new Promise(function(resolve, reject) {\n",
       "          var s = document.createElement('script');\n",
       "          document.getElementsByTagName(\"head\")[0].appendChild(s);\n",
       "          s.async = true;\n",
       "          s.onload = () => {\n",
       "            VEGA_DEBUG[key] = version;\n",
       "            return resolve(paths[lib]);\n",
       "          };\n",
       "          s.onerror = () => reject(`Error loading script: ${paths[lib]}`);\n",
       "          s.src = paths[lib];\n",
       "        });\n",
       "    }\n",
       "\n",
       "    function showError(err) {\n",
       "      outputDiv.innerHTML = `<div class=\"error\" style=\"color:red;\">${err}</div>`;\n",
       "      throw err;\n",
       "    }\n",
       "\n",
       "    function displayChart(vegaEmbed) {\n",
       "      vegaEmbed(outputDiv, spec, embedOpt)\n",
       "        .catch(err => showError(`Javascript Error: ${err.message}<br>This usually means there's a typo in your chart specification. See the javascript console for the full traceback.`));\n",
       "    }\n",
       "\n",
       "    if(typeof define === \"function\" && define.amd) {\n",
       "      requirejs.config({paths});\n",
       "      require([\"vega-embed\"], displayChart, err => showError(`Error loading script: ${err.message}`));\n",
       "    } else {\n",
       "      maybeLoadScript(\"vega\", \"5\")\n",
       "        .then(() => maybeLoadScript(\"vega-lite\", \"5.20.1\"))\n",
       "        .then(() => maybeLoadScript(\"vega-embed\", \"6\"))\n",
       "        .catch(showError)\n",
       "        .then(() => displayChart(vegaEmbed));\n",
       "    }\n",
       "  })({\"config\": {\"view\": {\"continuousWidth\": 300, \"continuousHeight\": 300}}, \"data\": {\"name\": \"data-88577e8e9b07eb3e2d414bb62892e9bf\"}, \"mark\": {\"type\": \"line\"}, \"encoding\": {\"x\": {\"field\": \"lectures\", \"title\": \"Number of Lectures\", \"type\": \"quantitative\"}, \"y\": {\"field\": \"mean_correct_%_smooth\", \"title\": \"Mean Correct Answers (%)\", \"type\": \"quantitative\"}}, \"title\": \"Mean Correct Answers by Number of Lectures (Smoothed)\", \"$schema\": \"https://vega.github.io/schema/vega-lite/v5.20.1.json\", \"datasets\": {\"data-88577e8e9b07eb3e2d414bb62892e9bf\": [{\"lectures\": 0, \"mean_correct_%\": 50.36773773910312, \"mean_correct_%_smooth\": null}, {\"lectures\": 1, \"mean_correct_%\": 56.9342620082151, \"mean_correct_%_smooth\": null}, {\"lectures\": 2, \"mean_correct_%\": 59.332605571395405, \"mean_correct_%_smooth\": null}, {\"lectures\": 3, \"mean_correct_%\": 60.931632415086135, \"mean_correct_%_smooth\": null}, {\"lectures\": 4, \"mean_correct_%\": 61.65280368894501, \"mean_correct_%_smooth\": null}, {\"lectures\": 5, \"mean_correct_%\": 62.3043001231637, \"mean_correct_%_smooth\": null}, {\"lectures\": 6, \"mean_correct_%\": 62.61394527926669, \"mean_correct_%_smooth\": null}, {\"lectures\": 7, \"mean_correct_%\": 63.364732575731594, \"mean_correct_%_smooth\": null}, {\"lectures\": 8, \"mean_correct_%\": 63.383272004777055, \"mean_correct_%_smooth\": null}, {\"lectures\": 9, \"mean_correct_%\": 63.57980153515847, \"mean_correct_%_smooth\": 60.44650929408423}, {\"lectures\": 10, \"mean_correct_%\": 63.91891624274821, \"mean_correct_%_smooth\": 61.801627144448744}, {\"lectures\": 11, \"mean_correct_%\": 63.72541543739403, \"mean_correct_%_smooth\": 62.48074248736664}, {\"lectures\": 12, \"mean_correct_%\": 63.94595915661309, \"mean_correct_%_smooth\": 62.9420778458884}, {\"lectures\": 13, \"mean_correct_%\": 64.08587630233274, \"mean_correct_%_smooth\": 63.25750223461306}, {\"lectures\": 14, \"mean_correct_%\": 64.0736020866486, \"mean_correct_%_smooth\": 63.49958207438342}, {\"lectures\": 15, \"mean_correct_%\": 64.42295538342673, \"mean_correct_%_smooth\": 63.71144760040973}, {\"lectures\": 16, \"mean_correct_%\": 64.11694876772671, \"mean_correct_%_smooth\": 63.86174794925573}, {\"lectures\": 17, \"mean_correct_%\": 64.24030849222163, \"mean_correct_%_smooth\": 63.94930554090473}, {\"lectures\": 18, \"mean_correct_%\": 64.29491695136436, \"mean_correct_%_smooth\": 64.04047003556346}, {\"lectures\": 19, \"mean_correct_%\": 64.00562333005067, \"mean_correct_%_smooth\": 64.08305221505267}, {\"lectures\": 20, \"mean_correct_%\": 64.52827629404821, \"mean_correct_%_smooth\": 64.14398822018268}, {\"lectures\": 21, \"mean_correct_%\": 64.02180914065394, \"mean_correct_%_smooth\": 64.17362759050866}, {\"lectures\": 22, \"mean_correct_%\": 64.769092405501, \"mean_correct_%_smooth\": 64.25594091539745}, {\"lectures\": 23, \"mean_correct_%\": 64.68705832330947, \"mean_correct_%_smooth\": 64.31605911749512}, {\"lectures\": 24, \"mean_correct_%\": 64.35453092535757, \"mean_correct_%_smooth\": 64.34415200136601}, {\"lectures\": 25, \"mean_correct_%\": 64.95717247919058, \"mean_correct_%_smooth\": 64.3975737109424}, {\"lectures\": 26, \"mean_correct_%\": 64.51681736240857, \"mean_correct_%_smooth\": 64.43756057041058}, {\"lectures\": 27, \"mean_correct_%\": 64.74671103861807, \"mean_correct_%_smooth\": 64.48820082505023}, {\"lectures\": 28, \"mean_correct_%\": 65.14850791179441, \"mean_correct_%_smooth\": 64.57355992109323}, {\"lectures\": 29, \"mean_correct_%\": 64.72638311075958, \"mean_correct_%_smooth\": 64.64563589916413}, {\"lectures\": 30, \"mean_correct_%\": 65.35858954937677, \"mean_correct_%_smooth\": 64.72866722469699}, {\"lectures\": 31, \"mean_correct_%\": 64.84255924046354, \"mean_correct_%_smooth\": 64.81074223467795}, {\"lectures\": 32, \"mean_correct_%\": 65.2266633371316, \"mean_correct_%_smooth\": 64.85649932784102}, {\"lectures\": 33, \"mean_correct_%\": 64.86669938933609, \"mean_correct_%_smooth\": 64.87446343444368}, {\"lectures\": 34, \"mean_correct_%\": 65.0933173217765, \"mean_correct_%_smooth\": 64.94834207408556}, {\"lectures\": 35, \"mean_correct_%\": 65.47350463754485, \"mean_correct_%_smooth\": 64.99997528992098}, {\"lectures\": 36, \"mean_correct_%\": 65.36198815823072, \"mean_correct_%_smooth\": 65.0844923695032}, {\"lectures\": 37, \"mean_correct_%\": 64.84747804891283, \"mean_correct_%_smooth\": 65.09456907053269}, {\"lectures\": 38, \"mean_correct_%\": 65.76167528817042, \"mean_correct_%_smooth\": 65.15588580817027}, {\"lectures\": 39, \"mean_correct_%\": 66.09808940130621, \"mean_correct_%_smooth\": 65.29305643722493}, {\"lectures\": 40, \"mean_correct_%\": 65.79577729222981, \"mean_correct_%_smooth\": 65.33677521151023}, {\"lectures\": 41, \"mean_correct_%\": 65.5499173737442, \"mean_correct_%_smooth\": 65.4075110248383}, {\"lectures\": 42, \"mean_correct_%\": 65.48092361349097, \"mean_correct_%_smooth\": 65.43293705247423}, {\"lectures\": 43, \"mean_correct_%\": 66.17353132059299, \"mean_correct_%_smooth\": 65.56362024559992}, {\"lectures\": 44, \"mean_correct_%\": 65.75822813559647, \"mean_correct_%_smooth\": 65.63011132698192}, {\"lectures\": 45, \"mean_correct_%\": 64.34876239380873, \"mean_correct_%_smooth\": 65.51763710260832}, {\"lectures\": 46, \"mean_correct_%\": 65.66795662290438, \"mean_correct_%_smooth\": 65.5482339490757}, {\"lectures\": 47, \"mean_correct_%\": 65.64194917290506, \"mean_correct_%_smooth\": 65.6276810614749}, {\"lectures\": 48, \"mean_correct_%\": 66.33405701893298, \"mean_correct_%_smooth\": 65.68491923455116}, {\"lectures\": 49, \"mean_correct_%\": 65.91446285699217, \"mean_correct_%_smooth\": 65.66655658011976}, {\"lectures\": 50, \"mean_correct_%\": 66.22718436763269, \"mean_correct_%_smooth\": 65.70969728766005}, {\"lectures\": 51, \"mean_correct_%\": 65.84027548730157, \"mean_correct_%_smooth\": 65.73873309901579}, {\"lectures\": 52, \"mean_correct_%\": 65.82487843747064, \"mean_correct_%_smooth\": 65.77312858141376}, {\"lectures\": 53, \"mean_correct_%\": 64.57997625402503, \"mean_correct_%_smooth\": 65.61377307475695}, {\"lectures\": 54, \"mean_correct_%\": 67.47125848432836, \"mean_correct_%_smooth\": 65.78507610963014}, {\"lectures\": 55, \"mean_correct_%\": 65.91666710865387, \"mean_correct_%_smooth\": 65.94186658111467}, {\"lectures\": 56, \"mean_correct_%\": 66.46823796916935, \"mean_correct_%_smooth\": 66.02189471574115}, {\"lectures\": 57, \"mean_correct_%\": 66.43249047878155, \"mean_correct_%_smooth\": 66.1009488463288}, {\"lectures\": 58, \"mean_correct_%\": 66.154358049005, \"mean_correct_%_smooth\": 66.08297894933601}, {\"lectures\": 59, \"mean_correct_%\": 66.48019389129506, \"mean_correct_%_smooth\": 66.13955205276629}, {\"lectures\": 60, \"mean_correct_%\": 67.54004577387573, \"mean_correct_%_smooth\": 66.27083819339059}, {\"lectures\": 61, \"mean_correct_%\": 66.70846610552043, \"mean_correct_%_smooth\": 66.35765725521247}, {\"lectures\": 62, \"mean_correct_%\": 66.04595397341897, \"mean_correct_%_smooth\": 66.37976480880731}, {\"lectures\": 63, \"mean_correct_%\": 65.79008812836521, \"mean_correct_%_smooth\": 66.50077599624133}, {\"lectures\": 64, \"mean_correct_%\": 65.35618186300945, \"mean_correct_%_smooth\": 66.28926833410944}, {\"lectures\": 65, \"mean_correct_%\": 66.96860333366378, \"mean_correct_%_smooth\": 66.39446195661043}, {\"lectures\": 66, \"mean_correct_%\": 65.78665706011104, \"mean_correct_%_smooth\": 66.3263038657046}, {\"lectures\": 67, \"mean_correct_%\": 67.39990786166672, \"mean_correct_%_smooth\": 66.42304560399312}, {\"lectures\": 68, \"mean_correct_%\": 66.74920730752531, \"mean_correct_%_smooth\": 66.48253052984515}, {\"lectures\": 69, \"mean_correct_%\": 65.7118894734909, \"mean_correct_%_smooth\": 66.40570008806475}, {\"lectures\": 70, \"mean_correct_%\": 66.8649311997067, \"mean_correct_%_smooth\": 66.33818863064785}, {\"lectures\": 71, \"mean_correct_%\": 66.12339177350691, \"mean_correct_%_smooth\": 66.2796811974465}, {\"lectures\": 72, \"mean_correct_%\": 67.29205331571087, \"mean_correct_%_smooth\": 66.40429113167569}, {\"lectures\": 73, \"mean_correct_%\": 66.15895891930663, \"mean_correct_%_smooth\": 66.44117821076983}, {\"lectures\": 74, \"mean_correct_%\": 66.2049805602884, \"mean_correct_%_smooth\": 66.52605808049772}, {\"lectures\": 75, \"mean_correct_%\": 65.47550168750834, \"mean_correct_%_smooth\": 66.37674791588218}, {\"lectures\": 76, \"mean_correct_%\": 67.56080642611968, \"mean_correct_%_smooth\": 66.55416285248305}, {\"lectures\": 77, \"mean_correct_%\": 66.06633312193675, \"mean_correct_%_smooth\": 66.42080537851004}, {\"lectures\": 78, \"mean_correct_%\": 66.35029422867224, \"mean_correct_%_smooth\": 66.38091407062474}, {\"lectures\": 79, \"mean_correct_%\": 65.91145196346459, \"mean_correct_%_smooth\": 66.4008703196221}, {\"lectures\": 80, \"mean_correct_%\": 66.437365508203, \"mean_correct_%_smooth\": 66.35811375047174}, {\"lectures\": 81, \"mean_correct_%\": 65.58557177664377, \"mean_correct_%_smooth\": 66.30433175078542}, {\"lectures\": 82, \"mean_correct_%\": 67.23329249650845, \"mean_correct_%_smooth\": 66.29845566886517}, {\"lectures\": 83, \"mean_correct_%\": 65.31849105601903, \"mean_correct_%_smooth\": 66.21440888253642}, {\"lectures\": 84, \"mean_correct_%\": 66.89121297625276, \"mean_correct_%_smooth\": 66.28303212413286}, {\"lectures\": 85, \"mean_correct_%\": 66.28224318187212, \"mean_correct_%_smooth\": 66.36370627356924}, {\"lectures\": 86, \"mean_correct_%\": 65.26295771449168, \"mean_correct_%_smooth\": 66.13392140240643}, {\"lectures\": 87, \"mean_correct_%\": 66.6380112952092, \"mean_correct_%_smooth\": 66.19108921973368}, {\"lectures\": 88, \"mean_correct_%\": 67.30210767368017, \"mean_correct_%_smooth\": 66.28627056423447}, {\"lectures\": 89, \"mean_correct_%\": 66.93010760040006, \"mean_correct_%_smooth\": 66.38813612792802}, {\"lectures\": 90, \"mean_correct_%\": 66.88131059115537, \"mean_correct_%_smooth\": 66.43253063622326}, {\"lectures\": 91, \"mean_correct_%\": 65.43870402954927, \"mean_correct_%_smooth\": 66.41784386151382}, {\"lectures\": 92, \"mean_correct_%\": 68.55964463437165, \"mean_correct_%_smooth\": 66.55047907530015}, {\"lectures\": 93, \"mean_correct_%\": 65.9460557470434, \"mean_correct_%_smooth\": 66.61323554440257}, {\"lectures\": 94, \"mean_correct_%\": 66.57863336716899, \"mean_correct_%_smooth\": 66.5819775834942}, {\"lectures\": 95, \"mean_correct_%\": 67.01227146487584, \"mean_correct_%_smooth\": 66.65498041179458}, {\"lectures\": 96, \"mean_correct_%\": 64.33312604351227, \"mean_correct_%_smooth\": 66.56199724469664}, {\"lectures\": 97, \"mean_correct_%\": 65.92414108700949, \"mean_correct_%_smooth\": 66.49061022387666}, {\"lectures\": 98, \"mean_correct_%\": 68.4470820202696, \"mean_correct_%_smooth\": 66.6051076585356}, {\"lectures\": 99, \"mean_correct_%\": 64.88451156723806, \"mean_correct_%_smooth\": 66.40054805521939}, {\"lectures\": 100, \"mean_correct_%\": 66.0684356939399, \"mean_correct_%_smooth\": 66.31926056549784}, {\"lectures\": 101, \"mean_correct_%\": 65.3960854533305, \"mean_correct_%_smooth\": 66.31499870787597}, {\"lectures\": 102, \"mean_correct_%\": 64.56881434237842, \"mean_correct_%_smooth\": 65.91591567867665}, {\"lectures\": 103, \"mean_correct_%\": 67.24040918819382, \"mean_correct_%_smooth\": 66.04535102279169}, {\"lectures\": 104, \"mean_correct_%\": 66.10338553752773, \"mean_correct_%_smooth\": 65.99782623982756}, {\"lectures\": 105, \"mean_correct_%\": 68.54827176159152, \"mean_correct_%_smooth\": 66.15142626949913}, {\"lectures\": 106, \"mean_correct_%\": 66.66634569354265, \"mean_correct_%_smooth\": 66.38474823450217}, {\"lectures\": 107, \"mean_correct_%\": 67.86932137504348, \"mean_correct_%_smooth\": 66.57926626330557}, {\"lectures\": 108, \"mean_correct_%\": 66.27047649637234, \"mean_correct_%_smooth\": 66.36160571091584}, {\"lectures\": 109, \"mean_correct_%\": 65.54973387525087, \"mean_correct_%_smooth\": 66.42812794171712}, {\"lectures\": 110, \"mean_correct_%\": 65.61124508647096, \"mean_correct_%_smooth\": 66.38240888097022}, {\"lectures\": 111, \"mean_correct_%\": 67.72393815938139, \"mean_correct_%_smooth\": 66.61519415157531}, {\"lectures\": 112, \"mean_correct_%\": 68.07276167540681, \"mean_correct_%_smooth\": 66.96558888487814}, {\"lectures\": 113, \"mean_correct_%\": 65.91134071655534, \"mean_correct_%_smooth\": 66.83268203771429}, {\"lectures\": 114, \"mean_correct_%\": 65.53473317512082, \"mean_correct_%_smooth\": 66.7758168014736}, {\"lectures\": 115, \"mean_correct_%\": 68.23975579456557, \"mean_correct_%_smooth\": 66.74496520477099}, {\"lectures\": 116, \"mean_correct_%\": 63.59594883003204, \"mean_correct_%_smooth\": 66.43792551841993}, {\"lectures\": 117, \"mean_correct_%\": 69.22231142625935, \"mean_correct_%_smooth\": 66.57322452354153}, {\"lectures\": 118, \"mean_correct_%\": 64.67862317207302, \"mean_correct_%_smooth\": 66.41403919111158}, {\"lectures\": 119, \"mean_correct_%\": 66.28076896153868, \"mean_correct_%_smooth\": 66.48714269974037}, {\"lectures\": 120, \"mean_correct_%\": 65.57132020817973, \"mean_correct_%_smooth\": 66.48315021191125}, {\"lectures\": 121, \"mean_correct_%\": 67.65641080347255, \"mean_correct_%_smooth\": 66.47639747632037}, {\"lectures\": 122, \"mean_correct_%\": 63.61054530839388, \"mean_correct_%_smooth\": 66.03017583961908}, {\"lectures\": 123, \"mean_correct_%\": 67.271179252134, \"mean_correct_%_smooth\": 66.16615969317695}, {\"lectures\": 124, \"mean_correct_%\": 68.28318706452627, \"mean_correct_%_smooth\": 66.4410050821175}, {\"lectures\": 125, \"mean_correct_%\": 65.13973851013671, \"mean_correct_%_smooth\": 66.13100335367461}, {\"lectures\": 126, \"mean_correct_%\": 66.7913313329745, \"mean_correct_%_smooth\": 66.45054160396884}, {\"lectures\": 127, \"mean_correct_%\": 68.73454422578911, \"mean_correct_%_smooth\": 66.40176488392183}, {\"lectures\": 128, \"mean_correct_%\": 67.68899823905895, \"mean_correct_%_smooth\": 66.70280239062042}, {\"lectures\": 129, \"mean_correct_%\": 68.03522572994127, \"mean_correct_%_smooth\": 66.87824806746069}, {\"lectures\": 130, \"mean_correct_%\": 68.82414540182137, \"mean_correct_%_smooth\": 67.20353058682485}, {\"lectures\": 131, \"mean_correct_%\": 67.7038861614046, \"mean_correct_%_smooth\": 67.20827812261805}, {\"lectures\": 132, \"mean_correct_%\": 66.15258980326539, \"mean_correct_%_smooth\": 67.46248257210522}, {\"lectures\": 133, \"mean_correct_%\": 65.83986719364054, \"mean_correct_%_smooth\": 67.31935136625587}, {\"lectures\": 134, \"mean_correct_%\": 69.29798927560472, \"mean_correct_%_smooth\": 67.42083158736372}, {\"lectures\": 135, \"mean_correct_%\": 67.3461015457285, \"mean_correct_%_smooth\": 67.64146789092291}, {\"lectures\": 136, \"mean_correct_%\": 66.86362519854717, \"mean_correct_%_smooth\": 67.64869727748018}, {\"lectures\": 137, \"mean_correct_%\": 64.74594128743996, \"mean_correct_%_smooth\": 67.24983698364527}, {\"lectures\": 138, \"mean_correct_%\": 68.93907659649376, \"mean_correct_%_smooth\": 67.37484481938876}, {\"lectures\": 139, \"mean_correct_%\": 67.64459141663875, \"mean_correct_%_smooth\": 67.33578138805849}, {\"lectures\": 140, \"mean_correct_%\": 65.83909594477909, \"mean_correct_%_smooth\": 67.03727644235425}, {\"lectures\": 141, \"mean_correct_%\": 64.83936226159622, \"mean_correct_%_smooth\": 66.75082405237342}, {\"lectures\": 142, \"mean_correct_%\": 64.68358449604554, \"mean_correct_%_smooth\": 66.60392352165142}, {\"lectures\": 143, \"mean_correct_%\": 66.66187557422704, \"mean_correct_%_smooth\": 66.68612435971008}, {\"lectures\": 144, \"mean_correct_%\": 66.61682400895653, \"mean_correct_%_smooth\": 66.41800783304527}, {\"lectures\": 145, \"mean_correct_%\": 68.03149439070373, \"mean_correct_%_smooth\": 66.48654711754278}, {\"lectures\": 146, \"mean_correct_%\": 67.81385142296338, \"mean_correct_%_smooth\": 66.5815697399844}, {\"lectures\": 147, \"mean_correct_%\": 67.93366906273542, \"mean_correct_%_smooth\": 66.90034251751395}, {\"lectures\": 148, \"mean_correct_%\": 65.37978328544335, \"mean_correct_%_smooth\": 66.5444131864089}, {\"lectures\": 149, \"mean_correct_%\": 65.86524550463294, \"mean_correct_%_smooth\": 66.36647859520833}, {\"lectures\": 150, \"mean_correct_%\": 62.693557648209705, \"mean_correct_%_smooth\": 66.05192476555139}, {\"lectures\": 151, \"mean_correct_%\": 65.42136067990032, \"mean_correct_%_smooth\": 66.1101246073818}, {\"lectures\": 152, \"mean_correct_%\": 62.67146711884111, \"mean_correct_%_smooth\": 65.90891286966135}, {\"lectures\": 153, \"mean_correct_%\": 67.77902701721253, \"mean_correct_%_smooth\": 66.02062801395991}, {\"lectures\": 154, \"mean_correct_%\": 61.20768751308722, \"mean_correct_%_smooth\": 65.47971436437298}, {\"lectures\": 155, \"mean_correct_%\": 64.17503876523017, \"mean_correct_%_smooth\": 65.09406880182561}, {\"lectures\": 156, \"mean_correct_%\": 68.00171468024546, \"mean_correct_%_smooth\": 65.11285512755383}, {\"lectures\": 157, \"mean_correct_%\": 62.38341596660293, \"mean_correct_%_smooth\": 64.55782981794059}, {\"lectures\": 158, \"mean_correct_%\": 64.70800038037864, \"mean_correct_%_smooth\": 64.49065152743411}, {\"lectures\": 159, \"mean_correct_%\": 67.77947749035107, \"mean_correct_%_smooth\": 64.68207472600592}, {\"lectures\": 160, \"mean_correct_%\": 62.84402659981004, \"mean_correct_%_smooth\": 64.69712162116596}, {\"lectures\": 161, \"mean_correct_%\": 64.29640807934662, \"mean_correct_%_smooth\": 64.5846263611106}, {\"lectures\": 162, \"mean_correct_%\": 67.10619824809203, \"mean_correct_%_smooth\": 65.02809947403568}, {\"lectures\": 163, \"mean_correct_%\": 63.034678717920244, \"mean_correct_%_smooth\": 64.55366464410645}, {\"lectures\": 164, \"mean_correct_%\": 63.414959422264516, \"mean_correct_%_smooth\": 64.77439183502418}, {\"lectures\": 165, \"mean_correct_%\": 60.25216337041053, \"mean_correct_%_smooth\": 64.38210429554222}, {\"lectures\": 166, \"mean_correct_%\": 65.28635818589834, \"mean_correct_%_smooth\": 64.11056864610751}, {\"lectures\": 167, \"mean_correct_%\": 70.31988952169425, \"mean_correct_%_smooth\": 64.90421600161663}, {\"lectures\": 168, \"mean_correct_%\": 69.69768242735206, \"mean_correct_%_smooth\": 65.40318420631398}, {\"lectures\": 169, \"mean_correct_%\": 64.46298179502564, \"mean_correct_%_smooth\": 65.07153463678144}, {\"lectures\": 170, \"mean_correct_%\": 65.07968003774705, \"mean_correct_%_smooth\": 65.29509998057515}, {\"lectures\": 171, \"mean_correct_%\": 66.8061684569222, \"mean_correct_%_smooth\": 65.5460760183327}, {\"lectures\": 172, \"mean_correct_%\": 55.0451570463541, \"mean_correct_%_smooth\": 64.33997189815891}, {\"lectures\": 173, \"mean_correct_%\": 64.55806680009306, \"mean_correct_%_smooth\": 64.4923107063762}, {\"lectures\": 174, \"mean_correct_%\": 70.35882281686943, \"mean_correct_%_smooth\": 65.1866970458367}, {\"lectures\": 175, \"mean_correct_%\": 68.39694943239076, \"mean_correct_%_smooth\": 66.00117565203473}, {\"lectures\": 176, \"mean_correct_%\": 63.80894485702139, \"mean_correct_%_smooth\": 65.85343431914704}, {\"lectures\": 177, \"mean_correct_%\": 66.12542332863084, \"mean_correct_%_smooth\": 65.4339876998407}, {\"lectures\": 178, \"mean_correct_%\": 68.4055066157821, \"mean_correct_%_smooth\": 65.3047701186837}, {\"lectures\": 179, \"mean_correct_%\": 66.73487280998071, \"mean_correct_%_smooth\": 65.53195922017922}, {\"lectures\": 180, \"mean_correct_%\": 69.30790118337683, \"mean_correct_%_smooth\": 65.9547813347422}, {\"lectures\": 181, \"mean_correct_%\": 68.20245557396646, \"mean_correct_%_smooth\": 66.09441004644661}, {\"lectures\": 182, \"mean_correct_%\": 66.88717222289098, \"mean_correct_%_smooth\": 67.2786115641003}, {\"lectures\": 183, \"mean_correct_%\": 61.815434893704804, \"mean_correct_%_smooth\": 67.00434837346147}, {\"lectures\": 184, \"mean_correct_%\": 61.81186311576584, \"mean_correct_%_smooth\": 66.14965240335111}, {\"lectures\": 185, \"mean_correct_%\": 67.19510589192298, \"mean_correct_%_smooth\": 66.02946804930433}, {\"lectures\": 186, \"mean_correct_%\": 64.5012236443665, \"mean_correct_%_smooth\": 66.09869592803884}, {\"lectures\": 187, \"mean_correct_%\": 59.79355188028639, \"mean_correct_%_smooth\": 65.4655087832044}, {\"lectures\": 188, \"mean_correct_%\": 63.66581693841044, \"mean_correct_%_smooth\": 64.99153981546723}, {\"lectures\": 189, \"mean_correct_%\": 63.57923044138579, \"mean_correct_%_smooth\": 64.67597557860773}, {\"lectures\": 190, \"mean_correct_%\": 55.31207255197571, \"mean_correct_%_smooth\": 63.276392715467615}, {\"lectures\": 191, \"mean_correct_%\": 62.753553855123656, \"mean_correct_%_smooth\": 62.731502543583325}, {\"lectures\": 192, \"mean_correct_%\": 58.506357939696976, \"mean_correct_%_smooth\": 61.893421115263926}, {\"lectures\": 193, \"mean_correct_%\": 72.08116554650121, \"mean_correct_%_smooth\": 62.91999418054356}, {\"lectures\": 194, \"mean_correct_%\": 63.7901521869158, \"mean_correct_%_smooth\": 63.11782308765855}, {\"lectures\": 195, \"mean_correct_%\": 62.13547511284933, \"mean_correct_%_smooth\": 62.6118600097512}, {\"lectures\": 196, \"mean_correct_%\": 64.27341858665802, \"mean_correct_%_smooth\": 62.58907950398035}, {\"lectures\": 197, \"mean_correct_%\": 72.1332506799826, \"mean_correct_%_smooth\": 63.823049383949964}, {\"lectures\": 198, \"mean_correct_%\": 66.98393157520677, \"mean_correct_%_smooth\": 64.15486084762959}, {\"lectures\": 199, \"mean_correct_%\": 61.89061463965697, \"mean_correct_%_smooth\": 63.98599926745671}, {\"lectures\": 200, \"mean_correct_%\": 64.43842025580624, \"mean_correct_%_smooth\": 64.89863403783977}, {\"lectures\": 201, \"mean_correct_%\": 69.49682596950716, \"mean_correct_%_smooth\": 65.57296124927812}, {\"lectures\": 202, \"mean_correct_%\": 65.78195460065245, \"mean_correct_%_smooth\": 66.30052091537368}, {\"lectures\": 203, \"mean_correct_%\": 55.52516061220789, \"mean_correct_%_smooth\": 64.64492042194435}, {\"lectures\": 204, \"mean_correct_%\": 66.461960148639, \"mean_correct_%_smooth\": 64.91210121811667}, {\"lectures\": 205, \"mean_correct_%\": 69.42043853536042, \"mean_correct_%_smooth\": 65.64059756036778}, {\"lectures\": 206, \"mean_correct_%\": 61.185350256487176, \"mean_correct_%_smooth\": 65.3317907273507}, {\"lectures\": 207, \"mean_correct_%\": 66.24158568979884, \"mean_correct_%_smooth\": 64.74262422833232}, {\"lectures\": 208, \"mean_correct_%\": 70.09241326778604, \"mean_correct_%_smooth\": 65.05347239759024}, {\"lectures\": 209, \"mean_correct_%\": 58.23477609677727, \"mean_correct_%_smooth\": 64.68788854330228}, {\"lectures\": 210, \"mean_correct_%\": 59.66876956057688, \"mean_correct_%_smooth\": 64.21092347377933}, {\"lectures\": 211, \"mean_correct_%\": 59.24382645231199, \"mean_correct_%_smooth\": 63.185623522059814}, {\"lectures\": 212, \"mean_correct_%\": 58.81798236202314, \"mean_correct_%_smooth\": 62.48922629819689}, {\"lectures\": 213, \"mean_correct_%\": 67.89639602579992, \"mean_correct_%_smooth\": 63.7263498395561}, {\"lectures\": 215, \"mean_correct_%\": 71.5500994593582, \"mean_correct_%_smooth\": 64.23516377062802}, {\"lectures\": 216, \"mean_correct_%\": 61.6064169941292, \"mean_correct_%_smooth\": 63.45376161650489}, {\"lectures\": 217, \"mean_correct_%\": 73.47793443129862, \"mean_correct_%_smooth\": 64.68302003398604}, {\"lectures\": 218, \"mean_correct_%\": 72.23831583443328, \"mean_correct_%_smooth\": 65.28269304844949}, {\"lectures\": 219, \"mean_correct_%\": 57.32552009348631, \"mean_correct_%_smooth\": 64.0060037310195}, {\"lectures\": 220, \"mean_correct_%\": 62.00031274760568, \"mean_correct_%_smooth\": 64.38255739610234}, {\"lectures\": 221, \"mean_correct_%\": 61.58558246374811, \"mean_correct_%_smooth\": 64.57423868641948}, {\"lectures\": 222, \"mean_correct_%\": 64.23417758216752, \"mean_correct_%_smooth\": 65.07327379940503}, {\"lectures\": 223, \"mean_correct_%\": 64.38079339231822, \"mean_correct_%_smooth\": 65.62955490243453}, {\"lectures\": 224, \"mean_correct_%\": 69.20199305896185, \"mean_correct_%_smooth\": 65.76011460575072}, {\"lectures\": 225, \"mean_correct_%\": 62.03527712631611, \"mean_correct_%_smooth\": 64.80863237244651}, {\"lectures\": 226, \"mean_correct_%\": 65.71179385946375, \"mean_correct_%_smooth\": 65.21917005897998}, {\"lectures\": 227, \"mean_correct_%\": 67.53360709902704, \"mean_correct_%_smooth\": 64.62473732575282}, {\"lectures\": 228, \"mean_correct_%\": 67.59401536696103, \"mean_correct_%_smooth\": 64.1603072790056}, {\"lectures\": 229, \"mean_correct_%\": 66.62277814351548, \"mean_correct_%_smooth\": 65.09003308400851}, {\"lectures\": 230, \"mean_correct_%\": 73.16415531633258, \"mean_correct_%_smooth\": 66.20641734088119}, {\"lectures\": 231, \"mean_correct_%\": 65.65417804551886, \"mean_correct_%_smooth\": 66.61327689905826}, {\"lectures\": 233, \"mean_correct_%\": 54.33475924830659, \"mean_correct_%_smooth\": 65.62333506567218}, {\"lectures\": 234, \"mean_correct_%\": 69.09183431774355, \"mean_correct_%_smooth\": 66.09443915821471}, {\"lectures\": 235, \"mean_correct_%\": 81.82997193093257, \"mean_correct_%_smooth\": 67.35723704541178}, {\"lectures\": 236, \"mean_correct_%\": 63.928485732094735, \"mean_correct_%_smooth\": 67.54655790598964}, {\"lectures\": 237, \"mean_correct_%\": 67.7637190787603, \"mean_correct_%_smooth\": 67.75175042791929}, {\"lectures\": 238, \"mean_correct_%\": 64.40940499781249, \"mean_correct_%_smooth\": 67.43933021779785}, {\"lectures\": 239, \"mean_correct_%\": 56.95998644481059, \"mean_correct_%_smooth\": 66.37592732558281}, {\"lectures\": 240, \"mean_correct_%\": 70.06607338099178, \"mean_correct_%_smooth\": 66.72025684933044}, {\"lectures\": 241, \"mean_correct_%\": 62.33484802263486, \"mean_correct_%_smooth\": 65.63732611996068}, {\"lectures\": 242, \"mean_correct_%\": 49.616794401866045, \"mean_correct_%_smooth\": 64.03358775559539}, {\"lectures\": 244, \"mean_correct_%\": 68.09400517825135, \"mean_correct_%_smooth\": 65.40951234858987}, {\"lectures\": 245, \"mean_correct_%\": 68.00022710402884, \"mean_correct_%_smooth\": 65.3003516272184}, {\"lectures\": 246, \"mean_correct_%\": 74.20726991492653, \"mean_correct_%_smooth\": 64.5380814256178}, {\"lectures\": 247, \"mean_correct_%\": 57.00765631646107, \"mean_correct_%_smooth\": 63.84599848405444}, {\"lectures\": 248, \"mean_correct_%\": 64.2010905077107, \"mean_correct_%_smooth\": 63.48973562694947}, {\"lectures\": 249, \"mean_correct_%\": 64.27359307172588, \"mean_correct_%_smooth\": 63.47615443434081}, {\"lectures\": 250, \"mean_correct_%\": 55.157339379266716, \"mean_correct_%_smooth\": 63.295889727786424}, {\"lectures\": 251, \"mean_correct_%\": 67.67546479396451, \"mean_correct_%_smooth\": 63.05682886908369}, {\"lectures\": 253, \"mean_correct_%\": 63.14849526045414, \"mean_correct_%_smooth\": 63.13819359286562}, {\"lectures\": 255, \"mean_correct_%\": 62.05280688596046, \"mean_correct_%_smooth\": 64.38179484127505}, {\"lectures\": 257, \"mean_correct_%\": 59.06857849861182, \"mean_correct_%_smooth\": 63.4792521733111}, {\"lectures\": 259, \"mean_correct_%\": 75.1006497311641, \"mean_correct_%_smooth\": 64.18929443602464}, {\"lectures\": 260, \"mean_correct_%\": 82.58952431854624, \"mean_correct_%_smooth\": 65.0275198763866}, {\"lectures\": 263, \"mean_correct_%\": 60.294570321731406, \"mean_correct_%_smooth\": 65.35621127691363}, {\"lectures\": 265, \"mean_correct_%\": 55.88140392561685, \"mean_correct_%_smooth\": 64.52424261870425}, {\"lectures\": 266, \"mean_correct_%\": 65.84689572031344, \"mean_correct_%_smooth\": 64.681572883563}, {\"lectures\": 267, \"mean_correct_%\": 66.2245228081527, \"mean_correct_%_smooth\": 65.78829122645159}, {\"lectures\": 268, \"mean_correct_%\": 70.53103964098727, \"mean_correct_%_smooth\": 66.07384871115387}, {\"lectures\": 269, \"mean_correct_%\": 79.85171184614256, \"mean_correct_%_smooth\": 67.7441703697227}, {\"lectures\": 271, \"mean_correct_%\": 66.40048606891763, \"mean_correct_%_smooth\": 68.17893828801843}, {\"lectures\": 274, \"mean_correct_%\": 58.143340673421726, \"mean_correct_%_smooth\": 68.0864145054994}, {\"lectures\": 276, \"mean_correct_%\": 66.71107319097436, \"mean_correct_%_smooth\": 67.24745685148044}, {\"lectures\": 277, \"mean_correct_%\": 74.09424065342904, \"mean_correct_%_smooth\": 66.39792848496873}, {\"lectures\": 279, \"mean_correct_%\": 69.05428473881871, \"mean_correct_%_smooth\": 67.27389992667746}, {\"lectures\": 280, \"mean_correct_%\": 55.36082474226804, \"mean_correct_%_smooth\": 67.22184200834258}, {\"lectures\": 283, \"mean_correct_%\": 69.01482127288578, \"mean_correct_%_smooth\": 67.53863456359981}, {\"lectures\": 285, \"mean_correct_%\": 57.39062499999999, \"mean_correct_%_smooth\": 66.65524478278455}, {\"lectures\": 287, \"mean_correct_%\": 69.66678739587107, \"mean_correct_%_smooth\": 66.56881955827293}, {\"lectures\": 290, \"mean_correct_%\": 77.4602107150863, \"mean_correct_%_smooth\": 66.32966944516731}, {\"lectures\": 292, \"mean_correct_%\": 68.194611982308, \"mean_correct_%_smooth\": 66.50908203650636}, {\"lectures\": 295, \"mean_correct_%\": 69.9539731961554, \"mean_correct_%_smooth\": 67.69014528877973}, {\"lectures\": 301, \"mean_correct_%\": 59.04482716501771, \"mean_correct_%_smooth\": 66.92352068618406}, {\"lectures\": 303, \"mean_correct_%\": 74.224606285675, \"mean_correct_%_smooth\": 66.93655724940865}, {\"lectures\": 305, \"mean_correct_%\": 87.42341729067394, \"mean_correct_%_smooth\": 68.77347050459417}, {\"lectures\": 306, \"mean_correct_%\": 70.41420118343196, \"mean_correct_%_smooth\": 70.27880814871057}, {\"lectures\": 308, \"mean_correct_%\": 72.11085240502017, \"mean_correct_%_smooth\": 70.588411261924}, {\"lectures\": 309, \"mean_correct_%\": 75.88356252409716, \"mean_correct_%_smooth\": 72.43770501433372}, {\"lectures\": 314, \"mean_correct_%\": 57.11839530332681, \"mean_correct_%_smooth\": 71.18286580507927}, {\"lectures\": 318, \"mean_correct_%\": 79.15078933043004, \"mean_correct_%_smooth\": 71.35192366661366}, {\"lectures\": 319, \"mean_correct_%\": 54.327074373229834, \"mean_correct_%_smooth\": 69.96516990570584}, {\"lectures\": 321, \"mean_correct_%\": 68.96363139185124, \"mean_correct_%_smooth\": 69.86613572527541}, {\"lectures\": 328, \"mean_correct_%\": 84.09841479524438, \"mean_correct_%_smooth\": 72.37149448829807}, {\"lectures\": 331, \"mean_correct_%\": 61.55124653739612, \"mean_correct_%_smooth\": 71.10415851347018}, {\"lectures\": 363, \"mean_correct_%\": 44.313835245825175, \"mean_correct_%_smooth\": 66.7932003089853}, {\"lectures\": 368, \"mean_correct_%\": 57.39533183009324, \"mean_correct_%_smooth\": 65.49131337365144}, {\"lectures\": 377, \"mean_correct_%\": 83.36975678533662, \"mean_correct_%_smooth\": 66.61720381168308}, {\"lectures\": 379, \"mean_correct_%\": 66.64333216660833, \"mean_correct_%_smooth\": 65.69318077593421}, {\"lectures\": 385, \"mean_correct_%\": 78.85147226289246, \"mean_correct_%_smooth\": 67.86648847189078}, {\"lectures\": 386, \"mean_correct_%\": 76.00650176836018, \"mean_correct_%_smooth\": 67.55205971568378}, {\"lectures\": 389, \"mean_correct_%\": 71.22283088884961, \"mean_correct_%_smooth\": 69.24163536724578}, {\"lectures\": 395, \"mean_correct_%\": 73.3158788564959, \"mean_correct_%_smooth\": 69.67686011371025}, {\"lectures\": 397, \"mean_correct_%\": 72.3600467593194, \"mean_correct_%_smooth\": 68.50302331011775}]}}, {\"mode\": \"vega-lite\"});\n",
       "</script>"
      ],
      "text/plain": [
       "alt.Chart(...)"
      ]
     },
     "metadata": {},
     "output_type": "display_data"
    }
   ],
   "source": [
    "# Применение скользящего среднего для сглаживания данных\n",
    "result = result.with_columns(\n",
    "    pl.col('mean_correct_%').rolling_mean(window_size=10).alias('mean_correct_%_smooth')\n",
    ")\n",
    "\n",
    "# Построение графика с использованием altair\n",
    "chart = alt.Chart(result).mark_line().encode(\n",
    "    x=alt.X('lectures:Q', title='Number of Lectures'),\n",
    "    y=alt.Y('mean_correct_%_smooth:Q', title='Mean Correct Answers (%)')\n",
    ").properties(\n",
    "    title='Mean Correct Answers by Number of Lectures (Smoothed)'\n",
    ")\n",
    "\n",
    "# Отображение графика\n",
    "chart.show()"
   ]
  },
  {
   "cell_type": "markdown",
   "id": "c2e1c233",
   "metadata": {},
   "source": [
    "**Вывод 4**: Есть прямая зависимость числа посещенных занятий и полученной оценки"
   ]
  },
  {
   "cell_type": "markdown",
   "id": "00e77004",
   "metadata": {},
   "source": [
    "## Общие выводы"
   ]
  },
  {
   "cell_type": "markdown",
   "id": "955cdf33",
   "metadata": {},
   "source": [
    "\n",
    "Таким образом, мы изучили данные представленных таблиц и на основании полученных данных сделали 4 вывода.\n",
    "\n",
    "Вывод 1:\n",
    "Наличие разъяснения на предыдущий вопрос значительно влияет на правильность ответа на следующий вопрос. (60,375,288 раз против 4,602,399 раз без разъяснения). Учащиеся чаще отвечают правильно, когда они получали разъяснения, и чаще ошибаются, когда разъяснения не было.\n",
    "\n",
    "Вывод 2: \n",
    "Среднее количество правильных ответов (mean_answered_correctly) постепенно увеличивается с течением времени. Т.е. чем дольше пользователи обучаются, тем чаще дают правильные ответы.\n",
    "\n",
    "Вывод 3:\n",
    "Процент правильных ответов на вопросы выше в первые 20 секунд. Дальше этот показатель постепенно снижается.\n",
    "\n",
    "Вывод 4: Есть прямая зависимость числа посещенных занятий и полученной оценки"
   ]
  }
 ],
 "metadata": {
  "colab": {
   "provenance": [],
   "toc_visible": true
  },
  "kernelspec": {
   "display_name": "Python 3 (ipykernel)",
   "language": "python",
   "name": "python3"
  },
  "language_info": {
   "codemirror_mode": {
    "name": "ipython",
    "version": 3
   },
   "file_extension": ".py",
   "mimetype": "text/x-python",
   "name": "python",
   "nbconvert_exporter": "python",
   "pygments_lexer": "ipython3",
   "version": "3.9.13"
  },
  "toc": {
   "base_numbering": 1,
   "nav_menu": {},
   "number_sections": true,
   "sideBar": true,
   "skip_h1_title": true,
   "title_cell": "Table of Contents",
   "title_sidebar": "Contents",
   "toc_cell": true,
   "toc_position": {},
   "toc_section_display": true,
   "toc_window_display": false
  }
 },
 "nbformat": 4,
 "nbformat_minor": 5
}
