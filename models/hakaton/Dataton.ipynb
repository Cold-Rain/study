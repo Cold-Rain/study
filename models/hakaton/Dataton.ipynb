{
  "nbformat": 4,
  "nbformat_minor": 0,
  "metadata": {
    "colab": {
      "provenance": [],
      "gpuType": "T4"
    },
    "kernelspec": {
      "name": "python3",
      "display_name": "Python 3"
    },
    "language_info": {
      "name": "python"
    },
    "accelerator": "GPU"
  },
  "cells": [
    {
      "cell_type": "markdown",
      "source": [
        "# 😼 Практическая часть лекции \"Использование готовых предобученных моделей для создания ML-driven продуктов\"\n",
        "\n",
        "## План ноутбука:\n",
        "1. Hard-способ: дообучение модели через PyTorch и TensorFlow.\n",
        "2. Light-способы: YOLO, RoboFlow, Hugging Face.\n"
      ],
      "metadata": {
        "id": "rUW3ZMjDvkeT"
      }
    },
    {
      "cell_type": "markdown",
      "source": [
        "## Hard-способ\n",
        "Находить предобученные веса моделей в библиотеках PyTorch или TensorFlow: конкретную/лучшую архитектуру можно найти на [paperswithcode.com](https://paperswithcode.com/) ~или по запросу в Google - например, \"SOTA image classification models\"~.\n",
        "\n",
        "Смотрим ТОП по метрикам, выбираем модель - как правило, все инструкции и веса лежат на GitHub - и дообучаем на своих данных.\n",
        "\n",
        "💥 Давайте попробуем решить задачу классификации - распознавание людей на фотографии: наша модель будет уметь распознавать Маска, Гейтса, Безоса, Цукерберга и Джобса. Соответствующие датасеты мы уже собрали:)"
      ],
      "metadata": {
        "id": "mLbcsQCphrvj"
      }
    },
    {
      "cell_type": "code",
      "execution_count": null,
      "metadata": {
        "id": "7sAC10sblnGR"
      },
      "outputs": [],
      "source": [
        "import os\n",
        "import torch\n",
        "import random\n",
        "import numpy as np\n",
        "import torchvision\n",
        "import matplotlib.pyplot as plt\n",
        "import torchvision.transforms as transforms\n",
        "import shutil\n",
        "import time\n",
        "import xml.etree.ElementTree as et\n",
        "\n",
        "from tqdm import tqdm\n",
        "from PIL import Image\n",
        "from torchvision import models\n",
        "from torch.utils.data import DataLoader\n",
        "from torchvision.datasets import ImageFolder\n",
        "BATCH_SIZE = 32"
      ]
    },
    {
      "cell_type": "code",
      "source": [
        "use_gpu = torch.cuda.is_available()\n",
        "device = 'cuda' if use_gpu else 'cpu'\n",
        "print('Connected device:', device)\n",
        "\n",
        "musk = 'https://drive.google.com/uc?export=download&id=1BOuq35QzO1YtKQkYGfj_vtBj3Ps5xyBN'\n",
        "gates ='https://drive.google.com/uc?export=download&id=1jgHQF_NMpH9uMTvic9rGnURu_8UOGdiz'\n",
        "bezos = 'https://drive.google.com/uc?export=download&id=1n5UaLL-TAkjIeBbTNcn-Czkp_A3Eslhj'\n",
        "zuker = 'https://drive.google.com/uc?export=download&id=1ncPmYTg6EPHlUFdcjl_bXTbtWRLv2DXy'\n",
        "jobs = 'https://drive.google.com/uc?export=download&id=1TX3hiRyvSYiYVZUFrbAhN3Jpp9cd0Q9s'\n",
        "\n",
        "face_lst=[\n",
        "    [\"Elon Musk\",'data/musk500.jpg'],\n",
        "    [\"Bill Gates\",'data/gates500.jpg'],\n",
        "    [\"Jeff Besoz\",'data/bezos500.jpg'],\n",
        "    [\"Mark Zuckerberg\", 'data/zuckerberg500.jpg'],\n",
        "    [\"Steve Jobs\",'data/jobs500.jpg']\n",
        "]"
      ],
      "metadata": {
        "id": "-dt0BC-dludE",
        "colab": {
          "base_uri": "https://localhost:8080/"
        },
        "outputId": "d4746dcc-3790-42fa-b90d-7715123dc630"
      },
      "execution_count": null,
      "outputs": [
        {
          "output_type": "stream",
          "name": "stdout",
          "text": [
            "Connected device: cuda\n"
          ]
        }
      ]
    },
    {
      "cell_type": "code",
      "source": [
        " ! pwd"
      ],
      "metadata": {
        "id": "hZLzGXnSmRnS",
        "colab": {
          "base_uri": "https://localhost:8080/"
        },
        "outputId": "46ad07ba-cf7f-4d00-b5d0-d213f7d6112f"
      },
      "execution_count": null,
      "outputs": [
        {
          "output_type": "stream",
          "name": "stdout",
          "text": [
            "/content\n"
          ]
        }
      ]
    },
    {
      "cell_type": "code",
      "source": [
        "import wget\n",
        "from zipfile import ZipFile\n",
        "\n",
        "os.mkdir('data')\n",
        "\n",
        "url = 'https://drive.google.com/uc?export=download&id=120xqh0mYtYZ1Qh7vr-XFzjPbSKivLJjA'\n",
        "file_name = wget.download(url, 'data/')\n",
        "\n",
        "with ZipFile(file_name, 'r') as zip_file:\n",
        "    zip_file.extractall()\n",
        "\n",
        "link_lst = [musk, gates, bezos, zuker, jobs]\n",
        "for link in link_lst:\n",
        "    wget.download(link, 'data/')"
      ],
      "metadata": {
        "id": "1yXIJC1fj0Tx"
      },
      "execution_count": null,
      "outputs": []
    },
    {
      "cell_type": "code",
      "source": [
        "# Training dataset.\n",
        "train_dataset = ImageFolder(\n",
        "    root='data/train'\n",
        ")\n",
        "# Validation dataset.\n",
        "valid_dataset = ImageFolder(\n",
        "    root='data/valid'\n",
        ")"
      ],
      "metadata": {
        "id": "SYpwlB6IkBJN"
      },
      "execution_count": null,
      "outputs": []
    },
    {
      "cell_type": "markdown",
      "source": [
        "Добавим аугментаций - автовыравнивание изображений и автоконтраста (чтобы улучшить обобщающую способность моделей и внизить риск переобучения)."
      ],
      "metadata": {
        "id": "we-SEJMBmpWW"
      }
    },
    {
      "cell_type": "code",
      "source": [
        "normalize = transforms.Normalize(mean=[0.485, 0.456, 0.406],\n",
        "                                 std=[0.229, 0.224, 0.225])\n",
        "train_dataset.transform = transforms.Compose([\n",
        "    transforms.Resize([70, 70]),\n",
        "    transforms.RandomHorizontalFlip(), # augmentations\n",
        "    transforms.RandomAutocontrast(), # augmentations\n",
        "    transforms.RandomEqualize(), # augmentations\n",
        "    transforms.ToTensor(),\n",
        "    normalize\n",
        "])\n",
        "\n",
        "valid_dataset.transform = transforms.Compose([\n",
        "    transforms.Resize([70, 70]),\n",
        "    transforms.ToTensor(),\n",
        "    normalize\n",
        "])\n"
      ],
      "metadata": {
        "id": "YlY52JuDmCIW"
      },
      "execution_count": null,
      "outputs": []
    },
    {
      "cell_type": "code",
      "source": [
        "# Training data loaders.\n",
        "train_loader = DataLoader(\n",
        "    train_dataset, batch_size=BATCH_SIZE,\n",
        "    shuffle=True\n",
        ")\n",
        "# Validation data loaders.\n",
        "valid_loader = DataLoader(\n",
        "    valid_dataset, batch_size=BATCH_SIZE,\n",
        "    shuffle=False\n",
        ")"
      ],
      "metadata": {
        "id": "1jJq6r8FkKU0"
      },
      "execution_count": null,
      "outputs": []
    },
    {
      "cell_type": "markdown",
      "source": [
        "Возьмём предобученную нейросеть GoogLeNet.\n",
        "\n",
        "Меняем выходной параметр `Linear(out_feature=1000)` на количество классов.\n",
        "\n",
        "Замораживаем все исходные слои модели."
      ],
      "metadata": {
        "id": "VT8Du-Jrkeu4"
      }
    },
    {
      "cell_type": "code",
      "source": [
        "def google(): # pretrained=True для tensorflow\n",
        "    model = models.googlenet(weights=models.GoogLeNet_Weights.IMAGENET1K_V1)\n",
        "    model.fc = torch.nn.Linear(1024, 5)\n",
        "    for param in model.parameters():\n",
        "        param.requires_grad = True\n",
        "    model.inception3a.requires_grad = False\n",
        "    model.inception3b.requires_grad = False\n",
        "    model.inception4a.requires_grad = False\n",
        "    model.inception4b.requires_grad = False\n",
        "    model.inception4c.requires_grad = False\n",
        "    model.inception4d.requires_grad = False\n",
        "    model.inception4e.requires_grad = False\n",
        "    return model"
      ],
      "metadata": {
        "id": "vt_bXIROkYs5"
      },
      "execution_count": null,
      "outputs": []
    },
    {
      "cell_type": "code",
      "source": [
        "model = google()\n",
        "model"
      ],
      "metadata": {
        "id": "P-D4ziOjpmxl",
        "colab": {
          "base_uri": "https://localhost:8080/"
        },
        "outputId": "1542d2af-0e05-4812-f876-9bb37790c8fa"
      },
      "execution_count": null,
      "outputs": [
        {
          "output_type": "execute_result",
          "data": {
            "text/plain": [
              "GoogLeNet(\n",
              "  (conv1): BasicConv2d(\n",
              "    (conv): Conv2d(3, 64, kernel_size=(7, 7), stride=(2, 2), padding=(3, 3), bias=False)\n",
              "    (bn): BatchNorm2d(64, eps=0.001, momentum=0.1, affine=True, track_running_stats=True)\n",
              "  )\n",
              "  (maxpool1): MaxPool2d(kernel_size=3, stride=2, padding=0, dilation=1, ceil_mode=True)\n",
              "  (conv2): BasicConv2d(\n",
              "    (conv): Conv2d(64, 64, kernel_size=(1, 1), stride=(1, 1), bias=False)\n",
              "    (bn): BatchNorm2d(64, eps=0.001, momentum=0.1, affine=True, track_running_stats=True)\n",
              "  )\n",
              "  (conv3): BasicConv2d(\n",
              "    (conv): Conv2d(64, 192, kernel_size=(3, 3), stride=(1, 1), padding=(1, 1), bias=False)\n",
              "    (bn): BatchNorm2d(192, eps=0.001, momentum=0.1, affine=True, track_running_stats=True)\n",
              "  )\n",
              "  (maxpool2): MaxPool2d(kernel_size=3, stride=2, padding=0, dilation=1, ceil_mode=True)\n",
              "  (inception3a): Inception(\n",
              "    (branch1): BasicConv2d(\n",
              "      (conv): Conv2d(192, 64, kernel_size=(1, 1), stride=(1, 1), bias=False)\n",
              "      (bn): BatchNorm2d(64, eps=0.001, momentum=0.1, affine=True, track_running_stats=True)\n",
              "    )\n",
              "    (branch2): Sequential(\n",
              "      (0): BasicConv2d(\n",
              "        (conv): Conv2d(192, 96, kernel_size=(1, 1), stride=(1, 1), bias=False)\n",
              "        (bn): BatchNorm2d(96, eps=0.001, momentum=0.1, affine=True, track_running_stats=True)\n",
              "      )\n",
              "      (1): BasicConv2d(\n",
              "        (conv): Conv2d(96, 128, kernel_size=(3, 3), stride=(1, 1), padding=(1, 1), bias=False)\n",
              "        (bn): BatchNorm2d(128, eps=0.001, momentum=0.1, affine=True, track_running_stats=True)\n",
              "      )\n",
              "    )\n",
              "    (branch3): Sequential(\n",
              "      (0): BasicConv2d(\n",
              "        (conv): Conv2d(192, 16, kernel_size=(1, 1), stride=(1, 1), bias=False)\n",
              "        (bn): BatchNorm2d(16, eps=0.001, momentum=0.1, affine=True, track_running_stats=True)\n",
              "      )\n",
              "      (1): BasicConv2d(\n",
              "        (conv): Conv2d(16, 32, kernel_size=(3, 3), stride=(1, 1), padding=(1, 1), bias=False)\n",
              "        (bn): BatchNorm2d(32, eps=0.001, momentum=0.1, affine=True, track_running_stats=True)\n",
              "      )\n",
              "    )\n",
              "    (branch4): Sequential(\n",
              "      (0): MaxPool2d(kernel_size=3, stride=1, padding=1, dilation=1, ceil_mode=True)\n",
              "      (1): BasicConv2d(\n",
              "        (conv): Conv2d(192, 32, kernel_size=(1, 1), stride=(1, 1), bias=False)\n",
              "        (bn): BatchNorm2d(32, eps=0.001, momentum=0.1, affine=True, track_running_stats=True)\n",
              "      )\n",
              "    )\n",
              "  )\n",
              "  (inception3b): Inception(\n",
              "    (branch1): BasicConv2d(\n",
              "      (conv): Conv2d(256, 128, kernel_size=(1, 1), stride=(1, 1), bias=False)\n",
              "      (bn): BatchNorm2d(128, eps=0.001, momentum=0.1, affine=True, track_running_stats=True)\n",
              "    )\n",
              "    (branch2): Sequential(\n",
              "      (0): BasicConv2d(\n",
              "        (conv): Conv2d(256, 128, kernel_size=(1, 1), stride=(1, 1), bias=False)\n",
              "        (bn): BatchNorm2d(128, eps=0.001, momentum=0.1, affine=True, track_running_stats=True)\n",
              "      )\n",
              "      (1): BasicConv2d(\n",
              "        (conv): Conv2d(128, 192, kernel_size=(3, 3), stride=(1, 1), padding=(1, 1), bias=False)\n",
              "        (bn): BatchNorm2d(192, eps=0.001, momentum=0.1, affine=True, track_running_stats=True)\n",
              "      )\n",
              "    )\n",
              "    (branch3): Sequential(\n",
              "      (0): BasicConv2d(\n",
              "        (conv): Conv2d(256, 32, kernel_size=(1, 1), stride=(1, 1), bias=False)\n",
              "        (bn): BatchNorm2d(32, eps=0.001, momentum=0.1, affine=True, track_running_stats=True)\n",
              "      )\n",
              "      (1): BasicConv2d(\n",
              "        (conv): Conv2d(32, 96, kernel_size=(3, 3), stride=(1, 1), padding=(1, 1), bias=False)\n",
              "        (bn): BatchNorm2d(96, eps=0.001, momentum=0.1, affine=True, track_running_stats=True)\n",
              "      )\n",
              "    )\n",
              "    (branch4): Sequential(\n",
              "      (0): MaxPool2d(kernel_size=3, stride=1, padding=1, dilation=1, ceil_mode=True)\n",
              "      (1): BasicConv2d(\n",
              "        (conv): Conv2d(256, 64, kernel_size=(1, 1), stride=(1, 1), bias=False)\n",
              "        (bn): BatchNorm2d(64, eps=0.001, momentum=0.1, affine=True, track_running_stats=True)\n",
              "      )\n",
              "    )\n",
              "  )\n",
              "  (maxpool3): MaxPool2d(kernel_size=3, stride=2, padding=0, dilation=1, ceil_mode=True)\n",
              "  (inception4a): Inception(\n",
              "    (branch1): BasicConv2d(\n",
              "      (conv): Conv2d(480, 192, kernel_size=(1, 1), stride=(1, 1), bias=False)\n",
              "      (bn): BatchNorm2d(192, eps=0.001, momentum=0.1, affine=True, track_running_stats=True)\n",
              "    )\n",
              "    (branch2): Sequential(\n",
              "      (0): BasicConv2d(\n",
              "        (conv): Conv2d(480, 96, kernel_size=(1, 1), stride=(1, 1), bias=False)\n",
              "        (bn): BatchNorm2d(96, eps=0.001, momentum=0.1, affine=True, track_running_stats=True)\n",
              "      )\n",
              "      (1): BasicConv2d(\n",
              "        (conv): Conv2d(96, 208, kernel_size=(3, 3), stride=(1, 1), padding=(1, 1), bias=False)\n",
              "        (bn): BatchNorm2d(208, eps=0.001, momentum=0.1, affine=True, track_running_stats=True)\n",
              "      )\n",
              "    )\n",
              "    (branch3): Sequential(\n",
              "      (0): BasicConv2d(\n",
              "        (conv): Conv2d(480, 16, kernel_size=(1, 1), stride=(1, 1), bias=False)\n",
              "        (bn): BatchNorm2d(16, eps=0.001, momentum=0.1, affine=True, track_running_stats=True)\n",
              "      )\n",
              "      (1): BasicConv2d(\n",
              "        (conv): Conv2d(16, 48, kernel_size=(3, 3), stride=(1, 1), padding=(1, 1), bias=False)\n",
              "        (bn): BatchNorm2d(48, eps=0.001, momentum=0.1, affine=True, track_running_stats=True)\n",
              "      )\n",
              "    )\n",
              "    (branch4): Sequential(\n",
              "      (0): MaxPool2d(kernel_size=3, stride=1, padding=1, dilation=1, ceil_mode=True)\n",
              "      (1): BasicConv2d(\n",
              "        (conv): Conv2d(480, 64, kernel_size=(1, 1), stride=(1, 1), bias=False)\n",
              "        (bn): BatchNorm2d(64, eps=0.001, momentum=0.1, affine=True, track_running_stats=True)\n",
              "      )\n",
              "    )\n",
              "  )\n",
              "  (inception4b): Inception(\n",
              "    (branch1): BasicConv2d(\n",
              "      (conv): Conv2d(512, 160, kernel_size=(1, 1), stride=(1, 1), bias=False)\n",
              "      (bn): BatchNorm2d(160, eps=0.001, momentum=0.1, affine=True, track_running_stats=True)\n",
              "    )\n",
              "    (branch2): Sequential(\n",
              "      (0): BasicConv2d(\n",
              "        (conv): Conv2d(512, 112, kernel_size=(1, 1), stride=(1, 1), bias=False)\n",
              "        (bn): BatchNorm2d(112, eps=0.001, momentum=0.1, affine=True, track_running_stats=True)\n",
              "      )\n",
              "      (1): BasicConv2d(\n",
              "        (conv): Conv2d(112, 224, kernel_size=(3, 3), stride=(1, 1), padding=(1, 1), bias=False)\n",
              "        (bn): BatchNorm2d(224, eps=0.001, momentum=0.1, affine=True, track_running_stats=True)\n",
              "      )\n",
              "    )\n",
              "    (branch3): Sequential(\n",
              "      (0): BasicConv2d(\n",
              "        (conv): Conv2d(512, 24, kernel_size=(1, 1), stride=(1, 1), bias=False)\n",
              "        (bn): BatchNorm2d(24, eps=0.001, momentum=0.1, affine=True, track_running_stats=True)\n",
              "      )\n",
              "      (1): BasicConv2d(\n",
              "        (conv): Conv2d(24, 64, kernel_size=(3, 3), stride=(1, 1), padding=(1, 1), bias=False)\n",
              "        (bn): BatchNorm2d(64, eps=0.001, momentum=0.1, affine=True, track_running_stats=True)\n",
              "      )\n",
              "    )\n",
              "    (branch4): Sequential(\n",
              "      (0): MaxPool2d(kernel_size=3, stride=1, padding=1, dilation=1, ceil_mode=True)\n",
              "      (1): BasicConv2d(\n",
              "        (conv): Conv2d(512, 64, kernel_size=(1, 1), stride=(1, 1), bias=False)\n",
              "        (bn): BatchNorm2d(64, eps=0.001, momentum=0.1, affine=True, track_running_stats=True)\n",
              "      )\n",
              "    )\n",
              "  )\n",
              "  (inception4c): Inception(\n",
              "    (branch1): BasicConv2d(\n",
              "      (conv): Conv2d(512, 128, kernel_size=(1, 1), stride=(1, 1), bias=False)\n",
              "      (bn): BatchNorm2d(128, eps=0.001, momentum=0.1, affine=True, track_running_stats=True)\n",
              "    )\n",
              "    (branch2): Sequential(\n",
              "      (0): BasicConv2d(\n",
              "        (conv): Conv2d(512, 128, kernel_size=(1, 1), stride=(1, 1), bias=False)\n",
              "        (bn): BatchNorm2d(128, eps=0.001, momentum=0.1, affine=True, track_running_stats=True)\n",
              "      )\n",
              "      (1): BasicConv2d(\n",
              "        (conv): Conv2d(128, 256, kernel_size=(3, 3), stride=(1, 1), padding=(1, 1), bias=False)\n",
              "        (bn): BatchNorm2d(256, eps=0.001, momentum=0.1, affine=True, track_running_stats=True)\n",
              "      )\n",
              "    )\n",
              "    (branch3): Sequential(\n",
              "      (0): BasicConv2d(\n",
              "        (conv): Conv2d(512, 24, kernel_size=(1, 1), stride=(1, 1), bias=False)\n",
              "        (bn): BatchNorm2d(24, eps=0.001, momentum=0.1, affine=True, track_running_stats=True)\n",
              "      )\n",
              "      (1): BasicConv2d(\n",
              "        (conv): Conv2d(24, 64, kernel_size=(3, 3), stride=(1, 1), padding=(1, 1), bias=False)\n",
              "        (bn): BatchNorm2d(64, eps=0.001, momentum=0.1, affine=True, track_running_stats=True)\n",
              "      )\n",
              "    )\n",
              "    (branch4): Sequential(\n",
              "      (0): MaxPool2d(kernel_size=3, stride=1, padding=1, dilation=1, ceil_mode=True)\n",
              "      (1): BasicConv2d(\n",
              "        (conv): Conv2d(512, 64, kernel_size=(1, 1), stride=(1, 1), bias=False)\n",
              "        (bn): BatchNorm2d(64, eps=0.001, momentum=0.1, affine=True, track_running_stats=True)\n",
              "      )\n",
              "    )\n",
              "  )\n",
              "  (inception4d): Inception(\n",
              "    (branch1): BasicConv2d(\n",
              "      (conv): Conv2d(512, 112, kernel_size=(1, 1), stride=(1, 1), bias=False)\n",
              "      (bn): BatchNorm2d(112, eps=0.001, momentum=0.1, affine=True, track_running_stats=True)\n",
              "    )\n",
              "    (branch2): Sequential(\n",
              "      (0): BasicConv2d(\n",
              "        (conv): Conv2d(512, 144, kernel_size=(1, 1), stride=(1, 1), bias=False)\n",
              "        (bn): BatchNorm2d(144, eps=0.001, momentum=0.1, affine=True, track_running_stats=True)\n",
              "      )\n",
              "      (1): BasicConv2d(\n",
              "        (conv): Conv2d(144, 288, kernel_size=(3, 3), stride=(1, 1), padding=(1, 1), bias=False)\n",
              "        (bn): BatchNorm2d(288, eps=0.001, momentum=0.1, affine=True, track_running_stats=True)\n",
              "      )\n",
              "    )\n",
              "    (branch3): Sequential(\n",
              "      (0): BasicConv2d(\n",
              "        (conv): Conv2d(512, 32, kernel_size=(1, 1), stride=(1, 1), bias=False)\n",
              "        (bn): BatchNorm2d(32, eps=0.001, momentum=0.1, affine=True, track_running_stats=True)\n",
              "      )\n",
              "      (1): BasicConv2d(\n",
              "        (conv): Conv2d(32, 64, kernel_size=(3, 3), stride=(1, 1), padding=(1, 1), bias=False)\n",
              "        (bn): BatchNorm2d(64, eps=0.001, momentum=0.1, affine=True, track_running_stats=True)\n",
              "      )\n",
              "    )\n",
              "    (branch4): Sequential(\n",
              "      (0): MaxPool2d(kernel_size=3, stride=1, padding=1, dilation=1, ceil_mode=True)\n",
              "      (1): BasicConv2d(\n",
              "        (conv): Conv2d(512, 64, kernel_size=(1, 1), stride=(1, 1), bias=False)\n",
              "        (bn): BatchNorm2d(64, eps=0.001, momentum=0.1, affine=True, track_running_stats=True)\n",
              "      )\n",
              "    )\n",
              "  )\n",
              "  (inception4e): Inception(\n",
              "    (branch1): BasicConv2d(\n",
              "      (conv): Conv2d(528, 256, kernel_size=(1, 1), stride=(1, 1), bias=False)\n",
              "      (bn): BatchNorm2d(256, eps=0.001, momentum=0.1, affine=True, track_running_stats=True)\n",
              "    )\n",
              "    (branch2): Sequential(\n",
              "      (0): BasicConv2d(\n",
              "        (conv): Conv2d(528, 160, kernel_size=(1, 1), stride=(1, 1), bias=False)\n",
              "        (bn): BatchNorm2d(160, eps=0.001, momentum=0.1, affine=True, track_running_stats=True)\n",
              "      )\n",
              "      (1): BasicConv2d(\n",
              "        (conv): Conv2d(160, 320, kernel_size=(3, 3), stride=(1, 1), padding=(1, 1), bias=False)\n",
              "        (bn): BatchNorm2d(320, eps=0.001, momentum=0.1, affine=True, track_running_stats=True)\n",
              "      )\n",
              "    )\n",
              "    (branch3): Sequential(\n",
              "      (0): BasicConv2d(\n",
              "        (conv): Conv2d(528, 32, kernel_size=(1, 1), stride=(1, 1), bias=False)\n",
              "        (bn): BatchNorm2d(32, eps=0.001, momentum=0.1, affine=True, track_running_stats=True)\n",
              "      )\n",
              "      (1): BasicConv2d(\n",
              "        (conv): Conv2d(32, 128, kernel_size=(3, 3), stride=(1, 1), padding=(1, 1), bias=False)\n",
              "        (bn): BatchNorm2d(128, eps=0.001, momentum=0.1, affine=True, track_running_stats=True)\n",
              "      )\n",
              "    )\n",
              "    (branch4): Sequential(\n",
              "      (0): MaxPool2d(kernel_size=3, stride=1, padding=1, dilation=1, ceil_mode=True)\n",
              "      (1): BasicConv2d(\n",
              "        (conv): Conv2d(528, 128, kernel_size=(1, 1), stride=(1, 1), bias=False)\n",
              "        (bn): BatchNorm2d(128, eps=0.001, momentum=0.1, affine=True, track_running_stats=True)\n",
              "      )\n",
              "    )\n",
              "  )\n",
              "  (maxpool4): MaxPool2d(kernel_size=2, stride=2, padding=0, dilation=1, ceil_mode=True)\n",
              "  (inception5a): Inception(\n",
              "    (branch1): BasicConv2d(\n",
              "      (conv): Conv2d(832, 256, kernel_size=(1, 1), stride=(1, 1), bias=False)\n",
              "      (bn): BatchNorm2d(256, eps=0.001, momentum=0.1, affine=True, track_running_stats=True)\n",
              "    )\n",
              "    (branch2): Sequential(\n",
              "      (0): BasicConv2d(\n",
              "        (conv): Conv2d(832, 160, kernel_size=(1, 1), stride=(1, 1), bias=False)\n",
              "        (bn): BatchNorm2d(160, eps=0.001, momentum=0.1, affine=True, track_running_stats=True)\n",
              "      )\n",
              "      (1): BasicConv2d(\n",
              "        (conv): Conv2d(160, 320, kernel_size=(3, 3), stride=(1, 1), padding=(1, 1), bias=False)\n",
              "        (bn): BatchNorm2d(320, eps=0.001, momentum=0.1, affine=True, track_running_stats=True)\n",
              "      )\n",
              "    )\n",
              "    (branch3): Sequential(\n",
              "      (0): BasicConv2d(\n",
              "        (conv): Conv2d(832, 32, kernel_size=(1, 1), stride=(1, 1), bias=False)\n",
              "        (bn): BatchNorm2d(32, eps=0.001, momentum=0.1, affine=True, track_running_stats=True)\n",
              "      )\n",
              "      (1): BasicConv2d(\n",
              "        (conv): Conv2d(32, 128, kernel_size=(3, 3), stride=(1, 1), padding=(1, 1), bias=False)\n",
              "        (bn): BatchNorm2d(128, eps=0.001, momentum=0.1, affine=True, track_running_stats=True)\n",
              "      )\n",
              "    )\n",
              "    (branch4): Sequential(\n",
              "      (0): MaxPool2d(kernel_size=3, stride=1, padding=1, dilation=1, ceil_mode=True)\n",
              "      (1): BasicConv2d(\n",
              "        (conv): Conv2d(832, 128, kernel_size=(1, 1), stride=(1, 1), bias=False)\n",
              "        (bn): BatchNorm2d(128, eps=0.001, momentum=0.1, affine=True, track_running_stats=True)\n",
              "      )\n",
              "    )\n",
              "  )\n",
              "  (inception5b): Inception(\n",
              "    (branch1): BasicConv2d(\n",
              "      (conv): Conv2d(832, 384, kernel_size=(1, 1), stride=(1, 1), bias=False)\n",
              "      (bn): BatchNorm2d(384, eps=0.001, momentum=0.1, affine=True, track_running_stats=True)\n",
              "    )\n",
              "    (branch2): Sequential(\n",
              "      (0): BasicConv2d(\n",
              "        (conv): Conv2d(832, 192, kernel_size=(1, 1), stride=(1, 1), bias=False)\n",
              "        (bn): BatchNorm2d(192, eps=0.001, momentum=0.1, affine=True, track_running_stats=True)\n",
              "      )\n",
              "      (1): BasicConv2d(\n",
              "        (conv): Conv2d(192, 384, kernel_size=(3, 3), stride=(1, 1), padding=(1, 1), bias=False)\n",
              "        (bn): BatchNorm2d(384, eps=0.001, momentum=0.1, affine=True, track_running_stats=True)\n",
              "      )\n",
              "    )\n",
              "    (branch3): Sequential(\n",
              "      (0): BasicConv2d(\n",
              "        (conv): Conv2d(832, 48, kernel_size=(1, 1), stride=(1, 1), bias=False)\n",
              "        (bn): BatchNorm2d(48, eps=0.001, momentum=0.1, affine=True, track_running_stats=True)\n",
              "      )\n",
              "      (1): BasicConv2d(\n",
              "        (conv): Conv2d(48, 128, kernel_size=(3, 3), stride=(1, 1), padding=(1, 1), bias=False)\n",
              "        (bn): BatchNorm2d(128, eps=0.001, momentum=0.1, affine=True, track_running_stats=True)\n",
              "      )\n",
              "    )\n",
              "    (branch4): Sequential(\n",
              "      (0): MaxPool2d(kernel_size=3, stride=1, padding=1, dilation=1, ceil_mode=True)\n",
              "      (1): BasicConv2d(\n",
              "        (conv): Conv2d(832, 128, kernel_size=(1, 1), stride=(1, 1), bias=False)\n",
              "        (bn): BatchNorm2d(128, eps=0.001, momentum=0.1, affine=True, track_running_stats=True)\n",
              "      )\n",
              "    )\n",
              "  )\n",
              "  (aux1): None\n",
              "  (aux2): None\n",
              "  (avgpool): AdaptiveAvgPool2d(output_size=(1, 1))\n",
              "  (dropout): Dropout(p=0.2, inplace=False)\n",
              "  (fc): Linear(in_features=1024, out_features=5, bias=True)\n",
              ")"
            ]
          },
          "metadata": {},
          "execution_count": 8
        }
      ]
    },
    {
      "cell_type": "markdown",
      "source": [
        "Аналогичный пример для предобученной сети VGG19."
      ],
      "metadata": {
        "id": "SO9EpKiLk3cn"
      }
    },
    {
      "cell_type": "code",
      "source": [
        "def vgg_19():\n",
        "    model = models.vgg19(weights=models.VGG19_Weights.IMAGENET1K_V1)\n",
        "    model.classifier[6] = torch.nn.Linear(4096, len(train_dataset.classes))\n",
        "    for param in model.features.parameters():\n",
        "        param.requires_grad = False\n",
        "    for index, block in enumerate(model.features):\n",
        "        if index >= 30:\n",
        "            for param in block.parameters():\n",
        "                param.requires_grad = True\n",
        "    return model"
      ],
      "metadata": {
        "id": "uMnpvcF2kd4k"
      },
      "execution_count": null,
      "outputs": []
    },
    {
      "cell_type": "markdown",
      "source": [
        "Определяем функцию обучения модели (это ± стандартная вещь)."
      ],
      "metadata": {
        "id": "w3XB265dlFyl"
      }
    },
    {
      "cell_type": "code",
      "source": [
        "def train(model, optimizer, train_loader, val_loader, epoch=10):\n",
        "    loss_train, acc_train = [], []\n",
        "    loss_valid, acc_valid = [], []\n",
        "    for epoch in tqdm(range(epoch)):\n",
        "        losses, equals = [], []\n",
        "        torch.set_grad_enabled(True)\n",
        "\n",
        "        # Train.\n",
        "        model.train()\n",
        "        for i, (image, target) in enumerate(train_loader):\n",
        "            image = image.to(device)\n",
        "            target = target.to(device)\n",
        "            output = model(image)\n",
        "            loss = criterion(output,target)\n",
        "\n",
        "            losses.append(loss.item())\n",
        "            equals.extend(\n",
        "                [x.item() for x in torch.argmax(output, 1) == target])\n",
        "\n",
        "            optimizer.zero_grad()\n",
        "            loss.backward()\n",
        "            optimizer.step()\n",
        "        print('\\nTrain')\n",
        "        loss_train.append(np.mean(losses))\n",
        "        print(np.mean(losses))\n",
        "        acc_train.append(np.mean(equals))\n",
        "        print(np.mean(equals))\n",
        "        losses, equals = [], []\n",
        "        torch.set_grad_enabled(False)\n",
        "\n",
        "        # Validate.\n",
        "        model.eval()\n",
        "        for i , (image, target) in enumerate(valid_loader):\n",
        "            image = image.to(device)\n",
        "            target = target.to(device)\n",
        "\n",
        "            output = model(image)\n",
        "            loss = criterion(output,target)\n",
        "\n",
        "            losses.append(loss.item())\n",
        "            equals.extend(\n",
        "                [y.item() for y in torch.argmax(output, 1) == target])\n",
        "\n",
        "        loss_valid.append(np.mean(losses))\n",
        "        print('\\nValidation')\n",
        "        print(np.mean(losses))\n",
        "        acc_valid.append(np.mean(equals))\n",
        "        print(np.mean(equals))\n",
        "\n",
        "    return loss_train, acc_train, loss_valid, acc_valid"
      ],
      "metadata": {
        "id": "QDS-PWUTk7J5"
      },
      "execution_count": null,
      "outputs": []
    },
    {
      "cell_type": "markdown",
      "source": [
        "Дальше код для ~до~обучения модели."
      ],
      "metadata": {
        "id": "h1L5dc8yxFkZ"
      }
    },
    {
      "cell_type": "code",
      "source": [
        "criterion = torch.nn.CrossEntropyLoss()\n",
        "criterion = criterion.to(device)\n",
        "\n",
        "model = google() # здесь можете заменить на VGG\n",
        "print('Model: GoogLeNet\\n')\n",
        "\n",
        "optimizer = torch.optim.Adam(model.parameters(), lr=1e-4)\n",
        "model = model.to(device)\n",
        "\n",
        "loss_train, acc_train, loss_valid, acc_valid = train(\n",
        "model, optimizer, train_loader, valid_loader, 30)\n",
        "print('acc_train:', acc_train, '\\nacc_valid:', acc_valid)\n",
        "del model\n",
        "torch.cuda.empty_cache()"
      ],
      "metadata": {
        "colab": {
          "base_uri": "https://localhost:8080/"
        },
        "id": "hlmVrUYelGub",
        "outputId": "3c00c58a-dcbb-4f05-fb73-20f1f868b1a2"
      },
      "execution_count": null,
      "outputs": [
        {
          "output_type": "stream",
          "name": "stdout",
          "text": [
            "Model: GoogLeNet\n",
            "\n"
          ]
        },
        {
          "output_type": "stream",
          "name": "stderr",
          "text": [
            "100%|██████████| 30/30 [03:45<00:00,  7.52s/it]"
          ]
        },
        {
          "output_type": "stream",
          "name": "stdout",
          "text": [
            "acc_train: [0.6556666666666666, 0.9106666666666666, 0.9566666666666667, 0.9736666666666667, 0.9833333333333333, 0.9873333333333333, 0.9886666666666667, 0.993, 0.9926666666666667, 0.9953333333333333, 0.994, 0.9913333333333333, 0.995, 0.9943333333333333, 0.9983333333333333, 0.998, 0.9976666666666667, 0.9976666666666667, 0.9966666666666667, 0.9966666666666667, 0.9946666666666667, 0.9973333333333333, 0.9966666666666667, 0.996, 0.9973333333333333, 0.9983333333333333, 0.996, 0.998, 0.997, 0.996] \n",
            "acc_valid: [0.887308533916849, 0.9693654266958425, 0.9781181619256017, 0.986870897155361, 0.986870897155361, 0.9857768052516411, 0.9890590809628009, 0.9890590809628009, 0.9912472647702407, 0.9879649890590809, 0.9923413566739606, 0.9890590809628009, 0.9912472647702407, 0.9934354485776805, 0.9923413566739606, 0.9934354485776805, 0.9934354485776805, 0.9956236323851203, 0.9934354485776805, 0.9901531728665208, 0.9923413566739606, 0.9879649890590809, 0.9923413566739606, 0.9934354485776805, 0.986870897155361, 0.9923413566739606, 0.9890590809628009, 0.9890590809628009, 0.9912472647702407, 0.9923413566739606]\n"
          ]
        },
        {
          "output_type": "stream",
          "name": "stderr",
          "text": [
            "\n"
          ]
        }
      ]
    },
    {
      "cell_type": "markdown",
      "source": [
        "## Light-способы\n",
        "💥 **1.** Для некоторых популярных моделей, оформленных в отдельные библиотеки, функции дообучения реализованы максимально удобно: вплоть до того, что достаточно вызвать их в несколько строк.\n",
        "\n",
        "Для задачи детекции в CV рекомендуем рассмотреть модель ***YOLO***, те самые \"несколько строчк\" можно найти [тут](https://github.com/ultralytics/ultralytics/blob/main/examples/tutorial.ipynb). Да и в принципе в [официальном репозитории](https://github.com/ultralytics/ultralytics) много всего интересного:)"
      ],
      "metadata": {
        "id": "rZ99BDbunkwM"
      }
    },
    {
      "cell_type": "markdown",
      "source": [
        "💥 **2.** Хороший сервис-хранилище предобученных моделей - [***RoboFlow***](https://universe.roboflow.com/), в нём можно найти множество моделей для различных задач и легко использовать их по API. Сервис специализируется в основном на CV-задачах.\n",
        "\n",
        "**Алгоритм работы c RoboFlow:**\n",
        "\n",
        "1. Зарегистрироваться (можно с аккаунта google)\n",
        "2. Самое доступное, чем можно воспользоваться - найти готовый проект через [страницу поиска](https://universe.roboflow.com/search?q=nlp) и запустить его \"инференс\" (к примеру, например, [вот](https://universe.roboflow.com/alphabettraining/character-detection-iis85/model/2) модель детекции цифр на фото  - внизу находите Hosted API и код как легко запустить модель у себя.\n",
        "3. При неточном совпадении задачи может потребоваться *дообучить модель*. По нужным темам тоже много туториалов, например, про дообучение через веб-интерфейс Roboflow можно посмотреть в [туториале про YOLO](https://blog.roboflow.com/how-to-train-yolov8-on-a-custom-dataset/)"
      ],
      "metadata": {
        "id": "JLlB_9PPrZKv"
      }
    },
    {
      "cell_type": "code",
      "source": [
        "from roboflow import Roboflow\n",
        "rf = Roboflow(api_key=\"API_KEY\")\n",
        "project = rf.workspace().project(\"deneme3-pc88k\")\n",
        "model = project.version(8).model\n",
        "\n",
        "# infer on a local image\n",
        "print(model.predict(\"your_image.jpg\", confidence=40, overlap=30).json())\n",
        "\n",
        "# visualize your prediction\n",
        "# model.predict(\"your_image.jpg\", confidence=40, overlap=30).save(\"prediction.jpg\")\n",
        "\n",
        "# infer on an image hosted elsewhere\n",
        "# print(model.predict(\"URL_OF_YOUR_IMAGE\", hosted=True, confidence=40, overlap=30).json())"
      ],
      "metadata": {
        "id": "RYmPF8DO0SrZ"
      },
      "execution_count": null,
      "outputs": []
    },
    {
      "cell_type": "markdown",
      "source": [
        "💥 **3.** И крупное хранилище различных моделей - [Hugging Face](https://huggingface.co/), там можно найти всё по NLP и по CV:)\n",
        "\n",
        "Ссылка на примеры с NLP [тут](https://colab.research.google.com/drive/1C-OEAr2Kk2NYBlb-dfVjfV1P4bxjh4Tp)."
      ],
      "metadata": {
        "id": "6OzwZfML33sj"
      }
    },
    {
      "cell_type": "markdown",
      "source": [
        "**Ещё полезные ссылки и подсказки:**\n",
        "\n",
        "* pickle, onnx - библиотеки для сохранения моделей, в pickle команды сохранения/чтения - load/dump\n",
        "* список сайтов для поиска данных t.me/data_easy/135\n",
        "* список сервисов для разметки данных t.me/data_easy/141\n",
        "* Использование chatGPT через API: https://ihsavru.medium.com/how-to-build-your-own-custom-chatgpt-using-python-openai-78e470d1540e\n",
        "(получение API: https://platform.openai.com/api-keys)\n",
        "* как сделать сервер на Flask https://youtu.be/MxJnR1DMmsY"
      ],
      "metadata": {
        "id": "f9pvprYl7DDa"
      }
    }
  ]
}