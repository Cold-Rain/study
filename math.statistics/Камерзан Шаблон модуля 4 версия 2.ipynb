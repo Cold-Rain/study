{
 "cells": [
  {
   "cell_type": "markdown",
   "id": "57af825a",
   "metadata": {
    "toc": true
   },
   "source": [
    "<h1>Table of Contents<span class=\"tocSkip\"></span></h1>\n",
    "<div class=\"toc\"><ul class=\"toc-item\"></ul></div>"
   ]
  },
  {
   "cell_type": "markdown",
   "id": "e5c0f0e1-1ce1-4d98-b7fe-a7ab438f1260",
   "metadata": {},
   "source": [
    "Задание 1 (на сопоставление)"
   ]
  },
  {
   "cell_type": "markdown",
   "id": "5fd0e80c",
   "metadata": {},
   "source": [
    "'''Ваш ответ на задание №1 (в формате 1-А, 2-В и т.д.) '''"
   ]
  },
  {
   "cell_type": "markdown",
   "id": "640622da",
   "metadata": {},
   "source": [
    "1-E, 2-B, 3-F, 4-C/G, 5-A"
   ]
  },
  {
   "cell_type": "markdown",
   "id": "e8eecee9-8ad7-4f85-9dfa-a58fa415b076",
   "metadata": {},
   "source": [
    "Задание 2 (про порошок)"
   ]
  },
  {
   "cell_type": "markdown",
   "id": "0e7b400f",
   "metadata": {},
   "source": [
    "'''Ваш ответ на задание №2 \n",
    "- верно указана применяемая статистика и обоснование ее применения\n",
    "- получено расчетное значение статистики\n",
    "- получено критическое значение статистики\n",
    "- получено значение p_value\n",
    "- сделан статистический вывод на основе сравнения критического значения с расчетным\n",
    "- сделан статистический вывод на основе сравнения p-value и уровня значимости\n",
    "- сделан содержательный вывод по поставленной проблеме'''"
   ]
  },
  {
   "cell_type": "markdown",
   "id": "14aa308b",
   "metadata": {},
   "source": [
    "Строим гипотезы:\n",
    "H0 - средний вес порошка составляет 3 кг. (Дозатор работает исправно, в донастройке не нуждается)\n",
    "H1 - средний вес порошка не равен 3 кг. (Дозатор работает неисправно, требуется донастройка)\n",
    "\n",
    "У нас имеются данные о средней выборке, cтандартном отклонении (а следовательно дисперсии), размер выборки большой (50 шт.), поэтому  примени к этой задаче z-тест "
   ]
  },
  {
   "cell_type": "code",
   "execution_count": 1,
   "id": "6f627fc2",
   "metadata": {},
   "outputs": [],
   "source": [
    "#импорт данных\n",
    "import math\n",
    "import scipy.stats as stats\n",
    "import numpy as np\n",
    "import matplotlib.pyplot as plt"
   ]
  },
  {
   "cell_type": "code",
   "execution_count": 2,
   "id": "acddc2cb",
   "metadata": {},
   "outputs": [
    {
     "name": "stdout",
     "output_type": "stream",
     "text": [
      "Z-оценка: 2.3570226039551083\n",
      "Критическое Z-значение: ±1.959963984540054\n",
      "Отклонить нулевую гипотезу.\n",
      "P-значение: 0.01842212545410149\n",
      "Отклонить нулевую гипотезу.\n"
     ]
    }
   ],
   "source": [
    "# Данные\n",
    "sample_mean = 3.005      # среднее значение выборки\n",
    "general_mean = 3.0       # среднее значение генеральной совокупности\n",
    "alpha = 0.05             # производитель порошка готов полагаться на 5% уровень значимости\n",
    "general_std = 0.015      # стандартное отклонение генеральной совокупности\n",
    "sample_size = 50         # размер выборки\n",
    "\n",
    "#находим стандартную ошибку среднего\n",
    "standard_error = general_std / math.sqrt(sample_size)\n",
    "\n",
    "#вычисляем z-оценку вручную\n",
    "z_score = (sample_mean - general_mean) / standard_error\n",
    "\n",
    "#расчет p-значения для двустороннего теста\n",
    "p_value = 2 * (1 - stats.norm.cdf(abs(z_score)))\n",
    "\n",
    "#вычисляем критическое z-значение для двустороннего теста\n",
    "critical_z = stats.norm.ppf(1 - alpha / 2)\n",
    "\n",
    "print(f\"Z-оценка: {z_score}\")\n",
    "print(f\"Критическое Z-значение: ±{critical_z}\")\n",
    "\n",
    "if abs(z_score) > critical_z:\n",
    "    print(\"Отклонить нулевую гипотезу.\")\n",
    "else:\n",
    "    print(\"Нельзя отклонить нулевую гипотезу.\")\n",
    "\n",
    "print(f\"P-значение: {p_value}\")\n",
    "if p_value < alpha:\n",
    "    print(\"Отклонить нулевую гипотезу.\")\n",
    "else:\n",
    "    print(\"Нельзя отклонить нулевую гипотезу.\")"
   ]
  },
  {
   "cell_type": "markdown",
   "id": "dfd78f0e",
   "metadata": {},
   "source": [
    "**Статистический вывод**:<br>\n",
    "Z-оценка показывает статистически значимое отклонение от среднего значения. Значение p-value подтверждает этот вывод.\n",
    "\n",
    "**Содержательные вывод**:<br>\n",
    "Порошок дозируется неправильно, требуется донастройка доазтора."
   ]
  },
  {
   "cell_type": "markdown",
   "id": "17ad34a0-cbb3-482a-99d4-253f0b70f05f",
   "metadata": {},
   "source": [
    "Задание 3 (про двигатели)"
   ]
  },
  {
   "cell_type": "markdown",
   "id": "08917e68",
   "metadata": {},
   "source": [
    "'''Ваш ответ на задание №3 \n",
    "- верно указана применяемая статистика и обоснование ее применения\n",
    "- получено расчетное значение статистики\n",
    "- получено критическое значение статистики\n",
    "- получено значение p_value\n",
    "- сделан статистический вывод на основе сравнения критического значения с расчетным\n",
    "- сделан статистический вывод на основе сравнения p-value и уровня значимости\n",
    "- сделан содержательный вывод по поставленной проблеме'''"
   ]
  },
  {
   "cell_type": "markdown",
   "id": "9b239006",
   "metadata": {},
   "source": [
    "Строим гипотезы:\n",
    "H0 - среднее значение прочности подвески с аллюминиевыми и стальными компонентами одинаковое. (Подвеска с аллюминиевыми компонентами такая же прочная, как со стальными)\n",
    "H1 - среднее значение прочности подвески с аллюминиевыми и стальными компонентами разное. (Прочность подвески с аллюминиевыми компонентами отличается от подвески со стальными\n",
    "\n",
    "Имеются данные о средней прочности и стандартном отклонении выборок из 10 и 15 элементов. Выборки при этом независимые. Применим тест Стьюдента для независимых выборок. "
   ]
  },
  {
   "cell_type": "code",
   "execution_count": 3,
   "id": "45fb2401",
   "metadata": {},
   "outputs": [
    {
     "name": "stdout",
     "output_type": "stream",
     "text": [
      "Значение t-статистики: 2.186521551237011\n",
      "Критическое значение t-статистики: 2.0686576104190406\n",
      "Отвергаем нулевую гипотезу.\n",
      "p-value: 0.04080198354528679\n",
      "Отклонить нулевую гипотезу: есть статистически значимая разница между средними прочностями.\n"
     ]
    }
   ],
   "source": [
    "#данные\n",
    "n1, n2 = 15, 10        #размеры выборок\n",
    "mean1, mean2 = 90, 88  #средние значения прочности\n",
    "std1, std2 = 2.3, 2.2  #стандартные отклонения\n",
    "alpha = 0.05           # уровень значимости\n",
    "\n",
    "#рассчет t-статистики для независимых выборок\n",
    "t_stat, p_value = stats.ttest_ind_from_stats(mean1=mean1, std1=std1, nobs1=n1,\n",
    "                                             mean2=mean2, std2=std2, nobs2=n2,\n",
    "                                             equal_var=False)\n",
    "\n",
    "#степени свободы\n",
    "df = n1 + n2 - 2\n",
    "\n",
    "#критическое значение для двустороннего теста\n",
    "alpha = 0.05\n",
    "t_critical = stats.t.ppf(1 - alpha / 2, df)\n",
    "\n",
    "print(f'Значение t-статистики: {t_stat}')\n",
    "print(f'Критическое значение t-статистики: {t_critical}')\n",
    "\n",
    "if abs(t_stat) > t_critical:\n",
    "    print(\"Отвергаем нулевую гипотезу.\")\n",
    "else:\n",
    "    print(\"Не отвергаем нулевую гипотезу.\")\n",
    "\n",
    "\n",
    "print(f'p-value: {p_value}')\n",
    "\n",
    "if abs(t_stat) > t_critical:\n",
    "    print(\"Отклонить нулевую гипотезу: есть статистически значимая разница между средними прочностями.\")\n",
    "else:\n",
    "    print(\"Нельзя отклонить нулевую гипотезу: нет статистически значимой разницы между средними прочностями.\")"
   ]
  },
  {
   "cell_type": "markdown",
   "id": "e8dfc645",
   "metadata": {},
   "source": [
    "**Статистическийй вывод**:<br>\n",
    "Существует статистически значимая разница в средней прочности подвесок с алюминиевыми и стальными компонентами. \n",
    "\n",
    "**Содержаительный вывод**:<br>\n",
    "Подвески с алюминиевыми компонентами отличаются по прочности от подвесок со стальными компонентами. Заменить компоненты без изменения прочности, нельзя"
   ]
  },
  {
   "cell_type": "markdown",
   "id": "ad515879-cb2d-43eb-93ee-d3f6bb4b49d4",
   "metadata": {},
   "source": [
    "Задание 4 (про токи)"
   ]
  },
  {
   "cell_type": "markdown",
   "id": "a8c33615",
   "metadata": {},
   "source": [
    "'''Ваш ответ на задание №4 \n",
    "- верно указана применяемая статистика и обоснование ее применения\n",
    "- получено расчетное значение статистики\n",
    "- получено критическое значение статистики\n",
    "- получено значение p_value\n",
    "- сделан статистический вывод на основе сравнения критического значения с расчетным\n",
    "- сделан статистический вывод на основе сравнения p-value и уровня значимости\n",
    "- сделан содержательный вывод по поставленной проблеме'''"
   ]
  },
  {
   "cell_type": "markdown",
   "id": "f6e3284c",
   "metadata": {},
   "source": [
    "Строим гипотезы:\n",
    "H0 - Средние значения тока старой и новой схемы равны\n",
    "H1 - Средние значения тока старой и новой схемы не равны\n",
    "\n",
    "Выборки небольшие, по условию задачи выборки имеют равные дисперсии. Используем для этой задачи тест Стьюдента."
   ]
  },
  {
   "cell_type": "code",
   "execution_count": 4,
   "id": "fade4556",
   "metadata": {},
   "outputs": [
    {
     "name": "stdout",
     "output_type": "stream",
     "text": [
      "\n",
      "Результаты теста:\n",
      "t-статистика: -1.8657246011714124\n",
      "p-value: 0.07681685091779608\n",
      "Критическое значение t: ±2.0859634472658364\n",
      "\n",
      "Вывод:\n",
      "Нет статистически значимых различий.\n",
      "Не отвергаем нулевую гипотезу: средние значения тока статистически незначимо различаются.\n"
     ]
    }
   ],
   "source": [
    "# Данные\n",
    "scheme1 = [80.1, 82.3, 84.1, 82.6, 85.3, 81.3, 83.2, 81.7, 82.2, 81.4]\n",
    "scheme2 = [80.7, 81.3, 84.6, 81.7, 86.3, 84.3, 83.7, 84.7, 82.8, 84.4, 85.2, 84.9]\n",
    "\n",
    "# Уровень значимости\n",
    "alpha = 0.05\n",
    "\n",
    "# t-тест для независимых выборок с равными дисперсиями\n",
    "t_stat, p_value = stats.ttest_ind(scheme1, scheme2, equal_var=True)\n",
    "\n",
    "# Критическое значение t\n",
    "df = len(scheme1) + len(scheme2) - 2  # Степени свободы\n",
    "t_critical = stats.t.ppf(1 - alpha / 2, df)\n",
    "\n",
    "# Вывод результатов\n",
    "print(f\"\\nРезультаты теста:\")\n",
    "print(f\"t-статистика: {t_stat}\")\n",
    "print(f\"p-value: {p_value}\")\n",
    "print(f\"Критическое значение t: ±{t_critical}\")\n",
    "\n",
    "print(\"\\nВывод:\")\n",
    "if p_value > alpha:\n",
    "    print(\"Нет статистически значимых различий.\")\n",
    "else:\n",
    "    print(\"Есть статистически значимые различия.\")\n",
    "\n",
    "if abs(t_stat) > t_critical:\n",
    "    print(\"Отклоняем нулевую гипотезу: средние значения тока статистически значимо различаются.\")\n",
    "else:\n",
    "    print(\"Не отвергаем нулевую гипотезу: средние значения тока статистически незначимо различаются.\")\n"
   ]
  },
  {
   "cell_type": "markdown",
   "id": "5d0d5426",
   "metadata": {},
   "source": [
    "**Статистический вывод**:<br>\n",
    "Нет статистически значимых различий.\n",
    "\n",
    "**Содержательный вывод**:<br>\n",
    "Схема пропускает такой же средний ток, можно ее внедрять."
   ]
  },
  {
   "cell_type": "markdown",
   "id": "46f3a4d3-149d-45c3-bdae-df806e07bae1",
   "metadata": {},
   "source": [
    "Задание 5 (про глюкозу)"
   ]
  },
  {
   "cell_type": "markdown",
   "id": "f8d877dd",
   "metadata": {},
   "source": [
    "'''Ваш ответ на задание №5 \n",
    "- верно указана применяемая статистика и обоснование ее применения\n",
    "- получено расчетное значение статистики\n",
    "- получено критическое значение статистики\n",
    "- получено значение p_value\n",
    "- сделан статистический вывод на основе сравнения критического значения с расчетным\n",
    "- сделан статистический вывод на основе сравнения p-value и уровня значимости\n",
    "- сделан содержательный вывод по поставленной проблеме'''"
   ]
  },
  {
   "cell_type": "markdown",
   "id": "6b1398d4",
   "metadata": {},
   "source": [
    "Строим гипотезы:<br>\n",
    "H0 - есть эффект от приема препарата.<br>\n",
    "H1 - нет эффекта от приема препарата.<br>\n",
    "Гипотезы надо проверить на уровне доверия 0.95\n",
    "\n",
    "Здесь напрашивается парный t-тест, т.к. исследуем одну и ту же группу объектов."
   ]
  },
  {
   "cell_type": "code",
   "execution_count": 5,
   "id": "d7d515a0",
   "metadata": {},
   "outputs": [
    {
     "name": "stdout",
     "output_type": "stream",
     "text": [
      "T-статистика: 5.713032381721969\n",
      "P-value: 0.0002894940396753496\n",
      "Крит. значение по альфа: ±2.2621571627409915\n",
      "Отклонить нулевую гипотезу.\n",
      "Значение p-value меньше уровня значимости. Есть статистически значимые различия.\n",
      "Эффект от препарата есть. Уровень глюкозы у пациентов, принимавших новый препарат, меньше.\n"
     ]
    }
   ],
   "source": [
    "#исходные данные\n",
    "before = np.array([9.6, 8.1, 8.8, 7.9, 9.2, 8.0, 8.4, 10.1, 7.8, 8.1])\n",
    "after = np.array([7.7, 6.2, 7.4, 7.5, 8.3, 6.2, 8.1, 8.9, 7.4, 7.0])\n",
    "\n",
    "# Посчитаем t-статистику и p-value\n",
    "t_statistic, p_value = stats.ttest_rel(before, after)\n",
    "\n",
    "#считаем степени свободы\n",
    "df = len(before) - 1\n",
    "\n",
    "# Определим уровень альфа\n",
    "alpha = 0.05\n",
    "\n",
    "#ссчитаем критическое значение по альфа (95-й доверит. интервал)\n",
    "critical_t = stats.t.ppf(1 - alpha/2, df)\n",
    "\n",
    "#отображение результатов\n",
    "print(f\"T-статистика: {t_statistic}\")\n",
    "print(f\"P-value: {p_value}\")\n",
    "print(f\"Крит. значение по альфа: ±{critical_t}\")\n",
    "\n",
    "#стат. выводы\n",
    "if abs(t_statistic) > critical_t:\n",
    "    print(\"Отклонить нулевую гипотезу.\")\n",
    "else:\n",
    "    print(\"Нельзя отклонить нулевую гипотезу.\")\n",
    "\n",
    "if p_value < alpha:\n",
    "    print(\"Значение p-value меньше уровня значимости. Есть статистически значимые различия.\")\n",
    "    print(\"Эффект от препарата есть. Уровень глюкозы у пациентов, принимавших новый препарат, меньше.\")\n",
    "else:\n",
    "    print(\"Значение p-value больше уровня значимости. Нет статистически значимых различий.\")\n",
    "    print(\"Эффекта от препарата нет. Уровень глюкозы у пациентов, принимавших новый препарат, не изменился.\")"
   ]
  },
  {
   "cell_type": "markdown",
   "id": "b0b2eb88",
   "metadata": {},
   "source": [
    "Содержательный вывод:<br>\n",
    "Эффект от препарата есть. Уровень глюкозы у пациентов, принимавших новый препарат, меньше.\n",
    "\n"
   ]
  },
  {
   "cell_type": "markdown",
   "id": "31d98391-527f-40ec-9212-5765fcec7794",
   "metadata": {},
   "source": [
    "Задание 6 (про тросы)"
   ]
  },
  {
   "cell_type": "markdown",
   "id": "326fca43",
   "metadata": {},
   "source": [
    "'''Ваш ответ на задание №6 \n",
    "- верно указана применяемая статистика и обоснование ее применения\n",
    "- получено расчетное значение статистики\n",
    "- получено критическое значение статистики\n",
    "- получено значение p_value\n",
    "- сделан статистический вывод на основе сравнения критического значения с расчетным\n",
    "- сделан статистический вывод на основе сравнения p-value и уровня значимости\n",
    "- сделан содержательный вывод по поставленной проблеме'''"
   ]
  },
  {
   "cell_type": "markdown",
   "id": "6b20beb2",
   "metadata": {},
   "source": [
    "Строим гипотезы:<br>\n",
    "H0 - средние прочности тросов равны<br>\n",
    "H1 - средние прочности тросов отличается.<br>\n",
    "Гипотезы надо проверить на уровне доверия 0.95<br><br>\n",
    "Выборки небольшие, дисперсии неравные, выбираем   t-тест Уэлча (t-тест с неравными дисперсиями). Уровень стат. значимости 0.01"
   ]
  },
  {
   "cell_type": "code",
   "execution_count": 6,
   "id": "7cac0da0",
   "metadata": {},
   "outputs": [
    {
     "name": "stdout",
     "output_type": "stream",
     "text": [
      "T-статистика: 3.120397708249153\n",
      "P-value: 0.007590047168227897\n",
      "Крит. значение t для одностороннего теста: 2.583487185267472\n",
      "Cтатистический вывод на основании значения t-стастистики:\n",
      "Отклонить нулевую гипотезу.\n",
      "Cтатистический вывод на основании значения p-value:\n",
      "Значение p-value меньше уровня значимости. Есть статистически значимые различия.\n",
      "Содержательный вывод:\n",
      "Производитель должен заменить старый кабель новым, так как новый кабель демонстрирует более высокую прочность.\n"
     ]
    }
   ],
   "source": [
    "#Напряжение разрушения тросов\n",
    "new_cable = np.array([92.7, 91.6, 94.7, 93.7, 96.5, 94.3, 93.7, 96.8, 98.9, 99.9])\n",
    "old_cable = np.array([90.1, 92.2, 94.3, 92.1, 93.4, 91.1, 93.2, 91.5])\n",
    "\n",
    "#расчет t-статистики и p-value по t-тесту Уэлча\n",
    "t_statistic, p_value = stats.ttest_ind(new_cable, old_cable, equal_var=False)\n",
    "\n",
    "#задаем уровень значимости\n",
    "alpha = 0.01\n",
    "\n",
    "#считаем степени свободы\n",
    "df = len(new_cable) + len(old_cable) - 2\n",
    "\n",
    "#Критическое значение t для одностороннего теста\n",
    "critical_t = stats.t.ppf(1 - alpha, df)\n",
    "\n",
    "print(f\"T-статистика: {t_statistic}\")\n",
    "print(f\"P-value: {p_value}\")\n",
    "print(f\"Крит. значение t для одностороннего теста: {critical_t}\")\n",
    "\n",
    "# Статистические выводы\n",
    "print(\"Cтатистический вывод на основании значения t-стастистики:\")\n",
    "if t_statistic > critical_t:\n",
    "    print(\"Отклонить нулевую гипотезу.\")\n",
    "else:\n",
    "    print(\"Нельзя отклонить нулевую гипотезу.\")\n",
    "\n",
    "print(\"Cтатистический вывод на основании значения p-value:\")\n",
    "if p_value / 2 < alpha:  # Делим p-value на 2 для одностороннего теста\n",
    "    print(\"Значение p-value меньше уровня значимости. Есть статистически значимые различия.\")\n",
    "else:\n",
    "    print(\"Значение p-value больше уровня значимости. Нет статистически значимых различий.\")\n",
    "\n",
    "print(\"Содержательный вывод:\")\n",
    "# Содержательный вывод\n",
    "if t_statistic > critical_t:\n",
    "    print(\"Производитель должен заменить старый кабель новым, так как новый кабель демонстрирует более высокую прочность.\")\n",
    "else:\n",
    "    print(\"Производитель не должен заменять старый кабель новым, так как нет статистически значимых различий в прочности.\")"
   ]
  },
  {
   "cell_type": "markdown",
   "id": "c94b6ae2-c1fd-46b1-9dff-6c067dae6ac9",
   "metadata": {},
   "source": [
    "Задание 7 (про абитуриентов)"
   ]
  },
  {
   "cell_type": "markdown",
   "id": "99ba93f1",
   "metadata": {},
   "source": [
    "'''Ваш ответ на задание №7 \n",
    "- верно указана применяемая статистика и обоснование ее применения\n",
    "- получено расчетное значение статистики\n",
    "- получено критическое значение статистики\n",
    "- получено значение p_value\n",
    "- сделан статистический вывод на основе сравнения критического значения с расчетным\n",
    "- сделан статистический вывод на основе сравнения p-value и уровня значимости\n",
    "- сделан содержательный вывод по поставленной проблеме'''"
   ]
  },
  {
   "cell_type": "markdown",
   "id": "0e14d82c",
   "metadata": {},
   "source": [
    "Строим гипотезы:\n",
    "H0 - Подготовительные курсы не влияют на подготовку абитуриентов.\n",
    "H1 - Подготовительные курсы влияют на подготовку абитуриентов.\n",
    "\n",
    "Проверяются изменения одних и тех же объектов (до и после изменения). Используем парный t-тест.\n",
    "Гипотезы надо проверить на уровне узначимости 0.01"
   ]
  },
  {
   "cell_type": "code",
   "execution_count": 7,
   "id": "2677ee6d",
   "metadata": {},
   "outputs": [
    {
     "name": "stdout",
     "output_type": "stream",
     "text": [
      "Критические значения:\n",
      "t-критическое: ±3.2498\n",
      "p-value: 0.0229\n",
      "\n",
      "Стат. вывод по критическому значению:\n",
      "|2.7386| ≤ 3.2498 - не отвергаем H₀\n",
      "\n",
      "Стат. вывод по p-value:\n",
      "0.0229 ≥ 0.01 - не отвергаем H₀\n",
      "\n",
      "Содержательный вывод:\n",
      "Влияние курсов на результат тестирования не доказано на уровне значимости 0.01.\n"
     ]
    }
   ],
   "source": [
    "#Данные\n",
    "before = np.array([7, 6, 5, 4, 6, 2, 10, 3, 8, 5])\n",
    "after = np.array([9, 6, 4, 5, 7, 4, 10, 6, 9, 6])\n",
    "alpha = 0.01\n",
    "\n",
    "#проведем тест, получим т-статистику и p-value\n",
    "t_stat, p_value = stats.ttest_rel(after, before)\n",
    "\n",
    "#посчитаем степени свободы\n",
    "df = len(before) - 1\n",
    "\n",
    "#расчет крит. значения\n",
    "t_crit = stats.t.ppf(1 - alpha/2, df)\n",
    "\n",
    "print(\"Критические значения:\")\n",
    "print(f\"t-критическое: ±{t_crit:.4f}\")\n",
    "print(f\"p-value: {p_value:.4f}\")\n",
    "print()\n",
    "\n",
    "print(\"Стат. вывод по критическому значению:\")\n",
    "if abs(t_stat) > t_crit:\n",
    "    print(f\"|{t_stat:.4f}| > {t_crit:.4f} - отвергаем H₀\")\n",
    "else:\n",
    "    print(f\"|{t_stat:.4f}| ≤ {t_crit:.4f} - не отвергаем H₀\")\n",
    "print()\n",
    "\n",
    "print(\"Стат. вывод по p-value:\")\n",
    "if p_value < alpha:\n",
    "    print(f\"{p_value:.4f} < {alpha} - отвергаем H₀\")\n",
    "else:\n",
    "    print(f\"{p_value:.4f} ≥ {alpha} - не отвергаем H₀\")\n",
    "print()\n",
    "\n",
    "print(\"Содержательный вывод:\")\n",
    "if p_value < alpha:\n",
    "    print(f\"Влияние курсов на результат тестирования доказано на уровне значимости {alpha}.\")\n",
    "else:\n",
    "    print(f\"Влияние курсов на результат тестирования не доказано на уровне значимости {alpha}.\")"
   ]
  },
  {
   "cell_type": "markdown",
   "id": "3457d32d-5ce3-4093-bf60-18cdc0d23a79",
   "metadata": {},
   "source": [
    "Задание 8 (про фрукты и IQ)"
   ]
  },
  {
   "cell_type": "markdown",
   "id": "c3661199",
   "metadata": {},
   "source": [
    "'''Ваш ответ на задание №8 \n",
    "- верно указана применяемая статистика и обоснование ее применения\n",
    "- получено расчетное значение статистики\n",
    "- получено критическое значение статистики\n",
    "- получено значение p_value\n",
    "- сделан статистический вывод на основе сравнения критического значения с расчетным\n",
    "- сделан статистический вывод на основе сравнения p-value и уровня значимости\n",
    "- сделан содержательный вывод по поставленной проблеме'''"
   ]
  },
  {
   "cell_type": "markdown",
   "id": "d4175409",
   "metadata": {},
   "source": [
    "Строим гипотезы:\n",
    "H0 - Дисперсии двух групп одинаковые.\n",
    "H1 - Дисперсии двух групп различаются.\n",
    "Уровень стат. значимости: 0.05\n",
    "\n",
    "Для проверки равенства дисперсий двух групп используется F-тест."
   ]
  },
  {
   "cell_type": "code",
   "execution_count": 22,
   "id": "ddbe83bd",
   "metadata": {},
   "outputs": [
    {
     "name": "stdout",
     "output_type": "stream",
     "text": [
      "f-stat: 1.9061769156692807\n",
      "f_crit 3.17889310445827\n",
      "На основе f-crit нельзя отклонить нулевую гипотезу: дисперсии групп не различаются\n",
      "\n",
      "p-value : 0.17529362058224196\n",
      "p-value: 0.1753 >= alpha: 0.05\n",
      "Нельзя отклонить нулевую гипотезу. Существенных различий между выборками на уровне значимости 0.05 нет\n"
     ]
    }
   ],
   "source": [
    "#данные\n",
    "oranges = np.array([125, 138, 112, 130, 124, 125, 110, 112, 117, 126])\n",
    "pears = np.array([124, 102, 142, 130, 131, 124, 127, 115, 108, 109])\n",
    "alpha = 0.05\n",
    "\n",
    "#расчет дисперсии\n",
    "var_oranges = np.var(oranges, ddof=1)\n",
    "var_pears = np.var(pears, ddof=1)\n",
    "\n",
    "#считам f-статистику (делим большую дисперсию на меньшую)\n",
    "f_stat = max(var_oranges, var_pears) / min(var_oranges, var_pears)\n",
    "\n",
    "#степени свободы\n",
    "df1 = len(oranges) - 1\n",
    "df2 = len(pears) - 1\n",
    "\n",
    "#критическое значение (двусторонний тест)\n",
    "f_crit = stats.f.ppf(1 - alpha, df1, df2)\n",
    "\n",
    "#считаем P-value\n",
    "p_value = 1 - stats.f.cdf(np.abs(f_stat), df1, df2)\n",
    "\n",
    "print('f-stat:', f_stat)\n",
    "print('f_crit', np.abs(f_crit))\n",
    "\n",
    "#решение на основе сравнения критического значения f-stat с расчетным\n",
    "if np.abs(f_stat) > f_crit:\n",
    "    print(\"На основе f-crit отклоняем нулевую гипотезу: дисперсии групп различаются\")\n",
    "else: \n",
    "    print(\"На основе f-crit нельзя отклонить нулевую гипотезу: дисперсии групп не различаются\")\n",
    "print()\n",
    "print('p-value :', p_value)\n",
    "# принимаем решение на основе сравнения p-value и уровня значимости\n",
    "if p_value < alpha:\n",
    "    print(f\"p-value: {p_value:.4f} < alpha: {alpha}\")\n",
    "    print(\"Отвергаем нулевую гипотезу. Дисперсии отличаются\")\n",
    "else:\n",
    "    print(f\"p-value: {p_value:.4f} >= alpha: {alpha}\")\n",
    "    print(\"Нельзя отклонить нулевую гипотезу. Существенных различий между выборками на уровне значимости 0.05 нет\")"
   ]
  },
  {
   "cell_type": "markdown",
   "id": "7f6c4b09-ad80-4c83-82fb-472272cef69d",
   "metadata": {},
   "source": [
    "Задание 9 (про самолеты)"
   ]
  },
  {
   "cell_type": "markdown",
   "id": "00cba871",
   "metadata": {},
   "source": [
    "'''Ваш ответ на задание №9 \n",
    "- верно указана применяемая статистика и обоснование ее применения\n",
    "- получено расчетное значение статистики\n",
    "- получено критическое значение статистики\n",
    "- получено значение p_value\n",
    "- сделан статистический вывод на основе сравнения критического значения с расчетным\n",
    "- сделан статистический вывод на основе сравнения p-value и уровня значимости\n",
    "- сделан содержательный вывод по поставленной проблеме'''"
   ]
  },
  {
   "cell_type": "markdown",
   "id": "b5a827e2",
   "metadata": {},
   "source": [
    "Поскольку рассчитываем количеством попыток до первого успеха, возьмем за основу геометрическое распределение. Проверим, подходит ли оно с помощью критерия хи-квадрат."
   ]
  },
  {
   "cell_type": "code",
   "execution_count": 9,
   "id": "94221e8e",
   "metadata": {},
   "outputs": [
    {
     "name": "stdout",
     "output_type": "stream",
     "text": [
      "Анализ на соответствие геом. распределению:\n",
      "Ожидаемая вероятность: 0.3650\n",
      "Хи-квадрат: 3.0276\n",
      "Крит. значение: 9.4877\n",
      "P-value: 0.6957\n",
      "\n"
     ]
    },
    {
     "data": {
      "image/png": "[encoded data removed]",
      "text/plain": [
       "<Figure size 1200x600 with 1 Axes>"
      ]
     },
     "metadata": {},
     "output_type": "display_data"
    },
    {
     "name": "stdout",
     "output_type": "stream",
     "text": [
      "Вывод\n",
      "\n",
      "Данные соответствую геометрическому распределению\n"
     ]
    }
   ],
   "source": [
    "#Данные\n",
    "attempts = np.array([1, 2, 3, 4, 5, 6, 7, 8, 9])\n",
    "observed = np.array([36, 23, 11, 13, 8, 3, 2, 1, 3])\n",
    "n = sum(observed)\n",
    "\n",
    "#оцениваем вероятность успеха в каждом испытании\n",
    "p = 1 / np.average(attempts, weights=observed)\n",
    "\n",
    "#рассчитываем и нормируем ожидаемые вероятность в соответствии с геометрическим распределением\n",
    "expected_prob = stats.geom.pmf(attempts, p)\n",
    "expected = n * expected_prob / sum(expected_prob)\n",
    "\n",
    "#для оценки хи-квадратсоздаем маску, которая выделяет категории с ожидаемыми частотами >= 5\n",
    "mask = expected >= 5\n",
    "\n",
    "# Выделяем наблюдаемые частоты для категорий с ожидаемыми частотами >= 5\n",
    "observed_high_freq = observed[mask]\n",
    "\n",
    "# Выделяем наблюдаемые частоты для категорий с ожидаемыми частотами < 5\n",
    "observed_low_freq = observed[~mask]\n",
    "\n",
    "# Суммируем наблюдаемые частоты для категорий с ожидаемыми частотами < 5\n",
    "observed_low_freq_sum = observed_low_freq.sum()\n",
    "\n",
    "# Объединяем наблюдаемые частоты: оставляем частоты для категорий с ожидаемыми частотами >= 5\n",
    "# и добавляем сумму частот для категорий с ожидаемыми частотами < 5\n",
    "observed_merged = np.append(observed_high_freq, observed_low_freq_sum)\n",
    "\n",
    "# Выделяем ожидаемые частоты для категорий с ожидаемыми частотами >= 5\n",
    "expected_high_freq = expected[mask]\n",
    "\n",
    "# Выделяем ожидаемые частоты для категорий с ожидаемыми частотами < 5\n",
    "expected_low_freq = expected[~mask]\n",
    "\n",
    "# Суммируем ожидаемые частоты для категорий с ожидаемыми частотами < 5\n",
    "expected_low_freq_sum = expected_low_freq.sum()\n",
    "\n",
    "# Объединяем ожидаемые частоты: оставляем частоты для категорий с ожидаемыми частотами >= 5\n",
    "# и добавляем сумму частот для категорий с ожидаемыми частотами < 5\n",
    "expected_merged = np.append(expected_high_freq, expected_low_freq_sum)\n",
    "\n",
    "#тест хи=квадрат и p-вэлью\n",
    "chi2_stat, p_value = stats.chisquare(observed_merged, expected_merged)\n",
    "\n",
    "#степени свободы\n",
    "df = len(observed_merged) - 2\n",
    "\n",
    "#Рассчитываем крит. значение\n",
    "critical_value = stats.chi2.ppf(1 - 0.05, df)\n",
    "\n",
    "#Выводим результаты\n",
    "print(\n",
    "    \"Анализ на соответствие геом. распределению:\\n\"\n",
    "    f\"Ожидаемая вероятность: {p:.4f}\\n\"\n",
    "    f\"Хи-квадрат: {chi2_stat:.4f}\\n\"\n",
    "    f\"Крит. значение: {critical_value:.4f}\\n\"\n",
    "    f\"P-value: {p_value:.4f}\\n\"\n",
    ")\n",
    "\n",
    "#Рисуем\n",
    "plt.figure(figsize=(12, 6))\n",
    "plt.bar(attempts, observed, alpha=0.5, label='Наблюдения')\n",
    "plt.plot(attempts, expected, 'r-', label='График геом. распределения')\n",
    "plt.xlabel('Попыток, шт.')\n",
    "plt.ylabel('Частота')\n",
    "plt.title('Сравнение наблюдаемых и ожидаемых частот')\n",
    "plt.legend()\n",
    "plt.grid(True)\n",
    "plt.show()\n",
    "\n",
    "print(\"Вывод\")\n",
    "print()\n",
    "print(\"Данные соответствую геометрическому распределению\" if p_value > 0.05 else \"данные не соответствуют геометрическому распределению\")"
   ]
  },
  {
   "cell_type": "markdown",
   "id": "683c7734-8ec4-47f3-a4f9-97a18d46ad53",
   "metadata": {},
   "source": [
    "Задание 10 (про цвет глаз и волос)"
   ]
  },
  {
   "cell_type": "markdown",
   "id": "573bcecf",
   "metadata": {},
   "source": [
    "'''Ваш ответ на задание №10\n",
    "- верно указана применяемая статистика и обоснование ее применения\n",
    "- получено расчетное значение статистики\n",
    "- получено критическое значение статистики\n",
    "- получено значение p_value\n",
    "- сделан статистический вывод на основе сравнения критического значения с расчетным\n",
    "- сделан статистический вывод на основе сравнения p-value и уровня значимости\n",
    "- сделан содержательный вывод по поставленной проблеме'''"
   ]
  },
  {
   "cell_type": "markdown",
   "id": "36d174fd",
   "metadata": {},
   "source": [
    "Строим гипотезы:<br>\n",
    "H0 - Отсутствует зависимость между цветом глаз и волос отсутствует.<br>\n",
    "H1 - Цвет глаз и волос зависят друг от друга.<br>\n",
    "Уровень доверия: 0.95 \n",
    "\n",
    "Данные категориальные (цвет глаз/волос), проверяем независимость их друг от друга, используем критерий хи-квадрат."
   ]
  },
  {
   "cell_type": "code",
   "execution_count": 10,
   "id": "cb53be14",
   "metadata": {},
   "outputs": [
    {
     "name": "stdout",
     "output_type": "stream",
     "text": [
      "Наблюдаемые частоты:\n",
      "[[35 52 13]\n",
      " [28 42 10]\n",
      " [ 7 10  3]]\n",
      "Общая сумма: 200\n",
      "Суммы строк: [100  80  20]\n",
      "Суммы столбцов: [ 70 104  26]\n",
      "Ожидаемые частоты:\n",
      "[[35.  52.  13. ]\n",
      " [28.  41.6 10.4]\n",
      " [ 7.  10.4  2.6]]\n",
      "Статистика хи-квадрат: 0.0962\n",
      "Степени свободы: 4\n",
      "Критическое значение: 9.4877\n",
      "P-value: 0.9989\n",
      "\n",
      "Решение на основе крит. значения\n",
      "Не отвергаем нулевую гипотезу. Нет достаточных доказательств связи между цветом глаз и цветом волос.\n",
      "\n",
      "Решение на основе P-value\n",
      "Статистически значимой связи между цветом глаз и волос не обнаружено\n"
     ]
    }
   ],
   "source": [
    "#данные\n",
    "observations = np.array([\n",
    "    [35, 52, 13],  # Голубые глаза\n",
    "    [28, 42, 10],  # Карие глаза\n",
    "    [7, 10, 3]     # Зеленые глаза\n",
    "])\n",
    "\n",
    "#вывод данных\n",
    "print(\"Наблюдаемые частоты:\")\n",
    "print(observations)\n",
    "\n",
    "#всего наблюдений\n",
    "total = observations.sum()\n",
    "print(f\"Общая сумма: {total}\")\n",
    "\n",
    "#сумируем каждый цвет глаз\n",
    "row_totals = observations.sum(axis=1)\n",
    "print(f\"Суммы строк: {row_totals}\")\n",
    "\n",
    "#сумируем каждый цвет волос\n",
    "col_totals = observations.sum(axis=0)\n",
    "print(f\"Суммы столбцов: {col_totals}\")\n",
    "\n",
    "#Расчет ожидаемых частот для каждой категории\n",
    "expected = np.outer(row_totals, col_totals) / total\n",
    "print(\"Ожидаемые частоты:\")\n",
    "print(expected)\n",
    "\n",
    "# Расчет статистики хи-квадрат\n",
    "chi2_stat = ((observations - expected) ** 2 / expected).sum()\n",
    "print(f\"Статистика хи-квадрат: {chi2_stat:.4f}\")\n",
    "\n",
    "# Степени свободы\n",
    "df = (observations.shape[0] - 1) * (observations.shape[1] - 1)\n",
    "print(f\"Степени свободы: {df}\")\n",
    "\n",
    "# Критическое значение для уровня доверия 0.95\n",
    "alpha = 0.05\n",
    "critical_value = stats.chi2.ppf(1 - alpha, df)\n",
    "print(f\"Критическое значение: {critical_value:.4f}\")\n",
    "\n",
    "# P-value\n",
    "p_value = 1 - stats.chi2.cdf(chi2_stat, df)\n",
    "print(f\"P-value: {p_value:.4f}\")\n",
    "\n",
    "# Принятие решения\n",
    "print()    \n",
    "print(\"Решение на основе крит. значения\")\n",
    "if chi2_stat > critical_value:\n",
    "    print(\"Отвергаем нулевую гипотезу. Существует связь между цветом глаз и цветом волос.\")\n",
    "else:\n",
    "    print(\"Не отвергаем нулевую гипотезу. Нет достаточных доказательств связи между цветом глаз и цветом волос.\")\n",
    "print()    \n",
    "print(\"Решение на основе P-value\")\n",
    "if p_value < alpha:\n",
    "    print(\"Существует статистически значимая связь между цветом глаз и волос\")\n",
    "else:\n",
    "    print(\"Статистически значимой связи между цветом глаз и волос не обнаружено\")"
   ]
  },
  {
   "cell_type": "markdown",
   "id": "181ab8f2-c071-4803-ad2e-3f10813f0c6a",
   "metadata": {},
   "source": [
    "Задание 11 (про тигров)"
   ]
  },
  {
   "cell_type": "markdown",
   "id": "6bcd95f4",
   "metadata": {},
   "source": [
    "'''Ваш ответ на задание №11\n",
    "- верно указана применяемая статистика и обоснование ее применения\n",
    "- получено расчетное значение статистики\n",
    "- получено значение p_value\n",
    "- сделан статистический вывод на основе сравнения p-value и уровня значимости\n",
    "- в случае, если нулевая гипотеза отвергнута, сделан тест Тьюки для подробного сравнения средних\n",
    "- сделано дополнение к статистическому выводу по результатам теста Тьюки\n",
    "- сделан содержательный вывод по поставленной проблеме'''"
   ]
  },
  {
   "cell_type": "markdown",
   "id": "f031191a",
   "metadata": {},
   "source": [
    "Строим гипотезы:<br>\n",
    "H0 - корм не влияет на среднюю массу тигров(статистически значимых различий между весом тигров в разных группах не существует)<br>\n",
    "H1 - корм влияет на среднюю массу тигров (есть статистически значимые различия между весом тигров в разных группах)\n",
    "уровень значимости = 0.05\n",
    "\n",
    "К ксловиям задания подходит тест ANOVA, он позволяет сравнить значение двух или более выборок, определить, различаются ли средние значения между группами, или же различия случайны. Предполагаем нормальность распределения. \n",
    "Также нужно применить тест Тьюки для определения того, в каких парах групп наблюдается существенное отличие в средних."
   ]
  },
  {
   "cell_type": "code",
   "execution_count": 11,
   "id": "6499a3d3",
   "metadata": {
    "scrolled": true
   },
   "outputs": [
    {
     "name": "stdout",
     "output_type": "stream",
     "text": [
      "Результат теста ANOVA:\n",
      "F-статистика: 21.9278\n",
      "P-value: 0.0000\n",
      "\n",
      "Результат теста\n",
      " Multiple Comparison of Means - Tukey HSD, FWER=0.05  \n",
      "======================================================\n",
      "group1 group2 meandiff p-adj   lower    upper   reject\n",
      "------------------------------------------------------\n",
      "     A      B    -21.5    0.0  -32.019  -10.981   True\n",
      "     A      C   5.8571  0.458  -4.6619  16.3762  False\n",
      "     A      D -16.8571 0.0005 -27.3762  -6.3381   True\n",
      "     B      C  27.3571    0.0  16.8381  37.8762   True\n",
      "     B      D   4.6429 0.6473  -5.8762  15.1619  False\n",
      "     C      D -22.7143    0.0 -33.2333 -12.1953   True\n",
      "------------------------------------------------------\n",
      "Вывод: корм влияет на среднюю массу Тигров.\n"
     ]
    }
   ],
   "source": [
    "# добавим модуль с кодом теста Тьюки\n",
    "from statsmodels.stats.multicomp import pairwise_tukeyhsd\n",
    "\n",
    "#данные по типам питания\n",
    "food_a = [151, 135, 137, 118, 132, 135, 131, 121, 137, 140, 152, 133, 151, 132]\n",
    "food_b = [108, 123, 145, 103, 110, 124, 116, 108, 104, 130, 106, 105, 114, 108]\n",
    "food_c = [140, 152, 149, 132, 124, 146, 156, 137, 124, 145, 147, 139, 157, 139]\n",
    "food_d = [127, 135, 110, 116, 119, 123, 102, 121, 118, 120, 114, 134, 121, 109]\n",
    "\n",
    "#Проводим тестирование\n",
    "f_stat, p_val = stats.f_oneway(food_a, food_b, food_c, food_d)\n",
    "\n",
    "print(\"Результат теста ANOVA:\")\n",
    "print(f\"F-статистика: {f_stat:.4f}\")\n",
    "print(f\"P-value: {p_val:.4f}\")\n",
    "\n",
    "#содединяем все веса вместе для теста Тьюки\n",
    "all_weights = food_a + food_b + food_c + food_d\n",
    "\n",
    "#создаем списки групп для теста\n",
    "groups = ['A'] * 14 + ['B'] * 14 + ['C'] * 14 + ['D'] * 14\n",
    "\n",
    "#Выполняем тест Тьюки\n",
    "if p_val < 0.05:\n",
    "    tukey_result = pairwise_tukeyhsd(all_weights, groups)\n",
    "    print()\n",
    "    print(\"Результат теста\")\n",
    "    print(tukey_result)\n",
    "    print(\"Вывод: корм влияет на среднюю массу Тигров.\")\n",
    "else:\n",
    "    print(\"Вывод: корм не влияет на среднюю массу Тигров.\")"
   ]
  },
  {
   "cell_type": "markdown",
   "id": "b13ef91d",
   "metadata": {},
   "source": [
    "**Содержательный вывод:**\n",
    "Тип корма значительно влияет на среднюю массу тигров.\n",
    "Значимые различия в средних массах наблюдаются между следующими парами типов корма: Тип 1 vs. Тип 2, Тип 1 vs. Тип 4, Тип 2 vs. Тип 3, Тип 3 vs. Тип 4.\n",
    "Нет значимых различий в средних массах между: Тип 1 vs. Тип 3, Тип 2 vs. Тип 4.\n",
    "Рекомендую кормить тигров кормом типа 3 ."
   ]
  },
  {
   "cell_type": "markdown",
   "id": "2e2b26c8-37a6-41dc-82c5-20e35e44aee0",
   "metadata": {},
   "source": [
    "Задание 12 (про белок)"
   ]
  },
  {
   "cell_type": "markdown",
   "id": "ef623ef2",
   "metadata": {},
   "source": [
    "'''Ваш ответ на задание №12\n",
    "- верно указана применяемая статистика и обоснование ее применения\n",
    "- расчет выполнен через последовательные суммы квадратов\n",
    "- получены расчетные значения статистики\n",
    "- получены значения p_value\n",
    "- сделан статистический вывод на основе сравнения p-value и уровня значимости\n",
    "- сделан содержательный вывод по поставленной проблеме'''"
   ]
  },
  {
   "cell_type": "markdown",
   "id": "a04ac789",
   "metadata": {},
   "source": [
    "Надо определить, оказывают ли два фактора (возраст и статус размножения) значительное влияние на целевую переменную (масса тела африканских земляных белок). ANOVA подходит для задач, когда мы сравниваем средние значения между группами.\n",
    "уровень доверия = 0.95"
   ]
  },
  {
   "cell_type": "code",
   "execution_count": 27,
   "id": "8967b8e1",
   "metadata": {},
   "outputs": [
    {
     "name": "stdout",
     "output_type": "stream",
     "text": [
      "          Возраст       Статус  Масса\n",
      "0           1 год  Без выводка    440\n",
      "1           1 год  Без выводка    438\n",
      "2           1 год  Без выводка    429\n",
      "3           1 год  Без выводка    502\n",
      "4           1 год  Без выводка    602\n",
      "5           1 год   С выводком    308\n",
      "6           1 год   С выводком    328\n",
      "7           1 год   С выводком    326\n",
      "8           1 год   С выводком    326\n",
      "9           1 год   С выводком    325\n",
      "10         2 года  Без выводка    892\n",
      "11         2 года  Без выводка    868\n",
      "12         2 года  Без выводка    855\n",
      "13         2 года  Без выводка    866\n",
      "14         2 года  Без выводка    932\n",
      "15         2 года   С выводком    737\n",
      "16         2 года   С выводком    798\n",
      "17         2 года   С выводком    876\n",
      "18         2 года   С выводком    810\n",
      "19         2 года   С выводком    861\n",
      "20  3 и более лет  Без выводка   1575\n",
      "21  3 и более лет  Без выводка    849\n",
      "22  3 и более лет  Без выводка    759\n",
      "23  3 и более лет  Без выводка   1602\n",
      "24  3 и более лет  Без выводка   1327\n",
      "25  3 и более лет   С выводком   1001\n",
      "26  3 и более лет   С выводком    901\n",
      "27  3 и более лет   С выводком    958\n",
      "28  3 и более лет   С выводком   1032\n",
      "29  3 и более лет   С выводком    883\n"
     ]
    }
   ],
   "source": [
    "import pandas as pd\n",
    "from statsmodels.formula.api import ols\n",
    "from statsmodels.stats.anova import anova_lm\n",
    "\n",
    "# Данные\n",
    "data = {\n",
    "    \"1 год\": {\n",
    "        \"Без выводка\": [440, 438, 429, 502, 602],\n",
    "        \"С выводком\": [308, 328, 326, 326, 325]\n",
    "    },\n",
    "    \"2 года\": {\n",
    "        \"Без выводка\": [892, 868, 855, 866, 932],\n",
    "        \"С выводком\": [737, 798, 876, 810, 861]\n",
    "    },\n",
    "    \"3 и более лет\": {\n",
    "        \"Без выводка\": [1575, 849, 759, 1602, 1327],\n",
    "        \"С выводком\": [1001, 901, 958, 1032, 883]\n",
    "    }\n",
    "}\n",
    "\n",
    "#соберем данные в список словарей для теста\n",
    "rows = []\n",
    "for age, statuses in data.items():\n",
    "    for status, values in statuses.items():\n",
    "        for value in values:\n",
    "            rows.append({\"Возраст\": age, \"Статус\": status, \"Масса\": value})\n",
    "\n",
    "df = pd.DataFrame(rows)\n",
    "print(df)"
   ]
  },
  {
   "cell_type": "code",
   "execution_count": 32,
   "id": "ca438533",
   "metadata": {},
   "outputs": [
    {
     "name": "stdout",
     "output_type": "stream",
     "text": [
      "                   sum_sq    df          F        PR(>F)\n",
      "Возраст         2427075.8   2.0  42.377707  1.333903e-08\n",
      "Статус           202705.2   1.0   7.078626  1.368668e-02\n",
      "Возраст:Статус    50688.2   2.0   0.885036  4.257428e-01\n",
      "Residual         687269.6  24.0        NaN           NaN\n"
     ]
    }
   ],
   "source": [
    "# Построим модель\n",
    "model = ols('Масса ~ Возраст + Статус + Возраст:Статус', data=df).fit()\n",
    "\n",
    "# Оценим влияние факторов, используя последовательные суммы квадратов (тип 1)\n",
    "anova_results = anova_lm(model, typ=2)  # Используем тип 2 ANOVA\n",
    "print(anova_results)"
   ]
  },
  {
   "cell_type": "markdown",
   "id": "aa077ec7",
   "metadata": {},
   "source": [
    "**Выводы**:\n",
    "<br>1. Эффект возраста:<br>\n",
    "F-статистика: 42.377707, p-value: 1.333903e-08 (очень маленькое значение)\n",
    "<br>p-значение (PR(>F) = 1.33e-08) значительно меньше 0.05, что говорит о том, что эффект возраста статистически значим. Это означает, что различия между группами по возрасту не случайны и имеют практическое значение.\n",
    "\n",
    "<br>**2. Эффект выводка (статуса):**<br>\n",
    "F-статистика: 7.078626, p-value: 1.368668e-02 (0.01368668 )\n",
    "Наблюдается статистически значимое влияние фактора \"выводок\" на массу. Другими словами, масса существенно различается между группами \"Без выводка\" и \"С выводком\".\n",
    "<br><br>\n",
    "3.**Эффект взаимодействия: возраст: выводок**<br>\n",
    "F-статистика: 0.885036, p-value: 0.4257428 (больше 0.05)\n",
    "Вывод: взаимодействие двух факторов не является статистически значимым, эффекты этих факторов следует рассматривать независимо друг от друга.\n",
    "\n",
    "\n"
   ]
  }
 ],
 "metadata": {
  "kernelspec": {
   "display_name": "Python 3 (ipykernel)",
   "language": "python",
   "name": "python3"
  },
  "language_info": {
   "codemirror_mode": {
    "name": "ipython",
    "version": 3
   },
   "file_extension": ".py",
   "mimetype": "text/x-python",
   "name": "python",
   "nbconvert_exporter": "python",
   "pygments_lexer": "ipython3",
   "version": "3.9.13"
  },
  "toc": {
   "base_numbering": 1,
   "nav_menu": {},
   "number_sections": true,
   "sideBar": true,
   "skip_h1_title": true,
   "title_cell": "Table of Contents",
   "title_sidebar": "Contents",
   "toc_cell": true,
   "toc_position": {},
   "toc_section_display": true,
   "toc_window_display": false
  }
 },
 "nbformat": 4,
 "nbformat_minor": 5
}
