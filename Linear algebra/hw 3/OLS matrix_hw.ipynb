{
  "nbformat": 4,
  "nbformat_minor": 0,
  "metadata": {
    "colab": {
      "provenance": []
    },
    "kernelspec": {
      "name": "python3",
      "display_name": "Python 3"
    },
    "language_info": {
      "name": "python"
    }
  },
  "cells": [
    {
      "cell_type": "markdown",
      "source": [
        "# Задание 1"
      ],
      "metadata": {
        "id": "DQQFfNTLJ20S"
      }
    },
    {
      "cell_type": "code",
      "execution_count": 13,
      "metadata": {
        "id": "XqAzbM6WJyE2",
        "colab": {
          "base_uri": "https://localhost:8080/"
        },
        "outputId": "8aefd363-e003-46d2-d912-dc000180d327"
      },
      "outputs": [
        {
          "output_type": "stream",
          "name": "stdout",
          "text": [
            "(AxB)xC\n",
            "Ax(BxC)\n"
          ]
        }
      ],
      "source": [
        "#ваш код\n",
        "#добавим зависимости\n",
        "import numpy as np\n",
        "import pandas as pd\n",
        "\n",
        "def multiplication_order(A, B, C):\n",
        "    # проверим размерности\n",
        "    a, b = A.shape\n",
        "    _, c = B.shape  # B - b x c\n",
        "    _, d = C.shape  # C - c x d\n",
        "\n",
        "    # считаем стоимость (AxB)xC\n",
        "    cost1 = a * b * c + a * c * d\n",
        "\n",
        "    # считаем стоимость Ax(BxC)\n",
        "    cost2 = b * c * d + a * b * d\n",
        "\n",
        "    # вычисляем более эффективный способ\n",
        "    return \"(AxB)xC\" if cost1 <= cost2 else \"Ax(BxC)\"\n",
        "\n",
        "# Проверка на тестовых данных - пример из задания\n",
        "A = np.array([[1, 2]])\n",
        "B = np.array([[2], [1]])\n",
        "C = np.array([[5]])\n",
        "\n",
        "print(multiplication_order(A, B, C))  # Вывод: \"(AxB)xC\"\n",
        "\n",
        "# Проверка на тестовых данных\n",
        "A = np.array([[1], [2]])  # 2x1\n",
        "B = np.array([[3, 4]])    # 1x2\n",
        "C = np.array([[5], [6]])  # 2x1\n",
        "\n",
        "print(multiplication_order(A, B, C))  # Вывод: \"Ax(BxC)\""
      ]
    },
    {
      "cell_type": "markdown",
      "source": [
        "# Задание 2\n"
      ],
      "metadata": {
        "id": "vQvUEt_KKShX"
      }
    },
    {
      "cell_type": "code",
      "source": [
        "#ваш код\n",
        "def best_worst(X, Y):\n",
        "    # Объединяем X и Y в один DataFrame\n",
        "    combined = pd.concat([X, Y], axis=1)\n",
        "\n",
        "    # Вычисляем матрицу корреляции\n",
        "    corr_matrix = combined.corr()\n",
        "\n",
        "    # Извлекаем корреляции между признаками X и Y, исключая Y саму себя\n",
        "    corr_with_Y = corr_matrix.iloc[:-1, -1]\n",
        "\n",
        "    # Вычисляем абсолютные значения корреляций\n",
        "    abs_corr = corr_with_Y.abs()\n",
        "\n",
        "    # Находим индекс признака с наибольшей абсолютной корреляцией\n",
        "    max_corr_idx = abs_corr.idxmax()\n",
        "\n",
        "    # Находим индекс признака с наименьшей абсолютной корреляцией\n",
        "    min_corr_idx = abs_corr.idxmin()\n",
        "\n",
        "    # Получаем позиции этих признаков в X.columns\n",
        "    max_corr_pos = X.columns.get_loc(max_corr_idx)\n",
        "    min_corr_pos = X.columns.get_loc(min_corr_idx)\n",
        "\n",
        "    return (max_corr_pos, min_corr_pos)\n",
        "\n",
        "# Проверка на тестовых данных\n",
        "data = np.array([\n",
        "    [3,51,3,0,1,0,2200],\n",
        "    [1,30,1,0,1,0,1600],\n",
        "    [2,45,2,0,1,0,1900],\n",
        "    [3,55,1,0,1,0,2000],\n",
        "    [1,45,3,1,0,0,4500],\n",
        "    [3,100,3,1,0,0,7000],\n",
        "    [2,71,2,1,0,0,5000],\n",
        "    [1,31,2,0,0,1,1700],\n",
        "    [3,53,5,0,0,1,2100],\n",
        "    [1,33,3,0,0,1,1500],\n",
        "    [2,43,5,0,0,1,2000],\n",
        "])\n",
        "df = pd.DataFrame(data=data, columns=['Комнаты', 'Площадь', 'Этаж', 'Центр?', 'Спальный1?', 'Спальный 2?', 'Цена'])\n",
        "\n",
        "X = df[['Комнаты', 'Площадь', 'Этаж', 'Центр?', 'Спальный1?', 'Спальный 2?']]\n",
        "Y = df[['Цена']]\n",
        "\n",
        "print(best_worst(X, y))  # Ожидаемый вывод: (3, 2)"
      ],
      "metadata": {
        "id": "TMJq9ob2KYBY",
        "colab": {
          "base_uri": "https://localhost:8080/"
        },
        "outputId": "c7368977-5e0d-4208-a9e7-4deb772ce145"
      },
      "execution_count": 41,
      "outputs": [
        {
          "output_type": "stream",
          "name": "stdout",
          "text": [
            "(3, 2)\n"
          ]
        }
      ]
    },
    {
      "cell_type": "markdown",
      "source": [
        "#Задание 3\n"
      ],
      "metadata": {
        "id": "hindpJMCKhB8"
      }
    },
    {
      "cell_type": "code",
      "source": [
        "#ваш код\n",
        "def corr_rank(X):\n",
        "    #строим матрицу корреляций\n",
        "    corr = np.corrcoef(X)\n",
        "    # возвращаем ранг матрицы корреляций\n",
        "    return np.linalg.matrix_rank(corr)\n",
        "\n",
        "corr_rank(X)\n",
        "#5"
      ],
      "metadata": {
        "id": "-YLajcsEKkuQ",
        "colab": {
          "base_uri": "https://localhost:8080/"
        },
        "outputId": "f847897f-82e6-4e18-e3e8-66bb4376343b"
      },
      "execution_count": 42,
      "outputs": [
        {
          "output_type": "execute_result",
          "data": {
            "text/plain": [
              "5"
            ]
          },
          "metadata": {},
          "execution_count": 42
        }
      ]
    },
    {
      "cell_type": "markdown",
      "source": [
        "# Задание 4"
      ],
      "metadata": {
        "id": "tKweU9DCKk-f"
      }
    },
    {
      "cell_type": "code",
      "source": [
        "#ваш код\n",
        "def inverse_matrix(A):\n",
        "  return None if abs(np.linalg.det(A)) < 0.001 else np.linalg.inv(A)\n",
        "\n",
        "A = np.array([[1, 2], [2, 1]])\n",
        "\n",
        "print(inverse_matrix(A))\n",
        "#Пример результата: array([[-0.33333333, 0.66666667],[ 0.66666667, -0.33333333]])"
      ],
      "metadata": {
        "id": "pi2fjbkjKmzi",
        "colab": {
          "base_uri": "https://localhost:8080/"
        },
        "outputId": "c9baed72-88a9-45f9-b415-9598d4b5685f"
      },
      "execution_count": 43,
      "outputs": [
        {
          "output_type": "stream",
          "name": "stdout",
          "text": [
            "[[-0.33333333  0.66666667]\n",
            " [ 0.66666667 -0.33333333]]\n"
          ]
        }
      ]
    },
    {
      "cell_type": "markdown",
      "source": [
        "# Задание 5"
      ],
      "metadata": {
        "id": "pnIqMUVsKnTq"
      }
    },
    {
      "cell_type": "code",
      "source": [
        "#ваш код\n",
        "def fit_model(X, y):\n",
        "  return (inverse_matrix(X.T@X)@X.T@y).to_numpy()\n",
        "\n",
        "print(fit_model(X, y))"
      ],
      "metadata": {
        "id": "g34wFIBuKpmL",
        "colab": {
          "base_uri": "https://localhost:8080/"
        },
        "outputId": "30c1a4d5-ec6c-4e7a-ccb1-3a2f20f33970"
      },
      "execution_count": 47,
      "outputs": [
        {
          "output_type": "stream",
          "name": "stdout",
          "text": [
            "[[-574.12295766]\n",
            " [  65.33255763]\n",
            " [ 141.80223878]\n",
            " [1566.16246224]\n",
            " [  12.32450391]\n",
            " [-315.34552489]]\n"
          ]
        }
      ]
    }
  ]
}